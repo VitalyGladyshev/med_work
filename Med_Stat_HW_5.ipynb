{
  "nbformat": 4,
  "nbformat_minor": 0,
  "metadata": {
    "colab": {
      "provenance": [],
      "collapsed_sections": [
        "GY8nFS2qQupI"
      ],
      "authorship_tag": "ABX9TyPjdZwL+JYJQ5uBWZ0mXOlO",
      "include_colab_link": true
    },
    "kernelspec": {
      "name": "ir",
      "display_name": "R"
    },
    "language_info": {
      "name": "R"
    }
  },
  "cells": [
    {
      "cell_type": "markdown",
      "metadata": {
        "id": "view-in-github",
        "colab_type": "text"
      },
      "source": [
        "<a href=\"https://colab.research.google.com/github/VitalyGladyshev/med_work/blob/main/Med_Stat_HW_5.ipynb\" target=\"_parent\"><img src=\"https://colab.research.google.com/assets/colab-badge.svg\" alt=\"Open In Colab\"/></a>"
      ]
    },
    {
      "cell_type": "markdown",
      "source": [
        "# Прикладная статистика в медицине"
      ],
      "metadata": {
        "id": "7G_kocRwfB5M"
      }
    },
    {
      "cell_type": "markdown",
      "source": [
        "## ДЗ 5 Гладышев В.В."
      ],
      "metadata": {
        "id": "Oobi346gfKnV"
      }
    },
    {
      "cell_type": "markdown",
      "source": [
        "## Пермутационный тест, бутстрап анализ и метод максимального правдоподобия"
      ],
      "metadata": {
        "id": "vfffT8yXfh8_"
      }
    },
    {
      "cell_type": "markdown",
      "source": [
        "### Загрузка и подключение библиотек"
      ],
      "metadata": {
        "id": "GY8nFS2qQupI"
      }
    },
    {
      "cell_type": "code",
      "source": [
        "library(tidyverse)"
      ],
      "metadata": {
        "colab": {
          "base_uri": "https://localhost:8080/"
        },
        "id": "k55jqZmUPOrk",
        "outputId": "add4d598-4a2b-4fda-c25f-ebfc3a516784"
      },
      "execution_count": 5,
      "outputs": [
        {
          "output_type": "stream",
          "name": "stderr",
          "text": [
            "── \u001b[1mAttaching core tidyverse packages\u001b[22m ──────────────────────── tidyverse 2.0.0 ──\n",
            "\u001b[32m✔\u001b[39m \u001b[34mdplyr    \u001b[39m 1.1.4     \u001b[32m✔\u001b[39m \u001b[34mreadr    \u001b[39m 2.1.5\n",
            "\u001b[32m✔\u001b[39m \u001b[34mforcats  \u001b[39m 1.0.0     \u001b[32m✔\u001b[39m \u001b[34mstringr  \u001b[39m 1.5.1\n",
            "\u001b[32m✔\u001b[39m \u001b[34mggplot2  \u001b[39m 3.5.1     \u001b[32m✔\u001b[39m \u001b[34mtibble   \u001b[39m 3.2.1\n",
            "\u001b[32m✔\u001b[39m \u001b[34mlubridate\u001b[39m 1.9.3     \u001b[32m✔\u001b[39m \u001b[34mtidyr    \u001b[39m 1.3.1\n",
            "\u001b[32m✔\u001b[39m \u001b[34mpurrr    \u001b[39m 1.0.2     \n",
            "── \u001b[1mConflicts\u001b[22m ────────────────────────────────────────── tidyverse_conflicts() ──\n",
            "\u001b[31m✖\u001b[39m \u001b[34mdplyr\u001b[39m::\u001b[32mfilter()\u001b[39m masks \u001b[34mstats\u001b[39m::filter()\n",
            "\u001b[31m✖\u001b[39m \u001b[34mdplyr\u001b[39m::\u001b[32mlag()\u001b[39m    masks \u001b[34mstats\u001b[39m::lag()\n",
            "\u001b[36mℹ\u001b[39m Use the conflicted package (\u001b[3m\u001b[34m<http://conflicted.r-lib.org/>\u001b[39m\u001b[23m) to force all conflicts to become errors\n"
          ]
        }
      ]
    },
    {
      "cell_type": "code",
      "source": [
        "library(\"boot\") #подключение библиотеки\n",
        "library(tidyverse)"
      ],
      "metadata": {
        "id": "04bXcM2ZQ5X9"
      },
      "execution_count": 8,
      "outputs": []
    },
    {
      "cell_type": "code",
      "source": [
        "install.packages('bootstrap')\n",
        "library(\"bootstrap\") #подключение библиотеки"
      ],
      "metadata": {
        "colab": {
          "base_uri": "https://localhost:8080/"
        },
        "id": "uyJAwD_9Q7ru",
        "outputId": "1a77dea1-efad-4e27-8ae8-ab2d2f2043aa"
      },
      "execution_count": 9,
      "outputs": [
        {
          "output_type": "stream",
          "name": "stderr",
          "text": [
            "Installing package into ‘/usr/local/lib/R/site-library’\n",
            "(as ‘lib’ is unspecified)\n",
            "\n"
          ]
        }
      ]
    },
    {
      "cell_type": "code",
      "source": [
        "install.packages('coin')\n",
        "library(coin) #подключение библиотеки"
      ],
      "metadata": {
        "colab": {
          "base_uri": "https://localhost:8080/"
        },
        "id": "iLL5affvQ7gE",
        "outputId": "1f75f523-9376-4951-b344-eb38cacbb9cb"
      },
      "execution_count": 10,
      "outputs": [
        {
          "output_type": "stream",
          "name": "stderr",
          "text": [
            "Installing package into ‘/usr/local/lib/R/site-library’\n",
            "(as ‘lib’ is unspecified)\n",
            "\n",
            "also installing the dependencies ‘zoo’, ‘TH.data’, ‘sandwich’, ‘libcoin’, ‘matrixStats’, ‘modeltools’, ‘mvtnorm’, ‘multcomp’\n",
            "\n",
            "\n",
            "Loading required package: survival\n",
            "\n",
            "\n",
            "Attaching package: ‘survival’\n",
            "\n",
            "\n",
            "The following object is masked from ‘package:boot’:\n",
            "\n",
            "    aml\n",
            "\n",
            "\n"
          ]
        }
      ]
    },
    {
      "cell_type": "markdown",
      "source": [
        "### Загрузка и подготовка данных"
      ],
      "metadata": {
        "id": "BfF4MitGPDjy"
      }
    },
    {
      "cell_type": "code",
      "execution_count": 1,
      "metadata": {
        "id": "pXQJUmfMe08-",
        "colab": {
          "base_uri": "https://localhost:8080/",
          "height": 532
        },
        "outputId": "74f034a6-fcd0-43fd-9883-5f201e7d2ee7"
      },
      "outputs": [
        {
          "output_type": "display_data",
          "data": {
            "text/html": [
              "<table class=\"dataframe\">\n",
              "<caption>A data.frame: 6 × 49</caption>\n",
              "<thead>\n",
              "\t<tr><th></th><th scope=col>Vialnumber</th><th scope=col>Patientnumber</th><th scope=col>Sucrose</th><th scope=col>Name</th><th scope=col>Group</th><th scope=col>Date</th><th scope=col>Age</th><th scope=col>Plasmavolume</th><th scope=col>Ht</th><th scope=col>Wt</th><th scope=col>⋯</th><th scope=col>rlatmax</th><th scope=col>rantmax</th><th scope=col>rposmax</th><th scope=col>llatmax</th><th scope=col>lantmax</th><th scope=col>lposmax</th><th scope=col>carotidIMTmean</th><th scope=col>Plaque</th><th scope=col>Statins</th><th scope=col>comorbidities</th></tr>\n",
              "\t<tr><th></th><th scope=col>&lt;int&gt;</th><th scope=col>&lt;int&gt;</th><th scope=col>&lt;int&gt;</th><th scope=col>&lt;chr&gt;</th><th scope=col>&lt;int&gt;</th><th scope=col>&lt;chr&gt;</th><th scope=col>&lt;int&gt;</th><th scope=col>&lt;dbl&gt;</th><th scope=col>&lt;int&gt;</th><th scope=col>&lt;dbl&gt;</th><th scope=col>⋯</th><th scope=col>&lt;dbl&gt;</th><th scope=col>&lt;dbl&gt;</th><th scope=col>&lt;dbl&gt;</th><th scope=col>&lt;dbl&gt;</th><th scope=col>&lt;dbl&gt;</th><th scope=col>&lt;dbl&gt;</th><th scope=col>&lt;dbl&gt;</th><th scope=col>&lt;int&gt;</th><th scope=col>&lt;int&gt;</th><th scope=col>&lt;chr&gt;</th></tr>\n",
              "</thead>\n",
              "<tbody>\n",
              "\t<tr><th scope=row>1</th><td>1</td><td>50</td><td>0</td><td>Begaye, Decarlo    </td><td>0</td><td>2023-01-14</td><td>63</td><td>6.5</td><td>163</td><td> 84.0</td><td>⋯</td><td>0.65</td><td>0.80</td><td>0.80</td><td>0.81</td><td>0.78</td><td>0.80</td><td>0.6425000</td><td>1</td><td>1</td><td>NA                                                                                       </td></tr>\n",
              "\t<tr><th scope=row>2</th><td>2</td><td>51</td><td>0</td><td>Sweetwater, Kristen</td><td>0</td><td>2022-10-09</td><td>47</td><td>5.5</td><td>179</td><td>111.0</td><td>⋯</td><td>1.03</td><td>0.92</td><td>1.03</td><td>1.03</td><td>1.03</td><td>1.09</td><td>0.8400000</td><td>1</td><td>0</td><td>NA                                                                                       </td></tr>\n",
              "\t<tr><th scope=row>3</th><td>3</td><td>52</td><td>0</td><td>Figurelli, Samuel  </td><td>1</td><td>2023-10-24</td><td>57</td><td>7.0</td><td>164</td><td> 80.0</td><td>⋯</td><td>1.00</td><td>0.90</td><td>0.95</td><td>0.85</td><td>0.90</td><td>0.90</td><td>0.8500000</td><td>3</td><td>1</td><td>Type 2 diabetes mellitus; MI - 2016                                                      </td></tr>\n",
              "\t<tr><th scope=row>4</th><td>4</td><td>53</td><td>0</td><td>Pamphille, Mehgan  </td><td>1</td><td>2023-07-02</td><td>72</td><td>5.0</td><td>160</td><td> 58.8</td><td>⋯</td><td>0.91</td><td>0.97</td><td>0.98</td><td>0.86</td><td>0.74</td><td>0.80</td><td>0.8241667</td><td>2</td><td>0</td><td>1-2 times per year hypertensive crises (Corinfar)                                        </td></tr>\n",
              "\t<tr><th scope=row>5</th><td>5</td><td>54</td><td>0</td><td>Morgan, Rollin     </td><td>1</td><td>2022-11-27</td><td>57</td><td>5.0</td><td>180</td><td> 71.0</td><td>⋯</td><td>1.20</td><td>1.20</td><td>1.25</td><td>1.10</td><td>1.30</td><td>1.13</td><td>1.0983333</td><td>1</td><td>1</td><td>NA                                                                                       </td></tr>\n",
              "\t<tr><th scope=row>6</th><td>6</td><td>55</td><td>0</td><td>Abdul-Amin, Taelor </td><td>1</td><td>2022-07-12</td><td>79</td><td>6.2</td><td>160</td><td> 64.0</td><td>⋯</td><td>0.88</td><td>0.80</td><td>0.90</td><td>1.07</td><td>1.00</td><td>1.30</td><td>0.8475000</td><td>2</td><td>0</td><td>Cholecystitis, gastritis without exacerbation. Diffuse focal changes in the thyroid gland</td></tr>\n",
              "</tbody>\n",
              "</table>\n"
            ],
            "text/markdown": "\nA data.frame: 6 × 49\n\n| <!--/--> | Vialnumber &lt;int&gt; | Patientnumber &lt;int&gt; | Sucrose &lt;int&gt; | Name &lt;chr&gt; | Group &lt;int&gt; | Date &lt;chr&gt; | Age &lt;int&gt; | Plasmavolume &lt;dbl&gt; | Ht &lt;int&gt; | Wt &lt;dbl&gt; | ⋯ ⋯ | rlatmax &lt;dbl&gt; | rantmax &lt;dbl&gt; | rposmax &lt;dbl&gt; | llatmax &lt;dbl&gt; | lantmax &lt;dbl&gt; | lposmax &lt;dbl&gt; | carotidIMTmean &lt;dbl&gt; | Plaque &lt;int&gt; | Statins &lt;int&gt; | comorbidities &lt;chr&gt; |\n|---|---|---|---|---|---|---|---|---|---|---|---|---|---|---|---|---|---|---|---|---|---|\n| 1 | 1 | 50 | 0 | Begaye, Decarlo     | 0 | 2023-01-14 | 63 | 6.5 | 163 |  84.0 | ⋯ | 0.65 | 0.80 | 0.80 | 0.81 | 0.78 | 0.80 | 0.6425000 | 1 | 1 | NA                                                                                        |\n| 2 | 2 | 51 | 0 | Sweetwater, Kristen | 0 | 2022-10-09 | 47 | 5.5 | 179 | 111.0 | ⋯ | 1.03 | 0.92 | 1.03 | 1.03 | 1.03 | 1.09 | 0.8400000 | 1 | 0 | NA                                                                                        |\n| 3 | 3 | 52 | 0 | Figurelli, Samuel   | 1 | 2023-10-24 | 57 | 7.0 | 164 |  80.0 | ⋯ | 1.00 | 0.90 | 0.95 | 0.85 | 0.90 | 0.90 | 0.8500000 | 3 | 1 | Type 2 diabetes mellitus; MI - 2016                                                       |\n| 4 | 4 | 53 | 0 | Pamphille, Mehgan   | 1 | 2023-07-02 | 72 | 5.0 | 160 |  58.8 | ⋯ | 0.91 | 0.97 | 0.98 | 0.86 | 0.74 | 0.80 | 0.8241667 | 2 | 0 | 1-2 times per year hypertensive crises (Corinfar)                                         |\n| 5 | 5 | 54 | 0 | Morgan, Rollin      | 1 | 2022-11-27 | 57 | 5.0 | 180 |  71.0 | ⋯ | 1.20 | 1.20 | 1.25 | 1.10 | 1.30 | 1.13 | 1.0983333 | 1 | 1 | NA                                                                                        |\n| 6 | 6 | 55 | 0 | Abdul-Amin, Taelor  | 1 | 2022-07-12 | 79 | 6.2 | 160 |  64.0 | ⋯ | 0.88 | 0.80 | 0.90 | 1.07 | 1.00 | 1.30 | 0.8475000 | 2 | 0 | Cholecystitis, gastritis without exacerbation. Diffuse focal changes in the thyroid gland |\n\n",
            "text/latex": "A data.frame: 6 × 49\n\\begin{tabular}{r|lllllllllllllllllllll}\n  & Vialnumber & Patientnumber & Sucrose & Name & Group & Date & Age & Plasmavolume & Ht & Wt & ⋯ & rlatmax & rantmax & rposmax & llatmax & lantmax & lposmax & carotidIMTmean & Plaque & Statins & comorbidities\\\\\n  & <int> & <int> & <int> & <chr> & <int> & <chr> & <int> & <dbl> & <int> & <dbl> & ⋯ & <dbl> & <dbl> & <dbl> & <dbl> & <dbl> & <dbl> & <dbl> & <int> & <int> & <chr>\\\\\n\\hline\n\t1 & 1 & 50 & 0 & Begaye, Decarlo     & 0 & 2023-01-14 & 63 & 6.5 & 163 &  84.0 & ⋯ & 0.65 & 0.80 & 0.80 & 0.81 & 0.78 & 0.80 & 0.6425000 & 1 & 1 & NA                                                                                       \\\\\n\t2 & 2 & 51 & 0 & Sweetwater, Kristen & 0 & 2022-10-09 & 47 & 5.5 & 179 & 111.0 & ⋯ & 1.03 & 0.92 & 1.03 & 1.03 & 1.03 & 1.09 & 0.8400000 & 1 & 0 & NA                                                                                       \\\\\n\t3 & 3 & 52 & 0 & Figurelli, Samuel   & 1 & 2023-10-24 & 57 & 7.0 & 164 &  80.0 & ⋯ & 1.00 & 0.90 & 0.95 & 0.85 & 0.90 & 0.90 & 0.8500000 & 3 & 1 & Type 2 diabetes mellitus; MI - 2016                                                      \\\\\n\t4 & 4 & 53 & 0 & Pamphille, Mehgan   & 1 & 2023-07-02 & 72 & 5.0 & 160 &  58.8 & ⋯ & 0.91 & 0.97 & 0.98 & 0.86 & 0.74 & 0.80 & 0.8241667 & 2 & 0 & 1-2 times per year hypertensive crises (Corinfar)                                        \\\\\n\t5 & 5 & 54 & 0 & Morgan, Rollin      & 1 & 2022-11-27 & 57 & 5.0 & 180 &  71.0 & ⋯ & 1.20 & 1.20 & 1.25 & 1.10 & 1.30 & 1.13 & 1.0983333 & 1 & 1 & NA                                                                                       \\\\\n\t6 & 6 & 55 & 0 & Abdul-Amin, Taelor  & 1 & 2022-07-12 & 79 & 6.2 & 160 &  64.0 & ⋯ & 0.88 & 0.80 & 0.90 & 1.07 & 1.00 & 1.30 & 0.8475000 & 2 & 0 & Cholecystitis, gastritis without exacerbation. Diffuse focal changes in the thyroid gland\\\\\n\\end{tabular}\n",
            "text/plain": [
              "  Vialnumber Patientnumber Sucrose Name                Group Date       Age\n",
              "1 1          50            0       Begaye, Decarlo     0     2023-01-14 63 \n",
              "2 2          51            0       Sweetwater, Kristen 0     2022-10-09 47 \n",
              "3 3          52            0       Figurelli, Samuel   1     2023-10-24 57 \n",
              "4 4          53            0       Pamphille, Mehgan   1     2023-07-02 72 \n",
              "5 5          54            0       Morgan, Rollin      1     2022-11-27 57 \n",
              "6 6          55            0       Abdul-Amin, Taelor  1     2022-07-12 79 \n",
              "  Plasmavolume Ht  Wt    ⋯ rlatmax rantmax rposmax llatmax lantmax lposmax\n",
              "1 6.5          163  84.0 ⋯ 0.65    0.80    0.80    0.81    0.78    0.80   \n",
              "2 5.5          179 111.0 ⋯ 1.03    0.92    1.03    1.03    1.03    1.09   \n",
              "3 7.0          164  80.0 ⋯ 1.00    0.90    0.95    0.85    0.90    0.90   \n",
              "4 5.0          160  58.8 ⋯ 0.91    0.97    0.98    0.86    0.74    0.80   \n",
              "5 5.0          180  71.0 ⋯ 1.20    1.20    1.25    1.10    1.30    1.13   \n",
              "6 6.2          160  64.0 ⋯ 0.88    0.80    0.90    1.07    1.00    1.30   \n",
              "  carotidIMTmean Plaque Statins\n",
              "1 0.6425000      1      1      \n",
              "2 0.8400000      1      0      \n",
              "3 0.8500000      3      1      \n",
              "4 0.8241667      2      0      \n",
              "5 1.0983333      1      1      \n",
              "6 0.8475000      2      0      \n",
              "  comorbidities                                                                            \n",
              "1 NA                                                                                       \n",
              "2 NA                                                                                       \n",
              "3 Type 2 diabetes mellitus; MI - 2016                                                      \n",
              "4 1-2 times per year hypertensive crises (Corinfar)                                        \n",
              "5 NA                                                                                       \n",
              "6 Cholecystitis, gastritis without exacerbation. Diffuse focal changes in the thyroid gland"
            ]
          },
          "metadata": {}
        }
      ],
      "source": [
        "data_metadata <- read.csv('/content/metadata.tsv', header = TRUE, sep = '\\t')\n",
        "head(data_metadata)"
      ]
    },
    {
      "cell_type": "code",
      "source": [
        "data_lipids_low <- read.csv('/content/low_density_lipids.tsv', header = TRUE, sep = '\\t')\n",
        "head(data_lipids_low)"
      ],
      "metadata": {
        "id": "lAE18H0mforh",
        "colab": {
          "base_uri": "https://localhost:8080/",
          "height": 306
        },
        "outputId": "b7cc3459-1fdc-4114-9b4c-21ad23aefdd8"
      },
      "execution_count": 2,
      "outputs": [
        {
          "output_type": "display_data",
          "data": {
            "text/html": [
              "<table class=\"dataframe\">\n",
              "<caption>A data.frame: 6 × 38</caption>\n",
              "<thead>\n",
              "\t<tr><th></th><th scope=col>Vial.number</th><th scope=col>Patient.number</th><th scope=col>Name</th><th scope=col>GPLDL1</th><th scope=col>GPLDL2</th><th scope=col>GPLDL3</th><th scope=col>GPLDL4</th><th scope=col>GPLDL5</th><th scope=col>GPLDL6</th><th scope=col>GPLDL7</th><th scope=col>⋯</th><th scope=col>G1</th><th scope=col>G2</th><th scope=col>G3</th><th scope=col>S0</th><th scope=col>S1</th><th scope=col>S2</th><th scope=col>S3</th><th scope=col>B</th><th scope=col>F</th><th scope=col>HM</th></tr>\n",
              "\t<tr><th></th><th scope=col>&lt;int&gt;</th><th scope=col>&lt;int&gt;</th><th scope=col>&lt;chr&gt;</th><th scope=col>&lt;dbl&gt;</th><th scope=col>&lt;dbl&gt;</th><th scope=col>&lt;dbl&gt;</th><th scope=col>&lt;dbl&gt;</th><th scope=col>&lt;dbl&gt;</th><th scope=col>&lt;dbl&gt;</th><th scope=col>&lt;dbl&gt;</th><th scope=col>⋯</th><th scope=col>&lt;dbl&gt;</th><th scope=col>&lt;dbl&gt;</th><th scope=col>&lt;dbl&gt;</th><th scope=col>&lt;dbl&gt;</th><th scope=col>&lt;dbl&gt;</th><th scope=col>&lt;dbl&gt;</th><th scope=col>&lt;dbl&gt;</th><th scope=col>&lt;dbl&gt;</th><th scope=col>&lt;dbl&gt;</th><th scope=col>&lt;dbl&gt;</th></tr>\n",
              "</thead>\n",
              "<tbody>\n",
              "\t<tr><th scope=row>1</th><td>1</td><td>50</td><td>LDL</td><td>0.40</td><td>6.74</td><td>0.20</td><td>0.02</td><td>1.09</td><td>3.79</td><td>2.27</td><td>⋯</td><td>4.09</td><td>68.91</td><td>3.57</td><td>3.98</td><td>28.18</td><td>42.46</td><td>1.95</td><td>0.02</td><td>1.67</td><td>13.02</td></tr>\n",
              "\t<tr><th scope=row>2</th><td>3</td><td>52</td><td>LDL</td><td>0.46</td><td>7.37</td><td>0.39</td><td>0.02</td><td>1.06</td><td>4.55</td><td>2.71</td><td>⋯</td><td>5.16</td><td>68.22</td><td>3.11</td><td>4.64</td><td>30.43</td><td>39.86</td><td>1.56</td><td>0.02</td><td>1.69</td><td>14.16</td></tr>\n",
              "\t<tr><th scope=row>3</th><td>4</td><td>53</td><td>LDL</td><td>0.30</td><td>8.23</td><td>0.26</td><td>0.02</td><td>0.88</td><td>3.66</td><td>2.32</td><td>⋯</td><td>3.95</td><td>68.03</td><td>4.50</td><td>3.78</td><td>29.37</td><td>41.13</td><td>2.20</td><td>0.02</td><td>1.89</td><td>13.89</td></tr>\n",
              "\t<tr><th scope=row>4</th><td>5</td><td>54</td><td>LDL</td><td>0.47</td><td>7.94</td><td>0.29</td><td>0.02</td><td>1.11</td><td>3.97</td><td>2.55</td><td>⋯</td><td>4.63</td><td>66.91</td><td>4.03</td><td>4.44</td><td>28.54</td><td>40.64</td><td>1.95</td><td>0.02</td><td>2.03</td><td>14.25</td></tr>\n",
              "\t<tr><th scope=row>5</th><td>6</td><td>55</td><td>LDL</td><td>0.31</td><td>9.68</td><td>0.18</td><td>0.02</td><td>0.97</td><td>4.50</td><td>2.24</td><td>⋯</td><td>4.05</td><td>64.01</td><td>5.27</td><td>3.72</td><td>26.71</td><td>40.39</td><td>2.51</td><td>0.02</td><td>2.70</td><td>16.06</td></tr>\n",
              "\t<tr><th scope=row>6</th><td>7</td><td>56</td><td>LDL</td><td>0.30</td><td>7.32</td><td>0.22</td><td>0.02</td><td>1.12</td><td>4.19</td><td>2.37</td><td>⋯</td><td>4.10</td><td>65.99</td><td>4.70</td><td>4.03</td><td>28.44</td><td>39.99</td><td>2.33</td><td>0.02</td><td>1.61</td><td>13.82</td></tr>\n",
              "</tbody>\n",
              "</table>\n"
            ],
            "text/markdown": "\nA data.frame: 6 × 38\n\n| <!--/--> | Vial.number &lt;int&gt; | Patient.number &lt;int&gt; | Name &lt;chr&gt; | GPLDL1 &lt;dbl&gt; | GPLDL2 &lt;dbl&gt; | GPLDL3 &lt;dbl&gt; | GPLDL4 &lt;dbl&gt; | GPLDL5 &lt;dbl&gt; | GPLDL6 &lt;dbl&gt; | GPLDL7 &lt;dbl&gt; | ⋯ ⋯ | G1 &lt;dbl&gt; | G2 &lt;dbl&gt; | G3 &lt;dbl&gt; | S0 &lt;dbl&gt; | S1 &lt;dbl&gt; | S2 &lt;dbl&gt; | S3 &lt;dbl&gt; | B &lt;dbl&gt; | F &lt;dbl&gt; | HM &lt;dbl&gt; |\n|---|---|---|---|---|---|---|---|---|---|---|---|---|---|---|---|---|---|---|---|---|---|\n| 1 | 1 | 50 | LDL | 0.40 | 6.74 | 0.20 | 0.02 | 1.09 | 3.79 | 2.27 | ⋯ | 4.09 | 68.91 | 3.57 | 3.98 | 28.18 | 42.46 | 1.95 | 0.02 | 1.67 | 13.02 |\n| 2 | 3 | 52 | LDL | 0.46 | 7.37 | 0.39 | 0.02 | 1.06 | 4.55 | 2.71 | ⋯ | 5.16 | 68.22 | 3.11 | 4.64 | 30.43 | 39.86 | 1.56 | 0.02 | 1.69 | 14.16 |\n| 3 | 4 | 53 | LDL | 0.30 | 8.23 | 0.26 | 0.02 | 0.88 | 3.66 | 2.32 | ⋯ | 3.95 | 68.03 | 4.50 | 3.78 | 29.37 | 41.13 | 2.20 | 0.02 | 1.89 | 13.89 |\n| 4 | 5 | 54 | LDL | 0.47 | 7.94 | 0.29 | 0.02 | 1.11 | 3.97 | 2.55 | ⋯ | 4.63 | 66.91 | 4.03 | 4.44 | 28.54 | 40.64 | 1.95 | 0.02 | 2.03 | 14.25 |\n| 5 | 6 | 55 | LDL | 0.31 | 9.68 | 0.18 | 0.02 | 0.97 | 4.50 | 2.24 | ⋯ | 4.05 | 64.01 | 5.27 | 3.72 | 26.71 | 40.39 | 2.51 | 0.02 | 2.70 | 16.06 |\n| 6 | 7 | 56 | LDL | 0.30 | 7.32 | 0.22 | 0.02 | 1.12 | 4.19 | 2.37 | ⋯ | 4.10 | 65.99 | 4.70 | 4.03 | 28.44 | 39.99 | 2.33 | 0.02 | 1.61 | 13.82 |\n\n",
            "text/latex": "A data.frame: 6 × 38\n\\begin{tabular}{r|lllllllllllllllllllll}\n  & Vial.number & Patient.number & Name & GPLDL1 & GPLDL2 & GPLDL3 & GPLDL4 & GPLDL5 & GPLDL6 & GPLDL7 & ⋯ & G1 & G2 & G3 & S0 & S1 & S2 & S3 & B & F & HM\\\\\n  & <int> & <int> & <chr> & <dbl> & <dbl> & <dbl> & <dbl> & <dbl> & <dbl> & <dbl> & ⋯ & <dbl> & <dbl> & <dbl> & <dbl> & <dbl> & <dbl> & <dbl> & <dbl> & <dbl> & <dbl>\\\\\n\\hline\n\t1 & 1 & 50 & LDL & 0.40 & 6.74 & 0.20 & 0.02 & 1.09 & 3.79 & 2.27 & ⋯ & 4.09 & 68.91 & 3.57 & 3.98 & 28.18 & 42.46 & 1.95 & 0.02 & 1.67 & 13.02\\\\\n\t2 & 3 & 52 & LDL & 0.46 & 7.37 & 0.39 & 0.02 & 1.06 & 4.55 & 2.71 & ⋯ & 5.16 & 68.22 & 3.11 & 4.64 & 30.43 & 39.86 & 1.56 & 0.02 & 1.69 & 14.16\\\\\n\t3 & 4 & 53 & LDL & 0.30 & 8.23 & 0.26 & 0.02 & 0.88 & 3.66 & 2.32 & ⋯ & 3.95 & 68.03 & 4.50 & 3.78 & 29.37 & 41.13 & 2.20 & 0.02 & 1.89 & 13.89\\\\\n\t4 & 5 & 54 & LDL & 0.47 & 7.94 & 0.29 & 0.02 & 1.11 & 3.97 & 2.55 & ⋯ & 4.63 & 66.91 & 4.03 & 4.44 & 28.54 & 40.64 & 1.95 & 0.02 & 2.03 & 14.25\\\\\n\t5 & 6 & 55 & LDL & 0.31 & 9.68 & 0.18 & 0.02 & 0.97 & 4.50 & 2.24 & ⋯ & 4.05 & 64.01 & 5.27 & 3.72 & 26.71 & 40.39 & 2.51 & 0.02 & 2.70 & 16.06\\\\\n\t6 & 7 & 56 & LDL & 0.30 & 7.32 & 0.22 & 0.02 & 1.12 & 4.19 & 2.37 & ⋯ & 4.10 & 65.99 & 4.70 & 4.03 & 28.44 & 39.99 & 2.33 & 0.02 & 1.61 & 13.82\\\\\n\\end{tabular}\n",
            "text/plain": [
              "  Vial.number Patient.number Name GPLDL1 GPLDL2 GPLDL3 GPLDL4 GPLDL5 GPLDL6\n",
              "1 1           50             LDL  0.40   6.74   0.20   0.02   1.09   3.79  \n",
              "2 3           52             LDL  0.46   7.37   0.39   0.02   1.06   4.55  \n",
              "3 4           53             LDL  0.30   8.23   0.26   0.02   0.88   3.66  \n",
              "4 5           54             LDL  0.47   7.94   0.29   0.02   1.11   3.97  \n",
              "5 6           55             LDL  0.31   9.68   0.18   0.02   0.97   4.50  \n",
              "6 7           56             LDL  0.30   7.32   0.22   0.02   1.12   4.19  \n",
              "  GPLDL7 ⋯ G1   G2    G3   S0   S1    S2    S3   B    F    HM   \n",
              "1 2.27   ⋯ 4.09 68.91 3.57 3.98 28.18 42.46 1.95 0.02 1.67 13.02\n",
              "2 2.71   ⋯ 5.16 68.22 3.11 4.64 30.43 39.86 1.56 0.02 1.69 14.16\n",
              "3 2.32   ⋯ 3.95 68.03 4.50 3.78 29.37 41.13 2.20 0.02 1.89 13.89\n",
              "4 2.55   ⋯ 4.63 66.91 4.03 4.44 28.54 40.64 1.95 0.02 2.03 14.25\n",
              "5 2.24   ⋯ 4.05 64.01 5.27 3.72 26.71 40.39 2.51 0.02 2.70 16.06\n",
              "6 2.37   ⋯ 4.10 65.99 4.70 4.03 28.44 39.99 2.33 0.02 1.61 13.82"
            ]
          },
          "metadata": {}
        }
      ]
    },
    {
      "cell_type": "code",
      "source": [
        "data_lipids_high <- read.csv('/content/high_density_lipids.tsv', header = TRUE, sep = '\\t')\n",
        "head(data_lipids_high)"
      ],
      "metadata": {
        "id": "z_p8bmeafq5F",
        "colab": {
          "base_uri": "https://localhost:8080/",
          "height": 306
        },
        "outputId": "6c84bbbc-88fe-4690-f1f3-286df24738f1"
      },
      "execution_count": 3,
      "outputs": [
        {
          "output_type": "display_data",
          "data": {
            "text/html": [
              "<table class=\"dataframe\">\n",
              "<caption>A data.frame: 6 × 38</caption>\n",
              "<thead>\n",
              "\t<tr><th></th><th scope=col>Vial.number</th><th scope=col>Patient.number</th><th scope=col>Name</th><th scope=col>GPHDL1</th><th scope=col>GPHDL2</th><th scope=col>GPHDL3</th><th scope=col>GPHDL4</th><th scope=col>GPHDL5</th><th scope=col>GPHDL6</th><th scope=col>GPHDL7</th><th scope=col>⋯</th><th scope=col>G1</th><th scope=col>G2</th><th scope=col>G3</th><th scope=col>S0</th><th scope=col>S1</th><th scope=col>S2</th><th scope=col>S3</th><th scope=col>B</th><th scope=col>F</th><th scope=col>HM</th></tr>\n",
              "\t<tr><th></th><th scope=col>&lt;int&gt;</th><th scope=col>&lt;int&gt;</th><th scope=col>&lt;chr&gt;</th><th scope=col>&lt;dbl&gt;</th><th scope=col>&lt;dbl&gt;</th><th scope=col>&lt;dbl&gt;</th><th scope=col>&lt;dbl&gt;</th><th scope=col>&lt;dbl&gt;</th><th scope=col>&lt;dbl&gt;</th><th scope=col>&lt;dbl&gt;</th><th scope=col>⋯</th><th scope=col>&lt;dbl&gt;</th><th scope=col>&lt;dbl&gt;</th><th scope=col>&lt;dbl&gt;</th><th scope=col>&lt;dbl&gt;</th><th scope=col>&lt;dbl&gt;</th><th scope=col>&lt;dbl&gt;</th><th scope=col>&lt;dbl&gt;</th><th scope=col>&lt;dbl&gt;</th><th scope=col>&lt;dbl&gt;</th><th scope=col>&lt;dbl&gt;</th></tr>\n",
              "</thead>\n",
              "<tbody>\n",
              "\t<tr><th scope=row>1</th><td>1</td><td>50</td><td>HDL</td><td>0.38</td><td>1.78</td><td>0.14</td><td>0.05</td><td>0.73</td><td>2.90</td><td>1.57</td><td>⋯</td><td>12.23</td><td>58.69</td><td>20.97</td><td>2.87</td><td>29.57</td><td>44.39</td><td>15.06</td><td>0.05</td><td>7.35</td><td>2.49</td></tr>\n",
              "\t<tr><th scope=row>2</th><td>3</td><td>52</td><td>HDL</td><td>0.43</td><td>1.30</td><td>0.23</td><td>0.05</td><td>0.59</td><td>2.62</td><td>1.62</td><td>⋯</td><td>11.98</td><td>57.50</td><td>21.94</td><td>2.92</td><td>29.60</td><td>43.93</td><td>14.97</td><td>0.05</td><td>8.71</td><td>1.53</td></tr>\n",
              "\t<tr><th scope=row>3</th><td>4</td><td>53</td><td>HDL</td><td>0.41</td><td>3.86</td><td>0.31</td><td>0.10</td><td>0.96</td><td>3.19</td><td>2.42</td><td>⋯</td><td>15.00</td><td>62.10</td><td>12.74</td><td>4.20</td><td>37.03</td><td>40.68</td><td> 7.93</td><td>0.10</td><td>4.81</td><td>5.08</td></tr>\n",
              "\t<tr><th scope=row>4</th><td>5</td><td>54</td><td>HDL</td><td>0.50</td><td>1.79</td><td>0.23</td><td>0.06</td><td>0.77</td><td>2.96</td><td>1.76</td><td>⋯</td><td>12.85</td><td>56.02</td><td>22.70</td><td>3.32</td><td>30.01</td><td>41.78</td><td>16.46</td><td>0.06</td><td>8.85</td><td>2.30</td></tr>\n",
              "\t<tr><th scope=row>5</th><td>6</td><td>55</td><td>HDL</td><td>0.40</td><td>3.69</td><td>0.17</td><td>0.03</td><td>0.80</td><td>3.04</td><td>1.62</td><td>⋯</td><td>13.81</td><td>59.78</td><td>16.14</td><td>3.02</td><td>33.69</td><td>42.18</td><td>10.84</td><td>0.03</td><td>7.25</td><td>4.33</td></tr>\n",
              "\t<tr><th scope=row>6</th><td>7</td><td>56</td><td>HDL</td><td>0.37</td><td>2.96</td><td>0.22</td><td>0.05</td><td>1.00</td><td>3.00</td><td>2.11</td><td>⋯</td><td>14.61</td><td>60.59</td><td>15.63</td><td>3.75</td><td>35.18</td><td>41.66</td><td>10.24</td><td>0.05</td><td>5.10</td><td>3.87</td></tr>\n",
              "</tbody>\n",
              "</table>\n"
            ],
            "text/markdown": "\nA data.frame: 6 × 38\n\n| <!--/--> | Vial.number &lt;int&gt; | Patient.number &lt;int&gt; | Name &lt;chr&gt; | GPHDL1 &lt;dbl&gt; | GPHDL2 &lt;dbl&gt; | GPHDL3 &lt;dbl&gt; | GPHDL4 &lt;dbl&gt; | GPHDL5 &lt;dbl&gt; | GPHDL6 &lt;dbl&gt; | GPHDL7 &lt;dbl&gt; | ⋯ ⋯ | G1 &lt;dbl&gt; | G2 &lt;dbl&gt; | G3 &lt;dbl&gt; | S0 &lt;dbl&gt; | S1 &lt;dbl&gt; | S2 &lt;dbl&gt; | S3 &lt;dbl&gt; | B &lt;dbl&gt; | F &lt;dbl&gt; | HM &lt;dbl&gt; |\n|---|---|---|---|---|---|---|---|---|---|---|---|---|---|---|---|---|---|---|---|---|---|\n| 1 | 1 | 50 | HDL | 0.38 | 1.78 | 0.14 | 0.05 | 0.73 | 2.90 | 1.57 | ⋯ | 12.23 | 58.69 | 20.97 | 2.87 | 29.57 | 44.39 | 15.06 | 0.05 | 7.35 | 2.49 |\n| 2 | 3 | 52 | HDL | 0.43 | 1.30 | 0.23 | 0.05 | 0.59 | 2.62 | 1.62 | ⋯ | 11.98 | 57.50 | 21.94 | 2.92 | 29.60 | 43.93 | 14.97 | 0.05 | 8.71 | 1.53 |\n| 3 | 4 | 53 | HDL | 0.41 | 3.86 | 0.31 | 0.10 | 0.96 | 3.19 | 2.42 | ⋯ | 15.00 | 62.10 | 12.74 | 4.20 | 37.03 | 40.68 |  7.93 | 0.10 | 4.81 | 5.08 |\n| 4 | 5 | 54 | HDL | 0.50 | 1.79 | 0.23 | 0.06 | 0.77 | 2.96 | 1.76 | ⋯ | 12.85 | 56.02 | 22.70 | 3.32 | 30.01 | 41.78 | 16.46 | 0.06 | 8.85 | 2.30 |\n| 5 | 6 | 55 | HDL | 0.40 | 3.69 | 0.17 | 0.03 | 0.80 | 3.04 | 1.62 | ⋯ | 13.81 | 59.78 | 16.14 | 3.02 | 33.69 | 42.18 | 10.84 | 0.03 | 7.25 | 4.33 |\n| 6 | 7 | 56 | HDL | 0.37 | 2.96 | 0.22 | 0.05 | 1.00 | 3.00 | 2.11 | ⋯ | 14.61 | 60.59 | 15.63 | 3.75 | 35.18 | 41.66 | 10.24 | 0.05 | 5.10 | 3.87 |\n\n",
            "text/latex": "A data.frame: 6 × 38\n\\begin{tabular}{r|lllllllllllllllllllll}\n  & Vial.number & Patient.number & Name & GPHDL1 & GPHDL2 & GPHDL3 & GPHDL4 & GPHDL5 & GPHDL6 & GPHDL7 & ⋯ & G1 & G2 & G3 & S0 & S1 & S2 & S3 & B & F & HM\\\\\n  & <int> & <int> & <chr> & <dbl> & <dbl> & <dbl> & <dbl> & <dbl> & <dbl> & <dbl> & ⋯ & <dbl> & <dbl> & <dbl> & <dbl> & <dbl> & <dbl> & <dbl> & <dbl> & <dbl> & <dbl>\\\\\n\\hline\n\t1 & 1 & 50 & HDL & 0.38 & 1.78 & 0.14 & 0.05 & 0.73 & 2.90 & 1.57 & ⋯ & 12.23 & 58.69 & 20.97 & 2.87 & 29.57 & 44.39 & 15.06 & 0.05 & 7.35 & 2.49\\\\\n\t2 & 3 & 52 & HDL & 0.43 & 1.30 & 0.23 & 0.05 & 0.59 & 2.62 & 1.62 & ⋯ & 11.98 & 57.50 & 21.94 & 2.92 & 29.60 & 43.93 & 14.97 & 0.05 & 8.71 & 1.53\\\\\n\t3 & 4 & 53 & HDL & 0.41 & 3.86 & 0.31 & 0.10 & 0.96 & 3.19 & 2.42 & ⋯ & 15.00 & 62.10 & 12.74 & 4.20 & 37.03 & 40.68 &  7.93 & 0.10 & 4.81 & 5.08\\\\\n\t4 & 5 & 54 & HDL & 0.50 & 1.79 & 0.23 & 0.06 & 0.77 & 2.96 & 1.76 & ⋯ & 12.85 & 56.02 & 22.70 & 3.32 & 30.01 & 41.78 & 16.46 & 0.06 & 8.85 & 2.30\\\\\n\t5 & 6 & 55 & HDL & 0.40 & 3.69 & 0.17 & 0.03 & 0.80 & 3.04 & 1.62 & ⋯ & 13.81 & 59.78 & 16.14 & 3.02 & 33.69 & 42.18 & 10.84 & 0.03 & 7.25 & 4.33\\\\\n\t6 & 7 & 56 & HDL & 0.37 & 2.96 & 0.22 & 0.05 & 1.00 & 3.00 & 2.11 & ⋯ & 14.61 & 60.59 & 15.63 & 3.75 & 35.18 & 41.66 & 10.24 & 0.05 & 5.10 & 3.87\\\\\n\\end{tabular}\n",
            "text/plain": [
              "  Vial.number Patient.number Name GPHDL1 GPHDL2 GPHDL3 GPHDL4 GPHDL5 GPHDL6\n",
              "1 1           50             HDL  0.38   1.78   0.14   0.05   0.73   2.90  \n",
              "2 3           52             HDL  0.43   1.30   0.23   0.05   0.59   2.62  \n",
              "3 4           53             HDL  0.41   3.86   0.31   0.10   0.96   3.19  \n",
              "4 5           54             HDL  0.50   1.79   0.23   0.06   0.77   2.96  \n",
              "5 6           55             HDL  0.40   3.69   0.17   0.03   0.80   3.04  \n",
              "6 7           56             HDL  0.37   2.96   0.22   0.05   1.00   3.00  \n",
              "  GPHDL7 ⋯ G1    G2    G3    S0   S1    S2    S3    B    F    HM  \n",
              "1 1.57   ⋯ 12.23 58.69 20.97 2.87 29.57 44.39 15.06 0.05 7.35 2.49\n",
              "2 1.62   ⋯ 11.98 57.50 21.94 2.92 29.60 43.93 14.97 0.05 8.71 1.53\n",
              "3 2.42   ⋯ 15.00 62.10 12.74 4.20 37.03 40.68  7.93 0.10 4.81 5.08\n",
              "4 1.76   ⋯ 12.85 56.02 22.70 3.32 30.01 41.78 16.46 0.06 8.85 2.30\n",
              "5 1.62   ⋯ 13.81 59.78 16.14 3.02 33.69 42.18 10.84 0.03 7.25 4.33\n",
              "6 2.11   ⋯ 14.61 60.59 15.63 3.75 35.18 41.66 10.24 0.05 5.10 3.87"
            ]
          },
          "metadata": {}
        }
      ]
    },
    {
      "cell_type": "code",
      "source": [
        "dim(data_metadata); dim(data_lipids_low); dim(data_lipids_high)"
      ],
      "metadata": {
        "colab": {
          "base_uri": "https://localhost:8080/",
          "height": 69
        },
        "id": "octNs9niO-Dz",
        "outputId": "00fe8cdf-ca4a-4729-cfd5-66bf8d4fe4f4"
      },
      "execution_count": 4,
      "outputs": [
        {
          "output_type": "display_data",
          "data": {
            "text/html": [
              "<style>\n",
              ".list-inline {list-style: none; margin:0; padding: 0}\n",
              ".list-inline>li {display: inline-block}\n",
              ".list-inline>li:not(:last-child)::after {content: \"\\00b7\"; padding: 0 .5ex}\n",
              "</style>\n",
              "<ol class=list-inline><li>38</li><li>49</li></ol>\n"
            ],
            "text/markdown": "1. 38\n2. 49\n\n\n",
            "text/latex": "\\begin{enumerate*}\n\\item 38\n\\item 49\n\\end{enumerate*}\n",
            "text/plain": [
              "[1] 38 49"
            ]
          },
          "metadata": {}
        },
        {
          "output_type": "display_data",
          "data": {
            "text/html": [
              "<style>\n",
              ".list-inline {list-style: none; margin:0; padding: 0}\n",
              ".list-inline>li {display: inline-block}\n",
              ".list-inline>li:not(:last-child)::after {content: \"\\00b7\"; padding: 0 .5ex}\n",
              "</style>\n",
              "<ol class=list-inline><li>29</li><li>38</li></ol>\n"
            ],
            "text/markdown": "1. 29\n2. 38\n\n\n",
            "text/latex": "\\begin{enumerate*}\n\\item 29\n\\item 38\n\\end{enumerate*}\n",
            "text/plain": [
              "[1] 29 38"
            ]
          },
          "metadata": {}
        },
        {
          "output_type": "display_data",
          "data": {
            "text/html": [
              "<style>\n",
              ".list-inline {list-style: none; margin:0; padding: 0}\n",
              ".list-inline>li {display: inline-block}\n",
              ".list-inline>li:not(:last-child)::after {content: \"\\00b7\"; padding: 0 .5ex}\n",
              "</style>\n",
              "<ol class=list-inline><li>27</li><li>38</li></ol>\n"
            ],
            "text/markdown": "1. 27\n2. 38\n\n\n",
            "text/latex": "\\begin{enumerate*}\n\\item 27\n\\item 38\n\\end{enumerate*}\n",
            "text/plain": [
              "[1] 27 38"
            ]
          },
          "metadata": {}
        }
      ]
    },
    {
      "cell_type": "code",
      "source": [
        "data_metadata <- data_metadata %>% select_if(is.numeric)\n",
        "data_lipids_high <- data_lipids_high %>% select_if(is.numeric)\n",
        "data_lipids_low <- data_lipids_low %>% select_if(is.numeric)"
      ],
      "metadata": {
        "id": "Oc3zKZjxPRx8"
      },
      "execution_count": 6,
      "outputs": []
    },
    {
      "cell_type": "code",
      "source": [
        "str(data_metadata)"
      ],
      "metadata": {
        "colab": {
          "base_uri": "https://localhost:8080/"
        },
        "id": "MyBmI3BHPT2O",
        "outputId": "9f6ad9de-db97-41d0-e6ed-422bcf86b6aa"
      },
      "execution_count": 7,
      "outputs": [
        {
          "output_type": "stream",
          "name": "stdout",
          "text": [
            "'data.frame':\t38 obs. of  46 variables:\n",
            " $ Vialnumber    : int  1 2 3 4 5 6 7 8 9 10 ...\n",
            " $ Patientnumber : int  50 51 52 53 54 55 56 57 58 59 ...\n",
            " $ Sucrose       : int  0 0 0 0 0 0 0 0 0 0 ...\n",
            " $ Group         : int  0 0 1 1 1 1 1 1 0 1 ...\n",
            " $ Age           : int  63 47 57 72 57 79 61 70 50 53 ...\n",
            " $ Plasmavolume  : num  6.5 5.5 7 5 5 6.2 6.5 5.5 6 5.5 ...\n",
            " $ Ht            : int  163 179 164 160 180 160 164 162 150 172 ...\n",
            " $ Wt            : num  84 111 80 58.8 71 64 67 61 79 88.2 ...\n",
            " $ BMI           : num  31.6 34.6 29.7 23 21.9 ...\n",
            " $ Sys           : int  125 125 132 130 135 110 124 135 142 120 ...\n",
            " $ Dia           : int  76 82 80 90 75 75 82 78 95 80 ...\n",
            " $ PR            : int  67 65 92 68 70 66 84 72 88 60 ...\n",
            " $ Sm            : int  0 0 0 0 0 0 0 0 0 0 ...\n",
            " $ Dm            : int  0 0 1 0 0 0 0 0 0 1 ...\n",
            " $ HT            : int  0 1 1 0 1 1 0 0 1 1 ...\n",
            " $ LVH           : int  1 1 1 0 0 1 0 1 0 1 ...\n",
            " $ IHD           : int  0 0 1 0 1 1 1 1 0 1 ...\n",
            " $ MI            : int  0 0 1 0 0 0 0 1 0 0 ...\n",
            " $ Str           : int  0 0 0 0 0 0 0 0 0 0 ...\n",
            " $ A_C           : int  1 0 1 0 1 0 1 0 1 0 ...\n",
            " $ A_H           : int  1 1 1 0 1 0 0 1 1 1 ...\n",
            " $ A_D           : int  0 0 0 0 0 0 0 0 1 1 ...\n",
            " $ Choi          : int  215 271 206 266 194 286 280 267 319 202 ...\n",
            " $ Tgi           : int  219 147 146 132 101 121 114 143 307 117 ...\n",
            " $ HDLi          : num  65.3 52.1 38.6 51.9 76.8 61.9 61.1 57 67.1 47 ...\n",
            " $ LDLi          : num  106 190 138 188 97 ...\n",
            " $ Choi_exp      : num  5.58 7.04 5.35 6.91 5.04 ...\n",
            " $ Tgi_exp       : num  2.41 1.62 1.6 1.45 1.11 ...\n",
            " $ HDLi_exp      : num  1.7 1.35 1 1.35 1.99 ...\n",
            " $ LDLi_exp      : num  2.75 4.92 3.58 4.88 2.52 ...\n",
            " $ AI            : num  1.62 3.64 3.58 3.62 1.26 ...\n",
            " $ rlatmin       : num  0.5 0.63 0.8 0.74 1 0.74 0.52 0.69 0.98 0.63 ...\n",
            " $ rantmin       : num  0.55 0.63 0.8 0.86 1 0.57 0.46 0.62 0.97 0.52 ...\n",
            " $ rposmin       : num  0.5 0.63 0.8 0.86 1.1 0.63 0.46 0.69 0.74 0.69 ...\n",
            " $ llatmin       : num  0.5 0.63 0.8 0.8 0.9 0.8 0.51 0.8 0.69 0.52 ...\n",
            " $ lantmin       : num  0.52 0.63 0.8 0.63 1 0.74 0.47 0.56 0.57 0.58 ...\n",
            " $ lposmin       : num  0.5 0.8 0.7 0.74 1 0.74 0.57 0.56 0.57 0.57 ...\n",
            " $ rlatmax       : num  0.65 1.03 1 0.91 1.2 0.88 0.91 1 1.09 0.97 ...\n",
            " $ rantmax       : num  0.8 0.92 0.9 0.97 1.2 0.8 0.86 1 1.26 1.04 ...\n",
            " $ rposmax       : num  0.8 1.03 0.95 0.98 1.25 0.9 0.86 1 1.03 0.81 ...\n",
            " $ llatmax       : num  0.81 1.03 0.85 0.86 1.1 1.07 0.8 0.94 0.8 0.63 ...\n",
            " $ lantmax       : num  0.78 1.03 0.9 0.74 1.3 1 0.74 0.69 0.74 0.63 ...\n",
            " $ lposmax       : num  0.8 1.09 0.9 0.8 1.13 1.3 0.91 0.87 0.75 0.86 ...\n",
            " $ carotidIMTmean: num  0.642 0.84 0.85 0.824 1.098 ...\n",
            " $ Plaque        : int  1 1 3 2 1 2 1 1 1 2 ...\n",
            " $ Statins       : int  1 0 1 0 1 0 0 0 0 0 ...\n"
          ]
        }
      ]
    },
    {
      "cell_type": "markdown",
      "source": [
        "### Бутстрап"
      ],
      "metadata": {
        "id": "RKjRerLAQla3"
      }
    },
    {
      "cell_type": "markdown",
      "source": [
        "#### По средней"
      ],
      "metadata": {
        "id": "CHgTfpBLXdmy"
      }
    },
    {
      "cell_type": "code",
      "source": [
        "hist(data_metadata$carotidIMTmean, main = \"Histogram of carotidIMTmean\", xlab = \"carotidIMTmean\", col = \"lightblue\", breaks = 10)"
      ],
      "metadata": {
        "colab": {
          "base_uri": "https://localhost:8080/",
          "height": 437
        },
        "id": "sBtVfSAHYNCW",
        "outputId": "e4ffb630-11df-4a6e-f829-11459bee2b3e"
      },
      "execution_count": 21,
      "outputs": [
        {
          "output_type": "display_data",
          "data": {
            "text/plain": [
              "Plot with title “Histogram of carotidIMTmean”"
            ],
            "image/png": "[encoded data removed]"
          },
          "metadata": {
            "image/png": {
              "width": 420,
              "height": 420
            }
          }
        }
      ]
    },
    {
      "cell_type": "code",
      "source": [
        "shapiro_p <- shapiro.test(data_metadata$carotidIMTmean)$p.value\n",
        "shapiro_p"
      ],
      "metadata": {
        "colab": {
          "base_uri": "https://localhost:8080/",
          "height": 34
        },
        "id": "LEZe6obtZIsi",
        "outputId": "a463ffd8-cd5c-4018-9b1f-72adf83543be"
      },
      "execution_count": 22,
      "outputs": [
        {
          "output_type": "display_data",
          "data": {
            "text/html": [
              "0.548839571207878"
            ],
            "text/markdown": "0.548839571207878",
            "text/latex": "0.548839571207878",
            "text/plain": [
              "[1] 0.5488396"
            ]
          },
          "metadata": {}
        }
      ]
    },
    {
      "cell_type": "code",
      "source": [
        "myfn_i_mean <- function(x, i) {return(sum(x[i])/length(x[i]))}\n",
        "result <- boot(data_metadata$carotidIMTmean, myfn_i_mean, R = 1000)\n",
        "result"
      ],
      "metadata": {
        "colab": {
          "base_uri": "https://localhost:8080/",
          "height": 225
        },
        "id": "Rru7uTiWPWCI",
        "outputId": "a92c07d0-4d85-4783-e435-6dadd56c9671"
      },
      "execution_count": 24,
      "outputs": [
        {
          "output_type": "display_data",
          "data": {
            "text/plain": [
              "\n",
              "ORDINARY NONPARAMETRIC BOOTSTRAP\n",
              "\n",
              "\n",
              "Call:\n",
              "boot(data = data_metadata$carotidIMTmean, statistic = myfn_i_mean, \n",
              "    R = 1000)\n",
              "\n",
              "\n",
              "Bootstrap Statistics :\n",
              "     original       bias    std. error\n",
              "t1* 0.8074781 -0.000369057  0.02008455"
            ]
          },
          "metadata": {}
        }
      ]
    },
    {
      "cell_type": "code",
      "source": [
        "plot(result)"
      ],
      "metadata": {
        "colab": {
          "base_uri": "https://localhost:8080/",
          "height": 437
        },
        "id": "FIIBn1-WZ9mT",
        "outputId": "82164437-e27c-4c51-9ad8-2736d1e03cd6"
      },
      "execution_count": 25,
      "outputs": [
        {
          "output_type": "display_data",
          "data": {
            "text/plain": [
              "Plot with title “Histogram of t”"
            ],
            "image/png": "[encoded data removed]"
          },
          "metadata": {
            "image/png": {
              "width": 420,
              "height": 420
            }
          }
        }
      ]
    },
    {
      "cell_type": "code",
      "source": [
        "quantile(result$t, c(0.025, 0.975)) #доверительный интервал для среднеарифметического\n",
        "mean(data_metadata$carotidIMTmean)"
      ],
      "metadata": {
        "colab": {
          "base_uri": "https://localhost:8080/",
          "height": 52
        },
        "id": "unusBdFfaBPQ",
        "outputId": "4ac9ba50-cdb9-4af6-ed8d-8403aca1df5f"
      },
      "execution_count": 27,
      "outputs": [
        {
          "output_type": "display_data",
          "data": {
            "text/html": [
              "<style>\n",
              ".dl-inline {width: auto; margin:0; padding: 0}\n",
              ".dl-inline>dt, .dl-inline>dd {float: none; width: auto; display: inline-block}\n",
              ".dl-inline>dt::after {content: \":\\0020\"; padding-right: .5ex}\n",
              ".dl-inline>dt:not(:first-of-type) {padding-left: .5ex}\n",
              "</style><dl class=dl-inline><dt>2.5%</dt><dd>0.765402412280702</dd><dt>97.5%</dt><dd>0.846282346491228</dd></dl>\n"
            ],
            "text/markdown": "2.5%\n:   0.76540241228070297.5%\n:   0.846282346491228\n\n",
            "text/latex": "\\begin{description*}\n\\item[2.5\\textbackslash{}\\%] 0.765402412280702\n\\item[97.5\\textbackslash{}\\%] 0.846282346491228\n\\end{description*}\n",
            "text/plain": [
              "     2.5%     97.5% \n",
              "0.7654024 0.8462823 "
            ]
          },
          "metadata": {}
        },
        {
          "output_type": "display_data",
          "data": {
            "text/html": [
              "0.807478070175439"
            ],
            "text/markdown": "0.807478070175439",
            "text/latex": "0.807478070175439",
            "text/plain": [
              "[1] 0.8074781"
            ]
          },
          "metadata": {}
        }
      ]
    },
    {
      "cell_type": "markdown",
      "source": [
        "Среднее полного набора данных параметра лежит в пределах доверительных интервалов. Не отвергаем нулевую гипотезу о равенстве средних с уровнем уверенности 95%\n"
      ],
      "metadata": {
        "id": "cwxoUwgVaOf3"
      }
    },
    {
      "cell_type": "markdown",
      "source": [
        "#### По дисперсии"
      ],
      "metadata": {
        "id": "H5NYt_WFXqPk"
      }
    },
    {
      "cell_type": "code",
      "source": [
        "myfn_i_variance <- function(x, i) {\n",
        "  return(var(x[i]))\n",
        "}\n",
        "result <- boot(data_metadata$carotidIMTmean, myfn_i_variance, R = 1000)\n",
        "result"
      ],
      "metadata": {
        "colab": {
          "base_uri": "https://localhost:8080/",
          "height": 225
        },
        "id": "LtZXLS2OXuq8",
        "outputId": "760cc967-3c3e-43ff-e745-e72ace6fc96b"
      },
      "execution_count": 29,
      "outputs": [
        {
          "output_type": "display_data",
          "data": {
            "text/plain": [
              "\n",
              "ORDINARY NONPARAMETRIC BOOTSTRAP\n",
              "\n",
              "\n",
              "Call:\n",
              "boot(data = data_metadata$carotidIMTmean, statistic = myfn_i_variance, \n",
              "    R = 1000)\n",
              "\n",
              "\n",
              "Bootstrap Statistics :\n",
              "      original        bias    std. error\n",
              "t1* 0.01547123 -0.0003908631 0.003081881"
            ]
          },
          "metadata": {}
        }
      ]
    },
    {
      "cell_type": "code",
      "source": [
        "plot(result)"
      ],
      "metadata": {
        "colab": {
          "base_uri": "https://localhost:8080/",
          "height": 437
        },
        "id": "M0bMHtu0bXQX",
        "outputId": "2a85cefe-603b-4588-921b-8a4a4efa8451"
      },
      "execution_count": 30,
      "outputs": [
        {
          "output_type": "display_data",
          "data": {
            "text/plain": [
              "Plot with title “Histogram of t”"
            ],
            "image/png": "[encoded data removed]"
          },
          "metadata": {
            "image/png": {
              "width": 420,
              "height": 420
            }
          }
        }
      ]
    },
    {
      "cell_type": "code",
      "source": [
        "quantile(result$t, c(0.025, 0.975)) #доверительный интервал для дисперсии\n",
        "var(data_metadata$carotidIMTmean)"
      ],
      "metadata": {
        "colab": {
          "base_uri": "https://localhost:8080/",
          "height": 52
        },
        "id": "HEEKGt65cJP4",
        "outputId": "268e40c2-ca75-4955-f141-937e18e87554"
      },
      "execution_count": 31,
      "outputs": [
        {
          "output_type": "display_data",
          "data": {
            "text/html": [
              "<style>\n",
              ".dl-inline {width: auto; margin:0; padding: 0}\n",
              ".dl-inline>dt, .dl-inline>dd {float: none; width: auto; display: inline-block}\n",
              ".dl-inline>dt::after {content: \":\\0020\"; padding-right: .5ex}\n",
              ".dl-inline>dt:not(:first-of-type) {padding-left: .5ex}\n",
              "</style><dl class=dl-inline><dt>2.5%</dt><dd>0.00929677305595069</dd><dt>97.5%</dt><dd>0.0212435345542911</dd></dl>\n"
            ],
            "text/markdown": "2.5%\n:   0.0092967730559506997.5%\n:   0.0212435345542911\n\n",
            "text/latex": "\\begin{description*}\n\\item[2.5\\textbackslash{}\\%] 0.00929677305595069\n\\item[97.5\\textbackslash{}\\%] 0.0212435345542911\n\\end{description*}\n",
            "text/plain": [
              "       2.5%       97.5% \n",
              "0.009296773 0.021243535 "
            ]
          },
          "metadata": {}
        },
        {
          "output_type": "display_data",
          "data": {
            "text/html": [
              "0.0154712269835625"
            ],
            "text/markdown": "0.0154712269835625",
            "text/latex": "0.0154712269835625",
            "text/plain": [
              "[1] 0.01547123"
            ]
          },
          "metadata": {}
        }
      ]
    },
    {
      "cell_type": "markdown",
      "source": [
        "Дисперсия полного набора данных параметра лежит в пределах доверительных интервалов. Не отвергаем нулевую гипотезу о равенстве дисперсии с уровнем уверенности 95%\n"
      ],
      "metadata": {
        "id": "euuCulU0cPGG"
      }
    },
    {
      "cell_type": "markdown",
      "source": [
        "### Jackknife"
      ],
      "metadata": {
        "id": "WRmpmTA1cz_J"
      }
    },
    {
      "cell_type": "markdown",
      "source": [
        "#### По средней"
      ],
      "metadata": {
        "id": "85ssWZHyc6r_"
      }
    },
    {
      "cell_type": "code",
      "source": [
        "theta <- function(x){mean(x)}\n",
        "\n",
        "results <- jackknife(data_metadata$carotidIMTmean, theta)\n",
        "results"
      ],
      "metadata": {
        "colab": {
          "base_uri": "https://localhost:8080/",
          "height": 295
        },
        "id": "8BUW2z7jvTkt",
        "outputId": "d4018f81-2031-44ad-8a28-58f8d58f8571"
      },
      "execution_count": 38,
      "outputs": [
        {
          "output_type": "display_data",
          "data": {
            "text/plain": [
              "$jack.se\n",
              "[1] 0.02017765\n",
              "\n",
              "$jack.bias\n",
              "[1] 0\n",
              "\n",
              "$jack.values\n",
              " [1] 0.8119369 0.8065991 0.8063288 0.8070270 0.7996171 0.8063964 0.8111261\n",
              " [8] 0.8080856 0.8063514 0.8102703 0.8091441 0.8083333 0.8043243 0.8064189\n",
              "[15] 0.8029054 0.8056757 0.8022973 0.8045270 0.8069820 0.8118468 0.8066216\n",
              "[22] 0.8076351 0.8052252 0.8022523 0.8074550 0.8135360 0.8046396 0.8063288\n",
              "[29] 0.8086712 0.8100676 0.8119820 0.8122072 0.8078604 0.8054505 0.8132432\n",
              "[36] 0.8090991 0.8030405 0.8126577\n",
              "\n",
              "$call\n",
              "jackknife(x = data_metadata$carotidIMTmean, theta = theta)\n"
            ]
          },
          "metadata": {}
        }
      ]
    },
    {
      "cell_type": "code",
      "source": [
        "hist(results$jack.values)"
      ],
      "metadata": {
        "colab": {
          "base_uri": "https://localhost:8080/",
          "height": 437
        },
        "id": "lRF82h_pz4Pe",
        "outputId": "b1c3a89a-f565-4797-c2cb-389d5a02a9d2"
      },
      "execution_count": 39,
      "outputs": [
        {
          "output_type": "display_data",
          "data": {
            "text/plain": [
              "Plot with title “Histogram of results$jack.values”"
            ],
            "image/png": "[encoded data removed]"
          },
          "metadata": {
            "image/png": {
              "width": 420,
              "height": 420
            }
          }
        }
      ]
    },
    {
      "cell_type": "markdown",
      "source": [
        "#### По дисперсии"
      ],
      "metadata": {
        "id": "grJb6GhFvn0o"
      }
    },
    {
      "cell_type": "code",
      "source": [
        "theta <- function(x){var(x)}\n",
        "\n",
        "results <- jackknife(data_metadata$carotidIMTmean, theta)\n",
        "results"
      ],
      "metadata": {
        "colab": {
          "base_uri": "https://localhost:8080/",
          "height": 312
        },
        "id": "Dt1kQoWevnP0",
        "outputId": "4ec69648-7b26-4a01-85e4-646e86fe8cec"
      },
      "execution_count": 40,
      "outputs": [
        {
          "output_type": "display_data",
          "data": {
            "text/plain": [
              "$jack.se\n",
              "[1] 0.003213536\n",
              "\n",
              "$jack.bias\n",
              "[1] 0\n",
              "\n",
              "$jack.values\n",
              " [1] 0.01512450 0.01587081 0.01584940 0.01589304 0.01348756 0.01585529\n",
              " [7] 0.01538122 0.01588657 0.01585140 0.01559649 0.01579257 0.01587242\n",
              "[13] 0.01551253 0.01585717 0.01508436 0.01577411 0.01485272 0.01556086\n",
              "[19] 0.01589137 0.01515556 0.01587234 0.01590002 0.01570276 0.01483441\n",
              "[25] 0.01590096 0.01446769 0.01558632 0.01584940 0.01584539 0.01563910\n",
              "[31] 0.01510873 0.01502752 0.01589528 0.01574042 0.01460289 0.01579836\n",
              "[37] 0.01513191 0.01485320\n",
              "\n",
              "$call\n",
              "jackknife(x = data_metadata$carotidIMTmean, theta = theta)\n"
            ]
          },
          "metadata": {}
        }
      ]
    },
    {
      "cell_type": "code",
      "source": [
        "hist(results$jack.values)"
      ],
      "metadata": {
        "colab": {
          "base_uri": "https://localhost:8080/",
          "height": 437
        },
        "id": "n6aplOLqz6nK",
        "outputId": "2121f6c5-dd08-4d83-856b-1f8100dc705a"
      },
      "execution_count": 41,
      "outputs": [
        {
          "output_type": "display_data",
          "data": {
            "text/plain": [
              "Plot with title “Histogram of results$jack.values”"
            ],
            "image/png": "[encoded data removed]"
          },
          "metadata": {
            "image/png": {
              "width": 420,
              "height": 420
            }
          }
        }
      ]
    }
  ]
}