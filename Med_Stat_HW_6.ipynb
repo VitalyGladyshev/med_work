{
  "nbformat": 4,
  "nbformat_minor": 0,
  "metadata": {
    "colab": {
      "provenance": [],
      "authorship_tag": "ABX9TyM4HGu5LPawfr7pc+YUy51E",
      "include_colab_link": true
    },
    "kernelspec": {
      "name": "ir",
      "display_name": "R"
    },
    "language_info": {
      "name": "R"
    }
  },
  "cells": [
    {
      "cell_type": "markdown",
      "metadata": {
        "id": "view-in-github",
        "colab_type": "text"
      },
      "source": [
        "<a href=\"https://colab.research.google.com/github/VitalyGladyshev/med_work/blob/main/Med_Stat_HW_6.ipynb\" target=\"_parent\"><img src=\"https://colab.research.google.com/assets/colab-badge.svg\" alt=\"Open In Colab\"/></a>"
      ]
    },
    {
      "cell_type": "markdown",
      "source": [
        "# Прикладная статистика в медицине"
      ],
      "metadata": {
        "id": "r5NfsOY5OgM4"
      }
    },
    {
      "cell_type": "markdown",
      "source": [
        "## ДЗ 6 Гладышев В.В."
      ],
      "metadata": {
        "id": "5Ndzu_zyOj06"
      }
    },
    {
      "cell_type": "markdown",
      "source": [
        "## Регрессионные модели"
      ],
      "metadata": {
        "id": "sqQghEn9OoPE"
      }
    },
    {
      "cell_type": "markdown",
      "source": [
        "### Загрузка и подключение библиотек"
      ],
      "metadata": {
        "id": "6D4G2AGkOvMa"
      }
    },
    {
      "cell_type": "code",
      "execution_count": 25,
      "metadata": {
        "id": "FDJPLfyyOTq3"
      },
      "outputs": [],
      "source": [
        "knitr::opts_chunk$set(echo = TRUE)\n",
        "library(ggplot2)\n",
        "library(dplyr)\n",
        "library(tidyverse)"
      ]
    },
    {
      "cell_type": "code",
      "source": [
        "install.packages('car')\n",
        "library(car) #подключение библиотеки"
      ],
      "metadata": {
        "colab": {
          "base_uri": "https://localhost:8080/"
        },
        "id": "OnK-xkAGO1GC",
        "outputId": "8ea0e0a3-8660-46d3-b4da-3b7f24277756"
      },
      "execution_count": 2,
      "outputs": [
        {
          "output_type": "stream",
          "name": "stderr",
          "text": [
            "Installing package into ‘/usr/local/lib/R/site-library’\n",
            "(as ‘lib’ is unspecified)\n",
            "\n",
            "also installing the dependencies ‘cowplot’, ‘Deriv’, ‘microbenchmark’, ‘numDeriv’, ‘doBy’, ‘SparseM’, ‘MatrixModels’, ‘minqa’, ‘nloptr’, ‘RcppEigen’, ‘carData’, ‘abind’, ‘pbkrtest’, ‘quantreg’, ‘lme4’\n",
            "\n",
            "\n",
            "Loading required package: carData\n",
            "\n",
            "\n",
            "Attaching package: ‘car’\n",
            "\n",
            "\n",
            "The following object is masked from ‘package:purrr’:\n",
            "\n",
            "    some\n",
            "\n",
            "\n",
            "The following object is masked from ‘package:dplyr’:\n",
            "\n",
            "    recode\n",
            "\n",
            "\n"
          ]
        }
      ]
    },
    {
      "cell_type": "markdown",
      "source": [
        "### Загрузка и подготовка данных"
      ],
      "metadata": {
        "id": "isU6XQ66PJuD"
      }
    },
    {
      "cell_type": "code",
      "source": [
        "data_metadata <- read.csv('/content/metadata.tsv', header = TRUE, sep = '\\t')\n",
        "head(data_metadata)"
      ],
      "metadata": {
        "colab": {
          "base_uri": "https://localhost:8080/",
          "height": 532
        },
        "id": "q4evdch_PGEM",
        "outputId": "175f7edd-c966-4c1b-856a-6932643d6e88"
      },
      "execution_count": 28,
      "outputs": [
        {
          "output_type": "display_data",
          "data": {
            "text/html": [
              "<table class=\"dataframe\">\n",
              "<caption>A data.frame: 6 × 49</caption>\n",
              "<thead>\n",
              "\t<tr><th></th><th scope=col>Vialnumber</th><th scope=col>Patientnumber</th><th scope=col>Sucrose</th><th scope=col>Name</th><th scope=col>Group</th><th scope=col>Date</th><th scope=col>Age</th><th scope=col>Plasmavolume</th><th scope=col>Ht</th><th scope=col>Wt</th><th scope=col>⋯</th><th scope=col>rlatmax</th><th scope=col>rantmax</th><th scope=col>rposmax</th><th scope=col>llatmax</th><th scope=col>lantmax</th><th scope=col>lposmax</th><th scope=col>carotidIMTmean</th><th scope=col>Plaque</th><th scope=col>Statins</th><th scope=col>comorbidities</th></tr>\n",
              "\t<tr><th></th><th scope=col>&lt;int&gt;</th><th scope=col>&lt;int&gt;</th><th scope=col>&lt;int&gt;</th><th scope=col>&lt;chr&gt;</th><th scope=col>&lt;int&gt;</th><th scope=col>&lt;chr&gt;</th><th scope=col>&lt;int&gt;</th><th scope=col>&lt;dbl&gt;</th><th scope=col>&lt;int&gt;</th><th scope=col>&lt;dbl&gt;</th><th scope=col>⋯</th><th scope=col>&lt;dbl&gt;</th><th scope=col>&lt;dbl&gt;</th><th scope=col>&lt;dbl&gt;</th><th scope=col>&lt;dbl&gt;</th><th scope=col>&lt;dbl&gt;</th><th scope=col>&lt;dbl&gt;</th><th scope=col>&lt;dbl&gt;</th><th scope=col>&lt;int&gt;</th><th scope=col>&lt;int&gt;</th><th scope=col>&lt;chr&gt;</th></tr>\n",
              "</thead>\n",
              "<tbody>\n",
              "\t<tr><th scope=row>1</th><td>1</td><td>50</td><td>0</td><td>Begaye, Decarlo    </td><td>0</td><td>2023-01-14</td><td>63</td><td>6.5</td><td>163</td><td> 84.0</td><td>⋯</td><td>0.65</td><td>0.80</td><td>0.80</td><td>0.81</td><td>0.78</td><td>0.80</td><td>0.6425000</td><td>1</td><td>1</td><td>NA                                                                                       </td></tr>\n",
              "\t<tr><th scope=row>2</th><td>2</td><td>51</td><td>0</td><td>Sweetwater, Kristen</td><td>0</td><td>2022-10-09</td><td>47</td><td>5.5</td><td>179</td><td>111.0</td><td>⋯</td><td>1.03</td><td>0.92</td><td>1.03</td><td>1.03</td><td>1.03</td><td>1.09</td><td>0.8400000</td><td>1</td><td>0</td><td>NA                                                                                       </td></tr>\n",
              "\t<tr><th scope=row>3</th><td>3</td><td>52</td><td>0</td><td>Figurelli, Samuel  </td><td>1</td><td>2023-10-24</td><td>57</td><td>7.0</td><td>164</td><td> 80.0</td><td>⋯</td><td>1.00</td><td>0.90</td><td>0.95</td><td>0.85</td><td>0.90</td><td>0.90</td><td>0.8500000</td><td>3</td><td>1</td><td>Type 2 diabetes mellitus; MI - 2016                                                      </td></tr>\n",
              "\t<tr><th scope=row>4</th><td>4</td><td>53</td><td>0</td><td>Pamphille, Mehgan  </td><td>1</td><td>2023-07-02</td><td>72</td><td>5.0</td><td>160</td><td> 58.8</td><td>⋯</td><td>0.91</td><td>0.97</td><td>0.98</td><td>0.86</td><td>0.74</td><td>0.80</td><td>0.8241667</td><td>2</td><td>0</td><td>1-2 times per year hypertensive crises (Corinfar)                                        </td></tr>\n",
              "\t<tr><th scope=row>5</th><td>5</td><td>54</td><td>0</td><td>Morgan, Rollin     </td><td>1</td><td>2022-11-27</td><td>57</td><td>5.0</td><td>180</td><td> 71.0</td><td>⋯</td><td>1.20</td><td>1.20</td><td>1.25</td><td>1.10</td><td>1.30</td><td>1.13</td><td>1.0983333</td><td>1</td><td>1</td><td>NA                                                                                       </td></tr>\n",
              "\t<tr><th scope=row>6</th><td>6</td><td>55</td><td>0</td><td>Abdul-Amin, Taelor </td><td>1</td><td>2022-07-12</td><td>79</td><td>6.2</td><td>160</td><td> 64.0</td><td>⋯</td><td>0.88</td><td>0.80</td><td>0.90</td><td>1.07</td><td>1.00</td><td>1.30</td><td>0.8475000</td><td>2</td><td>0</td><td>Cholecystitis, gastritis without exacerbation. Diffuse focal changes in the thyroid gland</td></tr>\n",
              "</tbody>\n",
              "</table>\n"
            ],
            "text/markdown": "\nA data.frame: 6 × 49\n\n| <!--/--> | Vialnumber &lt;int&gt; | Patientnumber &lt;int&gt; | Sucrose &lt;int&gt; | Name &lt;chr&gt; | Group &lt;int&gt; | Date &lt;chr&gt; | Age &lt;int&gt; | Plasmavolume &lt;dbl&gt; | Ht &lt;int&gt; | Wt &lt;dbl&gt; | ⋯ ⋯ | rlatmax &lt;dbl&gt; | rantmax &lt;dbl&gt; | rposmax &lt;dbl&gt; | llatmax &lt;dbl&gt; | lantmax &lt;dbl&gt; | lposmax &lt;dbl&gt; | carotidIMTmean &lt;dbl&gt; | Plaque &lt;int&gt; | Statins &lt;int&gt; | comorbidities &lt;chr&gt; |\n|---|---|---|---|---|---|---|---|---|---|---|---|---|---|---|---|---|---|---|---|---|---|\n| 1 | 1 | 50 | 0 | Begaye, Decarlo     | 0 | 2023-01-14 | 63 | 6.5 | 163 |  84.0 | ⋯ | 0.65 | 0.80 | 0.80 | 0.81 | 0.78 | 0.80 | 0.6425000 | 1 | 1 | NA                                                                                        |\n| 2 | 2 | 51 | 0 | Sweetwater, Kristen | 0 | 2022-10-09 | 47 | 5.5 | 179 | 111.0 | ⋯ | 1.03 | 0.92 | 1.03 | 1.03 | 1.03 | 1.09 | 0.8400000 | 1 | 0 | NA                                                                                        |\n| 3 | 3 | 52 | 0 | Figurelli, Samuel   | 1 | 2023-10-24 | 57 | 7.0 | 164 |  80.0 | ⋯ | 1.00 | 0.90 | 0.95 | 0.85 | 0.90 | 0.90 | 0.8500000 | 3 | 1 | Type 2 diabetes mellitus; MI - 2016                                                       |\n| 4 | 4 | 53 | 0 | Pamphille, Mehgan   | 1 | 2023-07-02 | 72 | 5.0 | 160 |  58.8 | ⋯ | 0.91 | 0.97 | 0.98 | 0.86 | 0.74 | 0.80 | 0.8241667 | 2 | 0 | 1-2 times per year hypertensive crises (Corinfar)                                         |\n| 5 | 5 | 54 | 0 | Morgan, Rollin      | 1 | 2022-11-27 | 57 | 5.0 | 180 |  71.0 | ⋯ | 1.20 | 1.20 | 1.25 | 1.10 | 1.30 | 1.13 | 1.0983333 | 1 | 1 | NA                                                                                        |\n| 6 | 6 | 55 | 0 | Abdul-Amin, Taelor  | 1 | 2022-07-12 | 79 | 6.2 | 160 |  64.0 | ⋯ | 0.88 | 0.80 | 0.90 | 1.07 | 1.00 | 1.30 | 0.8475000 | 2 | 0 | Cholecystitis, gastritis without exacerbation. Diffuse focal changes in the thyroid gland |\n\n",
            "text/latex": "A data.frame: 6 × 49\n\\begin{tabular}{r|lllllllllllllllllllll}\n  & Vialnumber & Patientnumber & Sucrose & Name & Group & Date & Age & Plasmavolume & Ht & Wt & ⋯ & rlatmax & rantmax & rposmax & llatmax & lantmax & lposmax & carotidIMTmean & Plaque & Statins & comorbidities\\\\\n  & <int> & <int> & <int> & <chr> & <int> & <chr> & <int> & <dbl> & <int> & <dbl> & ⋯ & <dbl> & <dbl> & <dbl> & <dbl> & <dbl> & <dbl> & <dbl> & <int> & <int> & <chr>\\\\\n\\hline\n\t1 & 1 & 50 & 0 & Begaye, Decarlo     & 0 & 2023-01-14 & 63 & 6.5 & 163 &  84.0 & ⋯ & 0.65 & 0.80 & 0.80 & 0.81 & 0.78 & 0.80 & 0.6425000 & 1 & 1 & NA                                                                                       \\\\\n\t2 & 2 & 51 & 0 & Sweetwater, Kristen & 0 & 2022-10-09 & 47 & 5.5 & 179 & 111.0 & ⋯ & 1.03 & 0.92 & 1.03 & 1.03 & 1.03 & 1.09 & 0.8400000 & 1 & 0 & NA                                                                                       \\\\\n\t3 & 3 & 52 & 0 & Figurelli, Samuel   & 1 & 2023-10-24 & 57 & 7.0 & 164 &  80.0 & ⋯ & 1.00 & 0.90 & 0.95 & 0.85 & 0.90 & 0.90 & 0.8500000 & 3 & 1 & Type 2 diabetes mellitus; MI - 2016                                                      \\\\\n\t4 & 4 & 53 & 0 & Pamphille, Mehgan   & 1 & 2023-07-02 & 72 & 5.0 & 160 &  58.8 & ⋯ & 0.91 & 0.97 & 0.98 & 0.86 & 0.74 & 0.80 & 0.8241667 & 2 & 0 & 1-2 times per year hypertensive crises (Corinfar)                                        \\\\\n\t5 & 5 & 54 & 0 & Morgan, Rollin      & 1 & 2022-11-27 & 57 & 5.0 & 180 &  71.0 & ⋯ & 1.20 & 1.20 & 1.25 & 1.10 & 1.30 & 1.13 & 1.0983333 & 1 & 1 & NA                                                                                       \\\\\n\t6 & 6 & 55 & 0 & Abdul-Amin, Taelor  & 1 & 2022-07-12 & 79 & 6.2 & 160 &  64.0 & ⋯ & 0.88 & 0.80 & 0.90 & 1.07 & 1.00 & 1.30 & 0.8475000 & 2 & 0 & Cholecystitis, gastritis without exacerbation. Diffuse focal changes in the thyroid gland\\\\\n\\end{tabular}\n",
            "text/plain": [
              "  Vialnumber Patientnumber Sucrose Name                Group Date       Age\n",
              "1 1          50            0       Begaye, Decarlo     0     2023-01-14 63 \n",
              "2 2          51            0       Sweetwater, Kristen 0     2022-10-09 47 \n",
              "3 3          52            0       Figurelli, Samuel   1     2023-10-24 57 \n",
              "4 4          53            0       Pamphille, Mehgan   1     2023-07-02 72 \n",
              "5 5          54            0       Morgan, Rollin      1     2022-11-27 57 \n",
              "6 6          55            0       Abdul-Amin, Taelor  1     2022-07-12 79 \n",
              "  Plasmavolume Ht  Wt    ⋯ rlatmax rantmax rposmax llatmax lantmax lposmax\n",
              "1 6.5          163  84.0 ⋯ 0.65    0.80    0.80    0.81    0.78    0.80   \n",
              "2 5.5          179 111.0 ⋯ 1.03    0.92    1.03    1.03    1.03    1.09   \n",
              "3 7.0          164  80.0 ⋯ 1.00    0.90    0.95    0.85    0.90    0.90   \n",
              "4 5.0          160  58.8 ⋯ 0.91    0.97    0.98    0.86    0.74    0.80   \n",
              "5 5.0          180  71.0 ⋯ 1.20    1.20    1.25    1.10    1.30    1.13   \n",
              "6 6.2          160  64.0 ⋯ 0.88    0.80    0.90    1.07    1.00    1.30   \n",
              "  carotidIMTmean Plaque Statins\n",
              "1 0.6425000      1      1      \n",
              "2 0.8400000      1      0      \n",
              "3 0.8500000      3      1      \n",
              "4 0.8241667      2      0      \n",
              "5 1.0983333      1      1      \n",
              "6 0.8475000      2      0      \n",
              "  comorbidities                                                                            \n",
              "1 NA                                                                                       \n",
              "2 NA                                                                                       \n",
              "3 Type 2 diabetes mellitus; MI - 2016                                                      \n",
              "4 1-2 times per year hypertensive crises (Corinfar)                                        \n",
              "5 NA                                                                                       \n",
              "6 Cholecystitis, gastritis without exacerbation. Diffuse focal changes in the thyroid gland"
            ]
          },
          "metadata": {}
        }
      ]
    },
    {
      "cell_type": "code",
      "source": [
        "dim(data_metadata)"
      ],
      "metadata": {
        "colab": {
          "base_uri": "https://localhost:8080/",
          "height": 34
        },
        "id": "jNO5br_GPVei",
        "outputId": "28b0a7f3-9f8d-454e-87ac-5671c6fd1f17"
      },
      "execution_count": 30,
      "outputs": [
        {
          "output_type": "display_data",
          "data": {
            "text/html": [
              "<style>\n",
              ".list-inline {list-style: none; margin:0; padding: 0}\n",
              ".list-inline>li {display: inline-block}\n",
              ".list-inline>li:not(:last-child)::after {content: \"\\00b7\"; padding: 0 .5ex}\n",
              "</style>\n",
              "<ol class=list-inline><li>38</li><li>49</li></ol>\n"
            ],
            "text/markdown": "1. 38\n2. 49\n\n\n",
            "text/latex": "\\begin{enumerate*}\n\\item 38\n\\item 49\n\\end{enumerate*}\n",
            "text/plain": [
              "[1] 38 49"
            ]
          },
          "metadata": {}
        }
      ]
    },
    {
      "cell_type": "code",
      "source": [
        "data_metadata <- data_metadata %>% select_if(is.numeric)"
      ],
      "metadata": {
        "id": "7HdN2hYSPXqE"
      },
      "execution_count": 35,
      "outputs": []
    },
    {
      "cell_type": "code",
      "source": [
        "drops <- c(\"Vialnumber\",\"Patientnumber\")\n",
        "data_metadata <- data_metadata[ , !(names(data_metadata) %in% drops)]"
      ],
      "metadata": {
        "id": "_9eRa5JiQblF"
      },
      "execution_count": 36,
      "outputs": []
    },
    {
      "cell_type": "code",
      "source": [
        "# создание факторных переменных\n",
        "data_metadata$Sucrose <- as.factor(data_metadata$Sucrose)\n",
        "data_metadata$Sm <- as.factor(data_metadata$Sm)\n",
        "data_metadata$Dm <- as.factor(data_metadata$Dm)\n",
        "data_metadata$HT <- as.factor(data_metadata$HT)\n",
        "data_metadata$LVH <- as.factor(data_metadata$LVH)\n",
        "data_metadata$IHD <- as.factor(data_metadata$IHD)\n",
        "data_metadata$MI <- as.factor(data_metadata$MI)\n",
        "data_metadata$Str <- as.factor(data_metadata$Str)\n",
        "data_metadata$A_C <- as.factor(data_metadata$A_C)\n",
        "data_metadata$A_H <- as.factor(data_metadata$A_H)\n",
        "data_metadata$A_D <- as.factor(data_metadata$A_D)\n",
        "data_metadata$Plaque <- as.factor(data_metadata$Plaque)\n",
        "data_metadata$Statins <- as.factor(data_metadata$Statins)"
      ],
      "metadata": {
        "colab": {
          "base_uri": "https://localhost:8080/",
          "height": 176
        },
        "id": "WsQueyrcPcit",
        "outputId": "940653aa-5aec-4b41-9b27-01a18133a86b"
      },
      "execution_count": 37,
      "outputs": [
        {
          "output_type": "error",
          "ename": "ERROR",
          "evalue": "Error in `$<-.data.frame`(`*tmp*`, Sucrose, value = structure(integer(0), levels = character(0), class = \"factor\")): replacement has 0 rows, data has 38\n",
          "traceback": [
            "Error in `$<-.data.frame`(`*tmp*`, Sucrose, value = structure(integer(0), levels = character(0), class = \"factor\")): replacement has 0 rows, data has 38\nTraceback:\n",
            "1. `$<-`(`*tmp*`, Sucrose, value = structure(integer(0), levels = character(0), class = \"factor\"))",
            "2. `$<-.data.frame`(`*tmp*`, Sucrose, value = structure(integer(0), levels = character(0), class = \"factor\"))",
            "3. stop(sprintf(ngettext(N, \"replacement has %d row, data has %d\", \n .     \"replacement has %d rows, data has %d\"), N, nrows), domain = NA)"
          ]
        }
      ]
    },
    {
      "cell_type": "code",
      "source": [
        "str(data_metadata)"
      ],
      "metadata": {
        "colab": {
          "base_uri": "https://localhost:8080/"
        },
        "id": "6nbLwJR5PaW0",
        "outputId": "0cb43a36-69a6-4382-c278-a43f6d9eea9a"
      },
      "execution_count": 52,
      "outputs": [
        {
          "output_type": "stream",
          "name": "stdout",
          "text": [
            "'data.frame':\t38 obs. of  31 variables:\n",
            " $ Group         : int  0 0 1 1 1 1 1 1 0 1 ...\n",
            " $ Age           : int  63 47 57 72 57 79 61 70 50 53 ...\n",
            " $ Plasmavolume  : num  6.5 5.5 7 5 5 6.2 6.5 5.5 6 5.5 ...\n",
            " $ Ht            : int  163 179 164 160 180 160 164 162 150 172 ...\n",
            " $ Wt            : num  84 111 80 58.8 71 64 67 61 79 88.2 ...\n",
            " $ BMI           : num  31.6 34.6 29.7 23 21.9 ...\n",
            " $ Sys           : int  125 125 132 130 135 110 124 135 142 120 ...\n",
            " $ Dia           : int  76 82 80 90 75 75 82 78 95 80 ...\n",
            " $ PR            : int  67 65 92 68 70 66 84 72 88 60 ...\n",
            " $ Choi          : int  215 271 206 266 194 286 280 267 319 202 ...\n",
            " $ Tgi           : int  219 147 146 132 101 121 114 143 307 117 ...\n",
            " $ HDLi          : num  65.3 52.1 38.6 51.9 76.8 61.9 61.1 57 67.1 47 ...\n",
            " $ LDLi          : num  106 190 138 188 97 ...\n",
            " $ Choi_exp      : num  5.58 7.04 5.35 6.91 5.04 ...\n",
            " $ Tgi_exp       : num  2.41 1.62 1.6 1.45 1.11 ...\n",
            " $ HDLi_exp      : num  1.7 1.35 1 1.35 1.99 ...\n",
            " $ LDLi_exp      : num  2.75 4.92 3.58 4.88 2.52 ...\n",
            " $ AI            : num  1.62 3.64 3.58 3.62 1.26 ...\n",
            " $ rlatmin       : num  0.5 0.63 0.8 0.74 1 0.74 0.52 0.69 0.98 0.63 ...\n",
            " $ rantmin       : num  0.55 0.63 0.8 0.86 1 0.57 0.46 0.62 0.97 0.52 ...\n",
            " $ rposmin       : num  0.5 0.63 0.8 0.86 1.1 0.63 0.46 0.69 0.74 0.69 ...\n",
            " $ llatmin       : num  0.5 0.63 0.8 0.8 0.9 0.8 0.51 0.8 0.69 0.52 ...\n",
            " $ lantmin       : num  0.52 0.63 0.8 0.63 1 0.74 0.47 0.56 0.57 0.58 ...\n",
            " $ lposmin       : num  0.5 0.8 0.7 0.74 1 0.74 0.57 0.56 0.57 0.57 ...\n",
            " $ rlatmax       : num  0.65 1.03 1 0.91 1.2 0.88 0.91 1 1.09 0.97 ...\n",
            " $ rantmax       : num  0.8 0.92 0.9 0.97 1.2 0.8 0.86 1 1.26 1.04 ...\n",
            " $ rposmax       : num  0.8 1.03 0.95 0.98 1.25 0.9 0.86 1 1.03 0.81 ...\n",
            " $ llatmax       : num  0.81 1.03 0.85 0.86 1.1 1.07 0.8 0.94 0.8 0.63 ...\n",
            " $ lantmax       : num  0.78 1.03 0.9 0.74 1.3 1 0.74 0.69 0.74 0.63 ...\n",
            " $ lposmax       : num  0.8 1.09 0.9 0.8 1.13 1.3 0.91 0.87 0.75 0.86 ...\n",
            " $ carotidIMTmean: num  0.642 0.84 0.85 0.824 1.098 ...\n"
          ]
        }
      ]
    },
    {
      "cell_type": "code",
      "source": [
        "mod_classic<-glm(Group ~ ., data = data_metadata)\n",
        "\n",
        "copy_data_metadata <- data_metadata\n",
        "\n",
        "copy_data_metadata$fit <- predict(mod_classic, newdata = copy_data_metadata) # Предсказанные значения"
      ],
      "metadata": {
        "id": "o3yxxfTbSjXe"
      },
      "execution_count": 53,
      "outputs": []
    },
    {
      "cell_type": "code",
      "source": [
        "ggplot(copy_data_metadata, aes(x = carotidIMTmean, y = fit))+\n",
        "  geom_point(data = data_metadata, aes(x = carotidIMTmean, y = Group), size = 0.5, color = 'blue') +\n",
        "  theme_bw()"
      ],
      "metadata": {
        "colab": {
          "base_uri": "https://localhost:8080/",
          "height": 437
        },
        "id": "ATwOOYYWTX7w",
        "outputId": "8a5f6e92-4876-4e4d-a7dc-91e99bf1f204"
      },
      "execution_count": 54,
      "outputs": [
        {
          "output_type": "display_data",
          "data": {
            "text/plain": [
              "plot without title"
            ],
            "image/png": "[encoded data removed]"
          },
          "metadata": {
            "image/png": {
              "width": 420,
              "height": 420
            }
          }
        }
      ]
    },
    {
      "cell_type": "code",
      "source": [
        "mod_classic_diag <- fortify(mod_classic)\n",
        "ggplot(mod_classic_diag, aes(x = .fitted, y = .stdresid)) +\n",
        "geom_point() +\n",
        "geom_vline(xintercept = 0) +\n",
        "theme_bw()"
      ],
      "metadata": {
        "colab": {
          "base_uri": "https://localhost:8080/",
          "height": 437
        },
        "id": "Rxpd0a809mWN",
        "outputId": "3cbb5872-3b2f-4c88-ee1f-9451b2b13cc4"
      },
      "execution_count": 55,
      "outputs": [
        {
          "output_type": "display_data",
          "data": {
            "text/plain": [
              "plot without title"
            ],
            "image/png": "[encoded data removed]"
          },
          "metadata": {
            "image/png": {
              "width": 420,
              "height": 420
            }
          }
        }
      ]
    },
    {
      "cell_type": "markdown",
      "source": [
        "### Делим датасет на train и validation"
      ],
      "metadata": {
        "id": "XRdj4EGC98Wc"
      }
    },
    {
      "cell_type": "code",
      "source": [
        "fractionTraining   <- 0.85\n",
        "fractionValidation <- 1 - fractionTraining\n",
        "\n",
        "sampleSizeTraining   <- floor(fractionTraining   * nrow(data_metadata))\n",
        "sampleSizeValidation <- floor(fractionValidation * nrow(data_metadata))\n",
        "\n",
        "indicesTraining    <- sort(sample(seq_len(nrow(data_metadata)), size=sampleSizeTraining))\n",
        "indicesNotTraining <- setdiff(seq_len(nrow(data_metadata)), indicesTraining)\n",
        "indicesValidation  <- sort(sample(indicesNotTraining, size=sampleSizeValidation))\n",
        "\n",
        "data_metadata_training   <- data_metadata[indicesTraining, ]\n",
        "data_metadata_validation <- data_metadata[indicesValidation, ]"
      ],
      "metadata": {
        "id": "33TlZwBk7k7Q"
      },
      "execution_count": 47,
      "outputs": []
    },
    {
      "cell_type": "code",
      "source": [
        "str(data_metadata_training)"
      ],
      "metadata": {
        "colab": {
          "base_uri": "https://localhost:8080/"
        },
        "id": "The_4dYiT26b",
        "outputId": "84944a54-7009-4297-cf62-36eecd534b05"
      },
      "execution_count": 48,
      "outputs": [
        {
          "output_type": "stream",
          "name": "stdout",
          "text": [
            "'data.frame':\t32 obs. of  31 variables:\n",
            " $ Group         : int  0 0 1 1 1 1 0 1 1 1 ...\n",
            " $ Age           : int  63 47 72 57 79 61 50 53 83 59 ...\n",
            " $ Plasmavolume  : num  6.5 5.5 5 5 6.2 6.5 6 5.5 6 5.5 ...\n",
            " $ Ht            : int  163 179 160 180 160 164 150 172 168 157 ...\n",
            " $ Wt            : num  84 111 58.8 71 64 67 79 88.2 59 70 ...\n",
            " $ BMI           : num  31.6 34.6 23 21.9 25 ...\n",
            " $ Sys           : int  125 125 130 135 110 124 142 120 134 120 ...\n",
            " $ Dia           : int  76 82 90 75 75 82 95 80 60 85 ...\n",
            " $ PR            : int  67 65 68 70 66 84 88 60 89 90 ...\n",
            " $ Choi          : int  215 271 266 194 286 280 319 202 177 266 ...\n",
            " $ Tgi           : int  219 147 132 101 121 114 307 117 154 105 ...\n",
            " $ HDLi          : num  65.3 52.1 51.9 76.8 61.9 61.1 67.1 47 108 64.9 ...\n",
            " $ LDLi          : num  106 190 188 97 200 ...\n",
            " $ Choi_exp      : num  5.58 7.04 6.91 5.04 7.43 ...\n",
            " $ Tgi_exp       : num  2.41 1.62 1.45 1.11 1.33 ...\n",
            " $ HDLi_exp      : num  1.7 1.35 1.35 1.99 1.61 ...\n",
            " $ LDLi_exp      : num  2.75 4.92 4.88 2.52 5.19 ...\n",
            " $ AI            : num  1.62 3.64 3.62 1.26 3.23 ...\n",
            " $ rlatmin       : num  0.5 0.63 0.74 1 0.74 0.52 0.98 0.63 0.7 0.5 ...\n",
            " $ rantmin       : num  0.55 0.63 0.86 1 0.57 0.46 0.97 0.52 0.6 0.56 ...\n",
            " $ rposmin       : num  0.5 0.63 0.86 1.1 0.63 0.46 0.74 0.69 0.62 0.62 ...\n",
            " $ llatmin       : num  0.5 0.63 0.8 0.9 0.8 0.51 0.69 0.52 0.8 0.75 ...\n",
            " $ lantmin       : num  0.52 0.63 0.63 1 0.74 0.47 0.57 0.58 0.63 0.88 ...\n",
            " $ lposmin       : num  0.5 0.8 0.74 1 0.74 0.57 0.57 0.57 0.7 0.75 ...\n",
            " $ rlatmax       : num  0.65 1.03 0.91 1.2 0.88 0.91 1.09 0.97 0.75 0.64 ...\n",
            " $ rantmax       : num  0.8 0.92 0.97 1.2 0.8 0.86 1.26 1.04 0.8 0.62 ...\n",
            " $ rposmax       : num  0.8 1.03 0.98 1.25 0.9 0.86 1.03 0.81 0.7 0.69 ...\n",
            " $ llatmax       : num  0.81 1.03 0.86 1.1 1.07 0.8 0.8 0.63 0.9 1.12 ...\n",
            " $ lantmax       : num  0.78 1.03 0.74 1.3 1 0.74 0.74 0.63 0.9 1.12 ...\n",
            " $ lposmax       : num  0.8 1.09 0.8 1.13 1.3 0.91 0.75 0.86 0.85 1.06 ...\n",
            " $ carotidIMTmean: num  0.642 0.84 0.824 1.098 0.848 ...\n"
          ]
        }
      ]
    },
    {
      "cell_type": "code",
      "source": [
        "str(data_metadata_validation)"
      ],
      "metadata": {
        "colab": {
          "base_uri": "https://localhost:8080/"
        },
        "id": "hF0rWBzg8TV6",
        "outputId": "c82a095f-3d51-4b31-de1d-d58c99f39674"
      },
      "execution_count": 49,
      "outputs": [
        {
          "output_type": "stream",
          "name": "stdout",
          "text": [
            "'data.frame':\t5 obs. of  31 variables:\n",
            " $ Group         : int  1 1 1 0 0\n",
            " $ Age           : int  57 70 75 66 79\n",
            " $ Plasmavolume  : num  7 5.5 10 10 12\n",
            " $ Ht            : int  164 162 165 165 172\n",
            " $ Wt            : num  80 61 57 73 60\n",
            " $ BMI           : num  29.7 23.2 20.9 26.8 20.3\n",
            " $ Sys           : int  132 135 120 135 100\n",
            " $ Dia           : int  80 78 72 57 60\n",
            " $ PR            : int  92 72 66 72 65\n",
            " $ Choi          : int  206 267 196 254 240\n",
            " $ Tgi           : int  146 143 100 75 68\n",
            " $ HDLi          : num  38.6 57 68 99 87.3\n",
            " $ LDLi          : num  138 181 108 140 139\n",
            " $ Choi_exp      : num  5.35 6.94 5.09 6.6 6.23\n",
            " $ Tgi_exp       : num  1.604 1.571 1.099 0.824 0.747\n",
            " $ HDLi_exp      : num  1 1.48 1.77 2.57 2.27\n",
            " $ LDLi_exp      : num  3.58 4.7 2.81 3.64 3.61\n",
            " $ AI            : num  3.58 3.18 1.59 1.41 1.59\n",
            " $ rlatmin       : num  0.8 0.69 0.8 0.6 0.8\n",
            " $ rantmin       : num  0.8 0.62 0.8 0.6 0.8\n",
            " $ rposmin       : num  0.8 0.69 0.8 0.6 0.8\n",
            " $ llatmin       : num  0.8 0.8 0.8 0.5 0.9\n",
            " $ lantmin       : num  0.8 0.56 0.7 0.5 0.8\n",
            " $ lposmin       : num  0.7 0.56 0.9 0.6 0.9\n",
            " $ rlatmax       : num  1 1 0.9 0.7 0.95\n",
            " $ rantmax       : num  0.9 1 0.99 0.7 1.1\n",
            " $ rposmax       : num  0.95 1 1 0.75 0.9\n",
            " $ llatmax       : num  0.85 0.94 0.9 0.7 1\n",
            " $ lantmax       : num  0.9 0.69 0.8 0.8 1\n",
            " $ lposmax       : num  0.9 0.87 1.1 0.7 1\n",
            " $ carotidIMTmean: num  0.85 0.785 0.874 0.646 0.913\n"
          ]
        }
      ]
    },
    {
      "cell_type": "markdown",
      "source": [
        "### Подбор логистической модели"
      ],
      "metadata": {
        "id": "VLyyEVbG-YV-"
      }
    },
    {
      "cell_type": "markdown",
      "source": [
        "#### Полная модель"
      ],
      "metadata": {
        "id": "baoyg1k5-dMS"
      }
    },
    {
      "cell_type": "code",
      "source": [
        "mod <- glm(Group ~ ., family = binomial(link = 'logit'), data = data_metadata)"
      ],
      "metadata": {
        "colab": {
          "base_uri": "https://localhost:8080/"
        },
        "id": "lbOupk0P8dz-",
        "outputId": "fd6af07d-66b2-4882-9e7a-bc4c7164b507"
      },
      "execution_count": 61,
      "outputs": [
        {
          "output_type": "stream",
          "name": "stderr",
          "text": [
            "Warning message:\n",
            "“glm.fit: algorithm did not converge”\n",
            "Warning message:\n",
            "“glm.fit: fitted probabilities numerically 0 or 1 occurred”\n"
          ]
        }
      ]
    },
    {
      "cell_type": "code",
      "source": [
        "# Anova(mod)"
      ],
      "metadata": {
        "id": "A3D68Eul-2Kd"
      },
      "execution_count": 63,
      "outputs": []
    },
    {
      "cell_type": "code",
      "source": [
        "# drop1(mod, test = \"Chi\")"
      ],
      "metadata": {
        "id": "39woeKyIBoWJ"
      },
      "execution_count": 65,
      "outputs": []
    },
    {
      "cell_type": "markdown",
      "source": [
        "### Диагностика модели"
      ],
      "metadata": {
        "id": "vuu3krVpCiIL"
      }
    },
    {
      "cell_type": "markdown",
      "source": [
        "#### Проверка на линейность\n"
      ],
      "metadata": {
        "id": "jqcD_vkuCqlD"
      }
    },
    {
      "cell_type": "code",
      "source": [
        "# mod_classic_diag <- data.frame(.fitted = fitted(data_metadata, type = 'response'),\n",
        "#                         .resid_p = resid(data_metadata, type = 'pearson'))\n",
        "\n",
        "# ggplot(mod_classic_diag, aes(y = .resid_p, x = .fitted)) +\n",
        "#   geom_point() +\n",
        "#   theme_bw() +\n",
        "#   geom_hline(yintercept = 0) +\n",
        "#   geom_smooth(method = 'loess')"
      ],
      "metadata": {
        "id": "9PplQrsLCMu7"
      },
      "execution_count": 69,
      "outputs": []
    },
    {
      "cell_type": "code",
      "source": [],
      "metadata": {
        "id": "nLecmFBQDJyT"
      },
      "execution_count": null,
      "outputs": []
    }
  ]
}