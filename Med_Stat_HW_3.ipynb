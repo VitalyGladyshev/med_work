{
  "nbformat": 4,
  "nbformat_minor": 0,
  "metadata": {
    "colab": {
      "provenance": [],
      "authorship_tag": "ABX9TyM8U//9BRvWNUD0Rdlhw6ah",
      "include_colab_link": true
    },
    "kernelspec": {
      "name": "ir",
      "display_name": "R"
    },
    "language_info": {
      "name": "R"
    }
  },
  "cells": [
    {
      "cell_type": "markdown",
      "metadata": {
        "id": "view-in-github",
        "colab_type": "text"
      },
      "source": [
        "<a href=\"https://colab.research.google.com/github/VitalyGladyshev/med_work/blob/main/Med_Stat_HW_3.ipynb\" target=\"_parent\"><img src=\"https://colab.research.google.com/assets/colab-badge.svg\" alt=\"Open In Colab\"/></a>"
      ]
    },
    {
      "cell_type": "markdown",
      "source": [
        "# Прикладная статистика в медицине"
      ],
      "metadata": {
        "id": "qXwCbmidqtaS"
      }
    },
    {
      "cell_type": "markdown",
      "source": [
        "## ДЗ 3 Гладышев В.В."
      ],
      "metadata": {
        "id": "r2bzH2b-quwF"
      }
    },
    {
      "cell_type": "markdown",
      "source": [
        "## Популярные параметрические и непараметрические тесты"
      ],
      "metadata": {
        "id": "Pwin7VUBrB0N"
      }
    },
    {
      "cell_type": "markdown",
      "source": [
        "Проведём статистческий анализ. В качестве нулевой гипотезы примем, что соответствующие признаки в двух датасетах не имеют статистически значимых различий. Признаки будем считать не парными (не относящимися к разным моментам одного объекта - различное количество измерений)"
      ],
      "metadata": {
        "id": "C-b1pxFVCu6V"
      }
    },
    {
      "cell_type": "code",
      "execution_count": 47,
      "metadata": {
        "colab": {
          "base_uri": "https://localhost:8080/",
          "height": 286
        },
        "id": "skgPLBLyqn8O",
        "outputId": "274a86a8-2fc4-482e-a31e-9b0b4229535d"
      },
      "outputs": [
        {
          "output_type": "display_data",
          "data": {
            "text/html": [
              "<table class=\"dataframe\">\n",
              "<caption>A data.frame: 6 × 38</caption>\n",
              "<thead>\n",
              "\t<tr><th></th><th scope=col>Vial.number</th><th scope=col>Patient.number</th><th scope=col>Name</th><th scope=col>GPLDL1</th><th scope=col>GPLDL2</th><th scope=col>GPLDL3</th><th scope=col>GPLDL4</th><th scope=col>GPLDL5</th><th scope=col>GPLDL6</th><th scope=col>GPLDL7</th><th scope=col>⋯</th><th scope=col>G1</th><th scope=col>G2</th><th scope=col>G3</th><th scope=col>S0</th><th scope=col>S1</th><th scope=col>S2</th><th scope=col>S3</th><th scope=col>B</th><th scope=col>F</th><th scope=col>HM</th></tr>\n",
              "\t<tr><th></th><th scope=col>&lt;int&gt;</th><th scope=col>&lt;int&gt;</th><th scope=col>&lt;chr&gt;</th><th scope=col>&lt;dbl&gt;</th><th scope=col>&lt;dbl&gt;</th><th scope=col>&lt;dbl&gt;</th><th scope=col>&lt;dbl&gt;</th><th scope=col>&lt;dbl&gt;</th><th scope=col>&lt;dbl&gt;</th><th scope=col>&lt;dbl&gt;</th><th scope=col>⋯</th><th scope=col>&lt;dbl&gt;</th><th scope=col>&lt;dbl&gt;</th><th scope=col>&lt;dbl&gt;</th><th scope=col>&lt;dbl&gt;</th><th scope=col>&lt;dbl&gt;</th><th scope=col>&lt;dbl&gt;</th><th scope=col>&lt;dbl&gt;</th><th scope=col>&lt;dbl&gt;</th><th scope=col>&lt;dbl&gt;</th><th scope=col>&lt;dbl&gt;</th></tr>\n",
              "</thead>\n",
              "<tbody>\n",
              "\t<tr><th scope=row>1</th><td>1</td><td>50</td><td>LDL</td><td>0.40</td><td>6.74</td><td>0.20</td><td>0.02</td><td>1.09</td><td>3.79</td><td>2.27</td><td>⋯</td><td>4.09</td><td>68.91</td><td>3.57</td><td>3.98</td><td>28.18</td><td>42.46</td><td>1.95</td><td>0.02</td><td>1.67</td><td>13.02</td></tr>\n",
              "\t<tr><th scope=row>2</th><td>3</td><td>52</td><td>LDL</td><td>0.46</td><td>7.37</td><td>0.39</td><td>0.02</td><td>1.06</td><td>4.55</td><td>2.71</td><td>⋯</td><td>5.16</td><td>68.22</td><td>3.11</td><td>4.64</td><td>30.43</td><td>39.86</td><td>1.56</td><td>0.02</td><td>1.69</td><td>14.16</td></tr>\n",
              "\t<tr><th scope=row>3</th><td>4</td><td>53</td><td>LDL</td><td>0.30</td><td>8.23</td><td>0.26</td><td>0.02</td><td>0.88</td><td>3.66</td><td>2.32</td><td>⋯</td><td>3.95</td><td>68.03</td><td>4.50</td><td>3.78</td><td>29.37</td><td>41.13</td><td>2.20</td><td>0.02</td><td>1.89</td><td>13.89</td></tr>\n",
              "\t<tr><th scope=row>4</th><td>5</td><td>54</td><td>LDL</td><td>0.47</td><td>7.94</td><td>0.29</td><td>0.02</td><td>1.11</td><td>3.97</td><td>2.55</td><td>⋯</td><td>4.63</td><td>66.91</td><td>4.03</td><td>4.44</td><td>28.54</td><td>40.64</td><td>1.95</td><td>0.02</td><td>2.03</td><td>14.25</td></tr>\n",
              "\t<tr><th scope=row>5</th><td>6</td><td>55</td><td>LDL</td><td>0.31</td><td>9.68</td><td>0.18</td><td>0.02</td><td>0.97</td><td>4.50</td><td>2.24</td><td>⋯</td><td>4.05</td><td>64.01</td><td>5.27</td><td>3.72</td><td>26.71</td><td>40.39</td><td>2.51</td><td>0.02</td><td>2.70</td><td>16.06</td></tr>\n",
              "\t<tr><th scope=row>6</th><td>7</td><td>56</td><td>LDL</td><td>0.30</td><td>7.32</td><td>0.22</td><td>0.02</td><td>1.12</td><td>4.19</td><td>2.37</td><td>⋯</td><td>4.10</td><td>65.99</td><td>4.70</td><td>4.03</td><td>28.44</td><td>39.99</td><td>2.33</td><td>0.02</td><td>1.61</td><td>13.82</td></tr>\n",
              "</tbody>\n",
              "</table>\n"
            ],
            "text/markdown": "\nA data.frame: 6 × 38\n\n| <!--/--> | Vial.number &lt;int&gt; | Patient.number &lt;int&gt; | Name &lt;chr&gt; | GPLDL1 &lt;dbl&gt; | GPLDL2 &lt;dbl&gt; | GPLDL3 &lt;dbl&gt; | GPLDL4 &lt;dbl&gt; | GPLDL5 &lt;dbl&gt; | GPLDL6 &lt;dbl&gt; | GPLDL7 &lt;dbl&gt; | ⋯ ⋯ | G1 &lt;dbl&gt; | G2 &lt;dbl&gt; | G3 &lt;dbl&gt; | S0 &lt;dbl&gt; | S1 &lt;dbl&gt; | S2 &lt;dbl&gt; | S3 &lt;dbl&gt; | B &lt;dbl&gt; | F &lt;dbl&gt; | HM &lt;dbl&gt; |\n|---|---|---|---|---|---|---|---|---|---|---|---|---|---|---|---|---|---|---|---|---|---|\n| 1 | 1 | 50 | LDL | 0.40 | 6.74 | 0.20 | 0.02 | 1.09 | 3.79 | 2.27 | ⋯ | 4.09 | 68.91 | 3.57 | 3.98 | 28.18 | 42.46 | 1.95 | 0.02 | 1.67 | 13.02 |\n| 2 | 3 | 52 | LDL | 0.46 | 7.37 | 0.39 | 0.02 | 1.06 | 4.55 | 2.71 | ⋯ | 5.16 | 68.22 | 3.11 | 4.64 | 30.43 | 39.86 | 1.56 | 0.02 | 1.69 | 14.16 |\n| 3 | 4 | 53 | LDL | 0.30 | 8.23 | 0.26 | 0.02 | 0.88 | 3.66 | 2.32 | ⋯ | 3.95 | 68.03 | 4.50 | 3.78 | 29.37 | 41.13 | 2.20 | 0.02 | 1.89 | 13.89 |\n| 4 | 5 | 54 | LDL | 0.47 | 7.94 | 0.29 | 0.02 | 1.11 | 3.97 | 2.55 | ⋯ | 4.63 | 66.91 | 4.03 | 4.44 | 28.54 | 40.64 | 1.95 | 0.02 | 2.03 | 14.25 |\n| 5 | 6 | 55 | LDL | 0.31 | 9.68 | 0.18 | 0.02 | 0.97 | 4.50 | 2.24 | ⋯ | 4.05 | 64.01 | 5.27 | 3.72 | 26.71 | 40.39 | 2.51 | 0.02 | 2.70 | 16.06 |\n| 6 | 7 | 56 | LDL | 0.30 | 7.32 | 0.22 | 0.02 | 1.12 | 4.19 | 2.37 | ⋯ | 4.10 | 65.99 | 4.70 | 4.03 | 28.44 | 39.99 | 2.33 | 0.02 | 1.61 | 13.82 |\n\n",
            "text/latex": "A data.frame: 6 × 38\n\\begin{tabular}{r|lllllllllllllllllllll}\n  & Vial.number & Patient.number & Name & GPLDL1 & GPLDL2 & GPLDL3 & GPLDL4 & GPLDL5 & GPLDL6 & GPLDL7 & ⋯ & G1 & G2 & G3 & S0 & S1 & S2 & S3 & B & F & HM\\\\\n  & <int> & <int> & <chr> & <dbl> & <dbl> & <dbl> & <dbl> & <dbl> & <dbl> & <dbl> & ⋯ & <dbl> & <dbl> & <dbl> & <dbl> & <dbl> & <dbl> & <dbl> & <dbl> & <dbl> & <dbl>\\\\\n\\hline\n\t1 & 1 & 50 & LDL & 0.40 & 6.74 & 0.20 & 0.02 & 1.09 & 3.79 & 2.27 & ⋯ & 4.09 & 68.91 & 3.57 & 3.98 & 28.18 & 42.46 & 1.95 & 0.02 & 1.67 & 13.02\\\\\n\t2 & 3 & 52 & LDL & 0.46 & 7.37 & 0.39 & 0.02 & 1.06 & 4.55 & 2.71 & ⋯ & 5.16 & 68.22 & 3.11 & 4.64 & 30.43 & 39.86 & 1.56 & 0.02 & 1.69 & 14.16\\\\\n\t3 & 4 & 53 & LDL & 0.30 & 8.23 & 0.26 & 0.02 & 0.88 & 3.66 & 2.32 & ⋯ & 3.95 & 68.03 & 4.50 & 3.78 & 29.37 & 41.13 & 2.20 & 0.02 & 1.89 & 13.89\\\\\n\t4 & 5 & 54 & LDL & 0.47 & 7.94 & 0.29 & 0.02 & 1.11 & 3.97 & 2.55 & ⋯ & 4.63 & 66.91 & 4.03 & 4.44 & 28.54 & 40.64 & 1.95 & 0.02 & 2.03 & 14.25\\\\\n\t5 & 6 & 55 & LDL & 0.31 & 9.68 & 0.18 & 0.02 & 0.97 & 4.50 & 2.24 & ⋯ & 4.05 & 64.01 & 5.27 & 3.72 & 26.71 & 40.39 & 2.51 & 0.02 & 2.70 & 16.06\\\\\n\t6 & 7 & 56 & LDL & 0.30 & 7.32 & 0.22 & 0.02 & 1.12 & 4.19 & 2.37 & ⋯ & 4.10 & 65.99 & 4.70 & 4.03 & 28.44 & 39.99 & 2.33 & 0.02 & 1.61 & 13.82\\\\\n\\end{tabular}\n",
            "text/plain": [
              "  Vial.number Patient.number Name GPLDL1 GPLDL2 GPLDL3 GPLDL4 GPLDL5 GPLDL6\n",
              "1 1           50             LDL  0.40   6.74   0.20   0.02   1.09   3.79  \n",
              "2 3           52             LDL  0.46   7.37   0.39   0.02   1.06   4.55  \n",
              "3 4           53             LDL  0.30   8.23   0.26   0.02   0.88   3.66  \n",
              "4 5           54             LDL  0.47   7.94   0.29   0.02   1.11   3.97  \n",
              "5 6           55             LDL  0.31   9.68   0.18   0.02   0.97   4.50  \n",
              "6 7           56             LDL  0.30   7.32   0.22   0.02   1.12   4.19  \n",
              "  GPLDL7 ⋯ G1   G2    G3   S0   S1    S2    S3   B    F    HM   \n",
              "1 2.27   ⋯ 4.09 68.91 3.57 3.98 28.18 42.46 1.95 0.02 1.67 13.02\n",
              "2 2.71   ⋯ 5.16 68.22 3.11 4.64 30.43 39.86 1.56 0.02 1.69 14.16\n",
              "3 2.32   ⋯ 3.95 68.03 4.50 3.78 29.37 41.13 2.20 0.02 1.89 13.89\n",
              "4 2.55   ⋯ 4.63 66.91 4.03 4.44 28.54 40.64 1.95 0.02 2.03 14.25\n",
              "5 2.24   ⋯ 4.05 64.01 5.27 3.72 26.71 40.39 2.51 0.02 2.70 16.06\n",
              "6 2.37   ⋯ 4.10 65.99 4.70 4.03 28.44 39.99 2.33 0.02 1.61 13.82"
            ]
          },
          "metadata": {}
        }
      ],
      "source": [
        "data_lipids_low <- read.csv('/content/low_density_lipids.tsv', header = TRUE, sep = '\\t')\n",
        "head(data_lipids_low)"
      ]
    },
    {
      "cell_type": "code",
      "source": [
        "data_lipids_high <- read.csv('/content/high_density_lipids.tsv', header = TRUE, sep = '\\t')\n",
        "head(data_lipids_high)"
      ],
      "metadata": {
        "colab": {
          "base_uri": "https://localhost:8080/",
          "height": 286
        },
        "id": "zCNTrDoWs7-w",
        "outputId": "925250bb-f688-4cf8-e482-4466b9dd811e"
      },
      "execution_count": 48,
      "outputs": [
        {
          "output_type": "display_data",
          "data": {
            "text/html": [
              "<table class=\"dataframe\">\n",
              "<caption>A data.frame: 6 × 38</caption>\n",
              "<thead>\n",
              "\t<tr><th></th><th scope=col>Vial.number</th><th scope=col>Patient.number</th><th scope=col>Name</th><th scope=col>GPHDL1</th><th scope=col>GPHDL2</th><th scope=col>GPHDL3</th><th scope=col>GPHDL4</th><th scope=col>GPHDL5</th><th scope=col>GPHDL6</th><th scope=col>GPHDL7</th><th scope=col>⋯</th><th scope=col>G1</th><th scope=col>G2</th><th scope=col>G3</th><th scope=col>S0</th><th scope=col>S1</th><th scope=col>S2</th><th scope=col>S3</th><th scope=col>B</th><th scope=col>F</th><th scope=col>HM</th></tr>\n",
              "\t<tr><th></th><th scope=col>&lt;int&gt;</th><th scope=col>&lt;int&gt;</th><th scope=col>&lt;chr&gt;</th><th scope=col>&lt;dbl&gt;</th><th scope=col>&lt;dbl&gt;</th><th scope=col>&lt;dbl&gt;</th><th scope=col>&lt;dbl&gt;</th><th scope=col>&lt;dbl&gt;</th><th scope=col>&lt;dbl&gt;</th><th scope=col>&lt;dbl&gt;</th><th scope=col>⋯</th><th scope=col>&lt;dbl&gt;</th><th scope=col>&lt;dbl&gt;</th><th scope=col>&lt;dbl&gt;</th><th scope=col>&lt;dbl&gt;</th><th scope=col>&lt;dbl&gt;</th><th scope=col>&lt;dbl&gt;</th><th scope=col>&lt;dbl&gt;</th><th scope=col>&lt;dbl&gt;</th><th scope=col>&lt;dbl&gt;</th><th scope=col>&lt;dbl&gt;</th></tr>\n",
              "</thead>\n",
              "<tbody>\n",
              "\t<tr><th scope=row>1</th><td>1</td><td>50</td><td>HDL</td><td>0.38</td><td>1.78</td><td>0.14</td><td>0.05</td><td>0.73</td><td>2.90</td><td>1.57</td><td>⋯</td><td>12.23</td><td>58.69</td><td>20.97</td><td>2.87</td><td>29.57</td><td>44.39</td><td>15.06</td><td>0.05</td><td>7.35</td><td>2.49</td></tr>\n",
              "\t<tr><th scope=row>2</th><td>3</td><td>52</td><td>HDL</td><td>0.43</td><td>1.30</td><td>0.23</td><td>0.05</td><td>0.59</td><td>2.62</td><td>1.62</td><td>⋯</td><td>11.98</td><td>57.50</td><td>21.94</td><td>2.92</td><td>29.60</td><td>43.93</td><td>14.97</td><td>0.05</td><td>8.71</td><td>1.53</td></tr>\n",
              "\t<tr><th scope=row>3</th><td>4</td><td>53</td><td>HDL</td><td>0.41</td><td>3.86</td><td>0.31</td><td>0.10</td><td>0.96</td><td>3.19</td><td>2.42</td><td>⋯</td><td>15.00</td><td>62.10</td><td>12.74</td><td>4.20</td><td>37.03</td><td>40.68</td><td> 7.93</td><td>0.10</td><td>4.81</td><td>5.08</td></tr>\n",
              "\t<tr><th scope=row>4</th><td>5</td><td>54</td><td>HDL</td><td>0.50</td><td>1.79</td><td>0.23</td><td>0.06</td><td>0.77</td><td>2.96</td><td>1.76</td><td>⋯</td><td>12.85</td><td>56.02</td><td>22.70</td><td>3.32</td><td>30.01</td><td>41.78</td><td>16.46</td><td>0.06</td><td>8.85</td><td>2.30</td></tr>\n",
              "\t<tr><th scope=row>5</th><td>6</td><td>55</td><td>HDL</td><td>0.40</td><td>3.69</td><td>0.17</td><td>0.03</td><td>0.80</td><td>3.04</td><td>1.62</td><td>⋯</td><td>13.81</td><td>59.78</td><td>16.14</td><td>3.02</td><td>33.69</td><td>42.18</td><td>10.84</td><td>0.03</td><td>7.25</td><td>4.33</td></tr>\n",
              "\t<tr><th scope=row>6</th><td>7</td><td>56</td><td>HDL</td><td>0.37</td><td>2.96</td><td>0.22</td><td>0.05</td><td>1.00</td><td>3.00</td><td>2.11</td><td>⋯</td><td>14.61</td><td>60.59</td><td>15.63</td><td>3.75</td><td>35.18</td><td>41.66</td><td>10.24</td><td>0.05</td><td>5.10</td><td>3.87</td></tr>\n",
              "</tbody>\n",
              "</table>\n"
            ],
            "text/markdown": "\nA data.frame: 6 × 38\n\n| <!--/--> | Vial.number &lt;int&gt; | Patient.number &lt;int&gt; | Name &lt;chr&gt; | GPHDL1 &lt;dbl&gt; | GPHDL2 &lt;dbl&gt; | GPHDL3 &lt;dbl&gt; | GPHDL4 &lt;dbl&gt; | GPHDL5 &lt;dbl&gt; | GPHDL6 &lt;dbl&gt; | GPHDL7 &lt;dbl&gt; | ⋯ ⋯ | G1 &lt;dbl&gt; | G2 &lt;dbl&gt; | G3 &lt;dbl&gt; | S0 &lt;dbl&gt; | S1 &lt;dbl&gt; | S2 &lt;dbl&gt; | S3 &lt;dbl&gt; | B &lt;dbl&gt; | F &lt;dbl&gt; | HM &lt;dbl&gt; |\n|---|---|---|---|---|---|---|---|---|---|---|---|---|---|---|---|---|---|---|---|---|---|\n| 1 | 1 | 50 | HDL | 0.38 | 1.78 | 0.14 | 0.05 | 0.73 | 2.90 | 1.57 | ⋯ | 12.23 | 58.69 | 20.97 | 2.87 | 29.57 | 44.39 | 15.06 | 0.05 | 7.35 | 2.49 |\n| 2 | 3 | 52 | HDL | 0.43 | 1.30 | 0.23 | 0.05 | 0.59 | 2.62 | 1.62 | ⋯ | 11.98 | 57.50 | 21.94 | 2.92 | 29.60 | 43.93 | 14.97 | 0.05 | 8.71 | 1.53 |\n| 3 | 4 | 53 | HDL | 0.41 | 3.86 | 0.31 | 0.10 | 0.96 | 3.19 | 2.42 | ⋯ | 15.00 | 62.10 | 12.74 | 4.20 | 37.03 | 40.68 |  7.93 | 0.10 | 4.81 | 5.08 |\n| 4 | 5 | 54 | HDL | 0.50 | 1.79 | 0.23 | 0.06 | 0.77 | 2.96 | 1.76 | ⋯ | 12.85 | 56.02 | 22.70 | 3.32 | 30.01 | 41.78 | 16.46 | 0.06 | 8.85 | 2.30 |\n| 5 | 6 | 55 | HDL | 0.40 | 3.69 | 0.17 | 0.03 | 0.80 | 3.04 | 1.62 | ⋯ | 13.81 | 59.78 | 16.14 | 3.02 | 33.69 | 42.18 | 10.84 | 0.03 | 7.25 | 4.33 |\n| 6 | 7 | 56 | HDL | 0.37 | 2.96 | 0.22 | 0.05 | 1.00 | 3.00 | 2.11 | ⋯ | 14.61 | 60.59 | 15.63 | 3.75 | 35.18 | 41.66 | 10.24 | 0.05 | 5.10 | 3.87 |\n\n",
            "text/latex": "A data.frame: 6 × 38\n\\begin{tabular}{r|lllllllllllllllllllll}\n  & Vial.number & Patient.number & Name & GPHDL1 & GPHDL2 & GPHDL3 & GPHDL4 & GPHDL5 & GPHDL6 & GPHDL7 & ⋯ & G1 & G2 & G3 & S0 & S1 & S2 & S3 & B & F & HM\\\\\n  & <int> & <int> & <chr> & <dbl> & <dbl> & <dbl> & <dbl> & <dbl> & <dbl> & <dbl> & ⋯ & <dbl> & <dbl> & <dbl> & <dbl> & <dbl> & <dbl> & <dbl> & <dbl> & <dbl> & <dbl>\\\\\n\\hline\n\t1 & 1 & 50 & HDL & 0.38 & 1.78 & 0.14 & 0.05 & 0.73 & 2.90 & 1.57 & ⋯ & 12.23 & 58.69 & 20.97 & 2.87 & 29.57 & 44.39 & 15.06 & 0.05 & 7.35 & 2.49\\\\\n\t2 & 3 & 52 & HDL & 0.43 & 1.30 & 0.23 & 0.05 & 0.59 & 2.62 & 1.62 & ⋯ & 11.98 & 57.50 & 21.94 & 2.92 & 29.60 & 43.93 & 14.97 & 0.05 & 8.71 & 1.53\\\\\n\t3 & 4 & 53 & HDL & 0.41 & 3.86 & 0.31 & 0.10 & 0.96 & 3.19 & 2.42 & ⋯ & 15.00 & 62.10 & 12.74 & 4.20 & 37.03 & 40.68 &  7.93 & 0.10 & 4.81 & 5.08\\\\\n\t4 & 5 & 54 & HDL & 0.50 & 1.79 & 0.23 & 0.06 & 0.77 & 2.96 & 1.76 & ⋯ & 12.85 & 56.02 & 22.70 & 3.32 & 30.01 & 41.78 & 16.46 & 0.06 & 8.85 & 2.30\\\\\n\t5 & 6 & 55 & HDL & 0.40 & 3.69 & 0.17 & 0.03 & 0.80 & 3.04 & 1.62 & ⋯ & 13.81 & 59.78 & 16.14 & 3.02 & 33.69 & 42.18 & 10.84 & 0.03 & 7.25 & 4.33\\\\\n\t6 & 7 & 56 & HDL & 0.37 & 2.96 & 0.22 & 0.05 & 1.00 & 3.00 & 2.11 & ⋯ & 14.61 & 60.59 & 15.63 & 3.75 & 35.18 & 41.66 & 10.24 & 0.05 & 5.10 & 3.87\\\\\n\\end{tabular}\n",
            "text/plain": [
              "  Vial.number Patient.number Name GPHDL1 GPHDL2 GPHDL3 GPHDL4 GPHDL5 GPHDL6\n",
              "1 1           50             HDL  0.38   1.78   0.14   0.05   0.73   2.90  \n",
              "2 3           52             HDL  0.43   1.30   0.23   0.05   0.59   2.62  \n",
              "3 4           53             HDL  0.41   3.86   0.31   0.10   0.96   3.19  \n",
              "4 5           54             HDL  0.50   1.79   0.23   0.06   0.77   2.96  \n",
              "5 6           55             HDL  0.40   3.69   0.17   0.03   0.80   3.04  \n",
              "6 7           56             HDL  0.37   2.96   0.22   0.05   1.00   3.00  \n",
              "  GPHDL7 ⋯ G1    G2    G3    S0   S1    S2    S3    B    F    HM  \n",
              "1 1.57   ⋯ 12.23 58.69 20.97 2.87 29.57 44.39 15.06 0.05 7.35 2.49\n",
              "2 1.62   ⋯ 11.98 57.50 21.94 2.92 29.60 43.93 14.97 0.05 8.71 1.53\n",
              "3 2.42   ⋯ 15.00 62.10 12.74 4.20 37.03 40.68  7.93 0.10 4.81 5.08\n",
              "4 1.76   ⋯ 12.85 56.02 22.70 3.32 30.01 41.78 16.46 0.06 8.85 2.30\n",
              "5 1.62   ⋯ 13.81 59.78 16.14 3.02 33.69 42.18 10.84 0.03 7.25 4.33\n",
              "6 2.11   ⋯ 14.61 60.59 15.63 3.75 35.18 41.66 10.24 0.05 5.10 3.87"
            ]
          },
          "metadata": {}
        }
      ]
    },
    {
      "cell_type": "code",
      "source": [
        "dim(data_lipids_high)"
      ],
      "metadata": {
        "colab": {
          "base_uri": "https://localhost:8080/",
          "height": 34
        },
        "id": "AT4pNY4hw9pn",
        "outputId": "ef88d0ba-c630-4e44-c9c3-b3b7419a5f8b"
      },
      "execution_count": 49,
      "outputs": [
        {
          "output_type": "display_data",
          "data": {
            "text/html": [
              "<style>\n",
              ".list-inline {list-style: none; margin:0; padding: 0}\n",
              ".list-inline>li {display: inline-block}\n",
              ".list-inline>li:not(:last-child)::after {content: \"\\00b7\"; padding: 0 .5ex}\n",
              "</style>\n",
              "<ol class=list-inline><li>27</li><li>38</li></ol>\n"
            ],
            "text/markdown": "1. 27\n2. 38\n\n\n",
            "text/latex": "\\begin{enumerate*}\n\\item 27\n\\item 38\n\\end{enumerate*}\n",
            "text/plain": [
              "[1] 27 38"
            ]
          },
          "metadata": {}
        }
      ]
    },
    {
      "cell_type": "code",
      "source": [
        "dim(data_lipids_low)"
      ],
      "metadata": {
        "colab": {
          "base_uri": "https://localhost:8080/",
          "height": 34
        },
        "id": "2k5FBXVVxLPn",
        "outputId": "f3366cd3-507d-4775-da25-f238b260ca76"
      },
      "execution_count": 50,
      "outputs": [
        {
          "output_type": "display_data",
          "data": {
            "text/html": [
              "<style>\n",
              ".list-inline {list-style: none; margin:0; padding: 0}\n",
              ".list-inline>li {display: inline-block}\n",
              ".list-inline>li:not(:last-child)::after {content: \"\\00b7\"; padding: 0 .5ex}\n",
              "</style>\n",
              "<ol class=list-inline><li>29</li><li>38</li></ol>\n"
            ],
            "text/markdown": "1. 29\n2. 38\n\n\n",
            "text/latex": "\\begin{enumerate*}\n\\item 29\n\\item 38\n\\end{enumerate*}\n",
            "text/plain": [
              "[1] 29 38"
            ]
          },
          "metadata": {}
        }
      ]
    },
    {
      "cell_type": "code",
      "source": [
        "library(tidyverse)"
      ],
      "metadata": {
        "id": "1U_0aqh_0IeL"
      },
      "execution_count": 51,
      "outputs": []
    },
    {
      "cell_type": "code",
      "source": [
        "data_lipids_high <- data_lipids_high %>% select_if(is.numeric)\n",
        "data_lipids_low <- data_lipids_low %>% select_if(is.numeric)"
      ],
      "metadata": {
        "id": "dH1eqQ2Oz9L0"
      },
      "execution_count": 52,
      "outputs": []
    },
    {
      "cell_type": "code",
      "source": [
        "analyze_features <- function(high, low) {\n",
        "  # Тест на нормальное распределение\n",
        "  shapiro_p_high <- shapiro.test(high)$p.value\n",
        "  shapiro_p_low <- shapiro.test(low)$p.value\n",
        "\n",
        "  cat(\"\\tТест Шапиро-Улка p-values - При высокой:\", shapiro_p_high, \"При низкой:\", shapiro_p_low, \"\\n\")\n",
        "\n",
        "  # Признак нормального распределения\n",
        "  normal_dist_high <- shapiro_p_high > 0.05\n",
        "  normal_dist_low <- shapiro_p_low > 0.05\n",
        "\n",
        "  if (result$normal_dist) {\n",
        "    cat(\"\\tВыборки при высокой и при низкой концентрации нормально распределены.\\n\")\n",
        "  } else {\n",
        "    cat(\"\\tОдна из выборок имеет распределение отличное от нормального.\\n\")\n",
        "  }\n",
        "\n",
        "  if (normal_dist_high) {\n",
        "    cat(\"\\t\\tВыборка при высокой концентрации липидов нормально распределена.\\n\")\n",
        "  } else {\n",
        "    cat(\"\\t\\tРаспределение выборки при высокой концентрации липидов отлично от нормального.\\n\")\n",
        "  }\n",
        "\n",
        "  if (normal_dist_low) {\n",
        "    cat(\"\\t\\tВыборка при низкой концентрации липидов нормально распределена.\\n\")\n",
        "  } else {\n",
        "    cat(\"\\t\\tРаспределение выборки при низкой концентрации липидов отлично от нормального.\\n\")\n",
        "  }\n",
        "\n",
        "  # Устанавливаем признак при условии нормального распределения признака в обоих наборах\n",
        "  normal_dist <- normal_dist_high & normal_dist_low\n",
        "\n",
        "  # Выбираем соответствующий тест на основе признака нормального распределения\n",
        "  if (normal_dist) {\n",
        "    test <- t.test(high, low, paired = FALSE)\n",
        "    test_name <- \"\\tt-test для независимых выборок\"\n",
        "  } else {\n",
        "    # Проверка на наличие \"хвостов\"\n",
        "    if (length(unique(c(high, low))) < length(c(high, low))) {\n",
        "      # Обнаружен - используем приближённый метод\n",
        "      test <- wilcox.test(high, low, paired = FALSE, exact = FALSE)\n",
        "    } else {\n",
        "      # Не обнаружен - используем точный метод\n",
        "      test <- wilcox.test(high, low, paired = FALSE, exact = TRUE)\n",
        "    }\n",
        "    test_name <- \"\\tМанн-Уитни U тест\"\n",
        "  }\n",
        "\n",
        "  # Output test results\n",
        "  cat(\"\\tТест:\", test_name, \"\\n\")\n",
        "\n",
        "  if (test$p.value < 0.05) {\n",
        "    cat(\"\\tОбнаружены статистически значимые различия (p-value:\", test$p.value, \").\\n\")\n",
        "  } else {\n",
        "    cat(\"\\tСтатистически значимые различия не обнаружены (p-value:\", test$p.value, \").\\n\")\n",
        "  }\n",
        "\n",
        "  return(list(shapiro_p_high = shapiro_p_high, shapiro_p_low = shapiro_p_low, normal_dist = normal_dist, test = test))\n",
        "}"
      ],
      "metadata": {
        "id": "TLEPy-WY86ZO"
      },
      "execution_count": 53,
      "outputs": []
    },
    {
      "cell_type": "code",
      "source": [
        "results <- list()"
      ],
      "metadata": {
        "id": "9PUXHWHlxm9X"
      },
      "execution_count": 54,
      "outputs": []
    },
    {
      "cell_type": "code",
      "source": [
        "for (feature in intersect(colnames(data_lipids_high), colnames(data_lipids_low))) {\n",
        "  cat(\"\\nПризнак:\", feature, \"\\n\")\n",
        "  result <- analyze_features(data_lipids_high[[feature]], data_lipids_low[[feature]])\n",
        "  results[[feature]] <- result\n",
        "}"
      ],
      "metadata": {
        "colab": {
          "base_uri": "https://localhost:8080/"
        },
        "id": "Z34l0gpAxsch",
        "outputId": "345375cc-6da0-4e84-8314-0898352e8834"
      },
      "execution_count": 55,
      "outputs": [
        {
          "output_type": "stream",
          "name": "stdout",
          "text": [
            "\n",
            "Признак: Vial.number \n",
            "\tТест Шапиро-Улка p-values - При высокой: 0.1975493 При низкой: 0.3478493 \n",
            "\tВыборки при высокой и при низкой концентрации нормально распределены.\n",
            "\t\tВыборка при высокой концентрации липидов нормально распределена.\n",
            "\t\tВыборка при низкой концентрации липидов нормально распределена.\n",
            "\tТест: \tt-test для независимых выборок \n",
            "\tСтатистически значимые различия не обнаружены (p-value: 0.9464788 ).\n",
            "\n",
            "Признак: Patient.number \n",
            "\tТест Шапиро-Улка p-values - При высокой: 0.09027712 При низкой: 0.1004768 \n",
            "\tВыборки при высокой и при низкой концентрации нормально распределены.\n",
            "\t\tВыборка при высокой концентрации липидов нормально распределена.\n",
            "\t\tВыборка при низкой концентрации липидов нормально распределена.\n",
            "\tТест: \tt-test для независимых выборок \n",
            "\tСтатистически значимые различия не обнаружены (p-value: 0.9069878 ).\n",
            "\n",
            "Признак: sum_auc \n",
            "\tТест Шапиро-Улка p-values - При высокой: 0.003114371 При низкой: 0.03453072 \n",
            "\tВыборки при высокой и при низкой концентрации нормально распределены.\n",
            "\t\tРаспределение выборки при высокой концентрации липидов отлично от нормального.\n",
            "\t\tРаспределение выборки при низкой концентрации липидов отлично от нормального.\n",
            "\tТест: \tМанн-Уитни U тест \n",
            "\tСтатистически значимые различия не обнаружены (p-value: 0.08114776 ).\n",
            "\n",
            "Признак: LB \n",
            "\tТест Шапиро-Улка p-values - При высокой: 0.8683623 При низкой: 0.04648721 \n",
            "\tОдна из выборок имеет распределение отличное от нормального.\n",
            "\t\tВыборка при высокой концентрации липидов нормально распределена.\n",
            "\t\tРаспределение выборки при низкой концентрации липидов отлично от нормального.\n",
            "\tТест: \tМанн-Уитни U тест \n",
            "\tОбнаружены статистически значимые различия (p-value: 0.001201042 ).\n",
            "\n",
            "Признак: HB \n",
            "\tТест Шапиро-Улка p-values - При высокой: 0.8295789 При низкой: 0.4040412 \n",
            "\tОдна из выборок имеет распределение отличное от нормального.\n",
            "\t\tВыборка при высокой концентрации липидов нормально распределена.\n",
            "\t\tВыборка при низкой концентрации липидов нормально распределена.\n",
            "\tТест: \tt-test для независимых выборок \n",
            "\tОбнаружены статистически значимые различия (p-value: 1.171773e-23 ).\n",
            "\n",
            "Признак: G1 \n",
            "\tТест Шапиро-Улка p-values - При высокой: 0.2651927 При низкой: 0.1959585 \n",
            "\tВыборки при высокой и при низкой концентрации нормально распределены.\n",
            "\t\tВыборка при высокой концентрации липидов нормально распределена.\n",
            "\t\tВыборка при низкой концентрации липидов нормально распределена.\n",
            "\tТест: \tt-test для независимых выборок \n",
            "\tОбнаружены статистически значимые различия (p-value: 3.980413e-33 ).\n",
            "\n",
            "Признак: G2 \n",
            "\tТест Шапиро-Улка p-values - При высокой: 0.1420733 При низкой: 0.1566199 \n",
            "\tВыборки при высокой и при низкой концентрации нормально распределены.\n",
            "\t\tВыборка при высокой концентрации липидов нормально распределена.\n",
            "\t\tВыборка при низкой концентрации липидов нормально распределена.\n",
            "\tТест: \tt-test для независимых выборок \n",
            "\tОбнаружены статистически значимые различия (p-value: 2.650475e-30 ).\n",
            "\n",
            "Признак: G3 \n",
            "\tТест Шапиро-Улка p-values - При высокой: 0.7180348 При низкой: 0.4040412 \n",
            "\tВыборки при высокой и при низкой концентрации нормально распределены.\n",
            "\t\tВыборка при высокой концентрации липидов нормально распределена.\n",
            "\t\tВыборка при низкой концентрации липидов нормально распределена.\n",
            "\tТест: \tt-test для независимых выборок \n",
            "\tОбнаружены статистически значимые различия (p-value: 3.235194e-23 ).\n",
            "\n",
            "Признак: S0 \n",
            "\tТест Шапиро-Улка p-values - При высокой: 0.01297343 При низкой: 0.8638597 \n",
            "\tВыборки при высокой и при низкой концентрации нормально распределены.\n",
            "\t\tРаспределение выборки при высокой концентрации липидов отлично от нормального.\n",
            "\t\tВыборка при низкой концентрации липидов нормально распределена.\n",
            "\tТест: \tМанн-Уитни U тест \n",
            "\tОбнаружены статистически значимые различия (p-value: 0.0006472796 ).\n",
            "\n",
            "Признак: S1 \n",
            "\tТест Шапиро-Улка p-values - При высокой: 0.2340101 При низкой: 0.006482054 \n",
            "\tОдна из выборок имеет распределение отличное от нормального.\n",
            "\t\tВыборка при высокой концентрации липидов нормально распределена.\n",
            "\t\tРаспределение выборки при низкой концентрации липидов отлично от нормального.\n",
            "\tТест: \tМанн-Уитни U тест \n",
            "\tОбнаружены статистически значимые различия (p-value: 8.625949e-09 ).\n",
            "\n",
            "Признак: S2 \n",
            "\tТест Шапиро-Улка p-values - При высокой: 0.3217928 При низкой: 0.0187255 \n",
            "\tОдна из выборок имеет распределение отличное от нормального.\n",
            "\t\tВыборка при высокой концентрации липидов нормально распределена.\n",
            "\t\tРаспределение выборки при низкой концентрации липидов отлично от нормального.\n",
            "\tТест: \tМанн-Уитни U тест \n",
            "\tОбнаружены статистически значимые различия (p-value: 0.001836084 ).\n",
            "\n",
            "Признак: S3 \n",
            "\tТест Шапиро-Улка p-values - При высокой: 0.6811195 При низкой: 0.2765694 \n",
            "\tОдна из выборок имеет распределение отличное от нормального.\n",
            "\t\tВыборка при высокой концентрации липидов нормально распределена.\n",
            "\t\tВыборка при низкой концентрации липидов нормально распределена.\n",
            "\tТест: \tt-test для независимых выборок \n",
            "\tОбнаружены статистически значимые различия (p-value: 2.528603e-20 ).\n",
            "\n",
            "Признак: B \n",
            "\tТест Шапиро-Улка p-values - При высокой: 0.000775512 При низкой: 6.062173e-06 \n",
            "\tВыборки при высокой и при низкой концентрации нормально распределены.\n",
            "\t\tРаспределение выборки при высокой концентрации липидов отлично от нормального.\n",
            "\t\tРаспределение выборки при низкой концентрации липидов отлично от нормального.\n",
            "\tТест: \tМанн-Уитни U тест \n",
            "\tОбнаружены статистически значимые различия (p-value: 3.658192e-09 ).\n",
            "\n",
            "Признак: F \n",
            "\tТест Шапиро-Улка p-values - При высокой: 0.8504748 При низкой: 0.5618462 \n",
            "\tОдна из выборок имеет распределение отличное от нормального.\n",
            "\t\tВыборка при высокой концентрации липидов нормально распределена.\n",
            "\t\tВыборка при низкой концентрации липидов нормально распределена.\n",
            "\tТест: \tt-test для независимых выборок \n",
            "\tОбнаружены статистически значимые различия (p-value: 1.578388e-17 ).\n",
            "\n",
            "Признак: HM \n",
            "\tТест Шапиро-Улка p-values - При высокой: 0.802762 При низкой: 0.2124045 \n",
            "\tВыборки при высокой и при низкой концентрации нормально распределены.\n",
            "\t\tВыборка при высокой концентрации липидов нормально распределена.\n",
            "\t\tВыборка при низкой концентрации липидов нормально распределена.\n",
            "\tТест: \tt-test для независимых выборок \n",
            "\tОбнаружены статистически значимые различия (p-value: 4.740096e-47 ).\n"
          ]
        }
      ]
    },
    {
      "cell_type": "code",
      "source": [],
      "metadata": {
        "id": "qtajoYqa-iFU"
      },
      "execution_count": 56,
      "outputs": []
    }
  ]
}