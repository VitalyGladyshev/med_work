{
  "cells": [
    {
      "cell_type": "markdown",
      "metadata": {
        "id": "view-in-github",
        "colab_type": "text"
      },
      "source": [
        "<a href=\"https://colab.research.google.com/github/VitalyGladyshev/med_work/blob/main/%D0%93%D0%BB%D0%B0%D0%B4%D1%8B%D1%88%D0%B5%D0%B2%D0%92%D0%92_HW5_PyHealth_Length_Stay_Prediction.ipynb\" target=\"_parent\"><img src=\"https://colab.research.google.com/assets/colab-badge.svg\" alt=\"Open In Colab\"/></a>"
      ]
    },
    {
      "cell_type": "markdown",
      "source": [
        "# ДЗ 5 ГладышевВВ"
      ],
      "metadata": {
        "id": "GAITFWM_RCpI"
      }
    },
    {
      "cell_type": "code",
      "execution_count": 2,
      "metadata": {
        "id": "Dbz1YJ2nqOSN",
        "colab": {
          "base_uri": "https://localhost:8080/"
        },
        "outputId": "46fb65a2-5670-4326-92b2-791daa5fc36f"
      },
      "outputs": [
        {
          "output_type": "stream",
          "name": "stdout",
          "text": [
            "Requirement already satisfied: pyhealth in /usr/local/lib/python3.10/dist-packages (1.1.6)\n",
            "Requirement already satisfied: torch>=1.8.0 in /usr/local/lib/python3.10/dist-packages (from pyhealth) (2.3.0+cu121)\n",
            "Requirement already satisfied: torchvision>=0.9.0 in /usr/local/lib/python3.10/dist-packages (from pyhealth) (0.18.0+cu121)\n",
            "Requirement already satisfied: rdkit>=2022.03.4 in /usr/local/lib/python3.10/dist-packages (from pyhealth) (2023.9.6)\n",
            "Requirement already satisfied: scikit-learn>=0.24.2 in /usr/local/lib/python3.10/dist-packages (from pyhealth) (1.2.2)\n",
            "Requirement already satisfied: networkx>=2.6.3 in /usr/local/lib/python3.10/dist-packages (from pyhealth) (3.3)\n",
            "Requirement already satisfied: pandas<2,>=1.3.2 in /usr/local/lib/python3.10/dist-packages (from pyhealth) (1.5.3)\n",
            "Requirement already satisfied: pandarallel>=1.5.3 in /usr/local/lib/python3.10/dist-packages (from pyhealth) (1.6.5)\n",
            "Requirement already satisfied: mne>=1.0.3 in /usr/local/lib/python3.10/dist-packages (from pyhealth) (1.7.1)\n",
            "Requirement already satisfied: urllib3<=1.26.15 in /usr/local/lib/python3.10/dist-packages (from pyhealth) (1.26.15)\n",
            "Requirement already satisfied: numpy in /usr/local/lib/python3.10/dist-packages (from pyhealth) (1.25.2)\n",
            "Requirement already satisfied: tqdm in /usr/local/lib/python3.10/dist-packages (from pyhealth) (4.66.4)\n",
            "Requirement already satisfied: decorator in /usr/local/lib/python3.10/dist-packages (from mne>=1.0.3->pyhealth) (4.4.2)\n",
            "Requirement already satisfied: jinja2 in /usr/local/lib/python3.10/dist-packages (from mne>=1.0.3->pyhealth) (3.1.4)\n",
            "Requirement already satisfied: lazy-loader>=0.3 in /usr/local/lib/python3.10/dist-packages (from mne>=1.0.3->pyhealth) (0.4)\n",
            "Requirement already satisfied: matplotlib>=3.5.0 in /usr/local/lib/python3.10/dist-packages (from mne>=1.0.3->pyhealth) (3.7.1)\n",
            "Requirement already satisfied: packaging in /usr/local/lib/python3.10/dist-packages (from mne>=1.0.3->pyhealth) (24.1)\n",
            "Requirement already satisfied: pooch>=1.5 in /usr/local/lib/python3.10/dist-packages (from mne>=1.0.3->pyhealth) (1.8.2)\n",
            "Requirement already satisfied: scipy>=1.7.1 in /usr/local/lib/python3.10/dist-packages (from mne>=1.0.3->pyhealth) (1.11.4)\n",
            "Requirement already satisfied: dill>=0.3.1 in /usr/local/lib/python3.10/dist-packages (from pandarallel>=1.5.3->pyhealth) (0.3.8)\n",
            "Requirement already satisfied: psutil in /usr/local/lib/python3.10/dist-packages (from pandarallel>=1.5.3->pyhealth) (5.9.5)\n",
            "Requirement already satisfied: python-dateutil>=2.8.1 in /usr/local/lib/python3.10/dist-packages (from pandas<2,>=1.3.2->pyhealth) (2.8.2)\n",
            "Requirement already satisfied: pytz>=2020.1 in /usr/local/lib/python3.10/dist-packages (from pandas<2,>=1.3.2->pyhealth) (2023.4)\n",
            "Requirement already satisfied: Pillow in /usr/local/lib/python3.10/dist-packages (from rdkit>=2022.03.4->pyhealth) (9.4.0)\n",
            "Requirement already satisfied: joblib>=1.1.1 in /usr/local/lib/python3.10/dist-packages (from scikit-learn>=0.24.2->pyhealth) (1.4.2)\n",
            "Requirement already satisfied: threadpoolctl>=2.0.0 in /usr/local/lib/python3.10/dist-packages (from scikit-learn>=0.24.2->pyhealth) (3.5.0)\n",
            "Requirement already satisfied: filelock in /usr/local/lib/python3.10/dist-packages (from torch>=1.8.0->pyhealth) (3.14.0)\n",
            "Requirement already satisfied: typing-extensions>=4.8.0 in /usr/local/lib/python3.10/dist-packages (from torch>=1.8.0->pyhealth) (4.12.2)\n",
            "Requirement already satisfied: sympy in /usr/local/lib/python3.10/dist-packages (from torch>=1.8.0->pyhealth) (1.12.1)\n",
            "Requirement already satisfied: fsspec in /usr/local/lib/python3.10/dist-packages (from torch>=1.8.0->pyhealth) (2023.6.0)\n",
            "Requirement already satisfied: nvidia-cuda-nvrtc-cu12==12.1.105 in /usr/local/lib/python3.10/dist-packages (from torch>=1.8.0->pyhealth) (12.1.105)\n",
            "Requirement already satisfied: nvidia-cuda-runtime-cu12==12.1.105 in /usr/local/lib/python3.10/dist-packages (from torch>=1.8.0->pyhealth) (12.1.105)\n",
            "Requirement already satisfied: nvidia-cuda-cupti-cu12==12.1.105 in /usr/local/lib/python3.10/dist-packages (from torch>=1.8.0->pyhealth) (12.1.105)\n",
            "Requirement already satisfied: nvidia-cudnn-cu12==8.9.2.26 in /usr/local/lib/python3.10/dist-packages (from torch>=1.8.0->pyhealth) (8.9.2.26)\n",
            "Requirement already satisfied: nvidia-cublas-cu12==12.1.3.1 in /usr/local/lib/python3.10/dist-packages (from torch>=1.8.0->pyhealth) (12.1.3.1)\n",
            "Requirement already satisfied: nvidia-cufft-cu12==11.0.2.54 in /usr/local/lib/python3.10/dist-packages (from torch>=1.8.0->pyhealth) (11.0.2.54)\n",
            "Requirement already satisfied: nvidia-curand-cu12==10.3.2.106 in /usr/local/lib/python3.10/dist-packages (from torch>=1.8.0->pyhealth) (10.3.2.106)\n",
            "Requirement already satisfied: nvidia-cusolver-cu12==11.4.5.107 in /usr/local/lib/python3.10/dist-packages (from torch>=1.8.0->pyhealth) (11.4.5.107)\n",
            "Requirement already satisfied: nvidia-cusparse-cu12==12.1.0.106 in /usr/local/lib/python3.10/dist-packages (from torch>=1.8.0->pyhealth) (12.1.0.106)\n",
            "Requirement already satisfied: nvidia-nccl-cu12==2.20.5 in /usr/local/lib/python3.10/dist-packages (from torch>=1.8.0->pyhealth) (2.20.5)\n",
            "Requirement already satisfied: nvidia-nvtx-cu12==12.1.105 in /usr/local/lib/python3.10/dist-packages (from torch>=1.8.0->pyhealth) (12.1.105)\n",
            "Requirement already satisfied: triton==2.3.0 in /usr/local/lib/python3.10/dist-packages (from torch>=1.8.0->pyhealth) (2.3.0)\n",
            "Requirement already satisfied: nvidia-nvjitlink-cu12 in /usr/local/lib/python3.10/dist-packages (from nvidia-cusolver-cu12==11.4.5.107->torch>=1.8.0->pyhealth) (12.5.40)\n",
            "Requirement already satisfied: contourpy>=1.0.1 in /usr/local/lib/python3.10/dist-packages (from matplotlib>=3.5.0->mne>=1.0.3->pyhealth) (1.2.1)\n",
            "Requirement already satisfied: cycler>=0.10 in /usr/local/lib/python3.10/dist-packages (from matplotlib>=3.5.0->mne>=1.0.3->pyhealth) (0.12.1)\n",
            "Requirement already satisfied: fonttools>=4.22.0 in /usr/local/lib/python3.10/dist-packages (from matplotlib>=3.5.0->mne>=1.0.3->pyhealth) (4.53.0)\n",
            "Requirement already satisfied: kiwisolver>=1.0.1 in /usr/local/lib/python3.10/dist-packages (from matplotlib>=3.5.0->mne>=1.0.3->pyhealth) (1.4.5)\n",
            "Requirement already satisfied: pyparsing>=2.3.1 in /usr/local/lib/python3.10/dist-packages (from matplotlib>=3.5.0->mne>=1.0.3->pyhealth) (3.1.2)\n",
            "Requirement already satisfied: platformdirs>=2.5.0 in /usr/local/lib/python3.10/dist-packages (from pooch>=1.5->mne>=1.0.3->pyhealth) (4.2.2)\n",
            "Requirement already satisfied: requests>=2.19.0 in /usr/local/lib/python3.10/dist-packages (from pooch>=1.5->mne>=1.0.3->pyhealth) (2.31.0)\n",
            "Requirement already satisfied: six>=1.5 in /usr/local/lib/python3.10/dist-packages (from python-dateutil>=2.8.1->pandas<2,>=1.3.2->pyhealth) (1.16.0)\n",
            "Requirement already satisfied: MarkupSafe>=2.0 in /usr/local/lib/python3.10/dist-packages (from jinja2->mne>=1.0.3->pyhealth) (2.1.5)\n",
            "Requirement already satisfied: mpmath<1.4.0,>=1.1.0 in /usr/local/lib/python3.10/dist-packages (from sympy->torch>=1.8.0->pyhealth) (1.3.0)\n",
            "Requirement already satisfied: charset-normalizer<4,>=2 in /usr/local/lib/python3.10/dist-packages (from requests>=2.19.0->pooch>=1.5->mne>=1.0.3->pyhealth) (3.3.2)\n",
            "Requirement already satisfied: idna<4,>=2.5 in /usr/local/lib/python3.10/dist-packages (from requests>=2.19.0->pooch>=1.5->mne>=1.0.3->pyhealth) (3.7)\n",
            "Requirement already satisfied: certifi>=2017.4.17 in /usr/local/lib/python3.10/dist-packages (from requests>=2.19.0->pooch>=1.5->mne>=1.0.3->pyhealth) (2024.6.2)\n"
          ]
        }
      ],
      "source": [
        "!pip install pyhealth"
      ]
    },
    {
      "cell_type": "markdown",
      "source": [
        "### **Step 1: Load dataset**\n",
        "- **[README]:** We call [pyhealth.datasets](https://pyhealth.readthedocs.io/en/latest/api/datasets.html) to process and obtain the dataset.\n",
        "  - `root` is the arguments directing to the data folder.\n",
        "  - `tables` is a list of table names from raw databases, which specifies the information that will be used in building the pipeline. Currently, we provide [MIMIC3Dataset](https://pyhealth.readthedocs.io/en/latest/api/datasets/pyhealth.datasets.MIMIC3Dataset.html), [MIMIC4Dataset](https://pyhealth.readthedocs.io/en/latest/api/datasets/pyhealth.datasets.MIMIC4Dataset.html), [eICUDataset](https://pyhealth.readthedocs.io/en/latest/api/datasets/pyhealth.datasets.eICUDataset.html), [OMOPDataset](https://pyhealth.readthedocs.io/en/latest/api/datasets/pyhealth.datasets.OMOPDataset.html).\n",
        "  - `code_mapping [default: None]` asks a directionary input, specifying the new coding systems for each data table. For example, `{\"NDC\": (\"ATC\", {\"target_kwargs\": {\"level\": 3}})}` means that our pyhealth will automatically change the codings from `NDC` into ATC-3 level for tables if any.\n",
        "  - `dev`: if set `True`, will only load a smaller set of patients.\n",
        "- **[Next Step]:** This `pyhealth.datasets` object will be used in **Step 2**."
      ],
      "metadata": {
        "id": "_1S5rqae7FhB"
      }
    },
    {
      "cell_type": "code",
      "source": [
        "from pyhealth.datasets import MIMIC3Dataset\n",
        "\n",
        "mimic3_ds = MIMIC3Dataset(\n",
        "        root=\"https://storage.googleapis.com/pyhealth/Synthetic_MIMIC-III/\",\n",
        "        tables=[\"DIAGNOSES_ICD\", \"PROCEDURES_ICD\", \"PRESCRIPTIONS\"],\n",
        "        code_mapping={},\n",
        "        dev=True,\n",
        ")\n",
        "\n",
        "mimic3_ds.stat()"
      ],
      "metadata": {
        "id": "5qKMacix0RE_",
        "colab": {
          "base_uri": "https://localhost:8080/",
          "height": 365
        },
        "outputId": "0dc3ba2d-e3b4-4c7e-9b84-b5d99bb060c7"
      },
      "execution_count": 3,
      "outputs": [
        {
          "output_type": "stream",
          "name": "stdout",
          "text": [
            "INFO: Pandarallel will run on 1 workers.\n",
            "INFO: Pandarallel will use Memory file system to transfer data between the main process and workers.\n",
            "finish basic patient information parsing : 3.5160646438598633s\n",
            "finish parsing DIAGNOSES_ICD : 2.3197708129882812s\n",
            "finish parsing PROCEDURES_ICD : 1.7691106796264648s\n",
            "finish parsing PRESCRIPTIONS : 13.34662914276123s\n"
          ]
        },
        {
          "output_type": "stream",
          "name": "stderr",
          "text": [
            "Mapping codes: 100%|██████████| 1000/1000 [00:00<00:00, 18732.43it/s]\n"
          ]
        },
        {
          "output_type": "stream",
          "name": "stdout",
          "text": [
            "\n",
            "Statistics of base dataset (dev=True):\n",
            "\t- Dataset: MIMIC3Dataset\n",
            "\t- Number of patients: 1000\n",
            "\t- Number of visits: 1054\n",
            "\t- Number of visits per patient: 1.0540\n",
            "\t- Number of events per visit in DIAGNOSES_ICD: 9.2068\n",
            "\t- Number of events per visit in PROCEDURES_ICD: 3.0380\n",
            "\t- Number of events per visit in PRESCRIPTIONS: 29.2457\n",
            "\n"
          ]
        },
        {
          "output_type": "execute_result",
          "data": {
            "text/plain": [
              "'\\nStatistics of base dataset (dev=True):\\n\\t- Dataset: MIMIC3Dataset\\n\\t- Number of patients: 1000\\n\\t- Number of visits: 1054\\n\\t- Number of visits per patient: 1.0540\\n\\t- Number of events per visit in DIAGNOSES_ICD: 9.2068\\n\\t- Number of events per visit in PROCEDURES_ICD: 3.0380\\n\\t- Number of events per visit in PRESCRIPTIONS: 29.2457\\n'"
            ],
            "application/vnd.google.colaboratory.intrinsic+json": {
              "type": "string"
            }
          },
          "metadata": {},
          "execution_count": 3
        }
      ]
    },
    {
      "cell_type": "code",
      "source": [
        "# data format\n",
        "mimic3_ds.info()"
      ],
      "metadata": {
        "colab": {
          "base_uri": "https://localhost:8080/"
        },
        "id": "aEKInKh1KEa4",
        "outputId": "4d6ac231-22db-4610-fc1e-c4ea55dc86e9"
      },
      "execution_count": 4,
      "outputs": [
        {
          "output_type": "stream",
          "name": "stdout",
          "text": [
            "\n",
            "dataset.patients: patient_id -> <Patient>\n",
            "\n",
            "<Patient>\n",
            "    - visits: visit_id -> <Visit> \n",
            "    - other patient-level info\n",
            "    \n",
            "    <Visit>\n",
            "        - event_list_dict: table_name -> List[Event]\n",
            "        - other visit-level info\n",
            "    \n",
            "        <Event>\n",
            "            - code: str\n",
            "            - other event-level info\n",
            "\n"
          ]
        }
      ]
    },
    {
      "cell_type": "markdown",
      "source": [
        "![image.png](data:image/png;base64,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)"
      ],
      "metadata": {
        "id": "yaympKbp7rXE"
      }
    },
    {
      "cell_type": "code",
      "source": [
        "# mimic3_ds.patients\n",
        "# mimic3_ds.patients['947']\n",
        "# mimic3_ds.patients['947'].visits\n",
        "# mimic3_ds.patients['947'].visits['100999']\n",
        "# mimic3_ds.patients['947'].visits['100999'].get_code_list('DIAGNOSES_ICD')"
      ],
      "metadata": {
        "id": "ApDuXePWzwRA"
      },
      "execution_count": 5,
      "outputs": []
    },
    {
      "cell_type": "markdown",
      "source": [
        "### **Step 2: Define healthcare task**\n",
        "- **[README]:** This step assigns a **task function** to the dataset for data loading [pyhealth.tasks](https://pyhealth.readthedocs.io/en/latest/api/tasks.html). The **task function** specifics how to process each pateint's data into a set of samples for the downstream machine learning models.\n",
        "- **[Next Step]:** This `pyhealth.tasks` object will be used in **Step 3**."
      ],
      "metadata": {
        "id": "qXzoZxt0LvL0"
      }
    },
    {
      "cell_type": "code",
      "source": [
        "from pyhealth.tasks import length_of_stay_prediction_mimic3_fn\n",
        "\n",
        "task_mimic3_ds = mimic3_ds.set_task(task_fn=length_of_stay_prediction_mimic3_fn)\n",
        "# stats info\n",
        "task_mimic3_ds.stat()"
      ],
      "metadata": {
        "id": "-U6KdEhULt9P",
        "colab": {
          "base_uri": "https://localhost:8080/",
          "height": 594
        },
        "outputId": "bbfc735a-ff3c-475f-e06f-f5e307f37596"
      },
      "execution_count": 6,
      "outputs": [
        {
          "output_type": "stream",
          "name": "stderr",
          "text": [
            "Generating samples for length_of_stay_prediction_mimic3_fn: 100%|██████████| 1000/1000 [00:00<00:00, 1508.35it/s]"
          ]
        },
        {
          "output_type": "stream",
          "name": "stdout",
          "text": [
            "Statistics of sample dataset:\n",
            "\t- Dataset: MIMIC3Dataset\n",
            "\t- Task: length_of_stay_prediction_mimic3_fn\n",
            "\t- Number of samples: 896\n",
            "\t- Number of patients: 886\n",
            "\t- Number of visits: 896\n",
            "\t- Number of visits per patient: 1.0113\n",
            "\t- conditions:\n",
            "\t\t- Number of conditions per sample: 9.7377\n",
            "\t\t- Number of unique conditions: 1699\n",
            "\t\t- Distribution of conditions (Top-10): [('4019', 324), ('41401', 167), ('25000', 151), ('4280', 147), ('5849', 121), ('2724', 118), ('42731', 110), ('51881', 89), ('53081', 88), ('2720', 85)]\n",
            "\t- procedures:\n",
            "\t\t- Number of procedures per sample: 3.5647\n",
            "\t\t- Number of unique procedures: 558\n",
            "\t\t- Distribution of procedures (Top-10): [('3893', 155), ('9671', 139), ('9604', 123), ('9904', 100), ('8856', 85), ('966', 64), ('3615', 61), ('3961', 59), ('3722', 58), ('3891', 55)]\n",
            "\t- drugs:\n",
            "\t\t- Number of drugs per sample: 32.5804\n",
            "\t\t- Number of unique drugs: 1911\n",
            "\t\t- Distribution of drugs (Top-10): [('00338004904', 388), ('00008084199', 362), ('00338004903', 317), ('00338001702', 305), ('00641040025', 285), ('00338004938', 271), ('00338004902', 269), ('63323026201', 268), ('00904516561', 252), ('00182844789', 242)]\n",
            "\t- label:\n",
            "\t\t- Number of label per sample: 1.0000\n",
            "\t\t- Number of unique label: 10\n",
            "\t\t- Distribution of label (Top-10): [(0, 360), (1, 109), (2, 94), (8, 85), (3, 63), (4, 44), (7, 43), (6, 43), (5, 42), (9, 13)]\n"
          ]
        },
        {
          "output_type": "stream",
          "name": "stderr",
          "text": [
            "\n"
          ]
        },
        {
          "output_type": "execute_result",
          "data": {
            "text/plain": [
              "\"Statistics of sample dataset:\\n\\t- Dataset: MIMIC3Dataset\\n\\t- Task: length_of_stay_prediction_mimic3_fn\\n\\t- Number of samples: 896\\n\\t- Number of patients: 886\\n\\t- Number of visits: 896\\n\\t- Number of visits per patient: 1.0113\\n\\t- conditions:\\n\\t\\t- Number of conditions per sample: 9.7377\\n\\t\\t- Number of unique conditions: 1699\\n\\t\\t- Distribution of conditions (Top-10): [('4019', 324), ('41401', 167), ('25000', 151), ('4280', 147), ('5849', 121), ('2724', 118), ('42731', 110), ('51881', 89), ('53081', 88), ('2720', 85)]\\n\\t- procedures:\\n\\t\\t- Number of procedures per sample: 3.5647\\n\\t\\t- Number of unique procedures: 558\\n\\t\\t- Distribution of procedures (Top-10): [('3893', 155), ('9671', 139), ('9604', 123), ('9904', 100), ('8856', 85), ('966', 64), ('3615', 61), ('3961', 59), ('3722', 58), ('3891', 55)]\\n\\t- drugs:\\n\\t\\t- Number of drugs per sample: 32.5804\\n\\t\\t- Number of unique drugs: 1911\\n\\t\\t- Distribution of drugs (Top-10): [('00338004904', 388), ('00008084199', 362), ('00338004903', 317), ('00338001702', 305), ('00641040025', 285), ('00338004938', 271), ('00338004902', 269), ('63323026201', 268), ('00904516561', 252), ('00182844789', 242)]\\n\\t- label:\\n\\t\\t- Number of label per sample: 1.0000\\n\\t\\t- Number of unique label: 10\\n\\t\\t- Distribution of label (Top-10): [(0, 360), (1, 109), (2, 94), (8, 85), (3, 63), (4, 44), (7, 43), (6, 43), (5, 42), (9, 13)]\""
            ],
            "application/vnd.google.colaboratory.intrinsic+json": {
              "type": "string"
            }
          },
          "metadata": {},
          "execution_count": 6
        }
      ]
    },
    {
      "cell_type": "code",
      "source": [
        "# show a data sample\n",
        "task_mimic3_ds.samples[0]"
      ],
      "metadata": {
        "colab": {
          "base_uri": "https://localhost:8080/"
        },
        "id": "yJwu3meZ0WAX",
        "outputId": "e7ed9667-218b-4530-f45f-c3e82dd125cc"
      },
      "execution_count": 7,
      "outputs": [
        {
          "output_type": "execute_result",
          "data": {
            "text/plain": [
              "{'visit_id': '100000',\n",
              " 'patient_id': '1',\n",
              " 'conditions': [['86121',\n",
              "   'V4589',\n",
              "   '25082',\n",
              "   '79902',\n",
              "   '19889',\n",
              "   '36201',\n",
              "   '99681',\n",
              "   '27802',\n",
              "   '30593']],\n",
              " 'procedures': [['3895', '544', '9618', '8472']],\n",
              " 'drugs': [['00008092355',\n",
              "   '00338001702',\n",
              "   '00641040025',\n",
              "   '00517090125',\n",
              "   '00517391025',\n",
              "   '00338070341',\n",
              "   '00074233411',\n",
              "   '00182844789',\n",
              "   '63739008901',\n",
              "   '66689036430',\n",
              "   '00074241512',\n",
              "   '00074131230',\n",
              "   '00904526161',\n",
              "   '00006494300',\n",
              "   '00406051201',\n",
              "   '00004200278',\n",
              "   '00045025501',\n",
              "   '00085172202',\n",
              "   '00766145010',\n",
              "   '52959036100',\n",
              "   '00029608031',\n",
              "   '00310013239',\n",
              "   '51079068320']],\n",
              " 'label': 0}"
            ]
          },
          "metadata": {},
          "execution_count": 7
        }
      ]
    },
    {
      "cell_type": "code",
      "source": [
        "from pyhealth.datasets.splitter import split_by_patient\n",
        "from pyhealth.datasets import split_by_patient, get_dataloader\n",
        "\n",
        "# data split\n",
        "train_dataset, val_dataset, test_dataset = split_by_patient(task_mimic3_ds, [0.8, 0.1, 0.1])\n",
        "\n",
        "# create dataloaders (they are <torch.data.DataLoader> object)\n",
        "train_loader = get_dataloader(train_dataset, batch_size=64, shuffle=True)\n",
        "val_loader = get_dataloader(val_dataset, batch_size=64, shuffle=False)\n",
        "test_loader = get_dataloader(test_dataset, batch_size=64, shuffle=False)"
      ],
      "metadata": {
        "id": "i8u3ITyaMaCL"
      },
      "execution_count": 8,
      "outputs": []
    },
    {
      "cell_type": "markdown",
      "source": [
        "### **Step 3: Define ML Model**\n",
        "- **[README]:** We initialize an ML model for the healthcare task by calling [pyhealth.models](https://pyhealth.readthedocs.io/en/latest/api/models.html).\n",
        "- **[Next Step]:** This `pyhealth.models` object will be used in **Step 4**.\n",
        "- **[Other Use Case]:** Our `pyhealth.models` object is as general as any instance from `torch.nn.Module`. Users may use it separately for supporting any other customized pipeline."
      ],
      "metadata": {
        "id": "ZOKdYnlQN2o4"
      }
    },
    {
      "cell_type": "code",
      "source": [
        "from pyhealth.models import Transformer\n",
        "\n",
        "model = Transformer(\n",
        "    dataset=task_mimic3_ds,\n",
        "    # look up what are available for \"feature_keys\" and \"label_keys\" in dataset.samples[0]\n",
        "    feature_keys=[\"conditions\", \"procedures\"],\n",
        "    label_key=\"label\",\n",
        "    mode=\"multiclass\",\n",
        "    num_layers=2,\n",
        ")"
      ],
      "metadata": {
        "id": "UNSP6S4CN78V"
      },
      "execution_count": 9,
      "outputs": []
    },
    {
      "cell_type": "markdown",
      "source": [
        "### **Step 4: Model Training**\n",
        "- **[README]:** We call our [pyhealth.train.Trainer](https://pyhealth.readthedocs.io/en/latest/api/trainer.html) to train the model by giving the `train_loader`, the `val_loader`, val_metric, and specify other arguemnts, such as epochs, optimizer, learning rate, etc. The trainer will automatically save the best model and output the path in the end.\n",
        "- **[Next Step]:** The best model will be used in **Step 5** for evaluation."
      ],
      "metadata": {
        "id": "8OCmJTSEOJmW"
      }
    },
    {
      "cell_type": "code",
      "source": [
        "from pyhealth.trainer import Trainer\n",
        "\n",
        "trainer = Trainer(model=model, metrics=[\"accuracy\", \"jaccard_weighted\"])\n",
        "\n",
        "trainer.train(\n",
        "    train_dataloader=train_loader,\n",
        "    val_dataloader=val_loader,\n",
        "    epochs=5,\n",
        "    monitor=\"jaccard_weighted\",\n",
        ")"
      ],
      "metadata": {
        "id": "UVZQOIK2OOJW",
        "colab": {
          "base_uri": "https://localhost:8080/",
          "height": 1000,
          "referenced_widgets": [
            "767b21a4c2ec40b09a99add01a2f2f8f",
            "b758a6ecbc4b479b9c3ff09c3ec28c9f",
            "a4af200a59ba4872a28f05d24cee3baa",
            "9937332469e34706a63d839aba320897",
            "45d2926098154e89b7635f40e878c11e",
            "b110191817b9442da82eb02baf84a0ee",
            "10132094ea9649e18e0a0df643ade792",
            "304bce393c61467480c23dd627234b22",
            "c63a9c81cf8e47dd95e9924909841faa",
            "583fd2f5eeb94b019b8c58bd3b8eb8c0",
            "399d98ba082444cb8d67be7e31feaae2",
            "f4871e03cb17492c9a36cbfc1febd73e",
            "a0517d4c968d44beadbc07055f6d6d76",
            "3d0e6ff83a854be49ea9aa2f86243a33",
            "de67751fe6f345e1ab7bbf5d03a84b62",
            "6ae63395e48a4e1f99f4995430e0c3a5",
            "345df582c3584aefa96112c205ac77c2",
            "a9587be51b024cadab97dfe5c9bbc60a",
            "0830fdddad014a2a95fafc1ea7e6f0e3",
            "8bbbe8728c954c52bf069467c3ffc534",
            "587a23a1b1bb48ec91c50dadf25699e5",
            "85a924aeffd6433dafe58fb15f783344",
            "ea426435dc9347a0b32a965d6040022a",
            "780b19479f524149911882e2c53831e8",
            "98bbb3fea8ad41b29f2ea62cecee0712",
            "7bcbab8995864d61b726f4953d1f38ac",
            "1d35d5cc95c04523962044b9336177b0",
            "fdb346a6b4674eeab6392fe11ec21622",
            "5415dc750ea74f5293024b8129bbd814",
            "e315470f6ccb41fba0ff96ce9e0caab4",
            "adb3263e20074e8c935a7504d8fd4d1c",
            "f099192b84544179947942d719799792",
            "d8f5a0b9a2994d9fba9061de4541fc57",
            "6091dc3dd8e441d2b39f4e15867ceeb1",
            "005c11b15210403ea60df00be944511d",
            "505967cabb134f26ad32dba0593d8a3d",
            "6de3e1cd734c437cb4fd44feca86976f",
            "6b5c0e249f494f03a03bcbc81f5deb73",
            "c0d55c1e91494f58ad3e862b9639e741",
            "81d38da1c7af4393adee3f0a73564ec4",
            "15329b1cdab14f76a8cdc3f19f5f8ea5",
            "0cad7257174f401b8c96c94b2a691ede",
            "a56d49d0ffa340a2bca5451b4ae22b9d",
            "ee299712fbde4b47a3ff66555d2dd21a",
            "eef66a4590484524b6787fbfc607a6ea",
            "d2905fb9244d435ebdac0562d45bbd0e",
            "80ea34fa6b7a46f584a81797800fcacc",
            "75ee2ca873414da3b843d49889432667",
            "5ac1d650c388441da76ac7a121202b5e",
            "f71f2940ab814ad488dde49922acb88d",
            "c5905b58f179419cb0568edf54ae62ed",
            "3fa1a8da1b474c228c3f43e14a4fc97a",
            "f9c93d61505e4079b5af127895857b21",
            "2cdc9cd15bfe4d13bb4d9855030954d7",
            "249c00ce8dcd4fd4a3962460b842947b"
          ]
        },
        "outputId": "85c6e878-5bbd-4c39-a680-687f4e556a20"
      },
      "execution_count": 10,
      "outputs": [
        {
          "output_type": "stream",
          "name": "stdout",
          "text": [
            "Transformer(\n",
            "  (embeddings): ModuleDict(\n",
            "    (conditions): Embedding(1701, 128, padding_idx=0)\n",
            "    (procedures): Embedding(560, 128, padding_idx=0)\n",
            "  )\n",
            "  (linear_layers): ModuleDict()\n",
            "  (transformer): ModuleDict(\n",
            "    (conditions): TransformerLayer(\n",
            "      (transformer): ModuleList(\n",
            "        (0-1): 2 x TransformerBlock(\n",
            "          (attention): MultiHeadedAttention(\n",
            "            (linear_layers): ModuleList(\n",
            "              (0-2): 3 x Linear(in_features=128, out_features=128, bias=False)\n",
            "            )\n",
            "            (output_linear): Linear(in_features=128, out_features=128, bias=False)\n",
            "            (attention): Attention()\n",
            "            (dropout): Dropout(p=0.1, inplace=False)\n",
            "          )\n",
            "          (feed_forward): PositionwiseFeedForward(\n",
            "            (w_1): Linear(in_features=128, out_features=512, bias=True)\n",
            "            (w_2): Linear(in_features=512, out_features=128, bias=True)\n",
            "            (dropout): Dropout(p=0.5, inplace=False)\n",
            "            (activation): GELU(approximate='none')\n",
            "          )\n",
            "          (input_sublayer): SublayerConnection(\n",
            "            (norm): LayerNorm((128,), eps=1e-05, elementwise_affine=True)\n",
            "            (dropout): Dropout(p=0.5, inplace=False)\n",
            "          )\n",
            "          (output_sublayer): SublayerConnection(\n",
            "            (norm): LayerNorm((128,), eps=1e-05, elementwise_affine=True)\n",
            "            (dropout): Dropout(p=0.5, inplace=False)\n",
            "          )\n",
            "          (dropout): Dropout(p=0.5, inplace=False)\n",
            "        )\n",
            "      )\n",
            "    )\n",
            "    (procedures): TransformerLayer(\n",
            "      (transformer): ModuleList(\n",
            "        (0-1): 2 x TransformerBlock(\n",
            "          (attention): MultiHeadedAttention(\n",
            "            (linear_layers): ModuleList(\n",
            "              (0-2): 3 x Linear(in_features=128, out_features=128, bias=False)\n",
            "            )\n",
            "            (output_linear): Linear(in_features=128, out_features=128, bias=False)\n",
            "            (attention): Attention()\n",
            "            (dropout): Dropout(p=0.1, inplace=False)\n",
            "          )\n",
            "          (feed_forward): PositionwiseFeedForward(\n",
            "            (w_1): Linear(in_features=128, out_features=512, bias=True)\n",
            "            (w_2): Linear(in_features=512, out_features=128, bias=True)\n",
            "            (dropout): Dropout(p=0.5, inplace=False)\n",
            "            (activation): GELU(approximate='none')\n",
            "          )\n",
            "          (input_sublayer): SublayerConnection(\n",
            "            (norm): LayerNorm((128,), eps=1e-05, elementwise_affine=True)\n",
            "            (dropout): Dropout(p=0.5, inplace=False)\n",
            "          )\n",
            "          (output_sublayer): SublayerConnection(\n",
            "            (norm): LayerNorm((128,), eps=1e-05, elementwise_affine=True)\n",
            "            (dropout): Dropout(p=0.5, inplace=False)\n",
            "          )\n",
            "          (dropout): Dropout(p=0.5, inplace=False)\n",
            "        )\n",
            "      )\n",
            "    )\n",
            "  )\n",
            "  (fc): Linear(in_features=256, out_features=10, bias=True)\n",
            ")\n"
          ]
        },
        {
          "output_type": "stream",
          "name": "stderr",
          "text": [
            "INFO:pyhealth.trainer:Transformer(\n",
            "  (embeddings): ModuleDict(\n",
            "    (conditions): Embedding(1701, 128, padding_idx=0)\n",
            "    (procedures): Embedding(560, 128, padding_idx=0)\n",
            "  )\n",
            "  (linear_layers): ModuleDict()\n",
            "  (transformer): ModuleDict(\n",
            "    (conditions): TransformerLayer(\n",
            "      (transformer): ModuleList(\n",
            "        (0-1): 2 x TransformerBlock(\n",
            "          (attention): MultiHeadedAttention(\n",
            "            (linear_layers): ModuleList(\n",
            "              (0-2): 3 x Linear(in_features=128, out_features=128, bias=False)\n",
            "            )\n",
            "            (output_linear): Linear(in_features=128, out_features=128, bias=False)\n",
            "            (attention): Attention()\n",
            "            (dropout): Dropout(p=0.1, inplace=False)\n",
            "          )\n",
            "          (feed_forward): PositionwiseFeedForward(\n",
            "            (w_1): Linear(in_features=128, out_features=512, bias=True)\n",
            "            (w_2): Linear(in_features=512, out_features=128, bias=True)\n",
            "            (dropout): Dropout(p=0.5, inplace=False)\n",
            "            (activation): GELU(approximate='none')\n",
            "          )\n",
            "          (input_sublayer): SublayerConnection(\n",
            "            (norm): LayerNorm((128,), eps=1e-05, elementwise_affine=True)\n",
            "            (dropout): Dropout(p=0.5, inplace=False)\n",
            "          )\n",
            "          (output_sublayer): SublayerConnection(\n",
            "            (norm): LayerNorm((128,), eps=1e-05, elementwise_affine=True)\n",
            "            (dropout): Dropout(p=0.5, inplace=False)\n",
            "          )\n",
            "          (dropout): Dropout(p=0.5, inplace=False)\n",
            "        )\n",
            "      )\n",
            "    )\n",
            "    (procedures): TransformerLayer(\n",
            "      (transformer): ModuleList(\n",
            "        (0-1): 2 x TransformerBlock(\n",
            "          (attention): MultiHeadedAttention(\n",
            "            (linear_layers): ModuleList(\n",
            "              (0-2): 3 x Linear(in_features=128, out_features=128, bias=False)\n",
            "            )\n",
            "            (output_linear): Linear(in_features=128, out_features=128, bias=False)\n",
            "            (attention): Attention()\n",
            "            (dropout): Dropout(p=0.1, inplace=False)\n",
            "          )\n",
            "          (feed_forward): PositionwiseFeedForward(\n",
            "            (w_1): Linear(in_features=128, out_features=512, bias=True)\n",
            "            (w_2): Linear(in_features=512, out_features=128, bias=True)\n",
            "            (dropout): Dropout(p=0.5, inplace=False)\n",
            "            (activation): GELU(approximate='none')\n",
            "          )\n",
            "          (input_sublayer): SublayerConnection(\n",
            "            (norm): LayerNorm((128,), eps=1e-05, elementwise_affine=True)\n",
            "            (dropout): Dropout(p=0.5, inplace=False)\n",
            "          )\n",
            "          (output_sublayer): SublayerConnection(\n",
            "            (norm): LayerNorm((128,), eps=1e-05, elementwise_affine=True)\n",
            "            (dropout): Dropout(p=0.5, inplace=False)\n",
            "          )\n",
            "          (dropout): Dropout(p=0.5, inplace=False)\n",
            "        )\n",
            "      )\n",
            "    )\n",
            "  )\n",
            "  (fc): Linear(in_features=256, out_features=10, bias=True)\n",
            ")\n"
          ]
        },
        {
          "output_type": "stream",
          "name": "stdout",
          "text": [
            "Metrics: ['accuracy', 'jaccard_weighted']\n"
          ]
        },
        {
          "output_type": "stream",
          "name": "stderr",
          "text": [
            "INFO:pyhealth.trainer:Metrics: ['accuracy', 'jaccard_weighted']\n"
          ]
        },
        {
          "output_type": "stream",
          "name": "stdout",
          "text": [
            "Device: cpu\n"
          ]
        },
        {
          "output_type": "stream",
          "name": "stderr",
          "text": [
            "INFO:pyhealth.trainer:Device: cpu\n"
          ]
        },
        {
          "output_type": "stream",
          "name": "stdout",
          "text": [
            "\n"
          ]
        },
        {
          "output_type": "stream",
          "name": "stderr",
          "text": [
            "INFO:pyhealth.trainer:\n"
          ]
        },
        {
          "output_type": "stream",
          "name": "stdout",
          "text": [
            "Training:\n"
          ]
        },
        {
          "output_type": "stream",
          "name": "stderr",
          "text": [
            "INFO:pyhealth.trainer:Training:\n"
          ]
        },
        {
          "output_type": "stream",
          "name": "stdout",
          "text": [
            "Batch size: 64\n"
          ]
        },
        {
          "output_type": "stream",
          "name": "stderr",
          "text": [
            "INFO:pyhealth.trainer:Batch size: 64\n"
          ]
        },
        {
          "output_type": "stream",
          "name": "stdout",
          "text": [
            "Optimizer: <class 'torch.optim.adam.Adam'>\n"
          ]
        },
        {
          "output_type": "stream",
          "name": "stderr",
          "text": [
            "INFO:pyhealth.trainer:Optimizer: <class 'torch.optim.adam.Adam'>\n"
          ]
        },
        {
          "output_type": "stream",
          "name": "stdout",
          "text": [
            "Optimizer params: {'lr': 0.001}\n"
          ]
        },
        {
          "output_type": "stream",
          "name": "stderr",
          "text": [
            "INFO:pyhealth.trainer:Optimizer params: {'lr': 0.001}\n"
          ]
        },
        {
          "output_type": "stream",
          "name": "stdout",
          "text": [
            "Weight decay: 0.0\n"
          ]
        },
        {
          "output_type": "stream",
          "name": "stderr",
          "text": [
            "INFO:pyhealth.trainer:Weight decay: 0.0\n"
          ]
        },
        {
          "output_type": "stream",
          "name": "stdout",
          "text": [
            "Max grad norm: None\n"
          ]
        },
        {
          "output_type": "stream",
          "name": "stderr",
          "text": [
            "INFO:pyhealth.trainer:Max grad norm: None\n"
          ]
        },
        {
          "output_type": "stream",
          "name": "stdout",
          "text": [
            "Val dataloader: <torch.utils.data.dataloader.DataLoader object at 0x788efa554bb0>\n"
          ]
        },
        {
          "output_type": "stream",
          "name": "stderr",
          "text": [
            "INFO:pyhealth.trainer:Val dataloader: <torch.utils.data.dataloader.DataLoader object at 0x788efa554bb0>\n"
          ]
        },
        {
          "output_type": "stream",
          "name": "stdout",
          "text": [
            "Monitor: jaccard_weighted\n"
          ]
        },
        {
          "output_type": "stream",
          "name": "stderr",
          "text": [
            "INFO:pyhealth.trainer:Monitor: jaccard_weighted\n"
          ]
        },
        {
          "output_type": "stream",
          "name": "stdout",
          "text": [
            "Monitor criterion: max\n"
          ]
        },
        {
          "output_type": "stream",
          "name": "stderr",
          "text": [
            "INFO:pyhealth.trainer:Monitor criterion: max\n"
          ]
        },
        {
          "output_type": "stream",
          "name": "stdout",
          "text": [
            "Epochs: 5\n"
          ]
        },
        {
          "output_type": "stream",
          "name": "stderr",
          "text": [
            "INFO:pyhealth.trainer:Epochs: 5\n"
          ]
        },
        {
          "output_type": "stream",
          "name": "stdout",
          "text": [
            "\n"
          ]
        },
        {
          "output_type": "stream",
          "name": "stderr",
          "text": [
            "INFO:pyhealth.trainer:\n"
          ]
        },
        {
          "output_type": "display_data",
          "data": {
            "text/plain": [
              "Epoch 0 / 5:   0%|          | 0/12 [00:00<?, ?it/s]"
            ],
            "application/vnd.jupyter.widget-view+json": {
              "version_major": 2,
              "version_minor": 0,
              "model_id": "767b21a4c2ec40b09a99add01a2f2f8f"
            }
          },
          "metadata": {}
        },
        {
          "output_type": "stream",
          "name": "stdout",
          "text": [
            "--- Train epoch-0, step-12 ---\n"
          ]
        },
        {
          "output_type": "stream",
          "name": "stderr",
          "text": [
            "INFO:pyhealth.trainer:--- Train epoch-0, step-12 ---\n"
          ]
        },
        {
          "output_type": "stream",
          "name": "stdout",
          "text": [
            "loss: 4.8163\n"
          ]
        },
        {
          "output_type": "stream",
          "name": "stderr",
          "text": [
            "INFO:pyhealth.trainer:loss: 4.8163\n",
            "Evaluation: 100%|██████████| 2/2 [00:00<00:00, 46.28it/s]"
          ]
        },
        {
          "output_type": "stream",
          "name": "stdout",
          "text": [
            "--- Eval epoch-0, step-12 ---\n"
          ]
        },
        {
          "output_type": "stream",
          "name": "stderr",
          "text": [
            "\n",
            "INFO:pyhealth.trainer:--- Eval epoch-0, step-12 ---\n"
          ]
        },
        {
          "output_type": "stream",
          "name": "stdout",
          "text": [
            "accuracy: 0.3889\n"
          ]
        },
        {
          "output_type": "stream",
          "name": "stderr",
          "text": [
            "INFO:pyhealth.trainer:accuracy: 0.3889\n"
          ]
        },
        {
          "output_type": "stream",
          "name": "stdout",
          "text": [
            "jaccard_weighted: 0.2050\n"
          ]
        },
        {
          "output_type": "stream",
          "name": "stderr",
          "text": [
            "INFO:pyhealth.trainer:jaccard_weighted: 0.2050\n"
          ]
        },
        {
          "output_type": "stream",
          "name": "stdout",
          "text": [
            "loss: 2.4320\n"
          ]
        },
        {
          "output_type": "stream",
          "name": "stderr",
          "text": [
            "INFO:pyhealth.trainer:loss: 2.4320\n"
          ]
        },
        {
          "output_type": "stream",
          "name": "stdout",
          "text": [
            "New best jaccard_weighted score (0.2050) at epoch-0, step-12\n"
          ]
        },
        {
          "output_type": "stream",
          "name": "stderr",
          "text": [
            "INFO:pyhealth.trainer:New best jaccard_weighted score (0.2050) at epoch-0, step-12\n"
          ]
        },
        {
          "output_type": "stream",
          "name": "stdout",
          "text": [
            "\n"
          ]
        },
        {
          "output_type": "stream",
          "name": "stderr",
          "text": [
            "INFO:pyhealth.trainer:\n"
          ]
        },
        {
          "output_type": "display_data",
          "data": {
            "text/plain": [
              "Epoch 1 / 5:   0%|          | 0/12 [00:00<?, ?it/s]"
            ],
            "application/vnd.jupyter.widget-view+json": {
              "version_major": 2,
              "version_minor": 0,
              "model_id": "f4871e03cb17492c9a36cbfc1febd73e"
            }
          },
          "metadata": {}
        },
        {
          "output_type": "stream",
          "name": "stdout",
          "text": [
            "--- Train epoch-1, step-24 ---\n"
          ]
        },
        {
          "output_type": "stream",
          "name": "stderr",
          "text": [
            "INFO:pyhealth.trainer:--- Train epoch-1, step-24 ---\n"
          ]
        },
        {
          "output_type": "stream",
          "name": "stdout",
          "text": [
            "loss: 3.7233\n"
          ]
        },
        {
          "output_type": "stream",
          "name": "stderr",
          "text": [
            "INFO:pyhealth.trainer:loss: 3.7233\n",
            "Evaluation: 100%|██████████| 2/2 [00:00<00:00, 31.35it/s]"
          ]
        },
        {
          "output_type": "stream",
          "name": "stdout",
          "text": [
            "--- Eval epoch-1, step-24 ---\n"
          ]
        },
        {
          "output_type": "stream",
          "name": "stderr",
          "text": [
            "\n",
            "INFO:pyhealth.trainer:--- Eval epoch-1, step-24 ---\n"
          ]
        },
        {
          "output_type": "stream",
          "name": "stdout",
          "text": [
            "accuracy: 0.4333\n"
          ]
        },
        {
          "output_type": "stream",
          "name": "stderr",
          "text": [
            "INFO:pyhealth.trainer:accuracy: 0.4333\n"
          ]
        },
        {
          "output_type": "stream",
          "name": "stdout",
          "text": [
            "jaccard_weighted: 0.2039\n"
          ]
        },
        {
          "output_type": "stream",
          "name": "stderr",
          "text": [
            "INFO:pyhealth.trainer:jaccard_weighted: 0.2039\n"
          ]
        },
        {
          "output_type": "stream",
          "name": "stdout",
          "text": [
            "loss: 2.4946\n"
          ]
        },
        {
          "output_type": "stream",
          "name": "stderr",
          "text": [
            "INFO:pyhealth.trainer:loss: 2.4946\n"
          ]
        },
        {
          "output_type": "stream",
          "name": "stdout",
          "text": [
            "\n"
          ]
        },
        {
          "output_type": "stream",
          "name": "stderr",
          "text": [
            "INFO:pyhealth.trainer:\n"
          ]
        },
        {
          "output_type": "display_data",
          "data": {
            "text/plain": [
              "Epoch 2 / 5:   0%|          | 0/12 [00:00<?, ?it/s]"
            ],
            "application/vnd.jupyter.widget-view+json": {
              "version_major": 2,
              "version_minor": 0,
              "model_id": "ea426435dc9347a0b32a965d6040022a"
            }
          },
          "metadata": {}
        },
        {
          "output_type": "stream",
          "name": "stdout",
          "text": [
            "--- Train epoch-2, step-36 ---\n"
          ]
        },
        {
          "output_type": "stream",
          "name": "stderr",
          "text": [
            "INFO:pyhealth.trainer:--- Train epoch-2, step-36 ---\n"
          ]
        },
        {
          "output_type": "stream",
          "name": "stdout",
          "text": [
            "loss: 3.3694\n"
          ]
        },
        {
          "output_type": "stream",
          "name": "stderr",
          "text": [
            "INFO:pyhealth.trainer:loss: 3.3694\n",
            "Evaluation: 100%|██████████| 2/2 [00:00<00:00, 43.59it/s]"
          ]
        },
        {
          "output_type": "stream",
          "name": "stdout",
          "text": [
            "--- Eval epoch-2, step-36 ---\n"
          ]
        },
        {
          "output_type": "stream",
          "name": "stderr",
          "text": [
            "\n",
            "INFO:pyhealth.trainer:--- Eval epoch-2, step-36 ---\n"
          ]
        },
        {
          "output_type": "stream",
          "name": "stdout",
          "text": [
            "accuracy: 0.4000\n"
          ]
        },
        {
          "output_type": "stream",
          "name": "stderr",
          "text": [
            "INFO:pyhealth.trainer:accuracy: 0.4000\n"
          ]
        },
        {
          "output_type": "stream",
          "name": "stdout",
          "text": [
            "jaccard_weighted: 0.1985\n"
          ]
        },
        {
          "output_type": "stream",
          "name": "stderr",
          "text": [
            "INFO:pyhealth.trainer:jaccard_weighted: 0.1985\n"
          ]
        },
        {
          "output_type": "stream",
          "name": "stdout",
          "text": [
            "loss: 2.3769\n"
          ]
        },
        {
          "output_type": "stream",
          "name": "stderr",
          "text": [
            "INFO:pyhealth.trainer:loss: 2.3769\n"
          ]
        },
        {
          "output_type": "stream",
          "name": "stdout",
          "text": [
            "\n"
          ]
        },
        {
          "output_type": "stream",
          "name": "stderr",
          "text": [
            "INFO:pyhealth.trainer:\n"
          ]
        },
        {
          "output_type": "display_data",
          "data": {
            "text/plain": [
              "Epoch 3 / 5:   0%|          | 0/12 [00:00<?, ?it/s]"
            ],
            "application/vnd.jupyter.widget-view+json": {
              "version_major": 2,
              "version_minor": 0,
              "model_id": "6091dc3dd8e441d2b39f4e15867ceeb1"
            }
          },
          "metadata": {}
        },
        {
          "output_type": "stream",
          "name": "stdout",
          "text": [
            "--- Train epoch-3, step-48 ---\n"
          ]
        },
        {
          "output_type": "stream",
          "name": "stderr",
          "text": [
            "INFO:pyhealth.trainer:--- Train epoch-3, step-48 ---\n"
          ]
        },
        {
          "output_type": "stream",
          "name": "stdout",
          "text": [
            "loss: 3.1341\n"
          ]
        },
        {
          "output_type": "stream",
          "name": "stderr",
          "text": [
            "INFO:pyhealth.trainer:loss: 3.1341\n",
            "Evaluation: 100%|██████████| 2/2 [00:00<00:00, 35.97it/s]"
          ]
        },
        {
          "output_type": "stream",
          "name": "stdout",
          "text": [
            "--- Eval epoch-3, step-48 ---\n"
          ]
        },
        {
          "output_type": "stream",
          "name": "stderr",
          "text": [
            "\n",
            "INFO:pyhealth.trainer:--- Eval epoch-3, step-48 ---\n"
          ]
        },
        {
          "output_type": "stream",
          "name": "stdout",
          "text": [
            "accuracy: 0.3556\n"
          ]
        },
        {
          "output_type": "stream",
          "name": "stderr",
          "text": [
            "INFO:pyhealth.trainer:accuracy: 0.3556\n"
          ]
        },
        {
          "output_type": "stream",
          "name": "stdout",
          "text": [
            "jaccard_weighted: 0.1734\n"
          ]
        },
        {
          "output_type": "stream",
          "name": "stderr",
          "text": [
            "INFO:pyhealth.trainer:jaccard_weighted: 0.1734\n"
          ]
        },
        {
          "output_type": "stream",
          "name": "stdout",
          "text": [
            "loss: 2.3201\n"
          ]
        },
        {
          "output_type": "stream",
          "name": "stderr",
          "text": [
            "INFO:pyhealth.trainer:loss: 2.3201\n"
          ]
        },
        {
          "output_type": "stream",
          "name": "stdout",
          "text": [
            "\n"
          ]
        },
        {
          "output_type": "stream",
          "name": "stderr",
          "text": [
            "INFO:pyhealth.trainer:\n"
          ]
        },
        {
          "output_type": "display_data",
          "data": {
            "text/plain": [
              "Epoch 4 / 5:   0%|          | 0/12 [00:00<?, ?it/s]"
            ],
            "application/vnd.jupyter.widget-view+json": {
              "version_major": 2,
              "version_minor": 0,
              "model_id": "eef66a4590484524b6787fbfc607a6ea"
            }
          },
          "metadata": {}
        },
        {
          "output_type": "stream",
          "name": "stdout",
          "text": [
            "--- Train epoch-4, step-60 ---\n"
          ]
        },
        {
          "output_type": "stream",
          "name": "stderr",
          "text": [
            "INFO:pyhealth.trainer:--- Train epoch-4, step-60 ---\n"
          ]
        },
        {
          "output_type": "stream",
          "name": "stdout",
          "text": [
            "loss: 2.9414\n"
          ]
        },
        {
          "output_type": "stream",
          "name": "stderr",
          "text": [
            "INFO:pyhealth.trainer:loss: 2.9414\n",
            "Evaluation: 100%|██████████| 2/2 [00:00<00:00, 18.65it/s]"
          ]
        },
        {
          "output_type": "stream",
          "name": "stdout",
          "text": [
            "--- Eval epoch-4, step-60 ---\n"
          ]
        },
        {
          "output_type": "stream",
          "name": "stderr",
          "text": [
            "\n",
            "INFO:pyhealth.trainer:--- Eval epoch-4, step-60 ---\n"
          ]
        },
        {
          "output_type": "stream",
          "name": "stdout",
          "text": [
            "accuracy: 0.3667\n"
          ]
        },
        {
          "output_type": "stream",
          "name": "stderr",
          "text": [
            "INFO:pyhealth.trainer:accuracy: 0.3667\n"
          ]
        },
        {
          "output_type": "stream",
          "name": "stdout",
          "text": [
            "jaccard_weighted: 0.1805\n"
          ]
        },
        {
          "output_type": "stream",
          "name": "stderr",
          "text": [
            "INFO:pyhealth.trainer:jaccard_weighted: 0.1805\n"
          ]
        },
        {
          "output_type": "stream",
          "name": "stdout",
          "text": [
            "loss: 2.2747\n"
          ]
        },
        {
          "output_type": "stream",
          "name": "stderr",
          "text": [
            "INFO:pyhealth.trainer:loss: 2.2747\n"
          ]
        },
        {
          "output_type": "stream",
          "name": "stdout",
          "text": [
            "Loaded best model\n"
          ]
        },
        {
          "output_type": "stream",
          "name": "stderr",
          "text": [
            "INFO:pyhealth.trainer:Loaded best model\n"
          ]
        }
      ]
    },
    {
      "cell_type": "markdown",
      "source": [
        "### **Step 5: Evaluation**"
      ],
      "metadata": {
        "id": "5p-IzKe4OdA-"
      }
    },
    {
      "cell_type": "code",
      "source": [
        "# option 1: use our built-in evaluation metric\n",
        "score = trainer.evaluate(test_loader)\n",
        "print (score)\n",
        "\n",
        "# option 2: use our pyhealth.metrics to evaluate\n",
        "from pyhealth.metrics.multiclass import multiclass_metrics_fn\n",
        "\n",
        "y_true, y_prob, loss = trainer.inference(test_loader)\n",
        "multiclass_metrics_fn(y_true, y_prob, metrics=[\"accuracy\", \"f1_macro\", \"f1_micro\", \"cohen_kappa\"])"
      ],
      "metadata": {
        "id": "t-0YWAcAOfDE",
        "colab": {
          "base_uri": "https://localhost:8080/"
        },
        "outputId": "8e23aca1-7209-4109-8fdc-06cb88883645"
      },
      "execution_count": 11,
      "outputs": [
        {
          "output_type": "stream",
          "name": "stderr",
          "text": [
            "Evaluation: 100%|██████████| 2/2 [00:00<00:00, 27.29it/s]\n"
          ]
        },
        {
          "output_type": "stream",
          "name": "stdout",
          "text": [
            "{'accuracy': 0.35555555555555557, 'jaccard_weighted': 0.17595132051883106, 'loss': 2.6411523818969727}\n"
          ]
        },
        {
          "output_type": "stream",
          "name": "stderr",
          "text": [
            "Evaluation: 100%|██████████| 2/2 [00:00<00:00, 22.20it/s]\n"
          ]
        },
        {
          "output_type": "execute_result",
          "data": {
            "text/plain": [
              "{'accuracy': 0.35555555555555557,\n",
              " 'f1_macro': 0.138514714776397,\n",
              " 'f1_micro': 0.35555555555555557,\n",
              " 'cohen_kappa': 0.04448105436573313}"
            ]
          },
          "metadata": {},
          "execution_count": 11
        }
      ]
    },
    {
      "cell_type": "markdown",
      "source": [
        "# Заключение"
      ],
      "metadata": {
        "id": "gDtMGre4a20P"
      }
    },
    {
      "cell_type": "markdown",
      "source": [
        "Библиотека PyHealth позволяет сформировать полный пайплайн машинного обучения для автоматизации обработки медицинских данных.<br>\n",
        "Предусмотрена возможность удобного подключения больших, сложно структурированных, датасетов медицинской направленности, таких как MIMIC-III, MIMIC-IV и т.д. Представленны средства для формирования моделей, оценки и инференса.<br>\n",
        "Библиотека хорошо документирована. Представлено большое количество обучающих материалов. Описана возможность подключения сторонних источников данных и датасетов.<br>\n",
        "Для ознакомления использован туториал с пайплайном предсказания продолжительности пребывания в медицинском стационаре<br>\n",
        "Объём материала очень большой, интересный и вполне может быть предметом отдельного курса."
      ],
      "metadata": {
        "id": "EvLusOyYRnUy"
      }
    },
    {
      "cell_type": "code",
      "source": [],
      "metadata": {
        "id": "FZHYjJ_RKqfU"
      },
      "execution_count": 11,
      "outputs": []
    },
    {
      "cell_type": "code",
      "source": [],
      "metadata": {
        "id": "AvWcGgIia3Y0"
      },
      "execution_count": 11,
      "outputs": []
    }
  ],
  "metadata": {
    "colab": {
      "provenance": [],
      "include_colab_link": true
    },
    "kernelspec": {
      "display_name": "Python 3",
      "name": "python3"
    },
    "widgets": {
      "application/vnd.jupyter.widget-state+json": {
        "767b21a4c2ec40b09a99add01a2f2f8f": {
          "model_module": "@jupyter-widgets/controls",
          "model_name": "HBoxModel",
          "model_module_version": "1.5.0",
          "state": {
            "_dom_classes": [],
            "_model_module": "@jupyter-widgets/controls",
            "_model_module_version": "1.5.0",
            "_model_name": "HBoxModel",
            "_view_count": null,
            "_view_module": "@jupyter-widgets/controls",
            "_view_module_version": "1.5.0",
            "_view_name": "HBoxView",
            "box_style": "",
            "children": [
              "IPY_MODEL_b758a6ecbc4b479b9c3ff09c3ec28c9f",
              "IPY_MODEL_a4af200a59ba4872a28f05d24cee3baa",
              "IPY_MODEL_9937332469e34706a63d839aba320897"
            ],
            "layout": "IPY_MODEL_45d2926098154e89b7635f40e878c11e"
          }
        },
        "b758a6ecbc4b479b9c3ff09c3ec28c9f": {
          "model_module": "@jupyter-widgets/controls",
          "model_name": "HTMLModel",
          "model_module_version": "1.5.0",
          "state": {
            "_dom_classes": [],
            "_model_module": "@jupyter-widgets/controls",
            "_model_module_version": "1.5.0",
            "_model_name": "HTMLModel",
            "_view_count": null,
            "_view_module": "@jupyter-widgets/controls",
            "_view_module_version": "1.5.0",
            "_view_name": "HTMLView",
            "description": "",
            "description_tooltip": null,
            "layout": "IPY_MODEL_b110191817b9442da82eb02baf84a0ee",
            "placeholder": "​",
            "style": "IPY_MODEL_10132094ea9649e18e0a0df643ade792",
            "value": "Epoch 0 / 5: 100%"
          }
        },
        "a4af200a59ba4872a28f05d24cee3baa": {
          "model_module": "@jupyter-widgets/controls",
          "model_name": "FloatProgressModel",
          "model_module_version": "1.5.0",
          "state": {
            "_dom_classes": [],
            "_model_module": "@jupyter-widgets/controls",
            "_model_module_version": "1.5.0",
            "_model_name": "FloatProgressModel",
            "_view_count": null,
            "_view_module": "@jupyter-widgets/controls",
            "_view_module_version": "1.5.0",
            "_view_name": "ProgressView",
            "bar_style": "success",
            "description": "",
            "description_tooltip": null,
            "layout": "IPY_MODEL_304bce393c61467480c23dd627234b22",
            "max": 12,
            "min": 0,
            "orientation": "horizontal",
            "style": "IPY_MODEL_c63a9c81cf8e47dd95e9924909841faa",
            "value": 12
          }
        },
        "9937332469e34706a63d839aba320897": {
          "model_module": "@jupyter-widgets/controls",
          "model_name": "HTMLModel",
          "model_module_version": "1.5.0",
          "state": {
            "_dom_classes": [],
            "_model_module": "@jupyter-widgets/controls",
            "_model_module_version": "1.5.0",
            "_model_name": "HTMLModel",
            "_view_count": null,
            "_view_module": "@jupyter-widgets/controls",
            "_view_module_version": "1.5.0",
            "_view_name": "HTMLView",
            "description": "",
            "description_tooltip": null,
            "layout": "IPY_MODEL_583fd2f5eeb94b019b8c58bd3b8eb8c0",
            "placeholder": "​",
            "style": "IPY_MODEL_399d98ba082444cb8d67be7e31feaae2",
            "value": " 12/12 [00:01&lt;00:00,  7.73it/s]"
          }
        },
        "45d2926098154e89b7635f40e878c11e": {
          "model_module": "@jupyter-widgets/base",
          "model_name": "LayoutModel",
          "model_module_version": "1.2.0",
          "state": {
            "_model_module": "@jupyter-widgets/base",
            "_model_module_version": "1.2.0",
            "_model_name": "LayoutModel",
            "_view_count": null,
            "_view_module": "@jupyter-widgets/base",
            "_view_module_version": "1.2.0",
            "_view_name": "LayoutView",
            "align_content": null,
            "align_items": null,
            "align_self": null,
            "border": null,
            "bottom": null,
            "display": null,
            "flex": null,
            "flex_flow": null,
            "grid_area": null,
            "grid_auto_columns": null,
            "grid_auto_flow": null,
            "grid_auto_rows": null,
            "grid_column": null,
            "grid_gap": null,
            "grid_row": null,
            "grid_template_areas": null,
            "grid_template_columns": null,
            "grid_template_rows": null,
            "height": null,
            "justify_content": null,
            "justify_items": null,
            "left": null,
            "margin": null,
            "max_height": null,
            "max_width": null,
            "min_height": null,
            "min_width": null,
            "object_fit": null,
            "object_position": null,
            "order": null,
            "overflow": null,
            "overflow_x": null,
            "overflow_y": null,
            "padding": null,
            "right": null,
            "top": null,
            "visibility": null,
            "width": null
          }
        },
        "b110191817b9442da82eb02baf84a0ee": {
          "model_module": "@jupyter-widgets/base",
          "model_name": "LayoutModel",
          "model_module_version": "1.2.0",
          "state": {
            "_model_module": "@jupyter-widgets/base",
            "_model_module_version": "1.2.0",
            "_model_name": "LayoutModel",
            "_view_count": null,
            "_view_module": "@jupyter-widgets/base",
            "_view_module_version": "1.2.0",
            "_view_name": "LayoutView",
            "align_content": null,
            "align_items": null,
            "align_self": null,
            "border": null,
            "bottom": null,
            "display": null,
            "flex": null,
            "flex_flow": null,
            "grid_area": null,
            "grid_auto_columns": null,
            "grid_auto_flow": null,
            "grid_auto_rows": null,
            "grid_column": null,
            "grid_gap": null,
            "grid_row": null,
            "grid_template_areas": null,
            "grid_template_columns": null,
            "grid_template_rows": null,
            "height": null,
            "justify_content": null,
            "justify_items": null,
            "left": null,
            "margin": null,
            "max_height": null,
            "max_width": null,
            "min_height": null,
            "min_width": null,
            "object_fit": null,
            "object_position": null,
            "order": null,
            "overflow": null,
            "overflow_x": null,
            "overflow_y": null,
            "padding": null,
            "right": null,
            "top": null,
            "visibility": null,
            "width": null
          }
        },
        "10132094ea9649e18e0a0df643ade792": {
          "model_module": "@jupyter-widgets/controls",
          "model_name": "DescriptionStyleModel",
          "model_module_version": "1.5.0",
          "state": {
            "_model_module": "@jupyter-widgets/controls",
            "_model_module_version": "1.5.0",
            "_model_name": "DescriptionStyleModel",
            "_view_count": null,
            "_view_module": "@jupyter-widgets/base",
            "_view_module_version": "1.2.0",
            "_view_name": "StyleView",
            "description_width": ""
          }
        },
        "304bce393c61467480c23dd627234b22": {
          "model_module": "@jupyter-widgets/base",
          "model_name": "LayoutModel",
          "model_module_version": "1.2.0",
          "state": {
            "_model_module": "@jupyter-widgets/base",
            "_model_module_version": "1.2.0",
            "_model_name": "LayoutModel",
            "_view_count": null,
            "_view_module": "@jupyter-widgets/base",
            "_view_module_version": "1.2.0",
            "_view_name": "LayoutView",
            "align_content": null,
            "align_items": null,
            "align_self": null,
            "border": null,
            "bottom": null,
            "display": null,
            "flex": null,
            "flex_flow": null,
            "grid_area": null,
            "grid_auto_columns": null,
            "grid_auto_flow": null,
            "grid_auto_rows": null,
            "grid_column": null,
            "grid_gap": null,
            "grid_row": null,
            "grid_template_areas": null,
            "grid_template_columns": null,
            "grid_template_rows": null,
            "height": null,
            "justify_content": null,
            "justify_items": null,
            "left": null,
            "margin": null,
            "max_height": null,
            "max_width": null,
            "min_height": null,
            "min_width": null,
            "object_fit": null,
            "object_position": null,
            "order": null,
            "overflow": null,
            "overflow_x": null,
            "overflow_y": null,
            "padding": null,
            "right": null,
            "top": null,
            "visibility": null,
            "width": null
          }
        },
        "c63a9c81cf8e47dd95e9924909841faa": {
          "model_module": "@jupyter-widgets/controls",
          "model_name": "ProgressStyleModel",
          "model_module_version": "1.5.0",
          "state": {
            "_model_module": "@jupyter-widgets/controls",
            "_model_module_version": "1.5.0",
            "_model_name": "ProgressStyleModel",
            "_view_count": null,
            "_view_module": "@jupyter-widgets/base",
            "_view_module_version": "1.2.0",
            "_view_name": "StyleView",
            "bar_color": null,
            "description_width": ""
          }
        },
        "583fd2f5eeb94b019b8c58bd3b8eb8c0": {
          "model_module": "@jupyter-widgets/base",
          "model_name": "LayoutModel",
          "model_module_version": "1.2.0",
          "state": {
            "_model_module": "@jupyter-widgets/base",
            "_model_module_version": "1.2.0",
            "_model_name": "LayoutModel",
            "_view_count": null,
            "_view_module": "@jupyter-widgets/base",
            "_view_module_version": "1.2.0",
            "_view_name": "LayoutView",
            "align_content": null,
            "align_items": null,
            "align_self": null,
            "border": null,
            "bottom": null,
            "display": null,
            "flex": null,
            "flex_flow": null,
            "grid_area": null,
            "grid_auto_columns": null,
            "grid_auto_flow": null,
            "grid_auto_rows": null,
            "grid_column": null,
            "grid_gap": null,
            "grid_row": null,
            "grid_template_areas": null,
            "grid_template_columns": null,
            "grid_template_rows": null,
            "height": null,
            "justify_content": null,
            "justify_items": null,
            "left": null,
            "margin": null,
            "max_height": null,
            "max_width": null,
            "min_height": null,
            "min_width": null,
            "object_fit": null,
            "object_position": null,
            "order": null,
            "overflow": null,
            "overflow_x": null,
            "overflow_y": null,
            "padding": null,
            "right": null,
            "top": null,
            "visibility": null,
            "width": null
          }
        },
        "399d98ba082444cb8d67be7e31feaae2": {
          "model_module": "@jupyter-widgets/controls",
          "model_name": "DescriptionStyleModel",
          "model_module_version": "1.5.0",
          "state": {
            "_model_module": "@jupyter-widgets/controls",
            "_model_module_version": "1.5.0",
            "_model_name": "DescriptionStyleModel",
            "_view_count": null,
            "_view_module": "@jupyter-widgets/base",
            "_view_module_version": "1.2.0",
            "_view_name": "StyleView",
            "description_width": ""
          }
        },
        "f4871e03cb17492c9a36cbfc1febd73e": {
          "model_module": "@jupyter-widgets/controls",
          "model_name": "HBoxModel",
          "model_module_version": "1.5.0",
          "state": {
            "_dom_classes": [],
            "_model_module": "@jupyter-widgets/controls",
            "_model_module_version": "1.5.0",
            "_model_name": "HBoxModel",
            "_view_count": null,
            "_view_module": "@jupyter-widgets/controls",
            "_view_module_version": "1.5.0",
            "_view_name": "HBoxView",
            "box_style": "",
            "children": [
              "IPY_MODEL_a0517d4c968d44beadbc07055f6d6d76",
              "IPY_MODEL_3d0e6ff83a854be49ea9aa2f86243a33",
              "IPY_MODEL_de67751fe6f345e1ab7bbf5d03a84b62"
            ],
            "layout": "IPY_MODEL_6ae63395e48a4e1f99f4995430e0c3a5"
          }
        },
        "a0517d4c968d44beadbc07055f6d6d76": {
          "model_module": "@jupyter-widgets/controls",
          "model_name": "HTMLModel",
          "model_module_version": "1.5.0",
          "state": {
            "_dom_classes": [],
            "_model_module": "@jupyter-widgets/controls",
            "_model_module_version": "1.5.0",
            "_model_name": "HTMLModel",
            "_view_count": null,
            "_view_module": "@jupyter-widgets/controls",
            "_view_module_version": "1.5.0",
            "_view_name": "HTMLView",
            "description": "",
            "description_tooltip": null,
            "layout": "IPY_MODEL_345df582c3584aefa96112c205ac77c2",
            "placeholder": "​",
            "style": "IPY_MODEL_a9587be51b024cadab97dfe5c9bbc60a",
            "value": "Epoch 1 / 5: 100%"
          }
        },
        "3d0e6ff83a854be49ea9aa2f86243a33": {
          "model_module": "@jupyter-widgets/controls",
          "model_name": "FloatProgressModel",
          "model_module_version": "1.5.0",
          "state": {
            "_dom_classes": [],
            "_model_module": "@jupyter-widgets/controls",
            "_model_module_version": "1.5.0",
            "_model_name": "FloatProgressModel",
            "_view_count": null,
            "_view_module": "@jupyter-widgets/controls",
            "_view_module_version": "1.5.0",
            "_view_name": "ProgressView",
            "bar_style": "success",
            "description": "",
            "description_tooltip": null,
            "layout": "IPY_MODEL_0830fdddad014a2a95fafc1ea7e6f0e3",
            "max": 12,
            "min": 0,
            "orientation": "horizontal",
            "style": "IPY_MODEL_8bbbe8728c954c52bf069467c3ffc534",
            "value": 12
          }
        },
        "de67751fe6f345e1ab7bbf5d03a84b62": {
          "model_module": "@jupyter-widgets/controls",
          "model_name": "HTMLModel",
          "model_module_version": "1.5.0",
          "state": {
            "_dom_classes": [],
            "_model_module": "@jupyter-widgets/controls",
            "_model_module_version": "1.5.0",
            "_model_name": "HTMLModel",
            "_view_count": null,
            "_view_module": "@jupyter-widgets/controls",
            "_view_module_version": "1.5.0",
            "_view_name": "HTMLView",
            "description": "",
            "description_tooltip": null,
            "layout": "IPY_MODEL_587a23a1b1bb48ec91c50dadf25699e5",
            "placeholder": "​",
            "style": "IPY_MODEL_85a924aeffd6433dafe58fb15f783344",
            "value": " 12/12 [00:01&lt;00:00,  6.84it/s]"
          }
        },
        "6ae63395e48a4e1f99f4995430e0c3a5": {
          "model_module": "@jupyter-widgets/base",
          "model_name": "LayoutModel",
          "model_module_version": "1.2.0",
          "state": {
            "_model_module": "@jupyter-widgets/base",
            "_model_module_version": "1.2.0",
            "_model_name": "LayoutModel",
            "_view_count": null,
            "_view_module": "@jupyter-widgets/base",
            "_view_module_version": "1.2.0",
            "_view_name": "LayoutView",
            "align_content": null,
            "align_items": null,
            "align_self": null,
            "border": null,
            "bottom": null,
            "display": null,
            "flex": null,
            "flex_flow": null,
            "grid_area": null,
            "grid_auto_columns": null,
            "grid_auto_flow": null,
            "grid_auto_rows": null,
            "grid_column": null,
            "grid_gap": null,
            "grid_row": null,
            "grid_template_areas": null,
            "grid_template_columns": null,
            "grid_template_rows": null,
            "height": null,
            "justify_content": null,
            "justify_items": null,
            "left": null,
            "margin": null,
            "max_height": null,
            "max_width": null,
            "min_height": null,
            "min_width": null,
            "object_fit": null,
            "object_position": null,
            "order": null,
            "overflow": null,
            "overflow_x": null,
            "overflow_y": null,
            "padding": null,
            "right": null,
            "top": null,
            "visibility": null,
            "width": null
          }
        },
        "345df582c3584aefa96112c205ac77c2": {
          "model_module": "@jupyter-widgets/base",
          "model_name": "LayoutModel",
          "model_module_version": "1.2.0",
          "state": {
            "_model_module": "@jupyter-widgets/base",
            "_model_module_version": "1.2.0",
            "_model_name": "LayoutModel",
            "_view_count": null,
            "_view_module": "@jupyter-widgets/base",
            "_view_module_version": "1.2.0",
            "_view_name": "LayoutView",
            "align_content": null,
            "align_items": null,
            "align_self": null,
            "border": null,
            "bottom": null,
            "display": null,
            "flex": null,
            "flex_flow": null,
            "grid_area": null,
            "grid_auto_columns": null,
            "grid_auto_flow": null,
            "grid_auto_rows": null,
            "grid_column": null,
            "grid_gap": null,
            "grid_row": null,
            "grid_template_areas": null,
            "grid_template_columns": null,
            "grid_template_rows": null,
            "height": null,
            "justify_content": null,
            "justify_items": null,
            "left": null,
            "margin": null,
            "max_height": null,
            "max_width": null,
            "min_height": null,
            "min_width": null,
            "object_fit": null,
            "object_position": null,
            "order": null,
            "overflow": null,
            "overflow_x": null,
            "overflow_y": null,
            "padding": null,
            "right": null,
            "top": null,
            "visibility": null,
            "width": null
          }
        },
        "a9587be51b024cadab97dfe5c9bbc60a": {
          "model_module": "@jupyter-widgets/controls",
          "model_name": "DescriptionStyleModel",
          "model_module_version": "1.5.0",
          "state": {
            "_model_module": "@jupyter-widgets/controls",
            "_model_module_version": "1.5.0",
            "_model_name": "DescriptionStyleModel",
            "_view_count": null,
            "_view_module": "@jupyter-widgets/base",
            "_view_module_version": "1.2.0",
            "_view_name": "StyleView",
            "description_width": ""
          }
        },
        "0830fdddad014a2a95fafc1ea7e6f0e3": {
          "model_module": "@jupyter-widgets/base",
          "model_name": "LayoutModel",
          "model_module_version": "1.2.0",
          "state": {
            "_model_module": "@jupyter-widgets/base",
            "_model_module_version": "1.2.0",
            "_model_name": "LayoutModel",
            "_view_count": null,
            "_view_module": "@jupyter-widgets/base",
            "_view_module_version": "1.2.0",
            "_view_name": "LayoutView",
            "align_content": null,
            "align_items": null,
            "align_self": null,
            "border": null,
            "bottom": null,
            "display": null,
            "flex": null,
            "flex_flow": null,
            "grid_area": null,
            "grid_auto_columns": null,
            "grid_auto_flow": null,
            "grid_auto_rows": null,
            "grid_column": null,
            "grid_gap": null,
            "grid_row": null,
            "grid_template_areas": null,
            "grid_template_columns": null,
            "grid_template_rows": null,
            "height": null,
            "justify_content": null,
            "justify_items": null,
            "left": null,
            "margin": null,
            "max_height": null,
            "max_width": null,
            "min_height": null,
            "min_width": null,
            "object_fit": null,
            "object_position": null,
            "order": null,
            "overflow": null,
            "overflow_x": null,
            "overflow_y": null,
            "padding": null,
            "right": null,
            "top": null,
            "visibility": null,
            "width": null
          }
        },
        "8bbbe8728c954c52bf069467c3ffc534": {
          "model_module": "@jupyter-widgets/controls",
          "model_name": "ProgressStyleModel",
          "model_module_version": "1.5.0",
          "state": {
            "_model_module": "@jupyter-widgets/controls",
            "_model_module_version": "1.5.0",
            "_model_name": "ProgressStyleModel",
            "_view_count": null,
            "_view_module": "@jupyter-widgets/base",
            "_view_module_version": "1.2.0",
            "_view_name": "StyleView",
            "bar_color": null,
            "description_width": ""
          }
        },
        "587a23a1b1bb48ec91c50dadf25699e5": {
          "model_module": "@jupyter-widgets/base",
          "model_name": "LayoutModel",
          "model_module_version": "1.2.0",
          "state": {
            "_model_module": "@jupyter-widgets/base",
            "_model_module_version": "1.2.0",
            "_model_name": "LayoutModel",
            "_view_count": null,
            "_view_module": "@jupyter-widgets/base",
            "_view_module_version": "1.2.0",
            "_view_name": "LayoutView",
            "align_content": null,
            "align_items": null,
            "align_self": null,
            "border": null,
            "bottom": null,
            "display": null,
            "flex": null,
            "flex_flow": null,
            "grid_area": null,
            "grid_auto_columns": null,
            "grid_auto_flow": null,
            "grid_auto_rows": null,
            "grid_column": null,
            "grid_gap": null,
            "grid_row": null,
            "grid_template_areas": null,
            "grid_template_columns": null,
            "grid_template_rows": null,
            "height": null,
            "justify_content": null,
            "justify_items": null,
            "left": null,
            "margin": null,
            "max_height": null,
            "max_width": null,
            "min_height": null,
            "min_width": null,
            "object_fit": null,
            "object_position": null,
            "order": null,
            "overflow": null,
            "overflow_x": null,
            "overflow_y": null,
            "padding": null,
            "right": null,
            "top": null,
            "visibility": null,
            "width": null
          }
        },
        "85a924aeffd6433dafe58fb15f783344": {
          "model_module": "@jupyter-widgets/controls",
          "model_name": "DescriptionStyleModel",
          "model_module_version": "1.5.0",
          "state": {
            "_model_module": "@jupyter-widgets/controls",
            "_model_module_version": "1.5.0",
            "_model_name": "DescriptionStyleModel",
            "_view_count": null,
            "_view_module": "@jupyter-widgets/base",
            "_view_module_version": "1.2.0",
            "_view_name": "StyleView",
            "description_width": ""
          }
        },
        "ea426435dc9347a0b32a965d6040022a": {
          "model_module": "@jupyter-widgets/controls",
          "model_name": "HBoxModel",
          "model_module_version": "1.5.0",
          "state": {
            "_dom_classes": [],
            "_model_module": "@jupyter-widgets/controls",
            "_model_module_version": "1.5.0",
            "_model_name": "HBoxModel",
            "_view_count": null,
            "_view_module": "@jupyter-widgets/controls",
            "_view_module_version": "1.5.0",
            "_view_name": "HBoxView",
            "box_style": "",
            "children": [
              "IPY_MODEL_780b19479f524149911882e2c53831e8",
              "IPY_MODEL_98bbb3fea8ad41b29f2ea62cecee0712",
              "IPY_MODEL_7bcbab8995864d61b726f4953d1f38ac"
            ],
            "layout": "IPY_MODEL_1d35d5cc95c04523962044b9336177b0"
          }
        },
        "780b19479f524149911882e2c53831e8": {
          "model_module": "@jupyter-widgets/controls",
          "model_name": "HTMLModel",
          "model_module_version": "1.5.0",
          "state": {
            "_dom_classes": [],
            "_model_module": "@jupyter-widgets/controls",
            "_model_module_version": "1.5.0",
            "_model_name": "HTMLModel",
            "_view_count": null,
            "_view_module": "@jupyter-widgets/controls",
            "_view_module_version": "1.5.0",
            "_view_name": "HTMLView",
            "description": "",
            "description_tooltip": null,
            "layout": "IPY_MODEL_fdb346a6b4674eeab6392fe11ec21622",
            "placeholder": "​",
            "style": "IPY_MODEL_5415dc750ea74f5293024b8129bbd814",
            "value": "Epoch 2 / 5: 100%"
          }
        },
        "98bbb3fea8ad41b29f2ea62cecee0712": {
          "model_module": "@jupyter-widgets/controls",
          "model_name": "FloatProgressModel",
          "model_module_version": "1.5.0",
          "state": {
            "_dom_classes": [],
            "_model_module": "@jupyter-widgets/controls",
            "_model_module_version": "1.5.0",
            "_model_name": "FloatProgressModel",
            "_view_count": null,
            "_view_module": "@jupyter-widgets/controls",
            "_view_module_version": "1.5.0",
            "_view_name": "ProgressView",
            "bar_style": "success",
            "description": "",
            "description_tooltip": null,
            "layout": "IPY_MODEL_e315470f6ccb41fba0ff96ce9e0caab4",
            "max": 12,
            "min": 0,
            "orientation": "horizontal",
            "style": "IPY_MODEL_adb3263e20074e8c935a7504d8fd4d1c",
            "value": 12
          }
        },
        "7bcbab8995864d61b726f4953d1f38ac": {
          "model_module": "@jupyter-widgets/controls",
          "model_name": "HTMLModel",
          "model_module_version": "1.5.0",
          "state": {
            "_dom_classes": [],
            "_model_module": "@jupyter-widgets/controls",
            "_model_module_version": "1.5.0",
            "_model_name": "HTMLModel",
            "_view_count": null,
            "_view_module": "@jupyter-widgets/controls",
            "_view_module_version": "1.5.0",
            "_view_name": "HTMLView",
            "description": "",
            "description_tooltip": null,
            "layout": "IPY_MODEL_f099192b84544179947942d719799792",
            "placeholder": "​",
            "style": "IPY_MODEL_d8f5a0b9a2994d9fba9061de4541fc57",
            "value": " 12/12 [00:01&lt;00:00,  8.32it/s]"
          }
        },
        "1d35d5cc95c04523962044b9336177b0": {
          "model_module": "@jupyter-widgets/base",
          "model_name": "LayoutModel",
          "model_module_version": "1.2.0",
          "state": {
            "_model_module": "@jupyter-widgets/base",
            "_model_module_version": "1.2.0",
            "_model_name": "LayoutModel",
            "_view_count": null,
            "_view_module": "@jupyter-widgets/base",
            "_view_module_version": "1.2.0",
            "_view_name": "LayoutView",
            "align_content": null,
            "align_items": null,
            "align_self": null,
            "border": null,
            "bottom": null,
            "display": null,
            "flex": null,
            "flex_flow": null,
            "grid_area": null,
            "grid_auto_columns": null,
            "grid_auto_flow": null,
            "grid_auto_rows": null,
            "grid_column": null,
            "grid_gap": null,
            "grid_row": null,
            "grid_template_areas": null,
            "grid_template_columns": null,
            "grid_template_rows": null,
            "height": null,
            "justify_content": null,
            "justify_items": null,
            "left": null,
            "margin": null,
            "max_height": null,
            "max_width": null,
            "min_height": null,
            "min_width": null,
            "object_fit": null,
            "object_position": null,
            "order": null,
            "overflow": null,
            "overflow_x": null,
            "overflow_y": null,
            "padding": null,
            "right": null,
            "top": null,
            "visibility": null,
            "width": null
          }
        },
        "fdb346a6b4674eeab6392fe11ec21622": {
          "model_module": "@jupyter-widgets/base",
          "model_name": "LayoutModel",
          "model_module_version": "1.2.0",
          "state": {
            "_model_module": "@jupyter-widgets/base",
            "_model_module_version": "1.2.0",
            "_model_name": "LayoutModel",
            "_view_count": null,
            "_view_module": "@jupyter-widgets/base",
            "_view_module_version": "1.2.0",
            "_view_name": "LayoutView",
            "align_content": null,
            "align_items": null,
            "align_self": null,
            "border": null,
            "bottom": null,
            "display": null,
            "flex": null,
            "flex_flow": null,
            "grid_area": null,
            "grid_auto_columns": null,
            "grid_auto_flow": null,
            "grid_auto_rows": null,
            "grid_column": null,
            "grid_gap": null,
            "grid_row": null,
            "grid_template_areas": null,
            "grid_template_columns": null,
            "grid_template_rows": null,
            "height": null,
            "justify_content": null,
            "justify_items": null,
            "left": null,
            "margin": null,
            "max_height": null,
            "max_width": null,
            "min_height": null,
            "min_width": null,
            "object_fit": null,
            "object_position": null,
            "order": null,
            "overflow": null,
            "overflow_x": null,
            "overflow_y": null,
            "padding": null,
            "right": null,
            "top": null,
            "visibility": null,
            "width": null
          }
        },
        "5415dc750ea74f5293024b8129bbd814": {
          "model_module": "@jupyter-widgets/controls",
          "model_name": "DescriptionStyleModel",
          "model_module_version": "1.5.0",
          "state": {
            "_model_module": "@jupyter-widgets/controls",
            "_model_module_version": "1.5.0",
            "_model_name": "DescriptionStyleModel",
            "_view_count": null,
            "_view_module": "@jupyter-widgets/base",
            "_view_module_version": "1.2.0",
            "_view_name": "StyleView",
            "description_width": ""
          }
        },
        "e315470f6ccb41fba0ff96ce9e0caab4": {
          "model_module": "@jupyter-widgets/base",
          "model_name": "LayoutModel",
          "model_module_version": "1.2.0",
          "state": {
            "_model_module": "@jupyter-widgets/base",
            "_model_module_version": "1.2.0",
            "_model_name": "LayoutModel",
            "_view_count": null,
            "_view_module": "@jupyter-widgets/base",
            "_view_module_version": "1.2.0",
            "_view_name": "LayoutView",
            "align_content": null,
            "align_items": null,
            "align_self": null,
            "border": null,
            "bottom": null,
            "display": null,
            "flex": null,
            "flex_flow": null,
            "grid_area": null,
            "grid_auto_columns": null,
            "grid_auto_flow": null,
            "grid_auto_rows": null,
            "grid_column": null,
            "grid_gap": null,
            "grid_row": null,
            "grid_template_areas": null,
            "grid_template_columns": null,
            "grid_template_rows": null,
            "height": null,
            "justify_content": null,
            "justify_items": null,
            "left": null,
            "margin": null,
            "max_height": null,
            "max_width": null,
            "min_height": null,
            "min_width": null,
            "object_fit": null,
            "object_position": null,
            "order": null,
            "overflow": null,
            "overflow_x": null,
            "overflow_y": null,
            "padding": null,
            "right": null,
            "top": null,
            "visibility": null,
            "width": null
          }
        },
        "adb3263e20074e8c935a7504d8fd4d1c": {
          "model_module": "@jupyter-widgets/controls",
          "model_name": "ProgressStyleModel",
          "model_module_version": "1.5.0",
          "state": {
            "_model_module": "@jupyter-widgets/controls",
            "_model_module_version": "1.5.0",
            "_model_name": "ProgressStyleModel",
            "_view_count": null,
            "_view_module": "@jupyter-widgets/base",
            "_view_module_version": "1.2.0",
            "_view_name": "StyleView",
            "bar_color": null,
            "description_width": ""
          }
        },
        "f099192b84544179947942d719799792": {
          "model_module": "@jupyter-widgets/base",
          "model_name": "LayoutModel",
          "model_module_version": "1.2.0",
          "state": {
            "_model_module": "@jupyter-widgets/base",
            "_model_module_version": "1.2.0",
            "_model_name": "LayoutModel",
            "_view_count": null,
            "_view_module": "@jupyter-widgets/base",
            "_view_module_version": "1.2.0",
            "_view_name": "LayoutView",
            "align_content": null,
            "align_items": null,
            "align_self": null,
            "border": null,
            "bottom": null,
            "display": null,
            "flex": null,
            "flex_flow": null,
            "grid_area": null,
            "grid_auto_columns": null,
            "grid_auto_flow": null,
            "grid_auto_rows": null,
            "grid_column": null,
            "grid_gap": null,
            "grid_row": null,
            "grid_template_areas": null,
            "grid_template_columns": null,
            "grid_template_rows": null,
            "height": null,
            "justify_content": null,
            "justify_items": null,
            "left": null,
            "margin": null,
            "max_height": null,
            "max_width": null,
            "min_height": null,
            "min_width": null,
            "object_fit": null,
            "object_position": null,
            "order": null,
            "overflow": null,
            "overflow_x": null,
            "overflow_y": null,
            "padding": null,
            "right": null,
            "top": null,
            "visibility": null,
            "width": null
          }
        },
        "d8f5a0b9a2994d9fba9061de4541fc57": {
          "model_module": "@jupyter-widgets/controls",
          "model_name": "DescriptionStyleModel",
          "model_module_version": "1.5.0",
          "state": {
            "_model_module": "@jupyter-widgets/controls",
            "_model_module_version": "1.5.0",
            "_model_name": "DescriptionStyleModel",
            "_view_count": null,
            "_view_module": "@jupyter-widgets/base",
            "_view_module_version": "1.2.0",
            "_view_name": "StyleView",
            "description_width": ""
          }
        },
        "6091dc3dd8e441d2b39f4e15867ceeb1": {
          "model_module": "@jupyter-widgets/controls",
          "model_name": "HBoxModel",
          "model_module_version": "1.5.0",
          "state": {
            "_dom_classes": [],
            "_model_module": "@jupyter-widgets/controls",
            "_model_module_version": "1.5.0",
            "_model_name": "HBoxModel",
            "_view_count": null,
            "_view_module": "@jupyter-widgets/controls",
            "_view_module_version": "1.5.0",
            "_view_name": "HBoxView",
            "box_style": "",
            "children": [
              "IPY_MODEL_005c11b15210403ea60df00be944511d",
              "IPY_MODEL_505967cabb134f26ad32dba0593d8a3d",
              "IPY_MODEL_6de3e1cd734c437cb4fd44feca86976f"
            ],
            "layout": "IPY_MODEL_6b5c0e249f494f03a03bcbc81f5deb73"
          }
        },
        "005c11b15210403ea60df00be944511d": {
          "model_module": "@jupyter-widgets/controls",
          "model_name": "HTMLModel",
          "model_module_version": "1.5.0",
          "state": {
            "_dom_classes": [],
            "_model_module": "@jupyter-widgets/controls",
            "_model_module_version": "1.5.0",
            "_model_name": "HTMLModel",
            "_view_count": null,
            "_view_module": "@jupyter-widgets/controls",
            "_view_module_version": "1.5.0",
            "_view_name": "HTMLView",
            "description": "",
            "description_tooltip": null,
            "layout": "IPY_MODEL_c0d55c1e91494f58ad3e862b9639e741",
            "placeholder": "​",
            "style": "IPY_MODEL_81d38da1c7af4393adee3f0a73564ec4",
            "value": "Epoch 3 / 5: 100%"
          }
        },
        "505967cabb134f26ad32dba0593d8a3d": {
          "model_module": "@jupyter-widgets/controls",
          "model_name": "FloatProgressModel",
          "model_module_version": "1.5.0",
          "state": {
            "_dom_classes": [],
            "_model_module": "@jupyter-widgets/controls",
            "_model_module_version": "1.5.0",
            "_model_name": "FloatProgressModel",
            "_view_count": null,
            "_view_module": "@jupyter-widgets/controls",
            "_view_module_version": "1.5.0",
            "_view_name": "ProgressView",
            "bar_style": "success",
            "description": "",
            "description_tooltip": null,
            "layout": "IPY_MODEL_15329b1cdab14f76a8cdc3f19f5f8ea5",
            "max": 12,
            "min": 0,
            "orientation": "horizontal",
            "style": "IPY_MODEL_0cad7257174f401b8c96c94b2a691ede",
            "value": 12
          }
        },
        "6de3e1cd734c437cb4fd44feca86976f": {
          "model_module": "@jupyter-widgets/controls",
          "model_name": "HTMLModel",
          "model_module_version": "1.5.0",
          "state": {
            "_dom_classes": [],
            "_model_module": "@jupyter-widgets/controls",
            "_model_module_version": "1.5.0",
            "_model_name": "HTMLModel",
            "_view_count": null,
            "_view_module": "@jupyter-widgets/controls",
            "_view_module_version": "1.5.0",
            "_view_name": "HTMLView",
            "description": "",
            "description_tooltip": null,
            "layout": "IPY_MODEL_a56d49d0ffa340a2bca5451b4ae22b9d",
            "placeholder": "​",
            "style": "IPY_MODEL_ee299712fbde4b47a3ff66555d2dd21a",
            "value": " 12/12 [00:01&lt;00:00,  9.31it/s]"
          }
        },
        "6b5c0e249f494f03a03bcbc81f5deb73": {
          "model_module": "@jupyter-widgets/base",
          "model_name": "LayoutModel",
          "model_module_version": "1.2.0",
          "state": {
            "_model_module": "@jupyter-widgets/base",
            "_model_module_version": "1.2.0",
            "_model_name": "LayoutModel",
            "_view_count": null,
            "_view_module": "@jupyter-widgets/base",
            "_view_module_version": "1.2.0",
            "_view_name": "LayoutView",
            "align_content": null,
            "align_items": null,
            "align_self": null,
            "border": null,
            "bottom": null,
            "display": null,
            "flex": null,
            "flex_flow": null,
            "grid_area": null,
            "grid_auto_columns": null,
            "grid_auto_flow": null,
            "grid_auto_rows": null,
            "grid_column": null,
            "grid_gap": null,
            "grid_row": null,
            "grid_template_areas": null,
            "grid_template_columns": null,
            "grid_template_rows": null,
            "height": null,
            "justify_content": null,
            "justify_items": null,
            "left": null,
            "margin": null,
            "max_height": null,
            "max_width": null,
            "min_height": null,
            "min_width": null,
            "object_fit": null,
            "object_position": null,
            "order": null,
            "overflow": null,
            "overflow_x": null,
            "overflow_y": null,
            "padding": null,
            "right": null,
            "top": null,
            "visibility": null,
            "width": null
          }
        },
        "c0d55c1e91494f58ad3e862b9639e741": {
          "model_module": "@jupyter-widgets/base",
          "model_name": "LayoutModel",
          "model_module_version": "1.2.0",
          "state": {
            "_model_module": "@jupyter-widgets/base",
            "_model_module_version": "1.2.0",
            "_model_name": "LayoutModel",
            "_view_count": null,
            "_view_module": "@jupyter-widgets/base",
            "_view_module_version": "1.2.0",
            "_view_name": "LayoutView",
            "align_content": null,
            "align_items": null,
            "align_self": null,
            "border": null,
            "bottom": null,
            "display": null,
            "flex": null,
            "flex_flow": null,
            "grid_area": null,
            "grid_auto_columns": null,
            "grid_auto_flow": null,
            "grid_auto_rows": null,
            "grid_column": null,
            "grid_gap": null,
            "grid_row": null,
            "grid_template_areas": null,
            "grid_template_columns": null,
            "grid_template_rows": null,
            "height": null,
            "justify_content": null,
            "justify_items": null,
            "left": null,
            "margin": null,
            "max_height": null,
            "max_width": null,
            "min_height": null,
            "min_width": null,
            "object_fit": null,
            "object_position": null,
            "order": null,
            "overflow": null,
            "overflow_x": null,
            "overflow_y": null,
            "padding": null,
            "right": null,
            "top": null,
            "visibility": null,
            "width": null
          }
        },
        "81d38da1c7af4393adee3f0a73564ec4": {
          "model_module": "@jupyter-widgets/controls",
          "model_name": "DescriptionStyleModel",
          "model_module_version": "1.5.0",
          "state": {
            "_model_module": "@jupyter-widgets/controls",
            "_model_module_version": "1.5.0",
            "_model_name": "DescriptionStyleModel",
            "_view_count": null,
            "_view_module": "@jupyter-widgets/base",
            "_view_module_version": "1.2.0",
            "_view_name": "StyleView",
            "description_width": ""
          }
        },
        "15329b1cdab14f76a8cdc3f19f5f8ea5": {
          "model_module": "@jupyter-widgets/base",
          "model_name": "LayoutModel",
          "model_module_version": "1.2.0",
          "state": {
            "_model_module": "@jupyter-widgets/base",
            "_model_module_version": "1.2.0",
            "_model_name": "LayoutModel",
            "_view_count": null,
            "_view_module": "@jupyter-widgets/base",
            "_view_module_version": "1.2.0",
            "_view_name": "LayoutView",
            "align_content": null,
            "align_items": null,
            "align_self": null,
            "border": null,
            "bottom": null,
            "display": null,
            "flex": null,
            "flex_flow": null,
            "grid_area": null,
            "grid_auto_columns": null,
            "grid_auto_flow": null,
            "grid_auto_rows": null,
            "grid_column": null,
            "grid_gap": null,
            "grid_row": null,
            "grid_template_areas": null,
            "grid_template_columns": null,
            "grid_template_rows": null,
            "height": null,
            "justify_content": null,
            "justify_items": null,
            "left": null,
            "margin": null,
            "max_height": null,
            "max_width": null,
            "min_height": null,
            "min_width": null,
            "object_fit": null,
            "object_position": null,
            "order": null,
            "overflow": null,
            "overflow_x": null,
            "overflow_y": null,
            "padding": null,
            "right": null,
            "top": null,
            "visibility": null,
            "width": null
          }
        },
        "0cad7257174f401b8c96c94b2a691ede": {
          "model_module": "@jupyter-widgets/controls",
          "model_name": "ProgressStyleModel",
          "model_module_version": "1.5.0",
          "state": {
            "_model_module": "@jupyter-widgets/controls",
            "_model_module_version": "1.5.0",
            "_model_name": "ProgressStyleModel",
            "_view_count": null,
            "_view_module": "@jupyter-widgets/base",
            "_view_module_version": "1.2.0",
            "_view_name": "StyleView",
            "bar_color": null,
            "description_width": ""
          }
        },
        "a56d49d0ffa340a2bca5451b4ae22b9d": {
          "model_module": "@jupyter-widgets/base",
          "model_name": "LayoutModel",
          "model_module_version": "1.2.0",
          "state": {
            "_model_module": "@jupyter-widgets/base",
            "_model_module_version": "1.2.0",
            "_model_name": "LayoutModel",
            "_view_count": null,
            "_view_module": "@jupyter-widgets/base",
            "_view_module_version": "1.2.0",
            "_view_name": "LayoutView",
            "align_content": null,
            "align_items": null,
            "align_self": null,
            "border": null,
            "bottom": null,
            "display": null,
            "flex": null,
            "flex_flow": null,
            "grid_area": null,
            "grid_auto_columns": null,
            "grid_auto_flow": null,
            "grid_auto_rows": null,
            "grid_column": null,
            "grid_gap": null,
            "grid_row": null,
            "grid_template_areas": null,
            "grid_template_columns": null,
            "grid_template_rows": null,
            "height": null,
            "justify_content": null,
            "justify_items": null,
            "left": null,
            "margin": null,
            "max_height": null,
            "max_width": null,
            "min_height": null,
            "min_width": null,
            "object_fit": null,
            "object_position": null,
            "order": null,
            "overflow": null,
            "overflow_x": null,
            "overflow_y": null,
            "padding": null,
            "right": null,
            "top": null,
            "visibility": null,
            "width": null
          }
        },
        "ee299712fbde4b47a3ff66555d2dd21a": {
          "model_module": "@jupyter-widgets/controls",
          "model_name": "DescriptionStyleModel",
          "model_module_version": "1.5.0",
          "state": {
            "_model_module": "@jupyter-widgets/controls",
            "_model_module_version": "1.5.0",
            "_model_name": "DescriptionStyleModel",
            "_view_count": null,
            "_view_module": "@jupyter-widgets/base",
            "_view_module_version": "1.2.0",
            "_view_name": "StyleView",
            "description_width": ""
          }
        },
        "eef66a4590484524b6787fbfc607a6ea": {
          "model_module": "@jupyter-widgets/controls",
          "model_name": "HBoxModel",
          "model_module_version": "1.5.0",
          "state": {
            "_dom_classes": [],
            "_model_module": "@jupyter-widgets/controls",
            "_model_module_version": "1.5.0",
            "_model_name": "HBoxModel",
            "_view_count": null,
            "_view_module": "@jupyter-widgets/controls",
            "_view_module_version": "1.5.0",
            "_view_name": "HBoxView",
            "box_style": "",
            "children": [
              "IPY_MODEL_d2905fb9244d435ebdac0562d45bbd0e",
              "IPY_MODEL_80ea34fa6b7a46f584a81797800fcacc",
              "IPY_MODEL_75ee2ca873414da3b843d49889432667"
            ],
            "layout": "IPY_MODEL_5ac1d650c388441da76ac7a121202b5e"
          }
        },
        "d2905fb9244d435ebdac0562d45bbd0e": {
          "model_module": "@jupyter-widgets/controls",
          "model_name": "HTMLModel",
          "model_module_version": "1.5.0",
          "state": {
            "_dom_classes": [],
            "_model_module": "@jupyter-widgets/controls",
            "_model_module_version": "1.5.0",
            "_model_name": "HTMLModel",
            "_view_count": null,
            "_view_module": "@jupyter-widgets/controls",
            "_view_module_version": "1.5.0",
            "_view_name": "HTMLView",
            "description": "",
            "description_tooltip": null,
            "layout": "IPY_MODEL_f71f2940ab814ad488dde49922acb88d",
            "placeholder": "​",
            "style": "IPY_MODEL_c5905b58f179419cb0568edf54ae62ed",
            "value": "Epoch 4 / 5: 100%"
          }
        },
        "80ea34fa6b7a46f584a81797800fcacc": {
          "model_module": "@jupyter-widgets/controls",
          "model_name": "FloatProgressModel",
          "model_module_version": "1.5.0",
          "state": {
            "_dom_classes": [],
            "_model_module": "@jupyter-widgets/controls",
            "_model_module_version": "1.5.0",
            "_model_name": "FloatProgressModel",
            "_view_count": null,
            "_view_module": "@jupyter-widgets/controls",
            "_view_module_version": "1.5.0",
            "_view_name": "ProgressView",
            "bar_style": "success",
            "description": "",
            "description_tooltip": null,
            "layout": "IPY_MODEL_3fa1a8da1b474c228c3f43e14a4fc97a",
            "max": 12,
            "min": 0,
            "orientation": "horizontal",
            "style": "IPY_MODEL_f9c93d61505e4079b5af127895857b21",
            "value": 12
          }
        },
        "75ee2ca873414da3b843d49889432667": {
          "model_module": "@jupyter-widgets/controls",
          "model_name": "HTMLModel",
          "model_module_version": "1.5.0",
          "state": {
            "_dom_classes": [],
            "_model_module": "@jupyter-widgets/controls",
            "_model_module_version": "1.5.0",
            "_model_name": "HTMLModel",
            "_view_count": null,
            "_view_module": "@jupyter-widgets/controls",
            "_view_module_version": "1.5.0",
            "_view_name": "HTMLView",
            "description": "",
            "description_tooltip": null,
            "layout": "IPY_MODEL_2cdc9cd15bfe4d13bb4d9855030954d7",
            "placeholder": "​",
            "style": "IPY_MODEL_249c00ce8dcd4fd4a3962460b842947b",
            "value": " 12/12 [00:01&lt;00:00,  9.48it/s]"
          }
        },
        "5ac1d650c388441da76ac7a121202b5e": {
          "model_module": "@jupyter-widgets/base",
          "model_name": "LayoutModel",
          "model_module_version": "1.2.0",
          "state": {
            "_model_module": "@jupyter-widgets/base",
            "_model_module_version": "1.2.0",
            "_model_name": "LayoutModel",
            "_view_count": null,
            "_view_module": "@jupyter-widgets/base",
            "_view_module_version": "1.2.0",
            "_view_name": "LayoutView",
            "align_content": null,
            "align_items": null,
            "align_self": null,
            "border": null,
            "bottom": null,
            "display": null,
            "flex": null,
            "flex_flow": null,
            "grid_area": null,
            "grid_auto_columns": null,
            "grid_auto_flow": null,
            "grid_auto_rows": null,
            "grid_column": null,
            "grid_gap": null,
            "grid_row": null,
            "grid_template_areas": null,
            "grid_template_columns": null,
            "grid_template_rows": null,
            "height": null,
            "justify_content": null,
            "justify_items": null,
            "left": null,
            "margin": null,
            "max_height": null,
            "max_width": null,
            "min_height": null,
            "min_width": null,
            "object_fit": null,
            "object_position": null,
            "order": null,
            "overflow": null,
            "overflow_x": null,
            "overflow_y": null,
            "padding": null,
            "right": null,
            "top": null,
            "visibility": null,
            "width": null
          }
        },
        "f71f2940ab814ad488dde49922acb88d": {
          "model_module": "@jupyter-widgets/base",
          "model_name": "LayoutModel",
          "model_module_version": "1.2.0",
          "state": {
            "_model_module": "@jupyter-widgets/base",
            "_model_module_version": "1.2.0",
            "_model_name": "LayoutModel",
            "_view_count": null,
            "_view_module": "@jupyter-widgets/base",
            "_view_module_version": "1.2.0",
            "_view_name": "LayoutView",
            "align_content": null,
            "align_items": null,
            "align_self": null,
            "border": null,
            "bottom": null,
            "display": null,
            "flex": null,
            "flex_flow": null,
            "grid_area": null,
            "grid_auto_columns": null,
            "grid_auto_flow": null,
            "grid_auto_rows": null,
            "grid_column": null,
            "grid_gap": null,
            "grid_row": null,
            "grid_template_areas": null,
            "grid_template_columns": null,
            "grid_template_rows": null,
            "height": null,
            "justify_content": null,
            "justify_items": null,
            "left": null,
            "margin": null,
            "max_height": null,
            "max_width": null,
            "min_height": null,
            "min_width": null,
            "object_fit": null,
            "object_position": null,
            "order": null,
            "overflow": null,
            "overflow_x": null,
            "overflow_y": null,
            "padding": null,
            "right": null,
            "top": null,
            "visibility": null,
            "width": null
          }
        },
        "c5905b58f179419cb0568edf54ae62ed": {
          "model_module": "@jupyter-widgets/controls",
          "model_name": "DescriptionStyleModel",
          "model_module_version": "1.5.0",
          "state": {
            "_model_module": "@jupyter-widgets/controls",
            "_model_module_version": "1.5.0",
            "_model_name": "DescriptionStyleModel",
            "_view_count": null,
            "_view_module": "@jupyter-widgets/base",
            "_view_module_version": "1.2.0",
            "_view_name": "StyleView",
            "description_width": ""
          }
        },
        "3fa1a8da1b474c228c3f43e14a4fc97a": {
          "model_module": "@jupyter-widgets/base",
          "model_name": "LayoutModel",
          "model_module_version": "1.2.0",
          "state": {
            "_model_module": "@jupyter-widgets/base",
            "_model_module_version": "1.2.0",
            "_model_name": "LayoutModel",
            "_view_count": null,
            "_view_module": "@jupyter-widgets/base",
            "_view_module_version": "1.2.0",
            "_view_name": "LayoutView",
            "align_content": null,
            "align_items": null,
            "align_self": null,
            "border": null,
            "bottom": null,
            "display": null,
            "flex": null,
            "flex_flow": null,
            "grid_area": null,
            "grid_auto_columns": null,
            "grid_auto_flow": null,
            "grid_auto_rows": null,
            "grid_column": null,
            "grid_gap": null,
            "grid_row": null,
            "grid_template_areas": null,
            "grid_template_columns": null,
            "grid_template_rows": null,
            "height": null,
            "justify_content": null,
            "justify_items": null,
            "left": null,
            "margin": null,
            "max_height": null,
            "max_width": null,
            "min_height": null,
            "min_width": null,
            "object_fit": null,
            "object_position": null,
            "order": null,
            "overflow": null,
            "overflow_x": null,
            "overflow_y": null,
            "padding": null,
            "right": null,
            "top": null,
            "visibility": null,
            "width": null
          }
        },
        "f9c93d61505e4079b5af127895857b21": {
          "model_module": "@jupyter-widgets/controls",
          "model_name": "ProgressStyleModel",
          "model_module_version": "1.5.0",
          "state": {
            "_model_module": "@jupyter-widgets/controls",
            "_model_module_version": "1.5.0",
            "_model_name": "ProgressStyleModel",
            "_view_count": null,
            "_view_module": "@jupyter-widgets/base",
            "_view_module_version": "1.2.0",
            "_view_name": "StyleView",
            "bar_color": null,
            "description_width": ""
          }
        },
        "2cdc9cd15bfe4d13bb4d9855030954d7": {
          "model_module": "@jupyter-widgets/base",
          "model_name": "LayoutModel",
          "model_module_version": "1.2.0",
          "state": {
            "_model_module": "@jupyter-widgets/base",
            "_model_module_version": "1.2.0",
            "_model_name": "LayoutModel",
            "_view_count": null,
            "_view_module": "@jupyter-widgets/base",
            "_view_module_version": "1.2.0",
            "_view_name": "LayoutView",
            "align_content": null,
            "align_items": null,
            "align_self": null,
            "border": null,
            "bottom": null,
            "display": null,
            "flex": null,
            "flex_flow": null,
            "grid_area": null,
            "grid_auto_columns": null,
            "grid_auto_flow": null,
            "grid_auto_rows": null,
            "grid_column": null,
            "grid_gap": null,
            "grid_row": null,
            "grid_template_areas": null,
            "grid_template_columns": null,
            "grid_template_rows": null,
            "height": null,
            "justify_content": null,
            "justify_items": null,
            "left": null,
            "margin": null,
            "max_height": null,
            "max_width": null,
            "min_height": null,
            "min_width": null,
            "object_fit": null,
            "object_position": null,
            "order": null,
            "overflow": null,
            "overflow_x": null,
            "overflow_y": null,
            "padding": null,
            "right": null,
            "top": null,
            "visibility": null,
            "width": null
          }
        },
        "249c00ce8dcd4fd4a3962460b842947b": {
          "model_module": "@jupyter-widgets/controls",
          "model_name": "DescriptionStyleModel",
          "model_module_version": "1.5.0",
          "state": {
            "_model_module": "@jupyter-widgets/controls",
            "_model_module_version": "1.5.0",
            "_model_name": "DescriptionStyleModel",
            "_view_count": null,
            "_view_module": "@jupyter-widgets/base",
            "_view_module_version": "1.2.0",
            "_view_name": "StyleView",
            "description_width": ""
          }
        }
      }
    },
    "gpuClass": "standard"
  },
  "nbformat": 4,
  "nbformat_minor": 0
}
