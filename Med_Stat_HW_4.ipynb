{
  "nbformat": 4,
  "nbformat_minor": 0,
  "metadata": {
    "colab": {
      "provenance": [],
      "authorship_tag": "ABX9TyNYT8cC39MicMRY5QRAVqCp",
      "include_colab_link": true
    },
    "kernelspec": {
      "name": "ir",
      "display_name": "R"
    },
    "language_info": {
      "name": "R"
    }
  },
  "cells": [
    {
      "cell_type": "markdown",
      "metadata": {
        "id": "view-in-github",
        "colab_type": "text"
      },
      "source": [
        "<a href=\"https://colab.research.google.com/github/VitalyGladyshev/med_work/blob/main/Med_Stat_HW_4.ipynb\" target=\"_parent\"><img src=\"https://colab.research.google.com/assets/colab-badge.svg\" alt=\"Open In Colab\"/></a>"
      ]
    },
    {
      "cell_type": "markdown",
      "source": [
        "# Прикладная статистика в медицине"
      ],
      "metadata": {
        "id": "zb_N1P-n4Ic7"
      }
    },
    {
      "cell_type": "markdown",
      "source": [
        "## ДЗ 4 Гладышев В.В."
      ],
      "metadata": {
        "id": "f-3ICPim4S1D"
      }
    },
    {
      "cell_type": "markdown",
      "source": [
        "## Тесты для 3 и более групп сравнения, post-hoc тестирование"
      ],
      "metadata": {
        "id": "NHC53Wb-4TXb"
      }
    },
    {
      "cell_type": "markdown",
      "source": [
        "Проведём дисперсионный анализ. В качестве нулевой гипотезы примем, что средние соответствующих признаков не имеют статистически значимых различий."
      ],
      "metadata": {
        "id": "nVYFPaIk4fL5"
      }
    },
    {
      "cell_type": "code",
      "source": [
        "data_metadata <- read.csv('/content/metadata.tsv', header = TRUE, sep = '\\t')\n",
        "head(data_metadata)"
      ],
      "metadata": {
        "colab": {
          "base_uri": "https://localhost:8080/",
          "height": 532
        },
        "id": "eYRU2WQzaMF5",
        "outputId": "8da2dae0-409b-4c9b-df6e-519515ae6e9c"
      },
      "execution_count": 1,
      "outputs": [
        {
          "output_type": "display_data",
          "data": {
            "text/html": [
              "<table class=\"dataframe\">\n",
              "<caption>A data.frame: 6 × 49</caption>\n",
              "<thead>\n",
              "\t<tr><th></th><th scope=col>Vialnumber</th><th scope=col>Patientnumber</th><th scope=col>Sucrose</th><th scope=col>Name</th><th scope=col>Group</th><th scope=col>Date</th><th scope=col>Age</th><th scope=col>Plasmavolume</th><th scope=col>Ht</th><th scope=col>Wt</th><th scope=col>⋯</th><th scope=col>rlatmax</th><th scope=col>rantmax</th><th scope=col>rposmax</th><th scope=col>llatmax</th><th scope=col>lantmax</th><th scope=col>lposmax</th><th scope=col>carotidIMTmean</th><th scope=col>Plaque</th><th scope=col>Statins</th><th scope=col>comorbidities</th></tr>\n",
              "\t<tr><th></th><th scope=col>&lt;int&gt;</th><th scope=col>&lt;int&gt;</th><th scope=col>&lt;int&gt;</th><th scope=col>&lt;chr&gt;</th><th scope=col>&lt;int&gt;</th><th scope=col>&lt;chr&gt;</th><th scope=col>&lt;int&gt;</th><th scope=col>&lt;dbl&gt;</th><th scope=col>&lt;int&gt;</th><th scope=col>&lt;dbl&gt;</th><th scope=col>⋯</th><th scope=col>&lt;dbl&gt;</th><th scope=col>&lt;dbl&gt;</th><th scope=col>&lt;dbl&gt;</th><th scope=col>&lt;dbl&gt;</th><th scope=col>&lt;dbl&gt;</th><th scope=col>&lt;dbl&gt;</th><th scope=col>&lt;dbl&gt;</th><th scope=col>&lt;int&gt;</th><th scope=col>&lt;int&gt;</th><th scope=col>&lt;chr&gt;</th></tr>\n",
              "</thead>\n",
              "<tbody>\n",
              "\t<tr><th scope=row>1</th><td>1</td><td>50</td><td>0</td><td>Begaye, Decarlo    </td><td>0</td><td>2023-01-14</td><td>63</td><td>6.5</td><td>163</td><td> 84.0</td><td>⋯</td><td>0.65</td><td>0.80</td><td>0.80</td><td>0.81</td><td>0.78</td><td>0.80</td><td>0.6425000</td><td>1</td><td>1</td><td>NA                                                                                       </td></tr>\n",
              "\t<tr><th scope=row>2</th><td>2</td><td>51</td><td>0</td><td>Sweetwater, Kristen</td><td>0</td><td>2022-10-09</td><td>47</td><td>5.5</td><td>179</td><td>111.0</td><td>⋯</td><td>1.03</td><td>0.92</td><td>1.03</td><td>1.03</td><td>1.03</td><td>1.09</td><td>0.8400000</td><td>1</td><td>0</td><td>NA                                                                                       </td></tr>\n",
              "\t<tr><th scope=row>3</th><td>3</td><td>52</td><td>0</td><td>Figurelli, Samuel  </td><td>1</td><td>2023-10-24</td><td>57</td><td>7.0</td><td>164</td><td> 80.0</td><td>⋯</td><td>1.00</td><td>0.90</td><td>0.95</td><td>0.85</td><td>0.90</td><td>0.90</td><td>0.8500000</td><td>3</td><td>1</td><td>Type 2 diabetes mellitus; MI - 2016                                                      </td></tr>\n",
              "\t<tr><th scope=row>4</th><td>4</td><td>53</td><td>0</td><td>Pamphille, Mehgan  </td><td>1</td><td>2023-07-02</td><td>72</td><td>5.0</td><td>160</td><td> 58.8</td><td>⋯</td><td>0.91</td><td>0.97</td><td>0.98</td><td>0.86</td><td>0.74</td><td>0.80</td><td>0.8241667</td><td>2</td><td>0</td><td>1-2 times per year hypertensive crises (Corinfar)                                        </td></tr>\n",
              "\t<tr><th scope=row>5</th><td>5</td><td>54</td><td>0</td><td>Morgan, Rollin     </td><td>1</td><td>2022-11-27</td><td>57</td><td>5.0</td><td>180</td><td> 71.0</td><td>⋯</td><td>1.20</td><td>1.20</td><td>1.25</td><td>1.10</td><td>1.30</td><td>1.13</td><td>1.0983333</td><td>1</td><td>1</td><td>NA                                                                                       </td></tr>\n",
              "\t<tr><th scope=row>6</th><td>6</td><td>55</td><td>0</td><td>Abdul-Amin, Taelor </td><td>1</td><td>2022-07-12</td><td>79</td><td>6.2</td><td>160</td><td> 64.0</td><td>⋯</td><td>0.88</td><td>0.80</td><td>0.90</td><td>1.07</td><td>1.00</td><td>1.30</td><td>0.8475000</td><td>2</td><td>0</td><td>Cholecystitis, gastritis without exacerbation. Diffuse focal changes in the thyroid gland</td></tr>\n",
              "</tbody>\n",
              "</table>\n"
            ],
            "text/markdown": "\nA data.frame: 6 × 49\n\n| <!--/--> | Vialnumber &lt;int&gt; | Patientnumber &lt;int&gt; | Sucrose &lt;int&gt; | Name &lt;chr&gt; | Group &lt;int&gt; | Date &lt;chr&gt; | Age &lt;int&gt; | Plasmavolume &lt;dbl&gt; | Ht &lt;int&gt; | Wt &lt;dbl&gt; | ⋯ ⋯ | rlatmax &lt;dbl&gt; | rantmax &lt;dbl&gt; | rposmax &lt;dbl&gt; | llatmax &lt;dbl&gt; | lantmax &lt;dbl&gt; | lposmax &lt;dbl&gt; | carotidIMTmean &lt;dbl&gt; | Plaque &lt;int&gt; | Statins &lt;int&gt; | comorbidities &lt;chr&gt; |\n|---|---|---|---|---|---|---|---|---|---|---|---|---|---|---|---|---|---|---|---|---|---|\n| 1 | 1 | 50 | 0 | Begaye, Decarlo     | 0 | 2023-01-14 | 63 | 6.5 | 163 |  84.0 | ⋯ | 0.65 | 0.80 | 0.80 | 0.81 | 0.78 | 0.80 | 0.6425000 | 1 | 1 | NA                                                                                        |\n| 2 | 2 | 51 | 0 | Sweetwater, Kristen | 0 | 2022-10-09 | 47 | 5.5 | 179 | 111.0 | ⋯ | 1.03 | 0.92 | 1.03 | 1.03 | 1.03 | 1.09 | 0.8400000 | 1 | 0 | NA                                                                                        |\n| 3 | 3 | 52 | 0 | Figurelli, Samuel   | 1 | 2023-10-24 | 57 | 7.0 | 164 |  80.0 | ⋯ | 1.00 | 0.90 | 0.95 | 0.85 | 0.90 | 0.90 | 0.8500000 | 3 | 1 | Type 2 diabetes mellitus; MI - 2016                                                       |\n| 4 | 4 | 53 | 0 | Pamphille, Mehgan   | 1 | 2023-07-02 | 72 | 5.0 | 160 |  58.8 | ⋯ | 0.91 | 0.97 | 0.98 | 0.86 | 0.74 | 0.80 | 0.8241667 | 2 | 0 | 1-2 times per year hypertensive crises (Corinfar)                                         |\n| 5 | 5 | 54 | 0 | Morgan, Rollin      | 1 | 2022-11-27 | 57 | 5.0 | 180 |  71.0 | ⋯ | 1.20 | 1.20 | 1.25 | 1.10 | 1.30 | 1.13 | 1.0983333 | 1 | 1 | NA                                                                                        |\n| 6 | 6 | 55 | 0 | Abdul-Amin, Taelor  | 1 | 2022-07-12 | 79 | 6.2 | 160 |  64.0 | ⋯ | 0.88 | 0.80 | 0.90 | 1.07 | 1.00 | 1.30 | 0.8475000 | 2 | 0 | Cholecystitis, gastritis without exacerbation. Diffuse focal changes in the thyroid gland |\n\n",
            "text/latex": "A data.frame: 6 × 49\n\\begin{tabular}{r|lllllllllllllllllllll}\n  & Vialnumber & Patientnumber & Sucrose & Name & Group & Date & Age & Plasmavolume & Ht & Wt & ⋯ & rlatmax & rantmax & rposmax & llatmax & lantmax & lposmax & carotidIMTmean & Plaque & Statins & comorbidities\\\\\n  & <int> & <int> & <int> & <chr> & <int> & <chr> & <int> & <dbl> & <int> & <dbl> & ⋯ & <dbl> & <dbl> & <dbl> & <dbl> & <dbl> & <dbl> & <dbl> & <int> & <int> & <chr>\\\\\n\\hline\n\t1 & 1 & 50 & 0 & Begaye, Decarlo     & 0 & 2023-01-14 & 63 & 6.5 & 163 &  84.0 & ⋯ & 0.65 & 0.80 & 0.80 & 0.81 & 0.78 & 0.80 & 0.6425000 & 1 & 1 & NA                                                                                       \\\\\n\t2 & 2 & 51 & 0 & Sweetwater, Kristen & 0 & 2022-10-09 & 47 & 5.5 & 179 & 111.0 & ⋯ & 1.03 & 0.92 & 1.03 & 1.03 & 1.03 & 1.09 & 0.8400000 & 1 & 0 & NA                                                                                       \\\\\n\t3 & 3 & 52 & 0 & Figurelli, Samuel   & 1 & 2023-10-24 & 57 & 7.0 & 164 &  80.0 & ⋯ & 1.00 & 0.90 & 0.95 & 0.85 & 0.90 & 0.90 & 0.8500000 & 3 & 1 & Type 2 diabetes mellitus; MI - 2016                                                      \\\\\n\t4 & 4 & 53 & 0 & Pamphille, Mehgan   & 1 & 2023-07-02 & 72 & 5.0 & 160 &  58.8 & ⋯ & 0.91 & 0.97 & 0.98 & 0.86 & 0.74 & 0.80 & 0.8241667 & 2 & 0 & 1-2 times per year hypertensive crises (Corinfar)                                        \\\\\n\t5 & 5 & 54 & 0 & Morgan, Rollin      & 1 & 2022-11-27 & 57 & 5.0 & 180 &  71.0 & ⋯ & 1.20 & 1.20 & 1.25 & 1.10 & 1.30 & 1.13 & 1.0983333 & 1 & 1 & NA                                                                                       \\\\\n\t6 & 6 & 55 & 0 & Abdul-Amin, Taelor  & 1 & 2022-07-12 & 79 & 6.2 & 160 &  64.0 & ⋯ & 0.88 & 0.80 & 0.90 & 1.07 & 1.00 & 1.30 & 0.8475000 & 2 & 0 & Cholecystitis, gastritis without exacerbation. Diffuse focal changes in the thyroid gland\\\\\n\\end{tabular}\n",
            "text/plain": [
              "  Vialnumber Patientnumber Sucrose Name                Group Date       Age\n",
              "1 1          50            0       Begaye, Decarlo     0     2023-01-14 63 \n",
              "2 2          51            0       Sweetwater, Kristen 0     2022-10-09 47 \n",
              "3 3          52            0       Figurelli, Samuel   1     2023-10-24 57 \n",
              "4 4          53            0       Pamphille, Mehgan   1     2023-07-02 72 \n",
              "5 5          54            0       Morgan, Rollin      1     2022-11-27 57 \n",
              "6 6          55            0       Abdul-Amin, Taelor  1     2022-07-12 79 \n",
              "  Plasmavolume Ht  Wt    ⋯ rlatmax rantmax rposmax llatmax lantmax lposmax\n",
              "1 6.5          163  84.0 ⋯ 0.65    0.80    0.80    0.81    0.78    0.80   \n",
              "2 5.5          179 111.0 ⋯ 1.03    0.92    1.03    1.03    1.03    1.09   \n",
              "3 7.0          164  80.0 ⋯ 1.00    0.90    0.95    0.85    0.90    0.90   \n",
              "4 5.0          160  58.8 ⋯ 0.91    0.97    0.98    0.86    0.74    0.80   \n",
              "5 5.0          180  71.0 ⋯ 1.20    1.20    1.25    1.10    1.30    1.13   \n",
              "6 6.2          160  64.0 ⋯ 0.88    0.80    0.90    1.07    1.00    1.30   \n",
              "  carotidIMTmean Plaque Statins\n",
              "1 0.6425000      1      1      \n",
              "2 0.8400000      1      0      \n",
              "3 0.8500000      3      1      \n",
              "4 0.8241667      2      0      \n",
              "5 1.0983333      1      1      \n",
              "6 0.8475000      2      0      \n",
              "  comorbidities                                                                            \n",
              "1 NA                                                                                       \n",
              "2 NA                                                                                       \n",
              "3 Type 2 diabetes mellitus; MI - 2016                                                      \n",
              "4 1-2 times per year hypertensive crises (Corinfar)                                        \n",
              "5 NA                                                                                       \n",
              "6 Cholecystitis, gastritis without exacerbation. Diffuse focal changes in the thyroid gland"
            ]
          },
          "metadata": {}
        }
      ]
    },
    {
      "cell_type": "code",
      "execution_count": 2,
      "metadata": {
        "id": "lNsQJmdc39y4",
        "colab": {
          "base_uri": "https://localhost:8080/",
          "height": 306
        },
        "outputId": "98e80670-402f-4b71-f7b9-b30da40594ee"
      },
      "outputs": [
        {
          "output_type": "display_data",
          "data": {
            "text/html": [
              "<table class=\"dataframe\">\n",
              "<caption>A data.frame: 6 × 38</caption>\n",
              "<thead>\n",
              "\t<tr><th></th><th scope=col>Vial.number</th><th scope=col>Patient.number</th><th scope=col>Name</th><th scope=col>GPLDL1</th><th scope=col>GPLDL2</th><th scope=col>GPLDL3</th><th scope=col>GPLDL4</th><th scope=col>GPLDL5</th><th scope=col>GPLDL6</th><th scope=col>GPLDL7</th><th scope=col>⋯</th><th scope=col>G1</th><th scope=col>G2</th><th scope=col>G3</th><th scope=col>S0</th><th scope=col>S1</th><th scope=col>S2</th><th scope=col>S3</th><th scope=col>B</th><th scope=col>F</th><th scope=col>HM</th></tr>\n",
              "\t<tr><th></th><th scope=col>&lt;int&gt;</th><th scope=col>&lt;int&gt;</th><th scope=col>&lt;chr&gt;</th><th scope=col>&lt;dbl&gt;</th><th scope=col>&lt;dbl&gt;</th><th scope=col>&lt;dbl&gt;</th><th scope=col>&lt;dbl&gt;</th><th scope=col>&lt;dbl&gt;</th><th scope=col>&lt;dbl&gt;</th><th scope=col>&lt;dbl&gt;</th><th scope=col>⋯</th><th scope=col>&lt;dbl&gt;</th><th scope=col>&lt;dbl&gt;</th><th scope=col>&lt;dbl&gt;</th><th scope=col>&lt;dbl&gt;</th><th scope=col>&lt;dbl&gt;</th><th scope=col>&lt;dbl&gt;</th><th scope=col>&lt;dbl&gt;</th><th scope=col>&lt;dbl&gt;</th><th scope=col>&lt;dbl&gt;</th><th scope=col>&lt;dbl&gt;</th></tr>\n",
              "</thead>\n",
              "<tbody>\n",
              "\t<tr><th scope=row>1</th><td>1</td><td>50</td><td>LDL</td><td>0.40</td><td>6.74</td><td>0.20</td><td>0.02</td><td>1.09</td><td>3.79</td><td>2.27</td><td>⋯</td><td>4.09</td><td>68.91</td><td>3.57</td><td>3.98</td><td>28.18</td><td>42.46</td><td>1.95</td><td>0.02</td><td>1.67</td><td>13.02</td></tr>\n",
              "\t<tr><th scope=row>2</th><td>3</td><td>52</td><td>LDL</td><td>0.46</td><td>7.37</td><td>0.39</td><td>0.02</td><td>1.06</td><td>4.55</td><td>2.71</td><td>⋯</td><td>5.16</td><td>68.22</td><td>3.11</td><td>4.64</td><td>30.43</td><td>39.86</td><td>1.56</td><td>0.02</td><td>1.69</td><td>14.16</td></tr>\n",
              "\t<tr><th scope=row>3</th><td>4</td><td>53</td><td>LDL</td><td>0.30</td><td>8.23</td><td>0.26</td><td>0.02</td><td>0.88</td><td>3.66</td><td>2.32</td><td>⋯</td><td>3.95</td><td>68.03</td><td>4.50</td><td>3.78</td><td>29.37</td><td>41.13</td><td>2.20</td><td>0.02</td><td>1.89</td><td>13.89</td></tr>\n",
              "\t<tr><th scope=row>4</th><td>5</td><td>54</td><td>LDL</td><td>0.47</td><td>7.94</td><td>0.29</td><td>0.02</td><td>1.11</td><td>3.97</td><td>2.55</td><td>⋯</td><td>4.63</td><td>66.91</td><td>4.03</td><td>4.44</td><td>28.54</td><td>40.64</td><td>1.95</td><td>0.02</td><td>2.03</td><td>14.25</td></tr>\n",
              "\t<tr><th scope=row>5</th><td>6</td><td>55</td><td>LDL</td><td>0.31</td><td>9.68</td><td>0.18</td><td>0.02</td><td>0.97</td><td>4.50</td><td>2.24</td><td>⋯</td><td>4.05</td><td>64.01</td><td>5.27</td><td>3.72</td><td>26.71</td><td>40.39</td><td>2.51</td><td>0.02</td><td>2.70</td><td>16.06</td></tr>\n",
              "\t<tr><th scope=row>6</th><td>7</td><td>56</td><td>LDL</td><td>0.30</td><td>7.32</td><td>0.22</td><td>0.02</td><td>1.12</td><td>4.19</td><td>2.37</td><td>⋯</td><td>4.10</td><td>65.99</td><td>4.70</td><td>4.03</td><td>28.44</td><td>39.99</td><td>2.33</td><td>0.02</td><td>1.61</td><td>13.82</td></tr>\n",
              "</tbody>\n",
              "</table>\n"
            ],
            "text/markdown": "\nA data.frame: 6 × 38\n\n| <!--/--> | Vial.number &lt;int&gt; | Patient.number &lt;int&gt; | Name &lt;chr&gt; | GPLDL1 &lt;dbl&gt; | GPLDL2 &lt;dbl&gt; | GPLDL3 &lt;dbl&gt; | GPLDL4 &lt;dbl&gt; | GPLDL5 &lt;dbl&gt; | GPLDL6 &lt;dbl&gt; | GPLDL7 &lt;dbl&gt; | ⋯ ⋯ | G1 &lt;dbl&gt; | G2 &lt;dbl&gt; | G3 &lt;dbl&gt; | S0 &lt;dbl&gt; | S1 &lt;dbl&gt; | S2 &lt;dbl&gt; | S3 &lt;dbl&gt; | B &lt;dbl&gt; | F &lt;dbl&gt; | HM &lt;dbl&gt; |\n|---|---|---|---|---|---|---|---|---|---|---|---|---|---|---|---|---|---|---|---|---|---|\n| 1 | 1 | 50 | LDL | 0.40 | 6.74 | 0.20 | 0.02 | 1.09 | 3.79 | 2.27 | ⋯ | 4.09 | 68.91 | 3.57 | 3.98 | 28.18 | 42.46 | 1.95 | 0.02 | 1.67 | 13.02 |\n| 2 | 3 | 52 | LDL | 0.46 | 7.37 | 0.39 | 0.02 | 1.06 | 4.55 | 2.71 | ⋯ | 5.16 | 68.22 | 3.11 | 4.64 | 30.43 | 39.86 | 1.56 | 0.02 | 1.69 | 14.16 |\n| 3 | 4 | 53 | LDL | 0.30 | 8.23 | 0.26 | 0.02 | 0.88 | 3.66 | 2.32 | ⋯ | 3.95 | 68.03 | 4.50 | 3.78 | 29.37 | 41.13 | 2.20 | 0.02 | 1.89 | 13.89 |\n| 4 | 5 | 54 | LDL | 0.47 | 7.94 | 0.29 | 0.02 | 1.11 | 3.97 | 2.55 | ⋯ | 4.63 | 66.91 | 4.03 | 4.44 | 28.54 | 40.64 | 1.95 | 0.02 | 2.03 | 14.25 |\n| 5 | 6 | 55 | LDL | 0.31 | 9.68 | 0.18 | 0.02 | 0.97 | 4.50 | 2.24 | ⋯ | 4.05 | 64.01 | 5.27 | 3.72 | 26.71 | 40.39 | 2.51 | 0.02 | 2.70 | 16.06 |\n| 6 | 7 | 56 | LDL | 0.30 | 7.32 | 0.22 | 0.02 | 1.12 | 4.19 | 2.37 | ⋯ | 4.10 | 65.99 | 4.70 | 4.03 | 28.44 | 39.99 | 2.33 | 0.02 | 1.61 | 13.82 |\n\n",
            "text/latex": "A data.frame: 6 × 38\n\\begin{tabular}{r|lllllllllllllllllllll}\n  & Vial.number & Patient.number & Name & GPLDL1 & GPLDL2 & GPLDL3 & GPLDL4 & GPLDL5 & GPLDL6 & GPLDL7 & ⋯ & G1 & G2 & G3 & S0 & S1 & S2 & S3 & B & F & HM\\\\\n  & <int> & <int> & <chr> & <dbl> & <dbl> & <dbl> & <dbl> & <dbl> & <dbl> & <dbl> & ⋯ & <dbl> & <dbl> & <dbl> & <dbl> & <dbl> & <dbl> & <dbl> & <dbl> & <dbl> & <dbl>\\\\\n\\hline\n\t1 & 1 & 50 & LDL & 0.40 & 6.74 & 0.20 & 0.02 & 1.09 & 3.79 & 2.27 & ⋯ & 4.09 & 68.91 & 3.57 & 3.98 & 28.18 & 42.46 & 1.95 & 0.02 & 1.67 & 13.02\\\\\n\t2 & 3 & 52 & LDL & 0.46 & 7.37 & 0.39 & 0.02 & 1.06 & 4.55 & 2.71 & ⋯ & 5.16 & 68.22 & 3.11 & 4.64 & 30.43 & 39.86 & 1.56 & 0.02 & 1.69 & 14.16\\\\\n\t3 & 4 & 53 & LDL & 0.30 & 8.23 & 0.26 & 0.02 & 0.88 & 3.66 & 2.32 & ⋯ & 3.95 & 68.03 & 4.50 & 3.78 & 29.37 & 41.13 & 2.20 & 0.02 & 1.89 & 13.89\\\\\n\t4 & 5 & 54 & LDL & 0.47 & 7.94 & 0.29 & 0.02 & 1.11 & 3.97 & 2.55 & ⋯ & 4.63 & 66.91 & 4.03 & 4.44 & 28.54 & 40.64 & 1.95 & 0.02 & 2.03 & 14.25\\\\\n\t5 & 6 & 55 & LDL & 0.31 & 9.68 & 0.18 & 0.02 & 0.97 & 4.50 & 2.24 & ⋯ & 4.05 & 64.01 & 5.27 & 3.72 & 26.71 & 40.39 & 2.51 & 0.02 & 2.70 & 16.06\\\\\n\t6 & 7 & 56 & LDL & 0.30 & 7.32 & 0.22 & 0.02 & 1.12 & 4.19 & 2.37 & ⋯ & 4.10 & 65.99 & 4.70 & 4.03 & 28.44 & 39.99 & 2.33 & 0.02 & 1.61 & 13.82\\\\\n\\end{tabular}\n",
            "text/plain": [
              "  Vial.number Patient.number Name GPLDL1 GPLDL2 GPLDL3 GPLDL4 GPLDL5 GPLDL6\n",
              "1 1           50             LDL  0.40   6.74   0.20   0.02   1.09   3.79  \n",
              "2 3           52             LDL  0.46   7.37   0.39   0.02   1.06   4.55  \n",
              "3 4           53             LDL  0.30   8.23   0.26   0.02   0.88   3.66  \n",
              "4 5           54             LDL  0.47   7.94   0.29   0.02   1.11   3.97  \n",
              "5 6           55             LDL  0.31   9.68   0.18   0.02   0.97   4.50  \n",
              "6 7           56             LDL  0.30   7.32   0.22   0.02   1.12   4.19  \n",
              "  GPLDL7 ⋯ G1   G2    G3   S0   S1    S2    S3   B    F    HM   \n",
              "1 2.27   ⋯ 4.09 68.91 3.57 3.98 28.18 42.46 1.95 0.02 1.67 13.02\n",
              "2 2.71   ⋯ 5.16 68.22 3.11 4.64 30.43 39.86 1.56 0.02 1.69 14.16\n",
              "3 2.32   ⋯ 3.95 68.03 4.50 3.78 29.37 41.13 2.20 0.02 1.89 13.89\n",
              "4 2.55   ⋯ 4.63 66.91 4.03 4.44 28.54 40.64 1.95 0.02 2.03 14.25\n",
              "5 2.24   ⋯ 4.05 64.01 5.27 3.72 26.71 40.39 2.51 0.02 2.70 16.06\n",
              "6 2.37   ⋯ 4.10 65.99 4.70 4.03 28.44 39.99 2.33 0.02 1.61 13.82"
            ]
          },
          "metadata": {}
        }
      ],
      "source": [
        "data_lipids_low <- read.csv('/content/low_density_lipids.tsv', header = TRUE, sep = '\\t')\n",
        "head(data_lipids_low)"
      ]
    },
    {
      "cell_type": "code",
      "source": [
        "data_lipids_high <- read.csv('/content/high_density_lipids.tsv', header = TRUE, sep = '\\t')\n",
        "head(data_lipids_high)"
      ],
      "metadata": {
        "id": "Q9u_jG5M85UI",
        "colab": {
          "base_uri": "https://localhost:8080/",
          "height": 306
        },
        "outputId": "76c88e7a-3bd6-42e0-e66f-4c8f457cc8d6"
      },
      "execution_count": 3,
      "outputs": [
        {
          "output_type": "display_data",
          "data": {
            "text/html": [
              "<table class=\"dataframe\">\n",
              "<caption>A data.frame: 6 × 38</caption>\n",
              "<thead>\n",
              "\t<tr><th></th><th scope=col>Vial.number</th><th scope=col>Patient.number</th><th scope=col>Name</th><th scope=col>GPHDL1</th><th scope=col>GPHDL2</th><th scope=col>GPHDL3</th><th scope=col>GPHDL4</th><th scope=col>GPHDL5</th><th scope=col>GPHDL6</th><th scope=col>GPHDL7</th><th scope=col>⋯</th><th scope=col>G1</th><th scope=col>G2</th><th scope=col>G3</th><th scope=col>S0</th><th scope=col>S1</th><th scope=col>S2</th><th scope=col>S3</th><th scope=col>B</th><th scope=col>F</th><th scope=col>HM</th></tr>\n",
              "\t<tr><th></th><th scope=col>&lt;int&gt;</th><th scope=col>&lt;int&gt;</th><th scope=col>&lt;chr&gt;</th><th scope=col>&lt;dbl&gt;</th><th scope=col>&lt;dbl&gt;</th><th scope=col>&lt;dbl&gt;</th><th scope=col>&lt;dbl&gt;</th><th scope=col>&lt;dbl&gt;</th><th scope=col>&lt;dbl&gt;</th><th scope=col>&lt;dbl&gt;</th><th scope=col>⋯</th><th scope=col>&lt;dbl&gt;</th><th scope=col>&lt;dbl&gt;</th><th scope=col>&lt;dbl&gt;</th><th scope=col>&lt;dbl&gt;</th><th scope=col>&lt;dbl&gt;</th><th scope=col>&lt;dbl&gt;</th><th scope=col>&lt;dbl&gt;</th><th scope=col>&lt;dbl&gt;</th><th scope=col>&lt;dbl&gt;</th><th scope=col>&lt;dbl&gt;</th></tr>\n",
              "</thead>\n",
              "<tbody>\n",
              "\t<tr><th scope=row>1</th><td>1</td><td>50</td><td>HDL</td><td>0.38</td><td>1.78</td><td>0.14</td><td>0.05</td><td>0.73</td><td>2.90</td><td>1.57</td><td>⋯</td><td>12.23</td><td>58.69</td><td>20.97</td><td>2.87</td><td>29.57</td><td>44.39</td><td>15.06</td><td>0.05</td><td>7.35</td><td>2.49</td></tr>\n",
              "\t<tr><th scope=row>2</th><td>3</td><td>52</td><td>HDL</td><td>0.43</td><td>1.30</td><td>0.23</td><td>0.05</td><td>0.59</td><td>2.62</td><td>1.62</td><td>⋯</td><td>11.98</td><td>57.50</td><td>21.94</td><td>2.92</td><td>29.60</td><td>43.93</td><td>14.97</td><td>0.05</td><td>8.71</td><td>1.53</td></tr>\n",
              "\t<tr><th scope=row>3</th><td>4</td><td>53</td><td>HDL</td><td>0.41</td><td>3.86</td><td>0.31</td><td>0.10</td><td>0.96</td><td>3.19</td><td>2.42</td><td>⋯</td><td>15.00</td><td>62.10</td><td>12.74</td><td>4.20</td><td>37.03</td><td>40.68</td><td> 7.93</td><td>0.10</td><td>4.81</td><td>5.08</td></tr>\n",
              "\t<tr><th scope=row>4</th><td>5</td><td>54</td><td>HDL</td><td>0.50</td><td>1.79</td><td>0.23</td><td>0.06</td><td>0.77</td><td>2.96</td><td>1.76</td><td>⋯</td><td>12.85</td><td>56.02</td><td>22.70</td><td>3.32</td><td>30.01</td><td>41.78</td><td>16.46</td><td>0.06</td><td>8.85</td><td>2.30</td></tr>\n",
              "\t<tr><th scope=row>5</th><td>6</td><td>55</td><td>HDL</td><td>0.40</td><td>3.69</td><td>0.17</td><td>0.03</td><td>0.80</td><td>3.04</td><td>1.62</td><td>⋯</td><td>13.81</td><td>59.78</td><td>16.14</td><td>3.02</td><td>33.69</td><td>42.18</td><td>10.84</td><td>0.03</td><td>7.25</td><td>4.33</td></tr>\n",
              "\t<tr><th scope=row>6</th><td>7</td><td>56</td><td>HDL</td><td>0.37</td><td>2.96</td><td>0.22</td><td>0.05</td><td>1.00</td><td>3.00</td><td>2.11</td><td>⋯</td><td>14.61</td><td>60.59</td><td>15.63</td><td>3.75</td><td>35.18</td><td>41.66</td><td>10.24</td><td>0.05</td><td>5.10</td><td>3.87</td></tr>\n",
              "</tbody>\n",
              "</table>\n"
            ],
            "text/markdown": "\nA data.frame: 6 × 38\n\n| <!--/--> | Vial.number &lt;int&gt; | Patient.number &lt;int&gt; | Name &lt;chr&gt; | GPHDL1 &lt;dbl&gt; | GPHDL2 &lt;dbl&gt; | GPHDL3 &lt;dbl&gt; | GPHDL4 &lt;dbl&gt; | GPHDL5 &lt;dbl&gt; | GPHDL6 &lt;dbl&gt; | GPHDL7 &lt;dbl&gt; | ⋯ ⋯ | G1 &lt;dbl&gt; | G2 &lt;dbl&gt; | G3 &lt;dbl&gt; | S0 &lt;dbl&gt; | S1 &lt;dbl&gt; | S2 &lt;dbl&gt; | S3 &lt;dbl&gt; | B &lt;dbl&gt; | F &lt;dbl&gt; | HM &lt;dbl&gt; |\n|---|---|---|---|---|---|---|---|---|---|---|---|---|---|---|---|---|---|---|---|---|---|\n| 1 | 1 | 50 | HDL | 0.38 | 1.78 | 0.14 | 0.05 | 0.73 | 2.90 | 1.57 | ⋯ | 12.23 | 58.69 | 20.97 | 2.87 | 29.57 | 44.39 | 15.06 | 0.05 | 7.35 | 2.49 |\n| 2 | 3 | 52 | HDL | 0.43 | 1.30 | 0.23 | 0.05 | 0.59 | 2.62 | 1.62 | ⋯ | 11.98 | 57.50 | 21.94 | 2.92 | 29.60 | 43.93 | 14.97 | 0.05 | 8.71 | 1.53 |\n| 3 | 4 | 53 | HDL | 0.41 | 3.86 | 0.31 | 0.10 | 0.96 | 3.19 | 2.42 | ⋯ | 15.00 | 62.10 | 12.74 | 4.20 | 37.03 | 40.68 |  7.93 | 0.10 | 4.81 | 5.08 |\n| 4 | 5 | 54 | HDL | 0.50 | 1.79 | 0.23 | 0.06 | 0.77 | 2.96 | 1.76 | ⋯ | 12.85 | 56.02 | 22.70 | 3.32 | 30.01 | 41.78 | 16.46 | 0.06 | 8.85 | 2.30 |\n| 5 | 6 | 55 | HDL | 0.40 | 3.69 | 0.17 | 0.03 | 0.80 | 3.04 | 1.62 | ⋯ | 13.81 | 59.78 | 16.14 | 3.02 | 33.69 | 42.18 | 10.84 | 0.03 | 7.25 | 4.33 |\n| 6 | 7 | 56 | HDL | 0.37 | 2.96 | 0.22 | 0.05 | 1.00 | 3.00 | 2.11 | ⋯ | 14.61 | 60.59 | 15.63 | 3.75 | 35.18 | 41.66 | 10.24 | 0.05 | 5.10 | 3.87 |\n\n",
            "text/latex": "A data.frame: 6 × 38\n\\begin{tabular}{r|lllllllllllllllllllll}\n  & Vial.number & Patient.number & Name & GPHDL1 & GPHDL2 & GPHDL3 & GPHDL4 & GPHDL5 & GPHDL6 & GPHDL7 & ⋯ & G1 & G2 & G3 & S0 & S1 & S2 & S3 & B & F & HM\\\\\n  & <int> & <int> & <chr> & <dbl> & <dbl> & <dbl> & <dbl> & <dbl> & <dbl> & <dbl> & ⋯ & <dbl> & <dbl> & <dbl> & <dbl> & <dbl> & <dbl> & <dbl> & <dbl> & <dbl> & <dbl>\\\\\n\\hline\n\t1 & 1 & 50 & HDL & 0.38 & 1.78 & 0.14 & 0.05 & 0.73 & 2.90 & 1.57 & ⋯ & 12.23 & 58.69 & 20.97 & 2.87 & 29.57 & 44.39 & 15.06 & 0.05 & 7.35 & 2.49\\\\\n\t2 & 3 & 52 & HDL & 0.43 & 1.30 & 0.23 & 0.05 & 0.59 & 2.62 & 1.62 & ⋯ & 11.98 & 57.50 & 21.94 & 2.92 & 29.60 & 43.93 & 14.97 & 0.05 & 8.71 & 1.53\\\\\n\t3 & 4 & 53 & HDL & 0.41 & 3.86 & 0.31 & 0.10 & 0.96 & 3.19 & 2.42 & ⋯ & 15.00 & 62.10 & 12.74 & 4.20 & 37.03 & 40.68 &  7.93 & 0.10 & 4.81 & 5.08\\\\\n\t4 & 5 & 54 & HDL & 0.50 & 1.79 & 0.23 & 0.06 & 0.77 & 2.96 & 1.76 & ⋯ & 12.85 & 56.02 & 22.70 & 3.32 & 30.01 & 41.78 & 16.46 & 0.06 & 8.85 & 2.30\\\\\n\t5 & 6 & 55 & HDL & 0.40 & 3.69 & 0.17 & 0.03 & 0.80 & 3.04 & 1.62 & ⋯ & 13.81 & 59.78 & 16.14 & 3.02 & 33.69 & 42.18 & 10.84 & 0.03 & 7.25 & 4.33\\\\\n\t6 & 7 & 56 & HDL & 0.37 & 2.96 & 0.22 & 0.05 & 1.00 & 3.00 & 2.11 & ⋯ & 14.61 & 60.59 & 15.63 & 3.75 & 35.18 & 41.66 & 10.24 & 0.05 & 5.10 & 3.87\\\\\n\\end{tabular}\n",
            "text/plain": [
              "  Vial.number Patient.number Name GPHDL1 GPHDL2 GPHDL3 GPHDL4 GPHDL5 GPHDL6\n",
              "1 1           50             HDL  0.38   1.78   0.14   0.05   0.73   2.90  \n",
              "2 3           52             HDL  0.43   1.30   0.23   0.05   0.59   2.62  \n",
              "3 4           53             HDL  0.41   3.86   0.31   0.10   0.96   3.19  \n",
              "4 5           54             HDL  0.50   1.79   0.23   0.06   0.77   2.96  \n",
              "5 6           55             HDL  0.40   3.69   0.17   0.03   0.80   3.04  \n",
              "6 7           56             HDL  0.37   2.96   0.22   0.05   1.00   3.00  \n",
              "  GPHDL7 ⋯ G1    G2    G3    S0   S1    S2    S3    B    F    HM  \n",
              "1 1.57   ⋯ 12.23 58.69 20.97 2.87 29.57 44.39 15.06 0.05 7.35 2.49\n",
              "2 1.62   ⋯ 11.98 57.50 21.94 2.92 29.60 43.93 14.97 0.05 8.71 1.53\n",
              "3 2.42   ⋯ 15.00 62.10 12.74 4.20 37.03 40.68  7.93 0.10 4.81 5.08\n",
              "4 1.76   ⋯ 12.85 56.02 22.70 3.32 30.01 41.78 16.46 0.06 8.85 2.30\n",
              "5 1.62   ⋯ 13.81 59.78 16.14 3.02 33.69 42.18 10.84 0.03 7.25 4.33\n",
              "6 2.11   ⋯ 14.61 60.59 15.63 3.75 35.18 41.66 10.24 0.05 5.10 3.87"
            ]
          },
          "metadata": {}
        }
      ]
    },
    {
      "cell_type": "code",
      "source": [
        "dim(data_metadata); dim(data_lipids_low); dim(data_lipids_high)"
      ],
      "metadata": {
        "id": "SxHppD-I8_SE",
        "colab": {
          "base_uri": "https://localhost:8080/",
          "height": 69
        },
        "outputId": "876551b1-6574-49d1-9b22-fe8a977644a8"
      },
      "execution_count": 4,
      "outputs": [
        {
          "output_type": "display_data",
          "data": {
            "text/html": [
              "<style>\n",
              ".list-inline {list-style: none; margin:0; padding: 0}\n",
              ".list-inline>li {display: inline-block}\n",
              ".list-inline>li:not(:last-child)::after {content: \"\\00b7\"; padding: 0 .5ex}\n",
              "</style>\n",
              "<ol class=list-inline><li>38</li><li>49</li></ol>\n"
            ],
            "text/markdown": "1. 38\n2. 49\n\n\n",
            "text/latex": "\\begin{enumerate*}\n\\item 38\n\\item 49\n\\end{enumerate*}\n",
            "text/plain": [
              "[1] 38 49"
            ]
          },
          "metadata": {}
        },
        {
          "output_type": "display_data",
          "data": {
            "text/html": [
              "<style>\n",
              ".list-inline {list-style: none; margin:0; padding: 0}\n",
              ".list-inline>li {display: inline-block}\n",
              ".list-inline>li:not(:last-child)::after {content: \"\\00b7\"; padding: 0 .5ex}\n",
              "</style>\n",
              "<ol class=list-inline><li>29</li><li>38</li></ol>\n"
            ],
            "text/markdown": "1. 29\n2. 38\n\n\n",
            "text/latex": "\\begin{enumerate*}\n\\item 29\n\\item 38\n\\end{enumerate*}\n",
            "text/plain": [
              "[1] 29 38"
            ]
          },
          "metadata": {}
        },
        {
          "output_type": "display_data",
          "data": {
            "text/html": [
              "<style>\n",
              ".list-inline {list-style: none; margin:0; padding: 0}\n",
              ".list-inline>li {display: inline-block}\n",
              ".list-inline>li:not(:last-child)::after {content: \"\\00b7\"; padding: 0 .5ex}\n",
              "</style>\n",
              "<ol class=list-inline><li>27</li><li>38</li></ol>\n"
            ],
            "text/markdown": "1. 27\n2. 38\n\n\n",
            "text/latex": "\\begin{enumerate*}\n\\item 27\n\\item 38\n\\end{enumerate*}\n",
            "text/plain": [
              "[1] 27 38"
            ]
          },
          "metadata": {}
        }
      ]
    },
    {
      "cell_type": "code",
      "source": [
        "library(tidyverse)"
      ],
      "metadata": {
        "id": "zRziH5pt9DGU",
        "colab": {
          "base_uri": "https://localhost:8080/"
        },
        "outputId": "a743928a-21c7-46e6-a108-4a402f7db905"
      },
      "execution_count": 5,
      "outputs": [
        {
          "output_type": "stream",
          "name": "stderr",
          "text": [
            "── \u001b[1mAttaching core tidyverse packages\u001b[22m ──────────────────────── tidyverse 2.0.0 ──\n",
            "\u001b[32m✔\u001b[39m \u001b[34mdplyr    \u001b[39m 1.1.4     \u001b[32m✔\u001b[39m \u001b[34mreadr    \u001b[39m 2.1.5\n",
            "\u001b[32m✔\u001b[39m \u001b[34mforcats  \u001b[39m 1.0.0     \u001b[32m✔\u001b[39m \u001b[34mstringr  \u001b[39m 1.5.1\n",
            "\u001b[32m✔\u001b[39m \u001b[34mggplot2  \u001b[39m 3.5.1     \u001b[32m✔\u001b[39m \u001b[34mtibble   \u001b[39m 3.2.1\n",
            "\u001b[32m✔\u001b[39m \u001b[34mlubridate\u001b[39m 1.9.3     \u001b[32m✔\u001b[39m \u001b[34mtidyr    \u001b[39m 1.3.1\n",
            "\u001b[32m✔\u001b[39m \u001b[34mpurrr    \u001b[39m 1.0.2     \n",
            "── \u001b[1mConflicts\u001b[22m ────────────────────────────────────────── tidyverse_conflicts() ──\n",
            "\u001b[31m✖\u001b[39m \u001b[34mdplyr\u001b[39m::\u001b[32mfilter()\u001b[39m masks \u001b[34mstats\u001b[39m::filter()\n",
            "\u001b[31m✖\u001b[39m \u001b[34mdplyr\u001b[39m::\u001b[32mlag()\u001b[39m    masks \u001b[34mstats\u001b[39m::lag()\n",
            "\u001b[36mℹ\u001b[39m Use the conflicted package (\u001b[3m\u001b[34m<http://conflicted.r-lib.org/>\u001b[39m\u001b[23m) to force all conflicts to become errors\n"
          ]
        }
      ]
    },
    {
      "cell_type": "code",
      "source": [
        "data_metadata <- data_metadata %>% select_if(is.numeric)\n",
        "data_lipids_high <- data_lipids_high %>% select_if(is.numeric)\n",
        "data_lipids_low <- data_lipids_low %>% select_if(is.numeric)"
      ],
      "metadata": {
        "id": "yzHJdTuI9F5Q"
      },
      "execution_count": 6,
      "outputs": []
    },
    {
      "cell_type": "code",
      "source": [
        "str(data_metadata)"
      ],
      "metadata": {
        "id": "jlaowbiZ8-NK",
        "colab": {
          "base_uri": "https://localhost:8080/"
        },
        "outputId": "6d253fd5-987d-43e6-926e-7b3085a50ec8"
      },
      "execution_count": 7,
      "outputs": [
        {
          "output_type": "stream",
          "name": "stdout",
          "text": [
            "'data.frame':\t38 obs. of  46 variables:\n",
            " $ Vialnumber    : int  1 2 3 4 5 6 7 8 9 10 ...\n",
            " $ Patientnumber : int  50 51 52 53 54 55 56 57 58 59 ...\n",
            " $ Sucrose       : int  0 0 0 0 0 0 0 0 0 0 ...\n",
            " $ Group         : int  0 0 1 1 1 1 1 1 0 1 ...\n",
            " $ Age           : int  63 47 57 72 57 79 61 70 50 53 ...\n",
            " $ Plasmavolume  : num  6.5 5.5 7 5 5 6.2 6.5 5.5 6 5.5 ...\n",
            " $ Ht            : int  163 179 164 160 180 160 164 162 150 172 ...\n",
            " $ Wt            : num  84 111 80 58.8 71 64 67 61 79 88.2 ...\n",
            " $ BMI           : num  31.6 34.6 29.7 23 21.9 ...\n",
            " $ Sys           : int  125 125 132 130 135 110 124 135 142 120 ...\n",
            " $ Dia           : int  76 82 80 90 75 75 82 78 95 80 ...\n",
            " $ PR            : int  67 65 92 68 70 66 84 72 88 60 ...\n",
            " $ Sm            : int  0 0 0 0 0 0 0 0 0 0 ...\n",
            " $ Dm            : int  0 0 1 0 0 0 0 0 0 1 ...\n",
            " $ HT            : int  0 1 1 0 1 1 0 0 1 1 ...\n",
            " $ LVH           : int  1 1 1 0 0 1 0 1 0 1 ...\n",
            " $ IHD           : int  0 0 1 0 1 1 1 1 0 1 ...\n",
            " $ MI            : int  0 0 1 0 0 0 0 1 0 0 ...\n",
            " $ Str           : int  0 0 0 0 0 0 0 0 0 0 ...\n",
            " $ A_C           : int  1 0 1 0 1 0 1 0 1 0 ...\n",
            " $ A_H           : int  1 1 1 0 1 0 0 1 1 1 ...\n",
            " $ A_D           : int  0 0 0 0 0 0 0 0 1 1 ...\n",
            " $ Choi          : int  215 271 206 266 194 286 280 267 319 202 ...\n",
            " $ Tgi           : int  219 147 146 132 101 121 114 143 307 117 ...\n",
            " $ HDLi          : num  65.3 52.1 38.6 51.9 76.8 61.9 61.1 57 67.1 47 ...\n",
            " $ LDLi          : num  106 190 138 188 97 ...\n",
            " $ Choi_exp      : num  5.58 7.04 5.35 6.91 5.04 ...\n",
            " $ Tgi_exp       : num  2.41 1.62 1.6 1.45 1.11 ...\n",
            " $ HDLi_exp      : num  1.7 1.35 1 1.35 1.99 ...\n",
            " $ LDLi_exp      : num  2.75 4.92 3.58 4.88 2.52 ...\n",
            " $ AI            : num  1.62 3.64 3.58 3.62 1.26 ...\n",
            " $ rlatmin       : num  0.5 0.63 0.8 0.74 1 0.74 0.52 0.69 0.98 0.63 ...\n",
            " $ rantmin       : num  0.55 0.63 0.8 0.86 1 0.57 0.46 0.62 0.97 0.52 ...\n",
            " $ rposmin       : num  0.5 0.63 0.8 0.86 1.1 0.63 0.46 0.69 0.74 0.69 ...\n",
            " $ llatmin       : num  0.5 0.63 0.8 0.8 0.9 0.8 0.51 0.8 0.69 0.52 ...\n",
            " $ lantmin       : num  0.52 0.63 0.8 0.63 1 0.74 0.47 0.56 0.57 0.58 ...\n",
            " $ lposmin       : num  0.5 0.8 0.7 0.74 1 0.74 0.57 0.56 0.57 0.57 ...\n",
            " $ rlatmax       : num  0.65 1.03 1 0.91 1.2 0.88 0.91 1 1.09 0.97 ...\n",
            " $ rantmax       : num  0.8 0.92 0.9 0.97 1.2 0.8 0.86 1 1.26 1.04 ...\n",
            " $ rposmax       : num  0.8 1.03 0.95 0.98 1.25 0.9 0.86 1 1.03 0.81 ...\n",
            " $ llatmax       : num  0.81 1.03 0.85 0.86 1.1 1.07 0.8 0.94 0.8 0.63 ...\n",
            " $ lantmax       : num  0.78 1.03 0.9 0.74 1.3 1 0.74 0.69 0.74 0.63 ...\n",
            " $ lposmax       : num  0.8 1.09 0.9 0.8 1.13 1.3 0.91 0.87 0.75 0.86 ...\n",
            " $ carotidIMTmean: num  0.642 0.84 0.85 0.824 1.098 ...\n",
            " $ Plaque        : int  1 1 3 2 1 2 1 1 1 2 ...\n",
            " $ Statins       : int  1 0 1 0 1 0 0 0 0 0 ...\n"
          ]
        }
      ]
    },
    {
      "cell_type": "code",
      "source": [
        "analyze_features <- function(low, high) {\n",
        "  # Тест на нормальное распределение\n",
        "  shapiro_p_high <- shapiro.test(high)$p.value\n",
        "  shapiro_p_low <- shapiro.test(low)$p.value\n",
        "\n",
        "  cat(\"\\tТест Шапиро-Улка p-values - При min:\", shapiro_p_high, \"При max:\", shapiro_p_low, \"\\n\")\n",
        "\n",
        "  # Признак нормального распределения\n",
        "  normal_dist_high <- shapiro_p_high > 0.05\n",
        "  normal_dist_low <- shapiro_p_low > 0.05\n",
        "\n",
        "  if (normal_dist_high) {\n",
        "    cat(\"\\t\\tВыборка при max нормально распределена.\\n\")\n",
        "  } else {\n",
        "    cat(\"\\t\\tРаспределение выборки при max отлично от нормального.\\n\")\n",
        "  }\n",
        "\n",
        "  if (normal_dist_low) {\n",
        "    cat(\"\\t\\tВыборка при min нормально распределена.\\n\")\n",
        "  } else {\n",
        "    cat(\"\\t\\tРаспределение выборки при min отлично от нормального.\\n\")\n",
        "  }\n",
        "\n",
        "  # Устанавливаем признак при условии нормального распределения признака в обоих наборах\n",
        "  normal_dist <- normal_dist_high & normal_dist_low\n",
        "\n",
        "  # Выбираем соответствующий тест на основе признака нормального распределения\n",
        "  if (normal_dist) {\n",
        "    test <- t.test(high, low, paired = FALSE)\n",
        "    test_name <- \"\\tt-test для независимых выборок\"\n",
        "  } else {\n",
        "    # Проверка на наличие \"хвостов\"\n",
        "    if (length(unique(c(high, low))) < length(c(high, low))) {\n",
        "      # Обнаружен - используем приближённый метод\n",
        "      test <- wilcox.test(high, low, paired = FALSE, exact = FALSE)\n",
        "    } else {\n",
        "      # Не обнаружен - используем точный метод\n",
        "      test <- wilcox.test(high, low, paired = FALSE, exact = TRUE)\n",
        "    }\n",
        "    test_name <- \"\\tМанн-Уитни U тест\"\n",
        "  }\n",
        "\n",
        "  # Output test results\n",
        "  cat(\"\\tТест:\", test_name, \"\\n\")\n",
        "\n",
        "  if (test$p.value < 0.05) {\n",
        "    cat(\"\\tОбнаружены статистически значимые различия (p-value:\", test$p.value, \").\\n\")\n",
        "  } else {\n",
        "    cat(\"\\tСтатистически значимые различия не обнаружены (p-value:\", test$p.value, \").\\n\")\n",
        "  }\n",
        "\n",
        "  return(list(shapiro_p_high = shapiro_p_high, shapiro_p_low = shapiro_p_low, normal_dist = normal_dist, test = test))\n",
        "}"
      ],
      "metadata": {
        "id": "oPHVAk_B9Gtw"
      },
      "execution_count": 17,
      "outputs": []
    },
    {
      "cell_type": "code",
      "source": [
        "results <- list()\n",
        "str_list_min_feat = c(\"rlatmin\", \"rantmin\", \"rposmin\", \"llatmin\", \"lantmin\", \"lposmin\")\n",
        "str_list_max_feat = c(\"rlatmax\", \"rantmax\", \"rposmax\", \"llatmax\", \"lantmax\", \"lposmax\")\n",
        "\n",
        "for (ind in 1:length(str_list_min_feat)) {\n",
        "  cat(\"\\nПризнаки:\", str_list_min_feat[ind], str_list_max_feat[ind], \"\\n\")\n",
        "  result <- analyze_features(data_metadata[[str_list_min_feat[ind]]], data_metadata[[str_list_max_feat[ind]]])\n",
        "  results[[ind]] <- result\n",
        "}"
      ],
      "metadata": {
        "colab": {
          "base_uri": "https://localhost:8080/"
        },
        "id": "4wp7fXEOCeGc",
        "outputId": "e78c9965-ef07-453b-a697-567fa66ccfad"
      },
      "execution_count": 18,
      "outputs": [
        {
          "output_type": "stream",
          "name": "stdout",
          "text": [
            "\n",
            "Признаки: rlatmin rlatmax \n",
            "\tТест Шапиро-Улка p-values - При min: 0.6422775 При max: 0.173403 \n",
            "\t\tВыборка при max нормально распределена.\n",
            "\t\tВыборка при min нормально распределена.\n",
            "\tТест: \tt-test для независимых выборок \n",
            "\tОбнаружены статистически значимые различия (p-value: 4.897969e-07 ).\n",
            "\n",
            "Признаки: rantmin rantmax \n",
            "\tТест Шапиро-Улка p-values - При min: 0.5126461 При max: 0.05931637 \n",
            "\t\tВыборка при max нормально распределена.\n",
            "\t\tВыборка при min нормально распределена.\n",
            "\tТест: \tt-test для независимых выборок \n",
            "\tОбнаружены статистически значимые различия (p-value: 5.887671e-09 ).\n",
            "\n",
            "Признаки: rposmin rposmax \n",
            "\tТест Шапиро-Улка p-values - При min: 0.4503247 При max: 0.5284752 \n",
            "\t\tВыборка при max нормально распределена.\n",
            "\t\tВыборка при min нормально распределена.\n",
            "\tТест: \tt-test для независимых выборок \n",
            "\tОбнаружены статистически значимые различия (p-value: 7.065773e-09 ).\n",
            "\n",
            "Признаки: llatmin llatmax \n",
            "\tТест Шапиро-Улка p-values - При min: 0.1315987 При max: 0.007599852 \n",
            "\t\tВыборка при max нормально распределена.\n",
            "\t\tРаспределение выборки при min отлично от нормального.\n",
            "\tТест: \tМанн-Уитни U тест \n",
            "\tОбнаружены статистически значимые различия (p-value: 3.428325e-06 ).\n",
            "\n",
            "Признаки: lantmin lantmax \n",
            "\tТест Шапиро-Улка p-values - При min: 0.2296095 При max: 0.0750425 \n",
            "\t\tВыборка при max нормально распределена.\n",
            "\t\tВыборка при min нормально распределена.\n",
            "\tТест: \tt-test для независимых выборок \n",
            "\tОбнаружены статистически значимые различия (p-value: 4.721016e-06 ).\n",
            "\n",
            "Признаки: lposmin lposmax \n",
            "\tТест Шапиро-Улка p-values - При min: 0.1923581 При max: 0.3763451 \n",
            "\t\tВыборка при max нормально распределена.\n",
            "\t\tВыборка при min нормально распределена.\n",
            "\tТест: \tt-test для независимых выборок \n",
            "\tОбнаружены статистически значимые различия (p-value: 1.949618e-07 ).\n"
          ]
        }
      ]
    },
    {
      "cell_type": "code",
      "source": [
        "hist(data_metadata$rlatmin, main = \"Histogram of rlatmin\", xlab = \"rlatmin\", col = \"lightblue\")\n",
        "hist(data_metadata$rlatmax, main = \"Histogram of rlatmax\", xlab = \"rlatmax\", col = \"lightblue\")"
      ],
      "metadata": {
        "colab": {
          "base_uri": "https://localhost:8080/",
          "height": 857
        },
        "id": "kKBODbN-ou_4",
        "outputId": "134ca4a9-d65a-407c-c0c0-4c2f1ae3e1ec"
      },
      "execution_count": 48,
      "outputs": [
        {
          "output_type": "display_data",
          "data": {
            "text/plain": [
              "Plot with title “Histogram of rlatmin”"
            ],
            "image/png": "[encoded data removed]"
          },
          "metadata": {
            "image/png": {
              "width": 420,
              "height": 420
            }
          }
        },
        {
          "output_type": "display_data",
          "data": {
            "text/plain": [
              "Plot with title “Histogram of rlatmax”"
            ],
            "image/png": "[encoded data removed]"
          },
          "metadata": {
            "image/png": {
              "width": 420,
              "height": 420
            }
          }
        }
      ]
    },
    {
      "cell_type": "markdown",
      "source": [
        "## Установка библиотек"
      ],
      "metadata": {
        "id": "qslm_ydqugyi"
      }
    },
    {
      "cell_type": "code",
      "source": [
        "library(ggplot2)\n",
        "library(dplyr)"
      ],
      "metadata": {
        "id": "iK9aYif3hguK"
      },
      "execution_count": null,
      "outputs": []
    },
    {
      "cell_type": "code",
      "source": [
        "# Install R package car\n",
        "install.packages('car')\n",
        "# Import the R package\n",
        "library(car)"
      ],
      "metadata": {
        "colab": {
          "base_uri": "https://localhost:8080/"
        },
        "id": "CW1ersyLhDsP",
        "outputId": "53f69eed-629d-486b-def6-4df03f63cc4b"
      },
      "execution_count": 24,
      "outputs": [
        {
          "output_type": "stream",
          "name": "stderr",
          "text": [
            "Installing package into ‘/usr/local/lib/R/site-library’\n",
            "(as ‘lib’ is unspecified)\n",
            "\n",
            "also installing the dependencies ‘cowplot’, ‘Deriv’, ‘microbenchmark’, ‘numDeriv’, ‘doBy’, ‘SparseM’, ‘MatrixModels’, ‘minqa’, ‘nloptr’, ‘RcppEigen’, ‘carData’, ‘abind’, ‘pbkrtest’, ‘quantreg’, ‘lme4’\n",
            "\n",
            "\n",
            "Loading required package: carData\n",
            "\n",
            "\n",
            "Attaching package: ‘car’\n",
            "\n",
            "\n",
            "The following object is masked from ‘package:dplyr’:\n",
            "\n",
            "    recode\n",
            "\n",
            "\n",
            "The following object is masked from ‘package:purrr’:\n",
            "\n",
            "    some\n",
            "\n",
            "\n"
          ]
        }
      ]
    },
    {
      "cell_type": "code",
      "source": [
        "install.packages('Hmisc')\n",
        "library(Hmisc)"
      ],
      "metadata": {
        "id": "vn542tICCkir",
        "colab": {
          "base_uri": "https://localhost:8080/"
        },
        "outputId": "c3bd8544-2a29-462d-8348-976618b1948c"
      },
      "execution_count": 25,
      "outputs": [
        {
          "output_type": "stream",
          "name": "stderr",
          "text": [
            "Installing package into ‘/usr/local/lib/R/site-library’\n",
            "(as ‘lib’ is unspecified)\n",
            "\n",
            "also installing the dependencies ‘checkmate’, ‘gridExtra’, ‘htmlTable’, ‘viridis’, ‘Formula’\n",
            "\n",
            "\n",
            "\n",
            "Attaching package: ‘Hmisc’\n",
            "\n",
            "\n",
            "The following objects are masked from ‘package:dplyr’:\n",
            "\n",
            "    src, summarize\n",
            "\n",
            "\n",
            "The following objects are masked from ‘package:base’:\n",
            "\n",
            "    format.pval, units\n",
            "\n",
            "\n"
          ]
        }
      ]
    },
    {
      "cell_type": "code",
      "source": [
        "install.packages('multcomp')\n",
        "library(multcomp)"
      ],
      "metadata": {
        "colab": {
          "base_uri": "https://localhost:8080/"
        },
        "id": "tM5Otz5Jgdg5",
        "outputId": "34e163b3-2087-432a-8819-baa2d8c5bc7d"
      },
      "execution_count": 26,
      "outputs": [
        {
          "output_type": "stream",
          "name": "stderr",
          "text": [
            "Installing package into ‘/usr/local/lib/R/site-library’\n",
            "(as ‘lib’ is unspecified)\n",
            "\n",
            "also installing the dependencies ‘zoo’, ‘mvtnorm’, ‘TH.data’, ‘sandwich’\n",
            "\n",
            "\n",
            "Loading required package: mvtnorm\n",
            "\n",
            "Loading required package: survival\n",
            "\n",
            "Loading required package: TH.data\n",
            "\n",
            "Loading required package: MASS\n",
            "\n",
            "\n",
            "Attaching package: ‘MASS’\n",
            "\n",
            "\n",
            "The following object is masked from ‘package:dplyr’:\n",
            "\n",
            "    select\n",
            "\n",
            "\n",
            "\n",
            "Attaching package: ‘TH.data’\n",
            "\n",
            "\n",
            "The following object is masked from ‘package:MASS’:\n",
            "\n",
            "    geyser\n",
            "\n",
            "\n"
          ]
        }
      ]
    },
    {
      "cell_type": "code",
      "source": [
        "install.packages('gridExtra')\n",
        "library(gridExtra)"
      ],
      "metadata": {
        "colab": {
          "base_uri": "https://localhost:8080/"
        },
        "id": "qVUUwJaohrAE",
        "outputId": "4cc65d88-1789-4c37-b875-78270f77f249"
      },
      "execution_count": 27,
      "outputs": [
        {
          "output_type": "stream",
          "name": "stderr",
          "text": [
            "Installing package into ‘/usr/local/lib/R/site-library’\n",
            "(as ‘lib’ is unspecified)\n",
            "\n",
            "\n",
            "Attaching package: ‘gridExtra’\n",
            "\n",
            "\n",
            "The following object is masked from ‘package:dplyr’:\n",
            "\n",
            "    combine\n",
            "\n",
            "\n"
          ]
        }
      ]
    },
    {
      "cell_type": "markdown",
      "source": [
        "## Дисперсионный анализ парамерт rlatmin"
      ],
      "metadata": {
        "id": "JUDimeS7uoRC"
      }
    },
    {
      "cell_type": "markdown",
      "source": [
        "Группируем по параметру Group"
      ],
      "metadata": {
        "id": "G-qVAC1Hu3Nq"
      }
    },
    {
      "cell_type": "code",
      "source": [
        "ggplot(data_metadata, aes(x = Group, y = rlatmin, colour = rlatmin)) + stat_summary(fun.data = \"mean_cl_normal\")"
      ],
      "metadata": {
        "colab": {
          "base_uri": "https://localhost:8080/",
          "height": 437
        },
        "id": "KTFl2Wzwh1sb",
        "outputId": "defd2531-a2ea-46cd-921a-ddbcb0a60196"
      },
      "execution_count": 57,
      "outputs": [
        {
          "output_type": "display_data",
          "data": {
            "text/plain": [
              "plot without title"
            ],
            "image/png": "[encoded data removed]"
          },
          "metadata": {
            "image/png": {
              "width": 420,
              "height": 420
            }
          }
        }
      ]
    },
    {
      "cell_type": "code",
      "source": [
        "ggplot(data_metadata, aes(x = Group, y = rlatmin, fill = rlatmin)) + geom_boxplot() + geom_jitter()"
      ],
      "metadata": {
        "colab": {
          "base_uri": "https://localhost:8080/",
          "height": 541
        },
        "id": "45g2mnYOjtLi",
        "outputId": "15b9b5cb-77a0-43f4-b09c-2ecb62a3ac59"
      },
      "execution_count": 58,
      "outputs": [
        {
          "output_type": "stream",
          "name": "stderr",
          "text": [
            "Warning message:\n",
            "“\u001b[1m\u001b[22mThe following aesthetics were dropped during statistical transformation: \u001b[32mfill\u001b[39m.\n",
            "\u001b[36mℹ\u001b[39m This can happen when ggplot fails to infer the correct grouping structure in\n",
            "  the data.\n",
            "\u001b[36mℹ\u001b[39m Did you forget to specify a `group` aesthetic or to convert a numerical\n",
            "  variable into a factor?”\n"
          ]
        },
        {
          "output_type": "display_data",
          "data": {
            "text/plain": [
              "plot without title"
            ],
            "image/png": "[encoded data removed]"
          },
          "metadata": {
            "image/png": {
              "width": 420,
              "height": 420
            }
          }
        }
      ]
    },
    {
      "cell_type": "code",
      "source": [
        "mod_md <- lm(rlatmin ~ Group, data = data_metadata)\n",
        "summary(mod_md)"
      ],
      "metadata": {
        "colab": {
          "base_uri": "https://localhost:8080/",
          "height": 329
        },
        "id": "Iqg6P2D4kZss",
        "outputId": "52cc9391-a1ca-4599-a34f-f8f0843d30a2"
      },
      "execution_count": 63,
      "outputs": [
        {
          "output_type": "display_data",
          "data": {
            "text/plain": [
              "\n",
              "Call:\n",
              "lm(formula = rlatmin ~ Group, data = data_metadata)\n",
              "\n",
              "Residuals:\n",
              "     Min       1Q   Median       3Q      Max \n",
              "-0.24667 -0.07167 -0.00667  0.05690  0.34143 \n",
              "\n",
              "Coefficients:\n",
              "            Estimate Std. Error t value Pr(>|t|)    \n",
              "(Intercept)  0.63857    0.03520  18.144   <2e-16 ***\n",
              "Group1       0.06810    0.04429   1.538    0.133    \n",
              "---\n",
              "Signif. codes:  0 ‘***’ 0.001 ‘**’ 0.01 ‘*’ 0.05 ‘.’ 0.1 ‘ ’ 1\n",
              "\n",
              "Residual standard error: 0.1317 on 36 degrees of freedom\n",
              "Multiple R-squared:  0.06163,\tAdjusted R-squared:  0.03556 \n",
              "F-statistic: 2.364 on 1 and 36 DF,  p-value: 0.1329\n"
            ]
          },
          "metadata": {}
        }
      ]
    },
    {
      "cell_type": "code",
      "source": [
        "amoeba_anova <- Anova(mod_md)\n",
        "amoeba_anova"
      ],
      "metadata": {
        "colab": {
          "base_uri": "https://localhost:8080/",
          "height": 161
        },
        "id": "3qhvOCQflOP7",
        "outputId": "70028b90-60b8-4678-9384-c8a4276783e3"
      },
      "execution_count": 64,
      "outputs": [
        {
          "output_type": "display_data",
          "data": {
            "text/html": [
              "<table class=\"dataframe\">\n",
              "<caption>A anova: 2 × 4</caption>\n",
              "<thead>\n",
              "\t<tr><th></th><th scope=col>Sum Sq</th><th scope=col>Df</th><th scope=col>F value</th><th scope=col>Pr(&gt;F)</th></tr>\n",
              "\t<tr><th></th><th scope=col>&lt;dbl&gt;</th><th scope=col>&lt;dbl&gt;</th><th scope=col>&lt;dbl&gt;</th><th scope=col>&lt;dbl&gt;</th></tr>\n",
              "</thead>\n",
              "<tbody>\n",
              "\t<tr><th scope=row>Group</th><td>0.0410005</td><td> 1</td><td>2.364259</td><td>0.1328868</td></tr>\n",
              "\t<tr><th scope=row>Residuals</th><td>0.6243048</td><td>36</td><td>      NA</td><td>       NA</td></tr>\n",
              "</tbody>\n",
              "</table>\n"
            ],
            "text/markdown": "\nA anova: 2 × 4\n\n| <!--/--> | Sum Sq &lt;dbl&gt; | Df &lt;dbl&gt; | F value &lt;dbl&gt; | Pr(&gt;F) &lt;dbl&gt; |\n|---|---|---|---|---|\n| Group | 0.0410005 |  1 | 2.364259 | 0.1328868 |\n| Residuals | 0.6243048 | 36 |       NA |        NA |\n\n",
            "text/latex": "A anova: 2 × 4\n\\begin{tabular}{r|llll}\n  & Sum Sq & Df & F value & Pr(>F)\\\\\n  & <dbl> & <dbl> & <dbl> & <dbl>\\\\\n\\hline\n\tGroup & 0.0410005 &  1 & 2.364259 & 0.1328868\\\\\n\tResiduals & 0.6243048 & 36 &       NA &        NA\\\\\n\\end{tabular}\n",
            "text/plain": [
              "          Sum Sq    Df F value  Pr(>F)   \n",
              "Group     0.0410005  1 2.364259 0.1328868\n",
              "Residuals 0.6243048 36       NA        NA"
            ]
          },
          "metadata": {}
        }
      ]
    },
    {
      "cell_type": "code",
      "source": [
        "bartlett.test(rlatmin ~ Group,  data = data_metadata)"
      ],
      "metadata": {
        "colab": {
          "base_uri": "https://localhost:8080/",
          "height": 104
        },
        "id": "VBFEvjHMlhsq",
        "outputId": "f83e6da7-814c-4199-c18d-89857fdde89e"
      },
      "execution_count": 65,
      "outputs": [
        {
          "output_type": "display_data",
          "data": {
            "text/plain": [
              "\n",
              "\tBartlett test of homogeneity of variances\n",
              "\n",
              "data:  rlatmin by Group\n",
              "Bartlett's K-squared = 1.2622, df = 1, p-value = 0.2612\n"
            ]
          },
          "metadata": {}
        }
      ]
    },
    {
      "cell_type": "code",
      "source": [
        "kruskal.test(rlatmin ~ Group,  data = data_metadata)"
      ],
      "metadata": {
        "colab": {
          "base_uri": "https://localhost:8080/",
          "height": 104
        },
        "id": "rmOezsRHl2qD",
        "outputId": "88828d33-b5c7-474d-837b-2435b3278e02"
      },
      "execution_count": 66,
      "outputs": [
        {
          "output_type": "display_data",
          "data": {
            "text/plain": [
              "\n",
              "\tKruskal-Wallis rank sum test\n",
              "\n",
              "data:  rlatmin by Group\n",
              "Kruskal-Wallis chi-squared = 2.4986, df = 1, p-value = 0.1139\n"
            ]
          },
          "metadata": {}
        }
      ]
    },
    {
      "cell_type": "code",
      "source": [
        "data_metadata$Group <- as.factor(data_metadata$Group)\n",
        "\n",
        "anova_rlatmin <- aov(rlatmin ~ Group, data = data_metadata)\n",
        "\n",
        "anova_rlatmax <- aov(rlatmax ~ Group, data = data_metadata)\n",
        "\n",
        "summary(anova_rlatmin)\n",
        "\n",
        "summary(anova_rlatmax)"
      ],
      "metadata": {
        "colab": {
          "base_uri": "https://localhost:8080/",
          "height": 156
        },
        "id": "AU9L7Ij5mwAW",
        "outputId": "24799b90-928f-4d82-bd22-9ece875850fb"
      },
      "execution_count": 69,
      "outputs": [
        {
          "output_type": "display_data",
          "data": {
            "text/plain": [
              "            Df Sum Sq Mean Sq F value Pr(>F)\n",
              "Group        1 0.0410 0.04100   2.364  0.133\n",
              "Residuals   36 0.6243 0.01734               "
            ]
          },
          "metadata": {}
        },
        {
          "output_type": "display_data",
          "data": {
            "text/plain": [
              "            Df Sum Sq Mean Sq F value Pr(>F)  \n",
              "Group        1 0.1328 0.13282   4.763 0.0357 *\n",
              "Residuals   36 1.0039 0.02789                 \n",
              "---\n",
              "Signif. codes:  0 ‘***’ 0.001 ‘**’ 0.01 ‘*’ 0.05 ‘.’ 0.1 ‘ ’ 1"
            ]
          },
          "metadata": {}
        }
      ]
    },
    {
      "cell_type": "markdown",
      "source": [
        "## Дисперсионный анализ carotidIMTmean и Tgi_exp"
      ],
      "metadata": {
        "id": "0hYogJWkvAZF"
      }
    },
    {
      "cell_type": "code",
      "source": [
        "hist(data_metadata$carotidIMTmean, main = \"Histogram of carotidIMTmean\", xlab = \"Choi_exp\", col = \"lightblue\")\n",
        "hist(data_metadata$Tgi_exp, main = \"Histogram of Tgi_exp\", xlab = \"Tgi_exp\", col = \"lightblue\")"
      ],
      "metadata": {
        "colab": {
          "base_uri": "https://localhost:8080/",
          "height": 857
        },
        "id": "X6N2wMEjvU85",
        "outputId": "45558847-b6e1-4055-896a-45e71e610a82"
      },
      "execution_count": 78,
      "outputs": [
        {
          "output_type": "display_data",
          "data": {
            "text/plain": [
              "Plot with title “Histogram of carotidIMTmean”"
            ],
            "image/png": "[encoded data removed]"
          },
          "metadata": {
            "image/png": {
              "width": 420,
              "height": 420
            }
          }
        },
        {
          "output_type": "display_data",
          "data": {
            "text/plain": [
              "Plot with title “Histogram of Tgi_exp”"
            ],
            "image/png": "[encoded data removed]"
          },
          "metadata": {
            "image/png": {
              "width": 420,
              "height": 420
            }
          }
        }
      ]
    },
    {
      "cell_type": "code",
      "source": [
        "data_metadata$Group <- as.factor(data_metadata$Group)"
      ],
      "metadata": {
        "id": "n2QluTRQpW1b"
      },
      "execution_count": 79,
      "outputs": []
    },
    {
      "cell_type": "code",
      "source": [
        "shapiro.test(data_metadata$carotidIMTmean)\n",
        "shapiro.test(data_metadata$Tgi_exp)"
      ],
      "metadata": {
        "colab": {
          "base_uri": "https://localhost:8080/",
          "height": 191
        },
        "id": "C8FG8eY8vT2g",
        "outputId": "6106ba12-ad9e-441c-ab9c-ede9e44b09f2"
      },
      "execution_count": 81,
      "outputs": [
        {
          "output_type": "display_data",
          "data": {
            "text/plain": [
              "\n",
              "\tShapiro-Wilk normality test\n",
              "\n",
              "data:  data_metadata$carotidIMTmean\n",
              "W = 0.97518, p-value = 0.5488\n"
            ]
          },
          "metadata": {}
        },
        {
          "output_type": "display_data",
          "data": {
            "text/plain": [
              "\n",
              "\tShapiro-Wilk normality test\n",
              "\n",
              "data:  data_metadata$Tgi_exp\n",
              "W = 0.87282, p-value = 0.0004746\n"
            ]
          },
          "metadata": {}
        }
      ]
    },
    {
      "cell_type": "code",
      "source": [
        "ggplot(data_metadata, aes(x = Group, y = carotidIMTmean, colour = Choi_exp)) + stat_summary(fun.data = \"mean_cl_normal\")"
      ],
      "metadata": {
        "colab": {
          "base_uri": "https://localhost:8080/",
          "height": 437
        },
        "id": "TqtlfnMIv5Aw",
        "outputId": "126e3cf0-56f5-4aab-d4a0-c27fc2e8438f"
      },
      "execution_count": 82,
      "outputs": [
        {
          "output_type": "display_data",
          "data": {
            "text/plain": [
              "plot without title"
            ],
            "image/png": "[encoded data removed]"
          },
          "metadata": {
            "image/png": {
              "width": 420,
              "height": 420
            }
          }
        }
      ]
    },
    {
      "cell_type": "code",
      "source": [
        "ggplot(data_metadata, aes(x = Group, y = Tgi_exp, colour = Tgi_exp)) + stat_summary(fun.data = \"mean_cl_normal\")"
      ],
      "metadata": {
        "colab": {
          "base_uri": "https://localhost:8080/",
          "height": 437
        },
        "id": "Z6IKedAtv-z2",
        "outputId": "c55b786c-903e-41af-88a3-49f9cf48e696"
      },
      "execution_count": 76,
      "outputs": [
        {
          "output_type": "display_data",
          "data": {
            "text/plain": [
              "plot without title"
            ],
            "image/png": "[encoded data removed]"
          },
          "metadata": {
            "image/png": {
              "width": 420,
              "height": 420
            }
          }
        }
      ]
    },
    {
      "cell_type": "code",
      "source": [
        "anova_carotidIMTmean <- aov(carotidIMTmean ~ Group, data = data_metadata)\n",
        "\n",
        "summary(anova_carotidIMTmean)"
      ],
      "metadata": {
        "colab": {
          "base_uri": "https://localhost:8080/",
          "height": 104
        },
        "id": "kbCfljUxvbsM",
        "outputId": "336033c9-de28-454f-cf1b-4669d8c63912"
      },
      "execution_count": 83,
      "outputs": [
        {
          "output_type": "display_data",
          "data": {
            "text/plain": [
              "            Df Sum Sq Mean Sq F value Pr(>F)  \n",
              "Group        1 0.0855 0.08554   6.325 0.0165 *\n",
              "Residuals   36 0.4869 0.01352                 \n",
              "---\n",
              "Signif. codes:  0 ‘***’ 0.001 ‘**’ 0.01 ‘*’ 0.05 ‘.’ 0.1 ‘ ’ 1"
            ]
          },
          "metadata": {}
        }
      ]
    },
    {
      "cell_type": "code",
      "source": [
        "anova_tgi_exp <- aov(Tgi_exp ~ Group, data = data_metadata)\n",
        "\n",
        "summary(anova_tgi_exp)"
      ],
      "metadata": {
        "colab": {
          "base_uri": "https://localhost:8080/",
          "height": 69
        },
        "id": "T1scbQ37vhr8",
        "outputId": "8f93c162-845d-49ba-82a2-9883a4713629"
      },
      "execution_count": 84,
      "outputs": [
        {
          "output_type": "display_data",
          "data": {
            "text/plain": [
              "            Df Sum Sq Mean Sq F value Pr(>F)\n",
              "Group        1  0.226  0.2256   0.503  0.483\n",
              "Residuals   36 16.162  0.4489               "
            ]
          },
          "metadata": {}
        }
      ]
    },
    {
      "cell_type": "code",
      "source": [
        "TukeyHSD(anova_carotidIMTmean)"
      ],
      "metadata": {
        "colab": {
          "base_uri": "https://localhost:8080/",
          "height": 156
        },
        "id": "zlfOJGUKvpO0",
        "outputId": "786d3a76-0fa8-41e0-e1aa-b80cc9a331c2"
      },
      "execution_count": 85,
      "outputs": [
        {
          "output_type": "display_data",
          "data": {
            "text/plain": [
              "  Tukey multiple comparisons of means\n",
              "    95% family-wise confidence level\n",
              "\n",
              "Fit: aov(formula = carotidIMTmean ~ Group, data = data_metadata)\n",
              "\n",
              "$Group\n",
              "          diff        lwr       upr     p adj\n",
              "1-0 0.09835813 0.01903932 0.1776769 0.0165125\n"
            ]
          },
          "metadata": {}
        }
      ]
    },
    {
      "cell_type": "code",
      "source": [
        "TukeyHSD(anova_tgi_exp)"
      ],
      "metadata": {
        "colab": {
          "base_uri": "https://localhost:8080/",
          "height": 156
        },
        "id": "GzBssT0nwWMl",
        "outputId": "836ba66c-4412-459d-da4f-8f90dda72574"
      },
      "execution_count": 86,
      "outputs": [
        {
          "output_type": "display_data",
          "data": {
            "text/plain": [
              "  Tukey multiple comparisons of means\n",
              "    95% family-wise confidence level\n",
              "\n",
              "Fit: aov(formula = Tgi_exp ~ Group, data = data_metadata)\n",
              "\n",
              "$Group\n",
              "         diff        lwr       upr     p adj\n",
              "1-0 0.1597331 -0.2972556 0.6167218 0.4829597\n"
            ]
          },
          "metadata": {}
        }
      ]
    },
    {
      "cell_type": "code",
      "source": [
        "ggplot(data_metadata, aes(x = Group, y = carotidIMTmean, fill = Group)) + geom_boxplot() + geom_jitter()"
      ],
      "metadata": {
        "colab": {
          "base_uri": "https://localhost:8080/",
          "height": 437
        },
        "id": "lGkeTHm2w5AE",
        "outputId": "05090342-2677-4aa8-c20e-cbfd83420510"
      },
      "execution_count": 87,
      "outputs": [
        {
          "output_type": "display_data",
          "data": {
            "text/plain": [
              "plot without title"
            ],
            "image/png": "[encoded data removed]"
          },
          "metadata": {
            "image/png": {
              "width": 420,
              "height": 420
            }
          }
        }
      ]
    },
    {
      "cell_type": "code",
      "source": [
        "mod_cm <- lm(carotidIMTmean ~ Group, data = data_metadata)\n",
        "summary(mod_cm)"
      ],
      "metadata": {
        "colab": {
          "base_uri": "https://localhost:8080/",
          "height": 329
        },
        "id": "sfwKJnZaxEmE",
        "outputId": "8913797a-a145-46b2-b4dd-d16cc66745cf"
      },
      "execution_count": 89,
      "outputs": [
        {
          "output_type": "display_data",
          "data": {
            "text/plain": [
              "\n",
              "Call:\n",
              "lm(formula = carotidIMTmean ~ Group, data = data_metadata)\n",
              "\n",
              "Residuals:\n",
              "      Min        1Q    Median        3Q       Max \n",
              "-0.171215 -0.099113 -0.000799  0.080470  0.255476 \n",
              "\n",
              "Coefficients:\n",
              "            Estimate Std. Error t value Pr(>|t|)    \n",
              "(Intercept)  0.74536    0.03108  23.981   <2e-16 ***\n",
              "Group1       0.09836    0.03911   2.515   0.0165 *  \n",
              "---\n",
              "Signif. codes:  0 ‘***’ 0.001 ‘**’ 0.01 ‘*’ 0.05 ‘.’ 0.1 ‘ ’ 1\n",
              "\n",
              "Residual standard error: 0.1163 on 36 degrees of freedom\n",
              "Multiple R-squared:  0.1494,\tAdjusted R-squared:  0.1258 \n",
              "F-statistic: 6.325 on 1 and 36 DF,  p-value: 0.01651\n"
            ]
          },
          "metadata": {}
        }
      ]
    },
    {
      "cell_type": "code",
      "source": [
        "cm_anova <- Anova(mod_cm)\n",
        "cm_anova"
      ],
      "metadata": {
        "colab": {
          "base_uri": "https://localhost:8080/",
          "height": 161
        },
        "id": "DGf2ahQexNF1",
        "outputId": "0468879f-1e4b-4f01-f4a2-cf40f2283bc9"
      },
      "execution_count": 90,
      "outputs": [
        {
          "output_type": "display_data",
          "data": {
            "text/html": [
              "<table class=\"dataframe\">\n",
              "<caption>A anova: 2 × 4</caption>\n",
              "<thead>\n",
              "\t<tr><th></th><th scope=col>Sum Sq</th><th scope=col>Df</th><th scope=col>F value</th><th scope=col>Pr(&gt;F)</th></tr>\n",
              "\t<tr><th></th><th scope=col>&lt;dbl&gt;</th><th scope=col>&lt;dbl&gt;</th><th scope=col>&lt;dbl&gt;</th><th scope=col>&lt;dbl&gt;</th></tr>\n",
              "</thead>\n",
              "<tbody>\n",
              "\t<tr><th scope=row>Group</th><td>0.08554138</td><td> 1</td><td>6.324764</td><td>0.01651255</td></tr>\n",
              "\t<tr><th scope=row>Residuals</th><td>0.48689402</td><td>36</td><td>      NA</td><td>        NA</td></tr>\n",
              "</tbody>\n",
              "</table>\n"
            ],
            "text/markdown": "\nA anova: 2 × 4\n\n| <!--/--> | Sum Sq &lt;dbl&gt; | Df &lt;dbl&gt; | F value &lt;dbl&gt; | Pr(&gt;F) &lt;dbl&gt; |\n|---|---|---|---|---|\n| Group | 0.08554138 |  1 | 6.324764 | 0.01651255 |\n| Residuals | 0.48689402 | 36 |       NA |         NA |\n\n",
            "text/latex": "A anova: 2 × 4\n\\begin{tabular}{r|llll}\n  & Sum Sq & Df & F value & Pr(>F)\\\\\n  & <dbl> & <dbl> & <dbl> & <dbl>\\\\\n\\hline\n\tGroup & 0.08554138 &  1 & 6.324764 & 0.01651255\\\\\n\tResiduals & 0.48689402 & 36 &       NA &         NA\\\\\n\\end{tabular}\n",
            "text/plain": [
              "          Sum Sq     Df F value  Pr(>F)    \n",
              "Group     0.08554138  1 6.324764 0.01651255\n",
              "Residuals 0.48689402 36       NA         NA"
            ]
          },
          "metadata": {}
        }
      ]
    },
    {
      "cell_type": "code",
      "source": [
        "bartlett.test(carotidIMTmean ~ Group,  data = data_metadata)"
      ],
      "metadata": {
        "colab": {
          "base_uri": "https://localhost:8080/",
          "height": 104
        },
        "id": "DNMI3jJdxcGF",
        "outputId": "d7c5b091-a13e-4e70-c4f2-717562de7b52"
      },
      "execution_count": 91,
      "outputs": [
        {
          "output_type": "display_data",
          "data": {
            "text/plain": [
              "\n",
              "\tBartlett test of homogeneity of variances\n",
              "\n",
              "data:  carotidIMTmean by Group\n",
              "Bartlett's K-squared = 1.37, df = 1, p-value = 0.2418\n"
            ]
          },
          "metadata": {}
        }
      ]
    },
    {
      "cell_type": "code",
      "source": [
        "kruskal.test(carotidIMTmean ~ Group,  data = data_metadata)"
      ],
      "metadata": {
        "colab": {
          "base_uri": "https://localhost:8080/",
          "height": 104
        },
        "id": "jb3WRN4mxpfM",
        "outputId": "4ca70db6-2717-4a72-bf13-c3021a4d855a"
      },
      "execution_count": 92,
      "outputs": [
        {
          "output_type": "display_data",
          "data": {
            "text/plain": [
              "\n",
              "\tKruskal-Wallis rank sum test\n",
              "\n",
              "data:  carotidIMTmean by Group\n",
              "Kruskal-Wallis chi-squared = 4.0501, df = 1, p-value = 0.04417\n"
            ]
          },
          "metadata": {}
        }
      ]
    },
    {
      "cell_type": "code",
      "source": [
        "pairwise.wilcox.test(data_metadata$carotidIMTmean, data_metadata$Group, p.adjust.method = 'BH')"
      ],
      "metadata": {
        "colab": {
          "base_uri": "https://localhost:8080/",
          "height": 208
        },
        "id": "ZN1VKXRpxxZF",
        "outputId": "9cdce4ce-0644-40ae-8e6e-ffb226a8742c"
      },
      "execution_count": 94,
      "outputs": [
        {
          "output_type": "stream",
          "name": "stderr",
          "text": [
            "Warning message in wilcox.test.default(xi, xj, paired = paired, ...):\n",
            "“cannot compute exact p-value with ties”\n"
          ]
        },
        {
          "output_type": "display_data",
          "data": {
            "text/plain": [
              "\n",
              "\tPairwise comparisons using Wilcoxon rank sum test with continuity correction \n",
              "\n",
              "data:  data_metadata$carotidIMTmean and data_metadata$Group \n",
              "\n",
              "  0    \n",
              "1 0.046\n",
              "\n",
              "P value adjustment method: BH "
            ]
          },
          "metadata": {}
        }
      ]
    },
    {
      "cell_type": "code",
      "source": [],
      "metadata": {
        "id": "p3E3f3Bax8pF"
      },
      "execution_count": null,
      "outputs": []
    }
  ]
}