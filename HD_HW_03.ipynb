{
  "nbformat": 4,
  "nbformat_minor": 0,
  "metadata": {
    "colab": {
      "provenance": [],
      "authorship_tag": "ABX9TyMFs2DjHxqNimU789l16Vt0",
      "include_colab_link": true
    },
    "kernelspec": {
      "name": "python3",
      "display_name": "Python 3"
    },
    "language_info": {
      "name": "python"
    }
  },
  "cells": [
    {
      "cell_type": "markdown",
      "metadata": {
        "id": "view-in-github",
        "colab_type": "text"
      },
      "source": [
        "<a href=\"https://colab.research.google.com/github/VitalyGladyshev/med_work/blob/main/HD_HW_03.ipynb\" target=\"_parent\"><img src=\"https://colab.research.google.com/assets/colab-badge.svg\" alt=\"Open In Colab\"/></a>"
      ]
    },
    {
      "cell_type": "markdown",
      "source": [
        "# Прогнозирование и диагностика в медицине с помощью машинного обучения"
      ],
      "metadata": {
        "id": "BQsQjAYNGX6H"
      }
    },
    {
      "cell_type": "markdown",
      "source": [
        "## ДЗ 3 Гладышев В.В."
      ],
      "metadata": {
        "id": "cnCe8Bq-GbsA"
      }
    },
    {
      "cell_type": "markdown",
      "source": [
        "## Regensburg Pediatric Appendicitis"
      ],
      "metadata": {
        "id": "TH6ee8bQGgJI"
      }
    },
    {
      "cell_type": "markdown",
      "source": [
        "### Импорты"
      ],
      "metadata": {
        "id": "auY3H8X8Gusx"
      }
    },
    {
      "cell_type": "code",
      "source": [
        "import numpy as np\n",
        "import pandas as pd\n",
        "import matplotlib.pyplot as plt\n",
        "import seaborn as sns\n",
        "\n",
        "from sklearn.model_selection import train_test_split, cross_val_score\n",
        "from sklearn.pipeline import make_pipeline\n",
        "\n",
        "from sklearn.preprocessing import StandardScaler\n",
        "\n",
        "from sklearn.metrics import accuracy_score\n",
        "from sklearn.metrics import precision_score, recall_score\n",
        "from sklearn.metrics import f1_score\n",
        "\n",
        "from sklearn.multioutput import MultiOutputClassifier\n",
        "from sklearn.linear_model import LogisticRegression\n",
        "from sklearn.svm import SVC\n",
        "from sklearn.neighbors import KNeighborsClassifier\n",
        "from sklearn.tree import DecisionTreeClassifier\n",
        "from sklearn.ensemble import RandomForestClassifier\n",
        "from sklearn.ensemble import GradientBoostingClassifier\n",
        "# from sklearn.ensemble import VotingClassifier\n",
        "# from sklearn.ensemble import StackingClassifier\n",
        "\n",
        "from sklearn.model_selection import cross_val_predict\n",
        "from sklearn.metrics import confusion_matrix\n",
        "from sklearn.metrics import ConfusionMatrixDisplay\n",
        "\n",
        "from sklearn.preprocessing import KBinsDiscretizer\n",
        "\n",
        "import math"
      ],
      "metadata": {
        "id": "nZRv_NZ-Gy2R"
      },
      "execution_count": 1,
      "outputs": []
    },
    {
      "cell_type": "code",
      "source": [
        "import warnings\n",
        "warnings.filterwarnings('ignore')"
      ],
      "metadata": {
        "id": "OA2MDLsEHGsx"
      },
      "execution_count": null,
      "outputs": []
    },
    {
      "cell_type": "code",
      "execution_count": 2,
      "metadata": {
        "colab": {
          "base_uri": "https://localhost:8080/"
        },
        "id": "vXgwTl-QGN5i",
        "outputId": "999f1f2e-f320-4698-9228-fbf5994b25af"
      },
      "outputs": [
        {
          "output_type": "stream",
          "name": "stdout",
          "text": [
            "Collecting ucimlrepo\n",
            "  Downloading ucimlrepo-0.0.7-py3-none-any.whl.metadata (5.5 kB)\n",
            "Requirement already satisfied: pandas>=1.0.0 in /usr/local/lib/python3.10/dist-packages (from ucimlrepo) (2.1.4)\n",
            "Requirement already satisfied: certifi>=2020.12.5 in /usr/local/lib/python3.10/dist-packages (from ucimlrepo) (2024.7.4)\n",
            "Requirement already satisfied: numpy<2,>=1.22.4 in /usr/local/lib/python3.10/dist-packages (from pandas>=1.0.0->ucimlrepo) (1.26.4)\n",
            "Requirement already satisfied: python-dateutil>=2.8.2 in /usr/local/lib/python3.10/dist-packages (from pandas>=1.0.0->ucimlrepo) (2.8.2)\n",
            "Requirement already satisfied: pytz>=2020.1 in /usr/local/lib/python3.10/dist-packages (from pandas>=1.0.0->ucimlrepo) (2024.1)\n",
            "Requirement already satisfied: tzdata>=2022.1 in /usr/local/lib/python3.10/dist-packages (from pandas>=1.0.0->ucimlrepo) (2024.1)\n",
            "Requirement already satisfied: six>=1.5 in /usr/local/lib/python3.10/dist-packages (from python-dateutil>=2.8.2->pandas>=1.0.0->ucimlrepo) (1.16.0)\n",
            "Downloading ucimlrepo-0.0.7-py3-none-any.whl (8.0 kB)\n",
            "Installing collected packages: ucimlrepo\n",
            "Successfully installed ucimlrepo-0.0.7\n"
          ]
        }
      ],
      "source": [
        "!pip install ucimlrepo"
      ]
    },
    {
      "cell_type": "code",
      "source": [
        "RANDOM_STATE = 42"
      ],
      "metadata": {
        "id": "xUpJG9L8HD4k"
      },
      "execution_count": 3,
      "outputs": []
    },
    {
      "cell_type": "code",
      "source": [
        "from ucimlrepo import fetch_ucirepo"
      ],
      "metadata": {
        "id": "pZWb2Cl6HKeI"
      },
      "execution_count": 4,
      "outputs": []
    },
    {
      "cell_type": "code",
      "source": [
        "!pip install catboost"
      ],
      "metadata": {
        "colab": {
          "base_uri": "https://localhost:8080/"
        },
        "id": "TfMMNLiCJ0H8",
        "outputId": "fd3878fd-7a1a-4b4a-a788-e48d941032e4"
      },
      "execution_count": 5,
      "outputs": [
        {
          "output_type": "stream",
          "name": "stdout",
          "text": [
            "Collecting catboost\n",
            "  Downloading catboost-1.2.5-cp310-cp310-manylinux2014_x86_64.whl.metadata (1.2 kB)\n",
            "Requirement already satisfied: graphviz in /usr/local/lib/python3.10/dist-packages (from catboost) (0.20.3)\n",
            "Requirement already satisfied: matplotlib in /usr/local/lib/python3.10/dist-packages (from catboost) (3.7.1)\n",
            "Requirement already satisfied: numpy>=1.16.0 in /usr/local/lib/python3.10/dist-packages (from catboost) (1.26.4)\n",
            "Requirement already satisfied: pandas>=0.24 in /usr/local/lib/python3.10/dist-packages (from catboost) (2.1.4)\n",
            "Requirement already satisfied: scipy in /usr/local/lib/python3.10/dist-packages (from catboost) (1.13.1)\n",
            "Requirement already satisfied: plotly in /usr/local/lib/python3.10/dist-packages (from catboost) (5.15.0)\n",
            "Requirement already satisfied: six in /usr/local/lib/python3.10/dist-packages (from catboost) (1.16.0)\n",
            "Requirement already satisfied: python-dateutil>=2.8.2 in /usr/local/lib/python3.10/dist-packages (from pandas>=0.24->catboost) (2.8.2)\n",
            "Requirement already satisfied: pytz>=2020.1 in /usr/local/lib/python3.10/dist-packages (from pandas>=0.24->catboost) (2024.1)\n",
            "Requirement already satisfied: tzdata>=2022.1 in /usr/local/lib/python3.10/dist-packages (from pandas>=0.24->catboost) (2024.1)\n",
            "Requirement already satisfied: contourpy>=1.0.1 in /usr/local/lib/python3.10/dist-packages (from matplotlib->catboost) (1.2.1)\n",
            "Requirement already satisfied: cycler>=0.10 in /usr/local/lib/python3.10/dist-packages (from matplotlib->catboost) (0.12.1)\n",
            "Requirement already satisfied: fonttools>=4.22.0 in /usr/local/lib/python3.10/dist-packages (from matplotlib->catboost) (4.53.1)\n",
            "Requirement already satisfied: kiwisolver>=1.0.1 in /usr/local/lib/python3.10/dist-packages (from matplotlib->catboost) (1.4.5)\n",
            "Requirement already satisfied: packaging>=20.0 in /usr/local/lib/python3.10/dist-packages (from matplotlib->catboost) (24.1)\n",
            "Requirement already satisfied: pillow>=6.2.0 in /usr/local/lib/python3.10/dist-packages (from matplotlib->catboost) (9.4.0)\n",
            "Requirement already satisfied: pyparsing>=2.3.1 in /usr/local/lib/python3.10/dist-packages (from matplotlib->catboost) (3.1.4)\n",
            "Requirement already satisfied: tenacity>=6.2.0 in /usr/local/lib/python3.10/dist-packages (from plotly->catboost) (9.0.0)\n",
            "Downloading catboost-1.2.5-cp310-cp310-manylinux2014_x86_64.whl (98.2 MB)\n",
            "\u001b[2K   \u001b[90m━━━━━━━━━━━━━━━━━━━━━━━━━━━━━━━━━━━━━━━━\u001b[0m \u001b[32m98.2/98.2 MB\u001b[0m \u001b[31m7.8 MB/s\u001b[0m eta \u001b[36m0:00:00\u001b[0m\n",
            "\u001b[?25hInstalling collected packages: catboost\n",
            "Successfully installed catboost-1.2.5\n"
          ]
        }
      ]
    },
    {
      "cell_type": "code",
      "source": [
        "import catboost"
      ],
      "metadata": {
        "id": "hEhq_tw1Jqya"
      },
      "execution_count": 6,
      "outputs": []
    },
    {
      "cell_type": "code",
      "source": [
        "import tensorflow as tf"
      ],
      "metadata": {
        "id": "jYsC-25afNbC"
      },
      "execution_count": 7,
      "outputs": []
    },
    {
      "cell_type": "code",
      "source": [
        "# from keras.src import ops\n",
        "# from keras.src.api_export import keras_export\n",
        "# from keras.src.callbacks.callback import Callback\n",
        "# from keras.src.trainers import compile_utils\n",
        "# from keras.src.utils import io_utils"
      ],
      "metadata": {
        "id": "KogannxCgCMd"
      },
      "execution_count": 8,
      "outputs": []
    },
    {
      "cell_type": "code",
      "source": [
        "def classification_metrics(y, pred):\n",
        "    pre = accuracy_score(y, pred)\n",
        "    print(f\"accuracy score:\\t\\t{pre:.5f}\\n\")\n",
        "\n",
        "    pre = f1_score(y, pred, average=\"macro\")\n",
        "    print(f\"f1 score:\\t\\t{pre:.5f}\")\n",
        "\n",
        "    pre = precision_score(y, pred, average=\"macro\")\n",
        "    print(f\"precision score:\\t{pre:.5f}\")\n",
        "\n",
        "    pre = recall_score(y, pred, average=\"macro\", zero_division=0.0)\n",
        "    print(f\"recall score:\\t\\t{pre:.5f}\")"
      ],
      "metadata": {
        "id": "-8EYrRa9dVSs"
      },
      "execution_count": 9,
      "outputs": []
    },
    {
      "cell_type": "markdown",
      "source": [
        "### Загрузка и подготовка данных"
      ],
      "metadata": {
        "id": "XOky5pwDHQFL"
      }
    },
    {
      "cell_type": "code",
      "source": [
        "# fetch dataset\n",
        "regensburg_pediatric_appendicitis = fetch_ucirepo(id=938)\n",
        "\n",
        "# data (as pandas dataframes)\n",
        "X = regensburg_pediatric_appendicitis.data.features\n",
        "y = regensburg_pediatric_appendicitis.data.targets\n",
        "\n",
        "# metadata\n",
        "print(regensburg_pediatric_appendicitis.metadata)\n",
        "\n",
        "# variable information\n",
        "print(regensburg_pediatric_appendicitis.variables)"
      ],
      "metadata": {
        "colab": {
          "base_uri": "https://localhost:8080/"
        },
        "id": "feOCPR_9HQor",
        "outputId": "9a525402-3178-4400-96f2-6ad94c37cc9f"
      },
      "execution_count": 10,
      "outputs": [
        {
          "output_type": "stream",
          "name": "stdout",
          "text": [
            "{'uci_id': 938, 'name': 'Regensburg Pediatric Appendicitis', 'repository_url': 'https://archive.ics.uci.edu/dataset/938/regensburg+pediatric+appendicitis', 'data_url': 'https://archive.ics.uci.edu/static/public/938/data.csv', 'abstract': 'This repository holds the data from a cohort of pediatric patients with suspected appendicitis admitted with abdominal pain to Children’s Hospital St. Hedwig in Regensburg, Germany, between 2016 and 2021. Each patient has (potentially multiple) ultrasound (US) images, aka views, tabular data comprising laboratory, physical examination, scoring results and ultrasonographic findings extracted manually by the experts, and three target variables, namely, diagnosis, management and severity.', 'area': 'Health and Medicine', 'tasks': ['Classification'], 'characteristics': ['Tabular', 'Image'], 'num_instances': 782, 'num_features': 53, 'feature_types': ['Real', 'Categorical', 'Integer'], 'demographics': ['Age', 'Sex'], 'target_col': ['Management', 'Severity', 'Diagnosis'], 'index_col': None, 'has_missing_values': 'yes', 'missing_values_symbol': 'NaN', 'year_of_dataset_creation': 2023, 'last_updated': 'Tue Feb 06 2024', 'dataset_doi': '10.5281/zenodo.7669442', 'creators': ['Ricards Marcinkevics', 'Patricia Reis', 'Ugne Klimiene', 'Ece Ozkan', 'Kieran Chin-Cheong', 'Alyssia Paschke', 'Julia Zerres', 'Markus Denzinger', 'David Niederberger', 'S. Wellmann', 'C. Knorr', 'Julia E.'], 'intro_paper': {'title': 'Interpretable and Intervenable Ultrasonography-based Machine Learning Models for Pediatric Appendicitis', 'authors': 'Ricards Marcinkevics, Patricia Reis Wolfertstetter, Ugne Klimiene, Ece Ozkan, Kieran Chin-Cheong, Alyssia Paschke, Julia Zerres, Markus Denzinger, David Niederberger, S. Wellmann, C. Knorr, Julia E. Vogt', 'published_in': 'Medical Image Analysis', 'year': 2023, 'url': 'https://arxiv.org/abs/2302.14460v2', 'doi': None}, 'additional_info': {'summary': 'This dataset was acquired in a retrospective study from a cohort of pediatric patients admitted with abdominal pain to Children’s Hospital St. Hedwig in Regensburg, Germany. Multiple abdominal B-mode ultrasound images were acquired for most patients, with the number of views varying from 1 to 15. The images depict various regions of interest, such as the abdomen’s right lower quadrant, appendix, intestines, lymph nodes and reproductive organs. Alongside multiple US images for each subject, the dataset includes information encompassing laboratory tests, physical examination results, clinical scores, such as Alvarado and pediatric appendicitis scores, and expert-produced ultrasonographic findings. Lastly, the subjects were labeled w.r.t. three target variables: diagnosis (appendicitis vs. no appendicitis), management (surgical vs. conservative) and severity (complicated vs. uncomplicated or no appendicitis). The study was approved by the Ethics Committee of the University of Regensburg (no. 18-1063-101, 18-1063_1-101 and 18-1063_2-101) and was performed following applicable guidelines and regulations.', 'purpose': None, 'funded_by': None, 'instances_represent': None, 'recommended_data_splits': None, 'sensitive_data': None, 'preprocessing_description': None, 'variable_info': None, 'citation': None}, 'external_url': 'https://zenodo.org/records/7669442'}\n",
            "                                name     role         type demographic  \\\n",
            "0                                Age  Feature   Continuous         Age   \n",
            "1                                BMI  Feature   Continuous        None   \n",
            "2                                Sex  Feature  Categorical         Sex   \n",
            "3                             Height  Feature   Continuous        None   \n",
            "4                             Weight  Feature      Integer        None   \n",
            "5                     Length_of_Stay  Feature      Integer        None   \n",
            "6                         Management   Target  Categorical        None   \n",
            "7                           Severity   Target  Categorical        None   \n",
            "8              Diagnosis_Presumptive    Other       Binary        None   \n",
            "9                          Diagnosis   Target       Binary        None   \n",
            "10                    Alvarado_Score  Feature      Integer        None   \n",
            "11     Paedriatic_Appendicitis_Score  Feature      Integer        None   \n",
            "12                    Appendix_on_US  Feature       Binary        None   \n",
            "13                 Appendix_Diameter  Feature      Integer        None   \n",
            "14                    Migratory_Pain  Feature       Binary        None   \n",
            "15              Lower_Right_Abd_Pain  Feature       Binary        None   \n",
            "16  Contralateral_Rebound_Tenderness  Feature       Binary        None   \n",
            "17                     Coughing_Pain  Feature       Binary        None   \n",
            "18                            Nausea  Feature       Binary        None   \n",
            "19                  Loss_of_Appetite  Feature       Binary        None   \n",
            "20                  Body_Temperature  Feature   Continuous        None   \n",
            "21                         WBC_Count  Feature   Continuous        None   \n",
            "22             Neutrophil_Percentage  Feature      Integer        None   \n",
            "23             Segmented_Neutrophils  Feature      Integer        None   \n",
            "24                      Neutrophilia  Feature  Categorical        None   \n",
            "25                         RBC_Count  Feature   Continuous        None   \n",
            "26                        Hemoglobin  Feature   Continuous        None   \n",
            "27                               RDW  Feature   Continuous        None   \n",
            "28                 Thrombocyte_Count  Feature      Integer        None   \n",
            "29                  Ketones_in_Urine  Feature  Categorical        None   \n",
            "30                      RBC_in_Urine  Feature  Categorical        None   \n",
            "31                      WBC_in_Urine  Feature  Categorical        None   \n",
            "32                               CRP  Feature      Integer        None   \n",
            "33                           Dysuria  Feature       Binary        None   \n",
            "34                             Stool  Feature  Categorical        None   \n",
            "35                       Peritonitis  Feature  Categorical        None   \n",
            "36                        Psoas_Sign  Feature  Categorical        None   \n",
            "37    Ipsilateral_Rebound_Tenderness  Feature  Categorical        None   \n",
            "38                      US_Performed  Feature  Categorical        None   \n",
            "39                         US_Number    Other      Integer        None   \n",
            "40                       Free_Fluids  Feature  Categorical        None   \n",
            "41              Appendix_Wall_Layers  Feature  Categorical        None   \n",
            "42                       Target_Sign  Feature  Categorical        None   \n",
            "43                     Appendicolith  Feature  Categorical        None   \n",
            "44                         Perfusion  Feature  Categorical        None   \n",
            "45                       Perforation  Feature  Categorical        None   \n",
            "46       Surrounding_Tissue_Reaction  Feature  Categorical        None   \n",
            "47              Appendicular_Abscess  Feature  Categorical        None   \n",
            "48                  Abscess_Location  Feature  Categorical        None   \n",
            "49          Pathological_Lymph_Nodes  Feature       Binary        None   \n",
            "50              Lymph_Nodes_Location  Feature  Categorical        None   \n",
            "51             Bowel_Wall_Thickening  Feature       Binary        None   \n",
            "52       Conglomerate_of_Bowel_Loops  Feature       Binary        None   \n",
            "53                             Ileus  Feature  Categorical        None   \n",
            "54                       Coprostasis  Feature  Categorical        None   \n",
            "55                         Meteorism  Feature  Categorical        None   \n",
            "56                         Enteritis  Feature  Categorical        None   \n",
            "57            Gynecological_Findings  Feature  Categorical        None   \n",
            "\n",
            "                                          description  units missing_values  \n",
            "0                     Obtained from the date of birth  years            yes  \n",
            "1   Measures body fat; patient's weight divided by...   None            yes  \n",
            "2                                   Registered gender   None            yes  \n",
            "3                                    Patient's height   None            yes  \n",
            "4                                    Patient's weight   None            yes  \n",
            "5                  Length of the stay in the hospital   None            yes  \n",
            "6   (conservative, primary surgical, secondary sur...   None            yes  \n",
            "7   (uncomplicated, complicated) Severity of appen...   None            yes  \n",
            "8                       Patient's suspected diagnosis   None            yes  \n",
            "9   Patient's diagnosis, histologically confirmed ...   None            yes  \n",
            "10    Patient's score according to the scoring system   None            yes  \n",
            "11    Patient's score according to the scoring system   None            yes  \n",
            "12  Detectability of the vermiform appendix during...   None            yes  \n",
            "13             Maximal outer diameter of the appendix   None            yes  \n",
            "14  Abdominal pain; usually starts in epigastrium ...   None            yes  \n",
            "15       Right iliac fossa pain detected on palpation   None            yes  \n",
            "16  A state in which pain of the contralateral sid...   None            yes  \n",
            "17                     Abdominal pain by forced cough   None            yes  \n",
            "18  Feeling of sickness/ejection of contents from ...   None            yes  \n",
            "19                                               None   None            yes  \n",
            "20  Measured by a thermometer placed in the rectum...   None            yes  \n",
            "21  The number of leucocytes in a unit volume of b...   None            yes  \n",
            "22              Mature WBC in the granulocytic series   None            yes  \n",
            "23  Most mature neutrophilic granulocytes present ...   None            yes  \n",
            "24  Relative neutrophilic leucocytosis, often a re...   None            yes  \n",
            "25  The number of erythrocytes in a unit volume of...   None            yes  \n",
            "26  Hemoglobin level; a red protein in the red blo...   None            yes  \n",
            "27  A blood test that measures the differences in ...   None            yes  \n",
            "28  The number of platelets in a unit volume of blood   None            yes  \n",
            "29  Presence of ketone bodies in urine, e.g. in ca...   None            yes  \n",
            "30                                     Blood in urine   None            yes  \n",
            "31    Leucocytes in urine, e.g., in case of infection   None            yes  \n",
            "32  Protein produced by the liver, elevated in cas...   None            yes  \n",
            "33          Pain or other difficulty during urination   None            yes  \n",
            "34                 Characteristics of bowel movements   None            yes  \n",
            "35  Spasm of abdominal wall muscles detected on pa...   None            yes  \n",
            "36    Abdominal pain produced by extension of the hip   None            yes  \n",
            "37  A state in which pain of the ipsilateral side ...   None            yes  \n",
            "38  If an abdominal ultrasonography was performed ...   None            yes  \n",
            "39                                               None   None            yes  \n",
            "40                     Free fluids inside the abdomen   None            yes  \n",
            "41  Distribution and characteristics of appendix l...   None            yes  \n",
            "42  Axial image of appendix with a fluid-filled ce...   None            yes  \n",
            "43  Presence of fecalith in the appendix, e.g. aco...   None            yes  \n",
            "44                    Blood flow to the appendix wall   None            yes  \n",
            "45                Signs of appendix perforation in US   None            yes  \n",
            "46  Inflammation signs in tissue (i.a. in omentum/...   None            yes  \n",
            "47                                   Appendiceal mass   None            yes  \n",
            "48             Location of the abcess intraperitoneal   None            yes  \n",
            "49  Enlarged and inflamed intra-abdominal lymph nodes   None            yes  \n",
            "50  The location of pathological lymph nodes in th...   None            yes  \n",
            "51  Edema of the intestinal wall, > 2-3 mm for sma...   None            yes  \n",
            "52  Small intestine conglomerate as sign of intrap...   None            yes  \n",
            "53  Sonographic signs of paralytic ileus (e.g., di...   None            yes  \n",
            "54                       Fecal impaction in the colon   None            yes  \n",
            "55               Accumulation of gas in the intestine   None            yes  \n",
            "56  Sonographic features of gastroenteritis, e.g. ...   None            yes  \n",
            "57  Gynaecological abnormalities, e.g. cysts, ovar...   None            yes  \n"
          ]
        }
      ]
    },
    {
      "cell_type": "code",
      "source": [
        "df = pd.concat([X, y], axis=1)"
      ],
      "metadata": {
        "id": "Bmh4oN3EHZ-o"
      },
      "execution_count": 11,
      "outputs": []
    },
    {
      "cell_type": "code",
      "source": [
        "df.info()"
      ],
      "metadata": {
        "colab": {
          "base_uri": "https://localhost:8080/"
        },
        "id": "jL04Pfs6Ieze",
        "outputId": "12a25cf2-646f-47d2-e99a-4af3229128ff"
      },
      "execution_count": 12,
      "outputs": [
        {
          "output_type": "stream",
          "name": "stdout",
          "text": [
            "<class 'pandas.core.frame.DataFrame'>\n",
            "RangeIndex: 782 entries, 0 to 781\n",
            "Data columns (total 56 columns):\n",
            " #   Column                            Non-Null Count  Dtype  \n",
            "---  ------                            --------------  -----  \n",
            " 0   Age                               781 non-null    float64\n",
            " 1   BMI                               755 non-null    float64\n",
            " 2   Sex                               780 non-null    object \n",
            " 3   Height                            756 non-null    float64\n",
            " 4   Weight                            779 non-null    float64\n",
            " 5   Length_of_Stay                    778 non-null    float64\n",
            " 6   Alvarado_Score                    730 non-null    float64\n",
            " 7   Paedriatic_Appendicitis_Score     730 non-null    float64\n",
            " 8   Appendix_on_US                    777 non-null    object \n",
            " 9   Appendix_Diameter                 498 non-null    float64\n",
            " 10  Migratory_Pain                    773 non-null    object \n",
            " 11  Lower_Right_Abd_Pain              774 non-null    object \n",
            " 12  Contralateral_Rebound_Tenderness  767 non-null    object \n",
            " 13  Coughing_Pain                     766 non-null    object \n",
            " 14  Nausea                            774 non-null    object \n",
            " 15  Loss_of_Appetite                  772 non-null    object \n",
            " 16  Body_Temperature                  775 non-null    float64\n",
            " 17  WBC_Count                         776 non-null    float64\n",
            " 18  Neutrophil_Percentage             679 non-null    float64\n",
            " 19  Segmented_Neutrophils             54 non-null     float64\n",
            " 20  Neutrophilia                      732 non-null    object \n",
            " 21  RBC_Count                         764 non-null    float64\n",
            " 22  Hemoglobin                        764 non-null    float64\n",
            " 23  RDW                               756 non-null    float64\n",
            " 24  Thrombocyte_Count                 764 non-null    float64\n",
            " 25  Ketones_in_Urine                  582 non-null    object \n",
            " 26  RBC_in_Urine                      576 non-null    object \n",
            " 27  WBC_in_Urine                      583 non-null    object \n",
            " 28  CRP                               771 non-null    float64\n",
            " 29  Dysuria                           753 non-null    object \n",
            " 30  Stool                             765 non-null    object \n",
            " 31  Peritonitis                       773 non-null    object \n",
            " 32  Psoas_Sign                        745 non-null    object \n",
            " 33  Ipsilateral_Rebound_Tenderness    619 non-null    object \n",
            " 34  US_Performed                      778 non-null    object \n",
            " 35  Free_Fluids                       719 non-null    object \n",
            " 36  Appendix_Wall_Layers              218 non-null    object \n",
            " 37  Target_Sign                       138 non-null    object \n",
            " 38  Appendicolith                     69 non-null     object \n",
            " 39  Perfusion                         63 non-null     object \n",
            " 40  Perforation                       81 non-null     object \n",
            " 41  Surrounding_Tissue_Reaction       252 non-null    object \n",
            " 42  Appendicular_Abscess              85 non-null     object \n",
            " 43  Abscess_Location                  13 non-null     object \n",
            " 44  Pathological_Lymph_Nodes          203 non-null    object \n",
            " 45  Lymph_Nodes_Location              121 non-null    object \n",
            " 46  Bowel_Wall_Thickening             99 non-null     object \n",
            " 47  Conglomerate_of_Bowel_Loops       43 non-null     object \n",
            " 48  Ileus                             60 non-null     object \n",
            " 49  Coprostasis                       71 non-null     object \n",
            " 50  Meteorism                         140 non-null    object \n",
            " 51  Enteritis                         66 non-null     object \n",
            " 52  Gynecological_Findings            26 non-null     object \n",
            " 53  Management                        781 non-null    object \n",
            " 54  Severity                          781 non-null    object \n",
            " 55  Diagnosis                         780 non-null    object \n",
            "dtypes: float64(17), object(39)\n",
            "memory usage: 342.2+ KB\n"
          ]
        }
      ]
    },
    {
      "cell_type": "code",
      "source": [
        "df.isna().sum()"
      ],
      "metadata": {
        "colab": {
          "base_uri": "https://localhost:8080/",
          "height": 1000
        },
        "id": "w8kT5imTIpJz",
        "outputId": "8a37ee98-7eda-404d-b7b4-86091f1b2ace"
      },
      "execution_count": 13,
      "outputs": [
        {
          "output_type": "execute_result",
          "data": {
            "text/plain": [
              "Age                                   1\n",
              "BMI                                  27\n",
              "Sex                                   2\n",
              "Height                               26\n",
              "Weight                                3\n",
              "Length_of_Stay                        4\n",
              "Alvarado_Score                       52\n",
              "Paedriatic_Appendicitis_Score        52\n",
              "Appendix_on_US                        5\n",
              "Appendix_Diameter                   284\n",
              "Migratory_Pain                        9\n",
              "Lower_Right_Abd_Pain                  8\n",
              "Contralateral_Rebound_Tenderness     15\n",
              "Coughing_Pain                        16\n",
              "Nausea                                8\n",
              "Loss_of_Appetite                     10\n",
              "Body_Temperature                      7\n",
              "WBC_Count                             6\n",
              "Neutrophil_Percentage               103\n",
              "Segmented_Neutrophils               728\n",
              "Neutrophilia                         50\n",
              "RBC_Count                            18\n",
              "Hemoglobin                           18\n",
              "RDW                                  26\n",
              "Thrombocyte_Count                    18\n",
              "Ketones_in_Urine                    200\n",
              "RBC_in_Urine                        206\n",
              "WBC_in_Urine                        199\n",
              "CRP                                  11\n",
              "Dysuria                              29\n",
              "Stool                                17\n",
              "Peritonitis                           9\n",
              "Psoas_Sign                           37\n",
              "Ipsilateral_Rebound_Tenderness      163\n",
              "US_Performed                          4\n",
              "Free_Fluids                          63\n",
              "Appendix_Wall_Layers                564\n",
              "Target_Sign                         644\n",
              "Appendicolith                       713\n",
              "Perfusion                           719\n",
              "Perforation                         701\n",
              "Surrounding_Tissue_Reaction         530\n",
              "Appendicular_Abscess                697\n",
              "Abscess_Location                    769\n",
              "Pathological_Lymph_Nodes            579\n",
              "Lymph_Nodes_Location                661\n",
              "Bowel_Wall_Thickening               683\n",
              "Conglomerate_of_Bowel_Loops         739\n",
              "Ileus                               722\n",
              "Coprostasis                         711\n",
              "Meteorism                           642\n",
              "Enteritis                           716\n",
              "Gynecological_Findings              756\n",
              "Management                            1\n",
              "Severity                              1\n",
              "Diagnosis                             2\n",
              "dtype: int64"
            ],
            "text/html": [
              "<div>\n",
              "<style scoped>\n",
              "    .dataframe tbody tr th:only-of-type {\n",
              "        vertical-align: middle;\n",
              "    }\n",
              "\n",
              "    .dataframe tbody tr th {\n",
              "        vertical-align: top;\n",
              "    }\n",
              "\n",
              "    .dataframe thead th {\n",
              "        text-align: right;\n",
              "    }\n",
              "</style>\n",
              "<table border=\"1\" class=\"dataframe\">\n",
              "  <thead>\n",
              "    <tr style=\"text-align: right;\">\n",
              "      <th></th>\n",
              "      <th>0</th>\n",
              "    </tr>\n",
              "  </thead>\n",
              "  <tbody>\n",
              "    <tr>\n",
              "      <th>Age</th>\n",
              "      <td>1</td>\n",
              "    </tr>\n",
              "    <tr>\n",
              "      <th>BMI</th>\n",
              "      <td>27</td>\n",
              "    </tr>\n",
              "    <tr>\n",
              "      <th>Sex</th>\n",
              "      <td>2</td>\n",
              "    </tr>\n",
              "    <tr>\n",
              "      <th>Height</th>\n",
              "      <td>26</td>\n",
              "    </tr>\n",
              "    <tr>\n",
              "      <th>Weight</th>\n",
              "      <td>3</td>\n",
              "    </tr>\n",
              "    <tr>\n",
              "      <th>Length_of_Stay</th>\n",
              "      <td>4</td>\n",
              "    </tr>\n",
              "    <tr>\n",
              "      <th>Alvarado_Score</th>\n",
              "      <td>52</td>\n",
              "    </tr>\n",
              "    <tr>\n",
              "      <th>Paedriatic_Appendicitis_Score</th>\n",
              "      <td>52</td>\n",
              "    </tr>\n",
              "    <tr>\n",
              "      <th>Appendix_on_US</th>\n",
              "      <td>5</td>\n",
              "    </tr>\n",
              "    <tr>\n",
              "      <th>Appendix_Diameter</th>\n",
              "      <td>284</td>\n",
              "    </tr>\n",
              "    <tr>\n",
              "      <th>Migratory_Pain</th>\n",
              "      <td>9</td>\n",
              "    </tr>\n",
              "    <tr>\n",
              "      <th>Lower_Right_Abd_Pain</th>\n",
              "      <td>8</td>\n",
              "    </tr>\n",
              "    <tr>\n",
              "      <th>Contralateral_Rebound_Tenderness</th>\n",
              "      <td>15</td>\n",
              "    </tr>\n",
              "    <tr>\n",
              "      <th>Coughing_Pain</th>\n",
              "      <td>16</td>\n",
              "    </tr>\n",
              "    <tr>\n",
              "      <th>Nausea</th>\n",
              "      <td>8</td>\n",
              "    </tr>\n",
              "    <tr>\n",
              "      <th>Loss_of_Appetite</th>\n",
              "      <td>10</td>\n",
              "    </tr>\n",
              "    <tr>\n",
              "      <th>Body_Temperature</th>\n",
              "      <td>7</td>\n",
              "    </tr>\n",
              "    <tr>\n",
              "      <th>WBC_Count</th>\n",
              "      <td>6</td>\n",
              "    </tr>\n",
              "    <tr>\n",
              "      <th>Neutrophil_Percentage</th>\n",
              "      <td>103</td>\n",
              "    </tr>\n",
              "    <tr>\n",
              "      <th>Segmented_Neutrophils</th>\n",
              "      <td>728</td>\n",
              "    </tr>\n",
              "    <tr>\n",
              "      <th>Neutrophilia</th>\n",
              "      <td>50</td>\n",
              "    </tr>\n",
              "    <tr>\n",
              "      <th>RBC_Count</th>\n",
              "      <td>18</td>\n",
              "    </tr>\n",
              "    <tr>\n",
              "      <th>Hemoglobin</th>\n",
              "      <td>18</td>\n",
              "    </tr>\n",
              "    <tr>\n",
              "      <th>RDW</th>\n",
              "      <td>26</td>\n",
              "    </tr>\n",
              "    <tr>\n",
              "      <th>Thrombocyte_Count</th>\n",
              "      <td>18</td>\n",
              "    </tr>\n",
              "    <tr>\n",
              "      <th>Ketones_in_Urine</th>\n",
              "      <td>200</td>\n",
              "    </tr>\n",
              "    <tr>\n",
              "      <th>RBC_in_Urine</th>\n",
              "      <td>206</td>\n",
              "    </tr>\n",
              "    <tr>\n",
              "      <th>WBC_in_Urine</th>\n",
              "      <td>199</td>\n",
              "    </tr>\n",
              "    <tr>\n",
              "      <th>CRP</th>\n",
              "      <td>11</td>\n",
              "    </tr>\n",
              "    <tr>\n",
              "      <th>Dysuria</th>\n",
              "      <td>29</td>\n",
              "    </tr>\n",
              "    <tr>\n",
              "      <th>Stool</th>\n",
              "      <td>17</td>\n",
              "    </tr>\n",
              "    <tr>\n",
              "      <th>Peritonitis</th>\n",
              "      <td>9</td>\n",
              "    </tr>\n",
              "    <tr>\n",
              "      <th>Psoas_Sign</th>\n",
              "      <td>37</td>\n",
              "    </tr>\n",
              "    <tr>\n",
              "      <th>Ipsilateral_Rebound_Tenderness</th>\n",
              "      <td>163</td>\n",
              "    </tr>\n",
              "    <tr>\n",
              "      <th>US_Performed</th>\n",
              "      <td>4</td>\n",
              "    </tr>\n",
              "    <tr>\n",
              "      <th>Free_Fluids</th>\n",
              "      <td>63</td>\n",
              "    </tr>\n",
              "    <tr>\n",
              "      <th>Appendix_Wall_Layers</th>\n",
              "      <td>564</td>\n",
              "    </tr>\n",
              "    <tr>\n",
              "      <th>Target_Sign</th>\n",
              "      <td>644</td>\n",
              "    </tr>\n",
              "    <tr>\n",
              "      <th>Appendicolith</th>\n",
              "      <td>713</td>\n",
              "    </tr>\n",
              "    <tr>\n",
              "      <th>Perfusion</th>\n",
              "      <td>719</td>\n",
              "    </tr>\n",
              "    <tr>\n",
              "      <th>Perforation</th>\n",
              "      <td>701</td>\n",
              "    </tr>\n",
              "    <tr>\n",
              "      <th>Surrounding_Tissue_Reaction</th>\n",
              "      <td>530</td>\n",
              "    </tr>\n",
              "    <tr>\n",
              "      <th>Appendicular_Abscess</th>\n",
              "      <td>697</td>\n",
              "    </tr>\n",
              "    <tr>\n",
              "      <th>Abscess_Location</th>\n",
              "      <td>769</td>\n",
              "    </tr>\n",
              "    <tr>\n",
              "      <th>Pathological_Lymph_Nodes</th>\n",
              "      <td>579</td>\n",
              "    </tr>\n",
              "    <tr>\n",
              "      <th>Lymph_Nodes_Location</th>\n",
              "      <td>661</td>\n",
              "    </tr>\n",
              "    <tr>\n",
              "      <th>Bowel_Wall_Thickening</th>\n",
              "      <td>683</td>\n",
              "    </tr>\n",
              "    <tr>\n",
              "      <th>Conglomerate_of_Bowel_Loops</th>\n",
              "      <td>739</td>\n",
              "    </tr>\n",
              "    <tr>\n",
              "      <th>Ileus</th>\n",
              "      <td>722</td>\n",
              "    </tr>\n",
              "    <tr>\n",
              "      <th>Coprostasis</th>\n",
              "      <td>711</td>\n",
              "    </tr>\n",
              "    <tr>\n",
              "      <th>Meteorism</th>\n",
              "      <td>642</td>\n",
              "    </tr>\n",
              "    <tr>\n",
              "      <th>Enteritis</th>\n",
              "      <td>716</td>\n",
              "    </tr>\n",
              "    <tr>\n",
              "      <th>Gynecological_Findings</th>\n",
              "      <td>756</td>\n",
              "    </tr>\n",
              "    <tr>\n",
              "      <th>Management</th>\n",
              "      <td>1</td>\n",
              "    </tr>\n",
              "    <tr>\n",
              "      <th>Severity</th>\n",
              "      <td>1</td>\n",
              "    </tr>\n",
              "    <tr>\n",
              "      <th>Diagnosis</th>\n",
              "      <td>2</td>\n",
              "    </tr>\n",
              "  </tbody>\n",
              "</table>\n",
              "</div><br><label><b>dtype:</b> int64</label>"
            ]
          },
          "metadata": {},
          "execution_count": 13
        }
      ]
    },
    {
      "cell_type": "code",
      "source": [
        "null = df.isna().sum() / len(df) * 100\n",
        "null = pd.DataFrame({'feature':null.index, 'null_percentage':null}) \\\n",
        "                    .sort_values(by='null_percentage', ascending=False) \\\n",
        "                    .reset_index(drop=True)\n",
        "null.head(30)"
      ],
      "metadata": {
        "colab": {
          "base_uri": "https://localhost:8080/",
          "height": 990
        },
        "id": "mywHGT9yIu5-",
        "outputId": "8b4cf48a-b266-4a7c-d34e-9de0187e1d0e"
      },
      "execution_count": 14,
      "outputs": [
        {
          "output_type": "execute_result",
          "data": {
            "text/plain": [
              "                           feature  null_percentage\n",
              "0                 Abscess_Location        98.337596\n",
              "1           Gynecological_Findings        96.675192\n",
              "2      Conglomerate_of_Bowel_Loops        94.501279\n",
              "3            Segmented_Neutrophils        93.094629\n",
              "4                            Ileus        92.327366\n",
              "5                        Perfusion        91.943734\n",
              "6                        Enteritis        91.560102\n",
              "7                    Appendicolith        91.176471\n",
              "8                      Coprostasis        90.920716\n",
              "9                      Perforation        89.641944\n",
              "10            Appendicular_Abscess        89.130435\n",
              "11           Bowel_Wall_Thickening        87.340153\n",
              "12            Lymph_Nodes_Location        84.526854\n",
              "13                     Target_Sign        82.352941\n",
              "14                       Meteorism        82.097187\n",
              "15        Pathological_Lymph_Nodes        74.040921\n",
              "16            Appendix_Wall_Layers        72.122762\n",
              "17     Surrounding_Tissue_Reaction        67.774936\n",
              "18               Appendix_Diameter        36.317136\n",
              "19                    RBC_in_Urine        26.342711\n",
              "20                Ketones_in_Urine        25.575448\n",
              "21                    WBC_in_Urine        25.447570\n",
              "22  Ipsilateral_Rebound_Tenderness        20.843990\n",
              "23           Neutrophil_Percentage        13.171355\n",
              "24                     Free_Fluids         8.056266\n",
              "25   Paedriatic_Appendicitis_Score         6.649616\n",
              "26                  Alvarado_Score         6.649616\n",
              "27                    Neutrophilia         6.393862\n",
              "28                      Psoas_Sign         4.731458\n",
              "29                         Dysuria         3.708440"
            ],
            "text/html": [
              "\n",
              "  <div id=\"df-98ae773b-5d8a-4ff3-9d6a-2730ce40bd3b\" class=\"colab-df-container\">\n",
              "    <div>\n",
              "<style scoped>\n",
              "    .dataframe tbody tr th:only-of-type {\n",
              "        vertical-align: middle;\n",
              "    }\n",
              "\n",
              "    .dataframe tbody tr th {\n",
              "        vertical-align: top;\n",
              "    }\n",
              "\n",
              "    .dataframe thead th {\n",
              "        text-align: right;\n",
              "    }\n",
              "</style>\n",
              "<table border=\"1\" class=\"dataframe\">\n",
              "  <thead>\n",
              "    <tr style=\"text-align: right;\">\n",
              "      <th></th>\n",
              "      <th>feature</th>\n",
              "      <th>null_percentage</th>\n",
              "    </tr>\n",
              "  </thead>\n",
              "  <tbody>\n",
              "    <tr>\n",
              "      <th>0</th>\n",
              "      <td>Abscess_Location</td>\n",
              "      <td>98.337596</td>\n",
              "    </tr>\n",
              "    <tr>\n",
              "      <th>1</th>\n",
              "      <td>Gynecological_Findings</td>\n",
              "      <td>96.675192</td>\n",
              "    </tr>\n",
              "    <tr>\n",
              "      <th>2</th>\n",
              "      <td>Conglomerate_of_Bowel_Loops</td>\n",
              "      <td>94.501279</td>\n",
              "    </tr>\n",
              "    <tr>\n",
              "      <th>3</th>\n",
              "      <td>Segmented_Neutrophils</td>\n",
              "      <td>93.094629</td>\n",
              "    </tr>\n",
              "    <tr>\n",
              "      <th>4</th>\n",
              "      <td>Ileus</td>\n",
              "      <td>92.327366</td>\n",
              "    </tr>\n",
              "    <tr>\n",
              "      <th>5</th>\n",
              "      <td>Perfusion</td>\n",
              "      <td>91.943734</td>\n",
              "    </tr>\n",
              "    <tr>\n",
              "      <th>6</th>\n",
              "      <td>Enteritis</td>\n",
              "      <td>91.560102</td>\n",
              "    </tr>\n",
              "    <tr>\n",
              "      <th>7</th>\n",
              "      <td>Appendicolith</td>\n",
              "      <td>91.176471</td>\n",
              "    </tr>\n",
              "    <tr>\n",
              "      <th>8</th>\n",
              "      <td>Coprostasis</td>\n",
              "      <td>90.920716</td>\n",
              "    </tr>\n",
              "    <tr>\n",
              "      <th>9</th>\n",
              "      <td>Perforation</td>\n",
              "      <td>89.641944</td>\n",
              "    </tr>\n",
              "    <tr>\n",
              "      <th>10</th>\n",
              "      <td>Appendicular_Abscess</td>\n",
              "      <td>89.130435</td>\n",
              "    </tr>\n",
              "    <tr>\n",
              "      <th>11</th>\n",
              "      <td>Bowel_Wall_Thickening</td>\n",
              "      <td>87.340153</td>\n",
              "    </tr>\n",
              "    <tr>\n",
              "      <th>12</th>\n",
              "      <td>Lymph_Nodes_Location</td>\n",
              "      <td>84.526854</td>\n",
              "    </tr>\n",
              "    <tr>\n",
              "      <th>13</th>\n",
              "      <td>Target_Sign</td>\n",
              "      <td>82.352941</td>\n",
              "    </tr>\n",
              "    <tr>\n",
              "      <th>14</th>\n",
              "      <td>Meteorism</td>\n",
              "      <td>82.097187</td>\n",
              "    </tr>\n",
              "    <tr>\n",
              "      <th>15</th>\n",
              "      <td>Pathological_Lymph_Nodes</td>\n",
              "      <td>74.040921</td>\n",
              "    </tr>\n",
              "    <tr>\n",
              "      <th>16</th>\n",
              "      <td>Appendix_Wall_Layers</td>\n",
              "      <td>72.122762</td>\n",
              "    </tr>\n",
              "    <tr>\n",
              "      <th>17</th>\n",
              "      <td>Surrounding_Tissue_Reaction</td>\n",
              "      <td>67.774936</td>\n",
              "    </tr>\n",
              "    <tr>\n",
              "      <th>18</th>\n",
              "      <td>Appendix_Diameter</td>\n",
              "      <td>36.317136</td>\n",
              "    </tr>\n",
              "    <tr>\n",
              "      <th>19</th>\n",
              "      <td>RBC_in_Urine</td>\n",
              "      <td>26.342711</td>\n",
              "    </tr>\n",
              "    <tr>\n",
              "      <th>20</th>\n",
              "      <td>Ketones_in_Urine</td>\n",
              "      <td>25.575448</td>\n",
              "    </tr>\n",
              "    <tr>\n",
              "      <th>21</th>\n",
              "      <td>WBC_in_Urine</td>\n",
              "      <td>25.447570</td>\n",
              "    </tr>\n",
              "    <tr>\n",
              "      <th>22</th>\n",
              "      <td>Ipsilateral_Rebound_Tenderness</td>\n",
              "      <td>20.843990</td>\n",
              "    </tr>\n",
              "    <tr>\n",
              "      <th>23</th>\n",
              "      <td>Neutrophil_Percentage</td>\n",
              "      <td>13.171355</td>\n",
              "    </tr>\n",
              "    <tr>\n",
              "      <th>24</th>\n",
              "      <td>Free_Fluids</td>\n",
              "      <td>8.056266</td>\n",
              "    </tr>\n",
              "    <tr>\n",
              "      <th>25</th>\n",
              "      <td>Paedriatic_Appendicitis_Score</td>\n",
              "      <td>6.649616</td>\n",
              "    </tr>\n",
              "    <tr>\n",
              "      <th>26</th>\n",
              "      <td>Alvarado_Score</td>\n",
              "      <td>6.649616</td>\n",
              "    </tr>\n",
              "    <tr>\n",
              "      <th>27</th>\n",
              "      <td>Neutrophilia</td>\n",
              "      <td>6.393862</td>\n",
              "    </tr>\n",
              "    <tr>\n",
              "      <th>28</th>\n",
              "      <td>Psoas_Sign</td>\n",
              "      <td>4.731458</td>\n",
              "    </tr>\n",
              "    <tr>\n",
              "      <th>29</th>\n",
              "      <td>Dysuria</td>\n",
              "      <td>3.708440</td>\n",
              "    </tr>\n",
              "  </tbody>\n",
              "</table>\n",
              "</div>\n",
              "    <div class=\"colab-df-buttons\">\n",
              "\n",
              "  <div class=\"colab-df-container\">\n",
              "    <button class=\"colab-df-convert\" onclick=\"convertToInteractive('df-98ae773b-5d8a-4ff3-9d6a-2730ce40bd3b')\"\n",
              "            title=\"Convert this dataframe to an interactive table.\"\n",
              "            style=\"display:none;\">\n",
              "\n",
              "  <svg xmlns=\"http://www.w3.org/2000/svg\" height=\"24px\" viewBox=\"0 -960 960 960\">\n",
              "    <path d=\"M120-120v-720h720v720H120Zm60-500h600v-160H180v160Zm220 220h160v-160H400v160Zm0 220h160v-160H400v160ZM180-400h160v-160H180v160Zm440 0h160v-160H620v160ZM180-180h160v-160H180v160Zm440 0h160v-160H620v160Z\"/>\n",
              "  </svg>\n",
              "    </button>\n",
              "\n",
              "  <style>\n",
              "    .colab-df-container {\n",
              "      display:flex;\n",
              "      gap: 12px;\n",
              "    }\n",
              "\n",
              "    .colab-df-convert {\n",
              "      background-color: #E8F0FE;\n",
              "      border: none;\n",
              "      border-radius: 50%;\n",
              "      cursor: pointer;\n",
              "      display: none;\n",
              "      fill: #1967D2;\n",
              "      height: 32px;\n",
              "      padding: 0 0 0 0;\n",
              "      width: 32px;\n",
              "    }\n",
              "\n",
              "    .colab-df-convert:hover {\n",
              "      background-color: #E2EBFA;\n",
              "      box-shadow: 0px 1px 2px rgba(60, 64, 67, 0.3), 0px 1px 3px 1px rgba(60, 64, 67, 0.15);\n",
              "      fill: #174EA6;\n",
              "    }\n",
              "\n",
              "    .colab-df-buttons div {\n",
              "      margin-bottom: 4px;\n",
              "    }\n",
              "\n",
              "    [theme=dark] .colab-df-convert {\n",
              "      background-color: #3B4455;\n",
              "      fill: #D2E3FC;\n",
              "    }\n",
              "\n",
              "    [theme=dark] .colab-df-convert:hover {\n",
              "      background-color: #434B5C;\n",
              "      box-shadow: 0px 1px 3px 1px rgba(0, 0, 0, 0.15);\n",
              "      filter: drop-shadow(0px 1px 2px rgba(0, 0, 0, 0.3));\n",
              "      fill: #FFFFFF;\n",
              "    }\n",
              "  </style>\n",
              "\n",
              "    <script>\n",
              "      const buttonEl =\n",
              "        document.querySelector('#df-98ae773b-5d8a-4ff3-9d6a-2730ce40bd3b button.colab-df-convert');\n",
              "      buttonEl.style.display =\n",
              "        google.colab.kernel.accessAllowed ? 'block' : 'none';\n",
              "\n",
              "      async function convertToInteractive(key) {\n",
              "        const element = document.querySelector('#df-98ae773b-5d8a-4ff3-9d6a-2730ce40bd3b');\n",
              "        const dataTable =\n",
              "          await google.colab.kernel.invokeFunction('convertToInteractive',\n",
              "                                                    [key], {});\n",
              "        if (!dataTable) return;\n",
              "\n",
              "        const docLinkHtml = 'Like what you see? Visit the ' +\n",
              "          '<a target=\"_blank\" href=https://colab.research.google.com/notebooks/data_table.ipynb>data table notebook</a>'\n",
              "          + ' to learn more about interactive tables.';\n",
              "        element.innerHTML = '';\n",
              "        dataTable['output_type'] = 'display_data';\n",
              "        await google.colab.output.renderOutput(dataTable, element);\n",
              "        const docLink = document.createElement('div');\n",
              "        docLink.innerHTML = docLinkHtml;\n",
              "        element.appendChild(docLink);\n",
              "      }\n",
              "    </script>\n",
              "  </div>\n",
              "\n",
              "\n",
              "<div id=\"df-8c8e7e64-f0b3-45bb-a703-280c956f3ec8\">\n",
              "  <button class=\"colab-df-quickchart\" onclick=\"quickchart('df-8c8e7e64-f0b3-45bb-a703-280c956f3ec8')\"\n",
              "            title=\"Suggest charts\"\n",
              "            style=\"display:none;\">\n",
              "\n",
              "<svg xmlns=\"http://www.w3.org/2000/svg\" height=\"24px\"viewBox=\"0 0 24 24\"\n",
              "     width=\"24px\">\n",
              "    <g>\n",
              "        <path d=\"M19 3H5c-1.1 0-2 .9-2 2v14c0 1.1.9 2 2 2h14c1.1 0 2-.9 2-2V5c0-1.1-.9-2-2-2zM9 17H7v-7h2v7zm4 0h-2V7h2v10zm4 0h-2v-4h2v4z\"/>\n",
              "    </g>\n",
              "</svg>\n",
              "  </button>\n",
              "\n",
              "<style>\n",
              "  .colab-df-quickchart {\n",
              "      --bg-color: #E8F0FE;\n",
              "      --fill-color: #1967D2;\n",
              "      --hover-bg-color: #E2EBFA;\n",
              "      --hover-fill-color: #174EA6;\n",
              "      --disabled-fill-color: #AAA;\n",
              "      --disabled-bg-color: #DDD;\n",
              "  }\n",
              "\n",
              "  [theme=dark] .colab-df-quickchart {\n",
              "      --bg-color: #3B4455;\n",
              "      --fill-color: #D2E3FC;\n",
              "      --hover-bg-color: #434B5C;\n",
              "      --hover-fill-color: #FFFFFF;\n",
              "      --disabled-bg-color: #3B4455;\n",
              "      --disabled-fill-color: #666;\n",
              "  }\n",
              "\n",
              "  .colab-df-quickchart {\n",
              "    background-color: var(--bg-color);\n",
              "    border: none;\n",
              "    border-radius: 50%;\n",
              "    cursor: pointer;\n",
              "    display: none;\n",
              "    fill: var(--fill-color);\n",
              "    height: 32px;\n",
              "    padding: 0;\n",
              "    width: 32px;\n",
              "  }\n",
              "\n",
              "  .colab-df-quickchart:hover {\n",
              "    background-color: var(--hover-bg-color);\n",
              "    box-shadow: 0 1px 2px rgba(60, 64, 67, 0.3), 0 1px 3px 1px rgba(60, 64, 67, 0.15);\n",
              "    fill: var(--button-hover-fill-color);\n",
              "  }\n",
              "\n",
              "  .colab-df-quickchart-complete:disabled,\n",
              "  .colab-df-quickchart-complete:disabled:hover {\n",
              "    background-color: var(--disabled-bg-color);\n",
              "    fill: var(--disabled-fill-color);\n",
              "    box-shadow: none;\n",
              "  }\n",
              "\n",
              "  .colab-df-spinner {\n",
              "    border: 2px solid var(--fill-color);\n",
              "    border-color: transparent;\n",
              "    border-bottom-color: var(--fill-color);\n",
              "    animation:\n",
              "      spin 1s steps(1) infinite;\n",
              "  }\n",
              "\n",
              "  @keyframes spin {\n",
              "    0% {\n",
              "      border-color: transparent;\n",
              "      border-bottom-color: var(--fill-color);\n",
              "      border-left-color: var(--fill-color);\n",
              "    }\n",
              "    20% {\n",
              "      border-color: transparent;\n",
              "      border-left-color: var(--fill-color);\n",
              "      border-top-color: var(--fill-color);\n",
              "    }\n",
              "    30% {\n",
              "      border-color: transparent;\n",
              "      border-left-color: var(--fill-color);\n",
              "      border-top-color: var(--fill-color);\n",
              "      border-right-color: var(--fill-color);\n",
              "    }\n",
              "    40% {\n",
              "      border-color: transparent;\n",
              "      border-right-color: var(--fill-color);\n",
              "      border-top-color: var(--fill-color);\n",
              "    }\n",
              "    60% {\n",
              "      border-color: transparent;\n",
              "      border-right-color: var(--fill-color);\n",
              "    }\n",
              "    80% {\n",
              "      border-color: transparent;\n",
              "      border-right-color: var(--fill-color);\n",
              "      border-bottom-color: var(--fill-color);\n",
              "    }\n",
              "    90% {\n",
              "      border-color: transparent;\n",
              "      border-bottom-color: var(--fill-color);\n",
              "    }\n",
              "  }\n",
              "</style>\n",
              "\n",
              "  <script>\n",
              "    async function quickchart(key) {\n",
              "      const quickchartButtonEl =\n",
              "        document.querySelector('#' + key + ' button');\n",
              "      quickchartButtonEl.disabled = true;  // To prevent multiple clicks.\n",
              "      quickchartButtonEl.classList.add('colab-df-spinner');\n",
              "      try {\n",
              "        const charts = await google.colab.kernel.invokeFunction(\n",
              "            'suggestCharts', [key], {});\n",
              "      } catch (error) {\n",
              "        console.error('Error during call to suggestCharts:', error);\n",
              "      }\n",
              "      quickchartButtonEl.classList.remove('colab-df-spinner');\n",
              "      quickchartButtonEl.classList.add('colab-df-quickchart-complete');\n",
              "    }\n",
              "    (() => {\n",
              "      let quickchartButtonEl =\n",
              "        document.querySelector('#df-8c8e7e64-f0b3-45bb-a703-280c956f3ec8 button');\n",
              "      quickchartButtonEl.style.display =\n",
              "        google.colab.kernel.accessAllowed ? 'block' : 'none';\n",
              "    })();\n",
              "  </script>\n",
              "</div>\n",
              "    </div>\n",
              "  </div>\n"
            ],
            "application/vnd.google.colaboratory.intrinsic+json": {
              "type": "dataframe",
              "variable_name": "null",
              "summary": "{\n  \"name\": \"null\",\n  \"rows\": 56,\n  \"fields\": [\n    {\n      \"column\": \"feature\",\n      \"properties\": {\n        \"dtype\": \"string\",\n        \"num_unique_values\": 56,\n        \"samples\": [\n          \"Abscess_Location\",\n          \"Perfusion\",\n          \"RBC_Count\"\n        ],\n        \"semantic_type\": \"\",\n        \"description\": \"\"\n      }\n    },\n    {\n      \"column\": \"null_percentage\",\n      \"properties\": {\n        \"dtype\": \"number\",\n        \"std\": 39.36534680658709,\n        \"min\": 0.1278772378516624,\n        \"max\": 98.33759590792839,\n        \"num_unique_values\": 46,\n        \"samples\": [\n          0.8951406649616368,\n          6.649616368286446,\n          6.3938618925831205\n        ],\n        \"semantic_type\": \"\",\n        \"description\": \"\"\n      }\n    }\n  ]\n}"
            }
          },
          "metadata": {},
          "execution_count": 14
        }
      ]
    },
    {
      "cell_type": "code",
      "source": [
        "print(regensburg_pediatric_appendicitis.variables)"
      ],
      "metadata": {
        "colab": {
          "base_uri": "https://localhost:8080/"
        },
        "id": "sxjcxA_rI3ZT",
        "outputId": "ae7ecc31-0b28-4dda-aafb-5e0fbcd1e360"
      },
      "execution_count": 15,
      "outputs": [
        {
          "output_type": "stream",
          "name": "stdout",
          "text": [
            "                                name     role         type demographic  \\\n",
            "0                                Age  Feature   Continuous         Age   \n",
            "1                                BMI  Feature   Continuous        None   \n",
            "2                                Sex  Feature  Categorical         Sex   \n",
            "3                             Height  Feature   Continuous        None   \n",
            "4                             Weight  Feature      Integer        None   \n",
            "5                     Length_of_Stay  Feature      Integer        None   \n",
            "6                         Management   Target  Categorical        None   \n",
            "7                           Severity   Target  Categorical        None   \n",
            "8              Diagnosis_Presumptive    Other       Binary        None   \n",
            "9                          Diagnosis   Target       Binary        None   \n",
            "10                    Alvarado_Score  Feature      Integer        None   \n",
            "11     Paedriatic_Appendicitis_Score  Feature      Integer        None   \n",
            "12                    Appendix_on_US  Feature       Binary        None   \n",
            "13                 Appendix_Diameter  Feature      Integer        None   \n",
            "14                    Migratory_Pain  Feature       Binary        None   \n",
            "15              Lower_Right_Abd_Pain  Feature       Binary        None   \n",
            "16  Contralateral_Rebound_Tenderness  Feature       Binary        None   \n",
            "17                     Coughing_Pain  Feature       Binary        None   \n",
            "18                            Nausea  Feature       Binary        None   \n",
            "19                  Loss_of_Appetite  Feature       Binary        None   \n",
            "20                  Body_Temperature  Feature   Continuous        None   \n",
            "21                         WBC_Count  Feature   Continuous        None   \n",
            "22             Neutrophil_Percentage  Feature      Integer        None   \n",
            "23             Segmented_Neutrophils  Feature      Integer        None   \n",
            "24                      Neutrophilia  Feature  Categorical        None   \n",
            "25                         RBC_Count  Feature   Continuous        None   \n",
            "26                        Hemoglobin  Feature   Continuous        None   \n",
            "27                               RDW  Feature   Continuous        None   \n",
            "28                 Thrombocyte_Count  Feature      Integer        None   \n",
            "29                  Ketones_in_Urine  Feature  Categorical        None   \n",
            "30                      RBC_in_Urine  Feature  Categorical        None   \n",
            "31                      WBC_in_Urine  Feature  Categorical        None   \n",
            "32                               CRP  Feature      Integer        None   \n",
            "33                           Dysuria  Feature       Binary        None   \n",
            "34                             Stool  Feature  Categorical        None   \n",
            "35                       Peritonitis  Feature  Categorical        None   \n",
            "36                        Psoas_Sign  Feature  Categorical        None   \n",
            "37    Ipsilateral_Rebound_Tenderness  Feature  Categorical        None   \n",
            "38                      US_Performed  Feature  Categorical        None   \n",
            "39                         US_Number    Other      Integer        None   \n",
            "40                       Free_Fluids  Feature  Categorical        None   \n",
            "41              Appendix_Wall_Layers  Feature  Categorical        None   \n",
            "42                       Target_Sign  Feature  Categorical        None   \n",
            "43                     Appendicolith  Feature  Categorical        None   \n",
            "44                         Perfusion  Feature  Categorical        None   \n",
            "45                       Perforation  Feature  Categorical        None   \n",
            "46       Surrounding_Tissue_Reaction  Feature  Categorical        None   \n",
            "47              Appendicular_Abscess  Feature  Categorical        None   \n",
            "48                  Abscess_Location  Feature  Categorical        None   \n",
            "49          Pathological_Lymph_Nodes  Feature       Binary        None   \n",
            "50              Lymph_Nodes_Location  Feature  Categorical        None   \n",
            "51             Bowel_Wall_Thickening  Feature       Binary        None   \n",
            "52       Conglomerate_of_Bowel_Loops  Feature       Binary        None   \n",
            "53                             Ileus  Feature  Categorical        None   \n",
            "54                       Coprostasis  Feature  Categorical        None   \n",
            "55                         Meteorism  Feature  Categorical        None   \n",
            "56                         Enteritis  Feature  Categorical        None   \n",
            "57            Gynecological_Findings  Feature  Categorical        None   \n",
            "\n",
            "                                          description  units missing_values  \n",
            "0                     Obtained from the date of birth  years            yes  \n",
            "1   Measures body fat; patient's weight divided by...   None            yes  \n",
            "2                                   Registered gender   None            yes  \n",
            "3                                    Patient's height   None            yes  \n",
            "4                                    Patient's weight   None            yes  \n",
            "5                  Length of the stay in the hospital   None            yes  \n",
            "6   (conservative, primary surgical, secondary sur...   None            yes  \n",
            "7   (uncomplicated, complicated) Severity of appen...   None            yes  \n",
            "8                       Patient's suspected diagnosis   None            yes  \n",
            "9   Patient's diagnosis, histologically confirmed ...   None            yes  \n",
            "10    Patient's score according to the scoring system   None            yes  \n",
            "11    Patient's score according to the scoring system   None            yes  \n",
            "12  Detectability of the vermiform appendix during...   None            yes  \n",
            "13             Maximal outer diameter of the appendix   None            yes  \n",
            "14  Abdominal pain; usually starts in epigastrium ...   None            yes  \n",
            "15       Right iliac fossa pain detected on palpation   None            yes  \n",
            "16  A state in which pain of the contralateral sid...   None            yes  \n",
            "17                     Abdominal pain by forced cough   None            yes  \n",
            "18  Feeling of sickness/ejection of contents from ...   None            yes  \n",
            "19                                               None   None            yes  \n",
            "20  Measured by a thermometer placed in the rectum...   None            yes  \n",
            "21  The number of leucocytes in a unit volume of b...   None            yes  \n",
            "22              Mature WBC in the granulocytic series   None            yes  \n",
            "23  Most mature neutrophilic granulocytes present ...   None            yes  \n",
            "24  Relative neutrophilic leucocytosis, often a re...   None            yes  \n",
            "25  The number of erythrocytes in a unit volume of...   None            yes  \n",
            "26  Hemoglobin level; a red protein in the red blo...   None            yes  \n",
            "27  A blood test that measures the differences in ...   None            yes  \n",
            "28  The number of platelets in a unit volume of blood   None            yes  \n",
            "29  Presence of ketone bodies in urine, e.g. in ca...   None            yes  \n",
            "30                                     Blood in urine   None            yes  \n",
            "31    Leucocytes in urine, e.g., in case of infection   None            yes  \n",
            "32  Protein produced by the liver, elevated in cas...   None            yes  \n",
            "33          Pain or other difficulty during urination   None            yes  \n",
            "34                 Characteristics of bowel movements   None            yes  \n",
            "35  Spasm of abdominal wall muscles detected on pa...   None            yes  \n",
            "36    Abdominal pain produced by extension of the hip   None            yes  \n",
            "37  A state in which pain of the ipsilateral side ...   None            yes  \n",
            "38  If an abdominal ultrasonography was performed ...   None            yes  \n",
            "39                                               None   None            yes  \n",
            "40                     Free fluids inside the abdomen   None            yes  \n",
            "41  Distribution and characteristics of appendix l...   None            yes  \n",
            "42  Axial image of appendix with a fluid-filled ce...   None            yes  \n",
            "43  Presence of fecalith in the appendix, e.g. aco...   None            yes  \n",
            "44                    Blood flow to the appendix wall   None            yes  \n",
            "45                Signs of appendix perforation in US   None            yes  \n",
            "46  Inflammation signs in tissue (i.a. in omentum/...   None            yes  \n",
            "47                                   Appendiceal mass   None            yes  \n",
            "48             Location of the abcess intraperitoneal   None            yes  \n",
            "49  Enlarged and inflamed intra-abdominal lymph nodes   None            yes  \n",
            "50  The location of pathological lymph nodes in th...   None            yes  \n",
            "51  Edema of the intestinal wall, > 2-3 mm for sma...   None            yes  \n",
            "52  Small intestine conglomerate as sign of intrap...   None            yes  \n",
            "53  Sonographic signs of paralytic ileus (e.g., di...   None            yes  \n",
            "54                       Fecal impaction in the colon   None            yes  \n",
            "55               Accumulation of gas in the intestine   None            yes  \n",
            "56  Sonographic features of gastroenteritis, e.g. ...   None            yes  \n",
            "57  Gynaecological abnormalities, e.g. cysts, ovar...   None            yes  \n"
          ]
        }
      ]
    },
    {
      "cell_type": "markdown",
      "source": [
        "Удаляем признаки где процент пропусков больше 65%"
      ],
      "metadata": {
        "id": "SoS9cpMUJDoj"
      }
    },
    {
      "cell_type": "code",
      "source": [
        "df_cols = df.columns\n",
        "drop_cols = []\n",
        "for col in df_cols:\n",
        "    if ((df[col].isna().sum()/len(df) )*100) > 65:\n",
        "      drop_cols.append(col)\n",
        "drop_cols"
      ],
      "metadata": {
        "colab": {
          "base_uri": "https://localhost:8080/"
        },
        "id": "iAbz541zI_a-",
        "outputId": "43232316-3ad4-47cc-8b28-54faf201801f"
      },
      "execution_count": 16,
      "outputs": [
        {
          "output_type": "execute_result",
          "data": {
            "text/plain": [
              "['Segmented_Neutrophils',\n",
              " 'Appendix_Wall_Layers',\n",
              " 'Target_Sign',\n",
              " 'Appendicolith',\n",
              " 'Perfusion',\n",
              " 'Perforation',\n",
              " 'Surrounding_Tissue_Reaction',\n",
              " 'Appendicular_Abscess',\n",
              " 'Abscess_Location',\n",
              " 'Pathological_Lymph_Nodes',\n",
              " 'Lymph_Nodes_Location',\n",
              " 'Bowel_Wall_Thickening',\n",
              " 'Conglomerate_of_Bowel_Loops',\n",
              " 'Ileus',\n",
              " 'Coprostasis',\n",
              " 'Meteorism',\n",
              " 'Enteritis',\n",
              " 'Gynecological_Findings']"
            ]
          },
          "metadata": {},
          "execution_count": 16
        }
      ]
    },
    {
      "cell_type": "code",
      "source": [
        "len(drop_cols)"
      ],
      "metadata": {
        "colab": {
          "base_uri": "https://localhost:8080/"
        },
        "id": "woUUrsSMJQwR",
        "outputId": "3872fc61-71d3-43f8-b464-a46ffae4a120"
      },
      "execution_count": 17,
      "outputs": [
        {
          "output_type": "execute_result",
          "data": {
            "text/plain": [
              "18"
            ]
          },
          "metadata": {},
          "execution_count": 17
        }
      ]
    },
    {
      "cell_type": "code",
      "source": [
        "df = df.drop (drop_cols, axis = 1)\n",
        "df.info()"
      ],
      "metadata": {
        "colab": {
          "base_uri": "https://localhost:8080/"
        },
        "id": "kIoWivEbJWIh",
        "outputId": "a1780e6f-1e42-4482-cee2-6b80bae3ab48"
      },
      "execution_count": 18,
      "outputs": [
        {
          "output_type": "stream",
          "name": "stdout",
          "text": [
            "<class 'pandas.core.frame.DataFrame'>\n",
            "RangeIndex: 782 entries, 0 to 781\n",
            "Data columns (total 38 columns):\n",
            " #   Column                            Non-Null Count  Dtype  \n",
            "---  ------                            --------------  -----  \n",
            " 0   Age                               781 non-null    float64\n",
            " 1   BMI                               755 non-null    float64\n",
            " 2   Sex                               780 non-null    object \n",
            " 3   Height                            756 non-null    float64\n",
            " 4   Weight                            779 non-null    float64\n",
            " 5   Length_of_Stay                    778 non-null    float64\n",
            " 6   Alvarado_Score                    730 non-null    float64\n",
            " 7   Paedriatic_Appendicitis_Score     730 non-null    float64\n",
            " 8   Appendix_on_US                    777 non-null    object \n",
            " 9   Appendix_Diameter                 498 non-null    float64\n",
            " 10  Migratory_Pain                    773 non-null    object \n",
            " 11  Lower_Right_Abd_Pain              774 non-null    object \n",
            " 12  Contralateral_Rebound_Tenderness  767 non-null    object \n",
            " 13  Coughing_Pain                     766 non-null    object \n",
            " 14  Nausea                            774 non-null    object \n",
            " 15  Loss_of_Appetite                  772 non-null    object \n",
            " 16  Body_Temperature                  775 non-null    float64\n",
            " 17  WBC_Count                         776 non-null    float64\n",
            " 18  Neutrophil_Percentage             679 non-null    float64\n",
            " 19  Neutrophilia                      732 non-null    object \n",
            " 20  RBC_Count                         764 non-null    float64\n",
            " 21  Hemoglobin                        764 non-null    float64\n",
            " 22  RDW                               756 non-null    float64\n",
            " 23  Thrombocyte_Count                 764 non-null    float64\n",
            " 24  Ketones_in_Urine                  582 non-null    object \n",
            " 25  RBC_in_Urine                      576 non-null    object \n",
            " 26  WBC_in_Urine                      583 non-null    object \n",
            " 27  CRP                               771 non-null    float64\n",
            " 28  Dysuria                           753 non-null    object \n",
            " 29  Stool                             765 non-null    object \n",
            " 30  Peritonitis                       773 non-null    object \n",
            " 31  Psoas_Sign                        745 non-null    object \n",
            " 32  Ipsilateral_Rebound_Tenderness    619 non-null    object \n",
            " 33  US_Performed                      778 non-null    object \n",
            " 34  Free_Fluids                       719 non-null    object \n",
            " 35  Management                        781 non-null    object \n",
            " 36  Severity                          781 non-null    object \n",
            " 37  Diagnosis                         780 non-null    object \n",
            "dtypes: float64(16), object(22)\n",
            "memory usage: 232.3+ KB\n"
          ]
        }
      ]
    },
    {
      "cell_type": "code",
      "source": [
        "df.Diagnosis.value_counts()"
      ],
      "metadata": {
        "colab": {
          "base_uri": "https://localhost:8080/",
          "height": 178
        },
        "id": "NKAnQfEtJYii",
        "outputId": "1a33f968-5097-44e1-9908-402156c1a0d0"
      },
      "execution_count": 19,
      "outputs": [
        {
          "output_type": "execute_result",
          "data": {
            "text/plain": [
              "Diagnosis\n",
              "appendicitis       463\n",
              "no appendicitis    317\n",
              "Name: count, dtype: int64"
            ],
            "text/html": [
              "<div>\n",
              "<style scoped>\n",
              "    .dataframe tbody tr th:only-of-type {\n",
              "        vertical-align: middle;\n",
              "    }\n",
              "\n",
              "    .dataframe tbody tr th {\n",
              "        vertical-align: top;\n",
              "    }\n",
              "\n",
              "    .dataframe thead th {\n",
              "        text-align: right;\n",
              "    }\n",
              "</style>\n",
              "<table border=\"1\" class=\"dataframe\">\n",
              "  <thead>\n",
              "    <tr style=\"text-align: right;\">\n",
              "      <th></th>\n",
              "      <th>count</th>\n",
              "    </tr>\n",
              "    <tr>\n",
              "      <th>Diagnosis</th>\n",
              "      <th></th>\n",
              "    </tr>\n",
              "  </thead>\n",
              "  <tbody>\n",
              "    <tr>\n",
              "      <th>appendicitis</th>\n",
              "      <td>463</td>\n",
              "    </tr>\n",
              "    <tr>\n",
              "      <th>no appendicitis</th>\n",
              "      <td>317</td>\n",
              "    </tr>\n",
              "  </tbody>\n",
              "</table>\n",
              "</div><br><label><b>dtype:</b> int64</label>"
            ]
          },
          "metadata": {},
          "execution_count": 19
        }
      ]
    },
    {
      "cell_type": "markdown",
      "source": [
        "Заполним пропуски в диаметре аппендикса 0 если человек был здоров, если же болен - то средним значением.\n",
        "\n",
        "Все остальные пропуски заполняем средним соответствующим своей группе по таргету - если это числовой, модой тоже по такому принципу - если это категориальный."
      ],
      "metadata": {
        "id": "4pQErM5VJf2T"
      }
    },
    {
      "cell_type": "code",
      "source": [
        "df.query(\"Diagnosis =='no appendicitis'\")['Appendix_Diameter'].describe()"
      ],
      "metadata": {
        "colab": {
          "base_uri": "https://localhost:8080/",
          "height": 335
        },
        "id": "grIub7_sJdQc",
        "outputId": "02ceb294-28a5-4a0f-f7c2-9711d146021d"
      },
      "execution_count": 20,
      "outputs": [
        {
          "output_type": "execute_result",
          "data": {
            "text/plain": [
              "count    127.000000\n",
              "mean       5.037008\n",
              "std        1.171541\n",
              "min        2.700000\n",
              "25%        4.000000\n",
              "50%        5.000000\n",
              "75%        5.500000\n",
              "max        9.500000\n",
              "Name: Appendix_Diameter, dtype: float64"
            ],
            "text/html": [
              "<div>\n",
              "<style scoped>\n",
              "    .dataframe tbody tr th:only-of-type {\n",
              "        vertical-align: middle;\n",
              "    }\n",
              "\n",
              "    .dataframe tbody tr th {\n",
              "        vertical-align: top;\n",
              "    }\n",
              "\n",
              "    .dataframe thead th {\n",
              "        text-align: right;\n",
              "    }\n",
              "</style>\n",
              "<table border=\"1\" class=\"dataframe\">\n",
              "  <thead>\n",
              "    <tr style=\"text-align: right;\">\n",
              "      <th></th>\n",
              "      <th>Appendix_Diameter</th>\n",
              "    </tr>\n",
              "  </thead>\n",
              "  <tbody>\n",
              "    <tr>\n",
              "      <th>count</th>\n",
              "      <td>127.000000</td>\n",
              "    </tr>\n",
              "    <tr>\n",
              "      <th>mean</th>\n",
              "      <td>5.037008</td>\n",
              "    </tr>\n",
              "    <tr>\n",
              "      <th>std</th>\n",
              "      <td>1.171541</td>\n",
              "    </tr>\n",
              "    <tr>\n",
              "      <th>min</th>\n",
              "      <td>2.700000</td>\n",
              "    </tr>\n",
              "    <tr>\n",
              "      <th>25%</th>\n",
              "      <td>4.000000</td>\n",
              "    </tr>\n",
              "    <tr>\n",
              "      <th>50%</th>\n",
              "      <td>5.000000</td>\n",
              "    </tr>\n",
              "    <tr>\n",
              "      <th>75%</th>\n",
              "      <td>5.500000</td>\n",
              "    </tr>\n",
              "    <tr>\n",
              "      <th>max</th>\n",
              "      <td>9.500000</td>\n",
              "    </tr>\n",
              "  </tbody>\n",
              "</table>\n",
              "</div><br><label><b>dtype:</b> float64</label>"
            ]
          },
          "metadata": {},
          "execution_count": 20
        }
      ]
    },
    {
      "cell_type": "markdown",
      "source": [
        "Убираем напрямую коррелирующий признаки - диаметр аппендицита и PAS"
      ],
      "metadata": {
        "id": "0sS5ccMnKCj2"
      }
    },
    {
      "cell_type": "code",
      "source": [
        "df = df.drop (['Appendix_Diameter', 'Paedriatic_Appendicitis_Score' ], axis = 1)"
      ],
      "metadata": {
        "id": "OeBSSdwAJ_7M"
      },
      "execution_count": 21,
      "outputs": []
    },
    {
      "cell_type": "code",
      "source": [
        "df = df.drop (['Management', 'Severity' ], axis = 1)"
      ],
      "metadata": {
        "id": "snMiPwFdLSoW"
      },
      "execution_count": 22,
      "outputs": []
    },
    {
      "cell_type": "code",
      "source": [
        "df.info()"
      ],
      "metadata": {
        "colab": {
          "base_uri": "https://localhost:8080/"
        },
        "id": "Z_YE583xKFYX",
        "outputId": "17825bad-843e-4160-a672-b20899c0dd7d"
      },
      "execution_count": 23,
      "outputs": [
        {
          "output_type": "stream",
          "name": "stdout",
          "text": [
            "<class 'pandas.core.frame.DataFrame'>\n",
            "RangeIndex: 782 entries, 0 to 781\n",
            "Data columns (total 34 columns):\n",
            " #   Column                            Non-Null Count  Dtype  \n",
            "---  ------                            --------------  -----  \n",
            " 0   Age                               781 non-null    float64\n",
            " 1   BMI                               755 non-null    float64\n",
            " 2   Sex                               780 non-null    object \n",
            " 3   Height                            756 non-null    float64\n",
            " 4   Weight                            779 non-null    float64\n",
            " 5   Length_of_Stay                    778 non-null    float64\n",
            " 6   Alvarado_Score                    730 non-null    float64\n",
            " 7   Appendix_on_US                    777 non-null    object \n",
            " 8   Migratory_Pain                    773 non-null    object \n",
            " 9   Lower_Right_Abd_Pain              774 non-null    object \n",
            " 10  Contralateral_Rebound_Tenderness  767 non-null    object \n",
            " 11  Coughing_Pain                     766 non-null    object \n",
            " 12  Nausea                            774 non-null    object \n",
            " 13  Loss_of_Appetite                  772 non-null    object \n",
            " 14  Body_Temperature                  775 non-null    float64\n",
            " 15  WBC_Count                         776 non-null    float64\n",
            " 16  Neutrophil_Percentage             679 non-null    float64\n",
            " 17  Neutrophilia                      732 non-null    object \n",
            " 18  RBC_Count                         764 non-null    float64\n",
            " 19  Hemoglobin                        764 non-null    float64\n",
            " 20  RDW                               756 non-null    float64\n",
            " 21  Thrombocyte_Count                 764 non-null    float64\n",
            " 22  Ketones_in_Urine                  582 non-null    object \n",
            " 23  RBC_in_Urine                      576 non-null    object \n",
            " 24  WBC_in_Urine                      583 non-null    object \n",
            " 25  CRP                               771 non-null    float64\n",
            " 26  Dysuria                           753 non-null    object \n",
            " 27  Stool                             765 non-null    object \n",
            " 28  Peritonitis                       773 non-null    object \n",
            " 29  Psoas_Sign                        745 non-null    object \n",
            " 30  Ipsilateral_Rebound_Tenderness    619 non-null    object \n",
            " 31  US_Performed                      778 non-null    object \n",
            " 32  Free_Fluids                       719 non-null    object \n",
            " 33  Diagnosis                         780 non-null    object \n",
            "dtypes: float64(14), object(20)\n",
            "memory usage: 207.8+ KB\n"
          ]
        }
      ]
    },
    {
      "cell_type": "code",
      "source": [
        "df.BMI.mean()"
      ],
      "metadata": {
        "colab": {
          "base_uri": "https://localhost:8080/"
        },
        "id": "xcBdnEvzKIEw",
        "outputId": "86d00aef-f8d5-4397-d4b8-57807c16d177"
      },
      "execution_count": 24,
      "outputs": [
        {
          "output_type": "execute_result",
          "data": {
            "text/plain": [
              "18.907012426874175"
            ]
          },
          "metadata": {},
          "execution_count": 24
        }
      ]
    },
    {
      "cell_type": "code",
      "source": [
        "df.Sex.unique()"
      ],
      "metadata": {
        "colab": {
          "base_uri": "https://localhost:8080/"
        },
        "id": "Lp3rcoAoKkHX",
        "outputId": "e77ec88d-df56-40b0-e1cb-66899ac64968"
      },
      "execution_count": 25,
      "outputs": [
        {
          "output_type": "execute_result",
          "data": {
            "text/plain": [
              "array(['female', 'male', nan], dtype=object)"
            ]
          },
          "metadata": {},
          "execution_count": 25
        }
      ]
    },
    {
      "cell_type": "code",
      "source": [
        "numbers_list = df.select_dtypes(include=['float64']).columns.tolist()"
      ],
      "metadata": {
        "id": "6fZtD7dxRazi"
      },
      "execution_count": 26,
      "outputs": []
    },
    {
      "cell_type": "code",
      "source": [
        "for ft in numbers_list:\n",
        "    mean_val = df[ft].mean()\n",
        "    print(f\"{ft} mean: {mean_val}\")\n",
        "    df.loc[df[ft].isna(), ft] = mean_val"
      ],
      "metadata": {
        "colab": {
          "base_uri": "https://localhost:8080/"
        },
        "id": "adYrY2n_Rmkl",
        "outputId": "a1a2f50c-b358-4b69-a798-5c1e814bb9c3"
      },
      "execution_count": 27,
      "outputs": [
        {
          "output_type": "stream",
          "name": "stdout",
          "text": [
            "Age mean: 11.346451074058898\n",
            "BMI mean: 18.907012426874175\n",
            "Height mean: 148.01746031746032\n",
            "Weight mean: 43.17254172015405\n",
            "Length_of_Stay mean: 4.284061696658098\n",
            "Alvarado_Score mean: 5.921917808219178\n",
            "Body_Temperature mean: 37.40451612903226\n",
            "WBC_Count mean: 12.670682989690723\n",
            "Neutrophil_Percentage mean: 71.79116347569955\n",
            "RBC_Count mean: 4.799489528795812\n",
            "Hemoglobin mean: 13.380497382198953\n",
            "RDW mean: 13.180291005291004\n",
            "Thrombocyte_Count mean: 285.2526178010471\n",
            "CRP mean: 31.386900129701687\n"
          ]
        }
      ]
    },
    {
      "cell_type": "code",
      "source": [
        "obj_list = df.select_dtypes(include=['object']).columns.tolist()"
      ],
      "metadata": {
        "id": "SoM3jUhrLy2O"
      },
      "execution_count": 28,
      "outputs": []
    },
    {
      "cell_type": "code",
      "source": [
        "for ft in obj_list:\n",
        "    print(f\"{ft}: len: {len(df[ft].unique())} items: {df[ft].unique()}\")"
      ],
      "metadata": {
        "colab": {
          "base_uri": "https://localhost:8080/"
        },
        "id": "zBNCCzWWKuGK",
        "outputId": "3129c7f9-6800-4c24-f88f-40d1a0256954"
      },
      "execution_count": 29,
      "outputs": [
        {
          "output_type": "stream",
          "name": "stdout",
          "text": [
            "Sex: len: 3 items: ['female' 'male' nan]\n",
            "Appendix_on_US: len: 3 items: ['yes' 'no' nan]\n",
            "Migratory_Pain: len: 3 items: ['no' 'yes' nan]\n",
            "Lower_Right_Abd_Pain: len: 3 items: ['yes' 'no' nan]\n",
            "Contralateral_Rebound_Tenderness: len: 3 items: ['yes' 'no' nan]\n",
            "Coughing_Pain: len: 3 items: ['no' 'yes' nan]\n",
            "Nausea: len: 3 items: ['no' 'yes' nan]\n",
            "Loss_of_Appetite: len: 3 items: ['yes' 'no' nan]\n",
            "Neutrophilia: len: 3 items: ['no' 'yes' nan]\n",
            "Ketones_in_Urine: len: 5 items: ['++' 'no' nan '+++' '+']\n",
            "RBC_in_Urine: len: 5 items: ['+' 'no' nan '++' '+++']\n",
            "WBC_in_Urine: len: 5 items: ['no' '+' nan '+++' '++']\n",
            "Dysuria: len: 3 items: ['no' 'yes' nan]\n",
            "Stool: len: 5 items: ['normal' 'constipation' 'diarrhea' nan 'constipation, diarrhea']\n",
            "Peritonitis: len: 4 items: ['no' 'local' 'generalized' nan]\n",
            "Psoas_Sign: len: 3 items: ['yes' 'no' nan]\n",
            "Ipsilateral_Rebound_Tenderness: len: 3 items: ['no' 'yes' nan]\n",
            "US_Performed: len: 3 items: ['yes' 'no' nan]\n",
            "Free_Fluids: len: 3 items: ['no' 'yes' nan]\n",
            "Diagnosis: len: 3 items: ['appendicitis' 'no appendicitis' nan]\n"
          ]
        }
      ]
    },
    {
      "cell_type": "code",
      "source": [
        "df.loc[df[\"Diagnosis\"].isna()]"
      ],
      "metadata": {
        "colab": {
          "base_uri": "https://localhost:8080/",
          "height": 161
        },
        "id": "TwERVvKMNTHI",
        "outputId": "7b14cb31-3f2b-4c7f-df4e-c00393e087c6"
      },
      "execution_count": 30,
      "outputs": [
        {
          "output_type": "execute_result",
          "data": {
            "text/plain": [
              "           Age        BMI     Sex     Height     Weight  Length_of_Stay  \\\n",
              "428  11.346451  18.907012     NaN  148.01746  43.172542        4.284062   \n",
              "535  14.950000  20.320000  female  163.00000  54.000000        3.000000   \n",
              "\n",
              "     Alvarado_Score Appendix_on_US Migratory_Pain Lower_Right_Abd_Pain  ...  \\\n",
              "428        5.921918            NaN            NaN                  NaN  ...   \n",
              "535        5.921918            NaN            NaN                  NaN  ...   \n",
              "\n",
              "    WBC_in_Urine      CRP Dysuria Stool  Peritonitis  Psoas_Sign  \\\n",
              "428          NaN  31.3869     NaN   NaN          NaN         NaN   \n",
              "535          NaN  31.3869     NaN   NaN          NaN         NaN   \n",
              "\n",
              "     Ipsilateral_Rebound_Tenderness US_Performed  Free_Fluids  Diagnosis  \n",
              "428                             NaN          NaN          NaN        NaN  \n",
              "535                             NaN           no          NaN        NaN  \n",
              "\n",
              "[2 rows x 34 columns]"
            ],
            "text/html": [
              "\n",
              "  <div id=\"df-e0a5d3c9-b52c-4db6-99ea-18fb54d95224\" class=\"colab-df-container\">\n",
              "    <div>\n",
              "<style scoped>\n",
              "    .dataframe tbody tr th:only-of-type {\n",
              "        vertical-align: middle;\n",
              "    }\n",
              "\n",
              "    .dataframe tbody tr th {\n",
              "        vertical-align: top;\n",
              "    }\n",
              "\n",
              "    .dataframe thead th {\n",
              "        text-align: right;\n",
              "    }\n",
              "</style>\n",
              "<table border=\"1\" class=\"dataframe\">\n",
              "  <thead>\n",
              "    <tr style=\"text-align: right;\">\n",
              "      <th></th>\n",
              "      <th>Age</th>\n",
              "      <th>BMI</th>\n",
              "      <th>Sex</th>\n",
              "      <th>Height</th>\n",
              "      <th>Weight</th>\n",
              "      <th>Length_of_Stay</th>\n",
              "      <th>Alvarado_Score</th>\n",
              "      <th>Appendix_on_US</th>\n",
              "      <th>Migratory_Pain</th>\n",
              "      <th>Lower_Right_Abd_Pain</th>\n",
              "      <th>...</th>\n",
              "      <th>WBC_in_Urine</th>\n",
              "      <th>CRP</th>\n",
              "      <th>Dysuria</th>\n",
              "      <th>Stool</th>\n",
              "      <th>Peritonitis</th>\n",
              "      <th>Psoas_Sign</th>\n",
              "      <th>Ipsilateral_Rebound_Tenderness</th>\n",
              "      <th>US_Performed</th>\n",
              "      <th>Free_Fluids</th>\n",
              "      <th>Diagnosis</th>\n",
              "    </tr>\n",
              "  </thead>\n",
              "  <tbody>\n",
              "    <tr>\n",
              "      <th>428</th>\n",
              "      <td>11.346451</td>\n",
              "      <td>18.907012</td>\n",
              "      <td>NaN</td>\n",
              "      <td>148.01746</td>\n",
              "      <td>43.172542</td>\n",
              "      <td>4.284062</td>\n",
              "      <td>5.921918</td>\n",
              "      <td>NaN</td>\n",
              "      <td>NaN</td>\n",
              "      <td>NaN</td>\n",
              "      <td>...</td>\n",
              "      <td>NaN</td>\n",
              "      <td>31.3869</td>\n",
              "      <td>NaN</td>\n",
              "      <td>NaN</td>\n",
              "      <td>NaN</td>\n",
              "      <td>NaN</td>\n",
              "      <td>NaN</td>\n",
              "      <td>NaN</td>\n",
              "      <td>NaN</td>\n",
              "      <td>NaN</td>\n",
              "    </tr>\n",
              "    <tr>\n",
              "      <th>535</th>\n",
              "      <td>14.950000</td>\n",
              "      <td>20.320000</td>\n",
              "      <td>female</td>\n",
              "      <td>163.00000</td>\n",
              "      <td>54.000000</td>\n",
              "      <td>3.000000</td>\n",
              "      <td>5.921918</td>\n",
              "      <td>NaN</td>\n",
              "      <td>NaN</td>\n",
              "      <td>NaN</td>\n",
              "      <td>...</td>\n",
              "      <td>NaN</td>\n",
              "      <td>31.3869</td>\n",
              "      <td>NaN</td>\n",
              "      <td>NaN</td>\n",
              "      <td>NaN</td>\n",
              "      <td>NaN</td>\n",
              "      <td>NaN</td>\n",
              "      <td>no</td>\n",
              "      <td>NaN</td>\n",
              "      <td>NaN</td>\n",
              "    </tr>\n",
              "  </tbody>\n",
              "</table>\n",
              "<p>2 rows × 34 columns</p>\n",
              "</div>\n",
              "    <div class=\"colab-df-buttons\">\n",
              "\n",
              "  <div class=\"colab-df-container\">\n",
              "    <button class=\"colab-df-convert\" onclick=\"convertToInteractive('df-e0a5d3c9-b52c-4db6-99ea-18fb54d95224')\"\n",
              "            title=\"Convert this dataframe to an interactive table.\"\n",
              "            style=\"display:none;\">\n",
              "\n",
              "  <svg xmlns=\"http://www.w3.org/2000/svg\" height=\"24px\" viewBox=\"0 -960 960 960\">\n",
              "    <path d=\"M120-120v-720h720v720H120Zm60-500h600v-160H180v160Zm220 220h160v-160H400v160Zm0 220h160v-160H400v160ZM180-400h160v-160H180v160Zm440 0h160v-160H620v160ZM180-180h160v-160H180v160Zm440 0h160v-160H620v160Z\"/>\n",
              "  </svg>\n",
              "    </button>\n",
              "\n",
              "  <style>\n",
              "    .colab-df-container {\n",
              "      display:flex;\n",
              "      gap: 12px;\n",
              "    }\n",
              "\n",
              "    .colab-df-convert {\n",
              "      background-color: #E8F0FE;\n",
              "      border: none;\n",
              "      border-radius: 50%;\n",
              "      cursor: pointer;\n",
              "      display: none;\n",
              "      fill: #1967D2;\n",
              "      height: 32px;\n",
              "      padding: 0 0 0 0;\n",
              "      width: 32px;\n",
              "    }\n",
              "\n",
              "    .colab-df-convert:hover {\n",
              "      background-color: #E2EBFA;\n",
              "      box-shadow: 0px 1px 2px rgba(60, 64, 67, 0.3), 0px 1px 3px 1px rgba(60, 64, 67, 0.15);\n",
              "      fill: #174EA6;\n",
              "    }\n",
              "\n",
              "    .colab-df-buttons div {\n",
              "      margin-bottom: 4px;\n",
              "    }\n",
              "\n",
              "    [theme=dark] .colab-df-convert {\n",
              "      background-color: #3B4455;\n",
              "      fill: #D2E3FC;\n",
              "    }\n",
              "\n",
              "    [theme=dark] .colab-df-convert:hover {\n",
              "      background-color: #434B5C;\n",
              "      box-shadow: 0px 1px 3px 1px rgba(0, 0, 0, 0.15);\n",
              "      filter: drop-shadow(0px 1px 2px rgba(0, 0, 0, 0.3));\n",
              "      fill: #FFFFFF;\n",
              "    }\n",
              "  </style>\n",
              "\n",
              "    <script>\n",
              "      const buttonEl =\n",
              "        document.querySelector('#df-e0a5d3c9-b52c-4db6-99ea-18fb54d95224 button.colab-df-convert');\n",
              "      buttonEl.style.display =\n",
              "        google.colab.kernel.accessAllowed ? 'block' : 'none';\n",
              "\n",
              "      async function convertToInteractive(key) {\n",
              "        const element = document.querySelector('#df-e0a5d3c9-b52c-4db6-99ea-18fb54d95224');\n",
              "        const dataTable =\n",
              "          await google.colab.kernel.invokeFunction('convertToInteractive',\n",
              "                                                    [key], {});\n",
              "        if (!dataTable) return;\n",
              "\n",
              "        const docLinkHtml = 'Like what you see? Visit the ' +\n",
              "          '<a target=\"_blank\" href=https://colab.research.google.com/notebooks/data_table.ipynb>data table notebook</a>'\n",
              "          + ' to learn more about interactive tables.';\n",
              "        element.innerHTML = '';\n",
              "        dataTable['output_type'] = 'display_data';\n",
              "        await google.colab.output.renderOutput(dataTable, element);\n",
              "        const docLink = document.createElement('div');\n",
              "        docLink.innerHTML = docLinkHtml;\n",
              "        element.appendChild(docLink);\n",
              "      }\n",
              "    </script>\n",
              "  </div>\n",
              "\n",
              "\n",
              "<div id=\"df-63aa0db6-f103-4c83-9322-e460c0a31616\">\n",
              "  <button class=\"colab-df-quickchart\" onclick=\"quickchart('df-63aa0db6-f103-4c83-9322-e460c0a31616')\"\n",
              "            title=\"Suggest charts\"\n",
              "            style=\"display:none;\">\n",
              "\n",
              "<svg xmlns=\"http://www.w3.org/2000/svg\" height=\"24px\"viewBox=\"0 0 24 24\"\n",
              "     width=\"24px\">\n",
              "    <g>\n",
              "        <path d=\"M19 3H5c-1.1 0-2 .9-2 2v14c0 1.1.9 2 2 2h14c1.1 0 2-.9 2-2V5c0-1.1-.9-2-2-2zM9 17H7v-7h2v7zm4 0h-2V7h2v10zm4 0h-2v-4h2v4z\"/>\n",
              "    </g>\n",
              "</svg>\n",
              "  </button>\n",
              "\n",
              "<style>\n",
              "  .colab-df-quickchart {\n",
              "      --bg-color: #E8F0FE;\n",
              "      --fill-color: #1967D2;\n",
              "      --hover-bg-color: #E2EBFA;\n",
              "      --hover-fill-color: #174EA6;\n",
              "      --disabled-fill-color: #AAA;\n",
              "      --disabled-bg-color: #DDD;\n",
              "  }\n",
              "\n",
              "  [theme=dark] .colab-df-quickchart {\n",
              "      --bg-color: #3B4455;\n",
              "      --fill-color: #D2E3FC;\n",
              "      --hover-bg-color: #434B5C;\n",
              "      --hover-fill-color: #FFFFFF;\n",
              "      --disabled-bg-color: #3B4455;\n",
              "      --disabled-fill-color: #666;\n",
              "  }\n",
              "\n",
              "  .colab-df-quickchart {\n",
              "    background-color: var(--bg-color);\n",
              "    border: none;\n",
              "    border-radius: 50%;\n",
              "    cursor: pointer;\n",
              "    display: none;\n",
              "    fill: var(--fill-color);\n",
              "    height: 32px;\n",
              "    padding: 0;\n",
              "    width: 32px;\n",
              "  }\n",
              "\n",
              "  .colab-df-quickchart:hover {\n",
              "    background-color: var(--hover-bg-color);\n",
              "    box-shadow: 0 1px 2px rgba(60, 64, 67, 0.3), 0 1px 3px 1px rgba(60, 64, 67, 0.15);\n",
              "    fill: var(--button-hover-fill-color);\n",
              "  }\n",
              "\n",
              "  .colab-df-quickchart-complete:disabled,\n",
              "  .colab-df-quickchart-complete:disabled:hover {\n",
              "    background-color: var(--disabled-bg-color);\n",
              "    fill: var(--disabled-fill-color);\n",
              "    box-shadow: none;\n",
              "  }\n",
              "\n",
              "  .colab-df-spinner {\n",
              "    border: 2px solid var(--fill-color);\n",
              "    border-color: transparent;\n",
              "    border-bottom-color: var(--fill-color);\n",
              "    animation:\n",
              "      spin 1s steps(1) infinite;\n",
              "  }\n",
              "\n",
              "  @keyframes spin {\n",
              "    0% {\n",
              "      border-color: transparent;\n",
              "      border-bottom-color: var(--fill-color);\n",
              "      border-left-color: var(--fill-color);\n",
              "    }\n",
              "    20% {\n",
              "      border-color: transparent;\n",
              "      border-left-color: var(--fill-color);\n",
              "      border-top-color: var(--fill-color);\n",
              "    }\n",
              "    30% {\n",
              "      border-color: transparent;\n",
              "      border-left-color: var(--fill-color);\n",
              "      border-top-color: var(--fill-color);\n",
              "      border-right-color: var(--fill-color);\n",
              "    }\n",
              "    40% {\n",
              "      border-color: transparent;\n",
              "      border-right-color: var(--fill-color);\n",
              "      border-top-color: var(--fill-color);\n",
              "    }\n",
              "    60% {\n",
              "      border-color: transparent;\n",
              "      border-right-color: var(--fill-color);\n",
              "    }\n",
              "    80% {\n",
              "      border-color: transparent;\n",
              "      border-right-color: var(--fill-color);\n",
              "      border-bottom-color: var(--fill-color);\n",
              "    }\n",
              "    90% {\n",
              "      border-color: transparent;\n",
              "      border-bottom-color: var(--fill-color);\n",
              "    }\n",
              "  }\n",
              "</style>\n",
              "\n",
              "  <script>\n",
              "    async function quickchart(key) {\n",
              "      const quickchartButtonEl =\n",
              "        document.querySelector('#' + key + ' button');\n",
              "      quickchartButtonEl.disabled = true;  // To prevent multiple clicks.\n",
              "      quickchartButtonEl.classList.add('colab-df-spinner');\n",
              "      try {\n",
              "        const charts = await google.colab.kernel.invokeFunction(\n",
              "            'suggestCharts', [key], {});\n",
              "      } catch (error) {\n",
              "        console.error('Error during call to suggestCharts:', error);\n",
              "      }\n",
              "      quickchartButtonEl.classList.remove('colab-df-spinner');\n",
              "      quickchartButtonEl.classList.add('colab-df-quickchart-complete');\n",
              "    }\n",
              "    (() => {\n",
              "      let quickchartButtonEl =\n",
              "        document.querySelector('#df-63aa0db6-f103-4c83-9322-e460c0a31616 button');\n",
              "      quickchartButtonEl.style.display =\n",
              "        google.colab.kernel.accessAllowed ? 'block' : 'none';\n",
              "    })();\n",
              "  </script>\n",
              "</div>\n",
              "    </div>\n",
              "  </div>\n"
            ],
            "application/vnd.google.colaboratory.intrinsic+json": {
              "type": "dataframe"
            }
          },
          "metadata": {},
          "execution_count": 30
        }
      ]
    },
    {
      "cell_type": "code",
      "source": [
        "df.loc[df[\"Diagnosis\"].isna()].index"
      ],
      "metadata": {
        "colab": {
          "base_uri": "https://localhost:8080/"
        },
        "id": "Hog_yjEWQieh",
        "outputId": "ac019bfc-8970-4339-cf9c-903d1e877f9b"
      },
      "execution_count": 31,
      "outputs": [
        {
          "output_type": "execute_result",
          "data": {
            "text/plain": [
              "Index([428, 535], dtype='int64')"
            ]
          },
          "metadata": {},
          "execution_count": 31
        }
      ]
    },
    {
      "cell_type": "code",
      "source": [
        "df.drop(df.loc[df[\"Diagnosis\"].isna()].index, inplace=True)"
      ],
      "metadata": {
        "id": "c6b18O5QQQoL"
      },
      "execution_count": 32,
      "outputs": []
    },
    {
      "cell_type": "code",
      "source": [
        "for ft in obj_list:\n",
        "    df.loc[df[ft].isna(), ft] = \"nan\""
      ],
      "metadata": {
        "id": "69ZP1rsGQxBg"
      },
      "execution_count": 33,
      "outputs": []
    },
    {
      "cell_type": "code",
      "source": [
        "for ft in obj_list:\n",
        "    df[ft] = pd.factorize(df[ft])[0]"
      ],
      "metadata": {
        "id": "Mst2KEeIP2l9"
      },
      "execution_count": 34,
      "outputs": []
    },
    {
      "cell_type": "code",
      "source": [
        "df.info()"
      ],
      "metadata": {
        "colab": {
          "base_uri": "https://localhost:8080/"
        },
        "id": "fdrOgVyMOupk",
        "outputId": "9e317ba8-11e5-4894-e11c-9acb0201bb82"
      },
      "execution_count": 35,
      "outputs": [
        {
          "output_type": "stream",
          "name": "stdout",
          "text": [
            "<class 'pandas.core.frame.DataFrame'>\n",
            "Index: 780 entries, 0 to 781\n",
            "Data columns (total 34 columns):\n",
            " #   Column                            Non-Null Count  Dtype  \n",
            "---  ------                            --------------  -----  \n",
            " 0   Age                               780 non-null    float64\n",
            " 1   BMI                               780 non-null    float64\n",
            " 2   Sex                               780 non-null    int64  \n",
            " 3   Height                            780 non-null    float64\n",
            " 4   Weight                            780 non-null    float64\n",
            " 5   Length_of_Stay                    780 non-null    float64\n",
            " 6   Alvarado_Score                    780 non-null    float64\n",
            " 7   Appendix_on_US                    780 non-null    int64  \n",
            " 8   Migratory_Pain                    780 non-null    int64  \n",
            " 9   Lower_Right_Abd_Pain              780 non-null    int64  \n",
            " 10  Contralateral_Rebound_Tenderness  780 non-null    int64  \n",
            " 11  Coughing_Pain                     780 non-null    int64  \n",
            " 12  Nausea                            780 non-null    int64  \n",
            " 13  Loss_of_Appetite                  780 non-null    int64  \n",
            " 14  Body_Temperature                  780 non-null    float64\n",
            " 15  WBC_Count                         780 non-null    float64\n",
            " 16  Neutrophil_Percentage             780 non-null    float64\n",
            " 17  Neutrophilia                      780 non-null    int64  \n",
            " 18  RBC_Count                         780 non-null    float64\n",
            " 19  Hemoglobin                        780 non-null    float64\n",
            " 20  RDW                               780 non-null    float64\n",
            " 21  Thrombocyte_Count                 780 non-null    float64\n",
            " 22  Ketones_in_Urine                  780 non-null    int64  \n",
            " 23  RBC_in_Urine                      780 non-null    int64  \n",
            " 24  WBC_in_Urine                      780 non-null    int64  \n",
            " 25  CRP                               780 non-null    float64\n",
            " 26  Dysuria                           780 non-null    int64  \n",
            " 27  Stool                             780 non-null    int64  \n",
            " 28  Peritonitis                       780 non-null    int64  \n",
            " 29  Psoas_Sign                        780 non-null    int64  \n",
            " 30  Ipsilateral_Rebound_Tenderness    780 non-null    int64  \n",
            " 31  US_Performed                      780 non-null    int64  \n",
            " 32  Free_Fluids                       780 non-null    int64  \n",
            " 33  Diagnosis                         780 non-null    int64  \n",
            "dtypes: float64(14), int64(20)\n",
            "memory usage: 213.3 KB\n"
          ]
        }
      ]
    },
    {
      "cell_type": "code",
      "source": [
        "# Разделяем данные на обучающую и тестовую выборки\n",
        "X_train, X_test, y_train, y_test = train_test_split(df.drop('Diagnosis', axis=1), df['Diagnosis'], test_size=0.2, random_state=42)"
      ],
      "metadata": {
        "id": "dlKGA_-Vb0A-"
      },
      "execution_count": 36,
      "outputs": []
    },
    {
      "cell_type": "markdown",
      "source": [
        "## Классификаторы"
      ],
      "metadata": {
        "id": "Co2C9o8Udqo3"
      }
    },
    {
      "cell_type": "markdown",
      "source": [
        "### Catboost"
      ],
      "metadata": {
        "id": "-m5UXRz8cPZG"
      }
    },
    {
      "cell_type": "code",
      "source": [
        "# Создаем классификатор CatBoost\n",
        "model_cat = catboost.CatBoostClassifier()"
      ],
      "metadata": {
        "id": "Oi79fehPcMVh"
      },
      "execution_count": 37,
      "outputs": []
    },
    {
      "cell_type": "code",
      "source": [
        "model_cat.fit(X_train, y_train)"
      ],
      "metadata": {
        "colab": {
          "base_uri": "https://localhost:8080/"
        },
        "id": "vn6as_7vcUWN",
        "outputId": "244aff84-73c1-4f01-ac88-3dbf145c36b2"
      },
      "execution_count": 38,
      "outputs": [
        {
          "output_type": "stream",
          "name": "stdout",
          "text": [
            "Learning rate set to 0.008423\n",
            "0:\tlearn: 0.6847400\ttotal: 57.4ms\tremaining: 57.3s\n",
            "1:\tlearn: 0.6775663\ttotal: 65.5ms\tremaining: 32.7s\n",
            "2:\tlearn: 0.6698116\ttotal: 73.2ms\tremaining: 24.3s\n",
            "3:\tlearn: 0.6614669\ttotal: 81.3ms\tremaining: 20.2s\n",
            "4:\tlearn: 0.6561319\ttotal: 86.7ms\tremaining: 17.3s\n",
            "5:\tlearn: 0.6497903\ttotal: 92.7ms\tremaining: 15.4s\n",
            "6:\tlearn: 0.6440942\ttotal: 101ms\tremaining: 14.3s\n",
            "7:\tlearn: 0.6376036\ttotal: 109ms\tremaining: 13.6s\n",
            "8:\tlearn: 0.6304254\ttotal: 118ms\tremaining: 12.9s\n",
            "9:\tlearn: 0.6252781\ttotal: 123ms\tremaining: 12.2s\n",
            "10:\tlearn: 0.6199304\ttotal: 131ms\tremaining: 11.7s\n",
            "11:\tlearn: 0.6134576\ttotal: 137ms\tremaining: 11.3s\n",
            "12:\tlearn: 0.6065288\ttotal: 156ms\tremaining: 11.9s\n",
            "13:\tlearn: 0.6010796\ttotal: 165ms\tremaining: 11.6s\n",
            "14:\tlearn: 0.5940802\ttotal: 184ms\tremaining: 12.1s\n",
            "15:\tlearn: 0.5895093\ttotal: 193ms\tremaining: 11.9s\n",
            "16:\tlearn: 0.5834393\ttotal: 198ms\tremaining: 11.5s\n",
            "17:\tlearn: 0.5784275\ttotal: 206ms\tremaining: 11.2s\n",
            "18:\tlearn: 0.5729704\ttotal: 213ms\tremaining: 11s\n",
            "19:\tlearn: 0.5678485\ttotal: 232ms\tremaining: 11.4s\n",
            "20:\tlearn: 0.5627622\ttotal: 238ms\tremaining: 11.1s\n",
            "21:\tlearn: 0.5572044\ttotal: 245ms\tremaining: 10.9s\n",
            "22:\tlearn: 0.5520147\ttotal: 251ms\tremaining: 10.7s\n",
            "23:\tlearn: 0.5477041\ttotal: 262ms\tremaining: 10.6s\n",
            "24:\tlearn: 0.5425368\ttotal: 267ms\tremaining: 10.4s\n",
            "25:\tlearn: 0.5386507\ttotal: 277ms\tremaining: 10.4s\n",
            "26:\tlearn: 0.5341556\ttotal: 280ms\tremaining: 10.1s\n",
            "27:\tlearn: 0.5295238\ttotal: 302ms\tremaining: 10.5s\n",
            "28:\tlearn: 0.5260301\ttotal: 311ms\tremaining: 10.4s\n",
            "29:\tlearn: 0.5220456\ttotal: 321ms\tremaining: 10.4s\n",
            "30:\tlearn: 0.5175256\ttotal: 333ms\tremaining: 10.4s\n",
            "31:\tlearn: 0.5129529\ttotal: 338ms\tremaining: 10.2s\n",
            "32:\tlearn: 0.5085371\ttotal: 349ms\tremaining: 10.2s\n",
            "33:\tlearn: 0.5047060\ttotal: 357ms\tremaining: 10.1s\n",
            "34:\tlearn: 0.5010287\ttotal: 367ms\tremaining: 10.1s\n",
            "35:\tlearn: 0.4978681\ttotal: 378ms\tremaining: 10.1s\n",
            "36:\tlearn: 0.4937091\ttotal: 381ms\tremaining: 9.93s\n",
            "37:\tlearn: 0.4895315\ttotal: 393ms\tremaining: 9.95s\n",
            "38:\tlearn: 0.4863951\ttotal: 396ms\tremaining: 9.77s\n",
            "39:\tlearn: 0.4837510\ttotal: 401ms\tremaining: 9.63s\n",
            "40:\tlearn: 0.4809117\ttotal: 409ms\tremaining: 9.58s\n",
            "41:\tlearn: 0.4769765\ttotal: 422ms\tremaining: 9.63s\n",
            "42:\tlearn: 0.4742872\ttotal: 431ms\tremaining: 9.59s\n",
            "43:\tlearn: 0.4710824\ttotal: 441ms\tremaining: 9.59s\n",
            "44:\tlearn: 0.4685696\ttotal: 451ms\tremaining: 9.57s\n",
            "45:\tlearn: 0.4664798\ttotal: 466ms\tremaining: 9.66s\n",
            "46:\tlearn: 0.4629308\ttotal: 479ms\tremaining: 9.72s\n",
            "47:\tlearn: 0.4604357\ttotal: 487ms\tremaining: 9.65s\n",
            "48:\tlearn: 0.4568743\ttotal: 494ms\tremaining: 9.59s\n",
            "49:\tlearn: 0.4534758\ttotal: 507ms\tremaining: 9.64s\n",
            "50:\tlearn: 0.4508425\ttotal: 514ms\tremaining: 9.57s\n",
            "51:\tlearn: 0.4481392\ttotal: 518ms\tremaining: 9.45s\n",
            "52:\tlearn: 0.4453958\ttotal: 523ms\tremaining: 9.35s\n",
            "53:\tlearn: 0.4427677\ttotal: 537ms\tremaining: 9.41s\n",
            "54:\tlearn: 0.4403108\ttotal: 540ms\tremaining: 9.28s\n",
            "55:\tlearn: 0.4377585\ttotal: 545ms\tremaining: 9.19s\n",
            "56:\tlearn: 0.4357063\ttotal: 557ms\tremaining: 9.21s\n",
            "57:\tlearn: 0.4332327\ttotal: 564ms\tremaining: 9.17s\n",
            "58:\tlearn: 0.4306475\ttotal: 576ms\tremaining: 9.19s\n",
            "59:\tlearn: 0.4280955\ttotal: 583ms\tremaining: 9.14s\n",
            "60:\tlearn: 0.4261163\ttotal: 591ms\tremaining: 9.1s\n",
            "61:\tlearn: 0.4238078\ttotal: 600ms\tremaining: 9.07s\n",
            "62:\tlearn: 0.4213318\ttotal: 623ms\tremaining: 9.26s\n",
            "63:\tlearn: 0.4187228\ttotal: 629ms\tremaining: 9.19s\n",
            "64:\tlearn: 0.4169932\ttotal: 637ms\tremaining: 9.16s\n",
            "65:\tlearn: 0.4146710\ttotal: 645ms\tremaining: 9.12s\n",
            "66:\tlearn: 0.4129392\ttotal: 653ms\tremaining: 9.09s\n",
            "67:\tlearn: 0.4108638\ttotal: 660ms\tremaining: 9.05s\n",
            "68:\tlearn: 0.4088975\ttotal: 677ms\tremaining: 9.13s\n",
            "69:\tlearn: 0.4070564\ttotal: 718ms\tremaining: 9.53s\n",
            "70:\tlearn: 0.4048877\ttotal: 728ms\tremaining: 9.52s\n",
            "71:\tlearn: 0.4033076\ttotal: 734ms\tremaining: 9.47s\n",
            "72:\tlearn: 0.4013534\ttotal: 745ms\tremaining: 9.46s\n",
            "73:\tlearn: 0.3994096\ttotal: 751ms\tremaining: 9.4s\n",
            "74:\tlearn: 0.3978389\ttotal: 757ms\tremaining: 9.34s\n",
            "75:\tlearn: 0.3961888\ttotal: 763ms\tremaining: 9.27s\n",
            "76:\tlearn: 0.3944206\ttotal: 771ms\tremaining: 9.24s\n",
            "77:\tlearn: 0.3925685\ttotal: 777ms\tremaining: 9.18s\n",
            "78:\tlearn: 0.3913357\ttotal: 786ms\tremaining: 9.16s\n",
            "79:\tlearn: 0.3898330\ttotal: 791ms\tremaining: 9.1s\n",
            "80:\tlearn: 0.3884369\ttotal: 800ms\tremaining: 9.07s\n",
            "81:\tlearn: 0.3876374\ttotal: 807ms\tremaining: 9.03s\n",
            "82:\tlearn: 0.3855476\ttotal: 817ms\tremaining: 9.03s\n",
            "83:\tlearn: 0.3841043\ttotal: 831ms\tremaining: 9.07s\n",
            "84:\tlearn: 0.3827234\ttotal: 838ms\tremaining: 9.02s\n",
            "85:\tlearn: 0.3809779\ttotal: 851ms\tremaining: 9.05s\n",
            "86:\tlearn: 0.3796572\ttotal: 860ms\tremaining: 9.02s\n",
            "87:\tlearn: 0.3787621\ttotal: 869ms\tremaining: 9s\n",
            "88:\tlearn: 0.3774292\ttotal: 874ms\tremaining: 8.95s\n",
            "89:\tlearn: 0.3761304\ttotal: 884ms\tremaining: 8.94s\n",
            "90:\tlearn: 0.3743625\ttotal: 891ms\tremaining: 8.9s\n",
            "91:\tlearn: 0.3725945\ttotal: 896ms\tremaining: 8.84s\n",
            "92:\tlearn: 0.3708250\ttotal: 904ms\tremaining: 8.82s\n",
            "93:\tlearn: 0.3694546\ttotal: 912ms\tremaining: 8.79s\n",
            "94:\tlearn: 0.3678352\ttotal: 920ms\tremaining: 8.76s\n",
            "95:\tlearn: 0.3665618\ttotal: 928ms\tremaining: 8.74s\n",
            "96:\tlearn: 0.3652436\ttotal: 935ms\tremaining: 8.71s\n",
            "97:\tlearn: 0.3637789\ttotal: 950ms\tremaining: 8.74s\n",
            "98:\tlearn: 0.3621722\ttotal: 957ms\tremaining: 8.71s\n",
            "99:\tlearn: 0.3613823\ttotal: 965ms\tremaining: 8.69s\n",
            "100:\tlearn: 0.3601287\ttotal: 973ms\tremaining: 8.66s\n",
            "101:\tlearn: 0.3593283\ttotal: 980ms\tremaining: 8.63s\n",
            "102:\tlearn: 0.3579566\ttotal: 988ms\tremaining: 8.6s\n",
            "103:\tlearn: 0.3567242\ttotal: 1.01s\tremaining: 8.67s\n",
            "104:\tlearn: 0.3546889\ttotal: 1.01s\tremaining: 8.63s\n",
            "105:\tlearn: 0.3539919\ttotal: 1.02s\tremaining: 8.61s\n",
            "106:\tlearn: 0.3531105\ttotal: 1.03s\tremaining: 8.58s\n",
            "107:\tlearn: 0.3518839\ttotal: 1.04s\tremaining: 8.56s\n",
            "108:\tlearn: 0.3511882\ttotal: 1.04s\tremaining: 8.52s\n",
            "109:\tlearn: 0.3502001\ttotal: 1.05s\tremaining: 8.53s\n",
            "110:\tlearn: 0.3491656\ttotal: 1.06s\tremaining: 8.48s\n",
            "111:\tlearn: 0.3479718\ttotal: 1.07s\tremaining: 8.46s\n",
            "112:\tlearn: 0.3468790\ttotal: 1.07s\tremaining: 8.44s\n",
            "113:\tlearn: 0.3460744\ttotal: 1.08s\tremaining: 8.41s\n",
            "114:\tlearn: 0.3447692\ttotal: 1.09s\tremaining: 8.39s\n",
            "115:\tlearn: 0.3439198\ttotal: 1.1s\tremaining: 8.37s\n",
            "116:\tlearn: 0.3425792\ttotal: 1.11s\tremaining: 8.35s\n",
            "117:\tlearn: 0.3415140\ttotal: 1.11s\tremaining: 8.33s\n",
            "118:\tlearn: 0.3404948\ttotal: 1.14s\tremaining: 8.44s\n",
            "119:\tlearn: 0.3394747\ttotal: 1.15s\tremaining: 8.43s\n",
            "120:\tlearn: 0.3382997\ttotal: 1.16s\tremaining: 8.41s\n",
            "121:\tlearn: 0.3375783\ttotal: 1.16s\tremaining: 8.38s\n",
            "122:\tlearn: 0.3366538\ttotal: 1.17s\tremaining: 8.35s\n",
            "123:\tlearn: 0.3353657\ttotal: 1.18s\tremaining: 8.3s\n",
            "124:\tlearn: 0.3342711\ttotal: 1.18s\tremaining: 8.28s\n",
            "125:\tlearn: 0.3337440\ttotal: 1.19s\tremaining: 8.26s\n",
            "126:\tlearn: 0.3328121\ttotal: 1.2s\tremaining: 8.24s\n",
            "127:\tlearn: 0.3319611\ttotal: 1.21s\tremaining: 8.22s\n",
            "128:\tlearn: 0.3312989\ttotal: 1.21s\tremaining: 8.2s\n",
            "129:\tlearn: 0.3304832\ttotal: 1.22s\tremaining: 8.18s\n",
            "130:\tlearn: 0.3297382\ttotal: 1.23s\tremaining: 8.16s\n",
            "131:\tlearn: 0.3287600\ttotal: 1.24s\tremaining: 8.13s\n",
            "132:\tlearn: 0.3275697\ttotal: 1.24s\tremaining: 8.1s\n",
            "133:\tlearn: 0.3269052\ttotal: 1.25s\tremaining: 8.09s\n",
            "134:\tlearn: 0.3260523\ttotal: 1.26s\tremaining: 8.07s\n",
            "135:\tlearn: 0.3251035\ttotal: 1.27s\tremaining: 8.05s\n",
            "136:\tlearn: 0.3243233\ttotal: 1.28s\tremaining: 8.05s\n",
            "137:\tlearn: 0.3236531\ttotal: 1.28s\tremaining: 8.01s\n",
            "138:\tlearn: 0.3230595\ttotal: 1.29s\tremaining: 8s\n",
            "139:\tlearn: 0.3217408\ttotal: 1.3s\tremaining: 7.97s\n",
            "140:\tlearn: 0.3206105\ttotal: 1.31s\tremaining: 7.97s\n",
            "141:\tlearn: 0.3196800\ttotal: 1.31s\tremaining: 7.95s\n",
            "142:\tlearn: 0.3188911\ttotal: 1.33s\tremaining: 8s\n",
            "143:\tlearn: 0.3182956\ttotal: 1.34s\tremaining: 7.95s\n",
            "144:\tlearn: 0.3176853\ttotal: 1.34s\tremaining: 7.91s\n",
            "145:\tlearn: 0.3171704\ttotal: 1.34s\tremaining: 7.87s\n",
            "146:\tlearn: 0.3158428\ttotal: 1.35s\tremaining: 7.83s\n",
            "147:\tlearn: 0.3151481\ttotal: 1.35s\tremaining: 7.79s\n",
            "148:\tlearn: 0.3143854\ttotal: 1.36s\tremaining: 7.75s\n",
            "149:\tlearn: 0.3133840\ttotal: 1.36s\tremaining: 7.7s\n",
            "150:\tlearn: 0.3126695\ttotal: 1.36s\tremaining: 7.66s\n",
            "151:\tlearn: 0.3121794\ttotal: 1.37s\tremaining: 7.63s\n",
            "152:\tlearn: 0.3110410\ttotal: 1.38s\tremaining: 7.62s\n",
            "153:\tlearn: 0.3104312\ttotal: 1.38s\tremaining: 7.6s\n",
            "154:\tlearn: 0.3094757\ttotal: 1.39s\tremaining: 7.59s\n",
            "155:\tlearn: 0.3090046\ttotal: 1.4s\tremaining: 7.58s\n",
            "156:\tlearn: 0.3081446\ttotal: 1.41s\tremaining: 7.55s\n",
            "157:\tlearn: 0.3078170\ttotal: 1.42s\tremaining: 7.59s\n",
            "158:\tlearn: 0.3066220\ttotal: 1.43s\tremaining: 7.57s\n",
            "159:\tlearn: 0.3059891\ttotal: 1.44s\tremaining: 7.55s\n",
            "160:\tlearn: 0.3054205\ttotal: 1.45s\tremaining: 7.54s\n",
            "161:\tlearn: 0.3049108\ttotal: 1.45s\tremaining: 7.51s\n",
            "162:\tlearn: 0.3043781\ttotal: 1.45s\tremaining: 7.47s\n",
            "163:\tlearn: 0.3036606\ttotal: 1.46s\tremaining: 7.43s\n",
            "164:\tlearn: 0.3031825\ttotal: 1.46s\tremaining: 7.41s\n",
            "165:\tlearn: 0.3025128\ttotal: 1.47s\tremaining: 7.37s\n",
            "166:\tlearn: 0.3015705\ttotal: 1.47s\tremaining: 7.33s\n",
            "167:\tlearn: 0.3007938\ttotal: 1.47s\tremaining: 7.3s\n",
            "168:\tlearn: 0.3004986\ttotal: 1.48s\tremaining: 7.26s\n",
            "169:\tlearn: 0.3000029\ttotal: 1.48s\tremaining: 7.23s\n",
            "170:\tlearn: 0.2994457\ttotal: 1.48s\tremaining: 7.2s\n",
            "171:\tlearn: 0.2987597\ttotal: 1.49s\tremaining: 7.16s\n",
            "172:\tlearn: 0.2980921\ttotal: 1.49s\tremaining: 7.13s\n",
            "173:\tlearn: 0.2976484\ttotal: 1.49s\tremaining: 7.1s\n",
            "174:\tlearn: 0.2974787\ttotal: 1.5s\tremaining: 7.06s\n",
            "175:\tlearn: 0.2970005\ttotal: 1.5s\tremaining: 7.03s\n",
            "176:\tlearn: 0.2961734\ttotal: 1.5s\tremaining: 7s\n",
            "177:\tlearn: 0.2958746\ttotal: 1.51s\tremaining: 6.96s\n",
            "178:\tlearn: 0.2952270\ttotal: 1.51s\tremaining: 6.93s\n",
            "179:\tlearn: 0.2947565\ttotal: 1.52s\tremaining: 6.91s\n",
            "180:\tlearn: 0.2939237\ttotal: 1.52s\tremaining: 6.88s\n",
            "181:\tlearn: 0.2931735\ttotal: 1.52s\tremaining: 6.85s\n",
            "182:\tlearn: 0.2925153\ttotal: 1.53s\tremaining: 6.82s\n",
            "183:\tlearn: 0.2920408\ttotal: 1.53s\tremaining: 6.79s\n",
            "184:\tlearn: 0.2914706\ttotal: 1.53s\tremaining: 6.76s\n",
            "185:\tlearn: 0.2907302\ttotal: 1.54s\tremaining: 6.73s\n",
            "186:\tlearn: 0.2902230\ttotal: 1.54s\tremaining: 6.7s\n",
            "187:\tlearn: 0.2895085\ttotal: 1.54s\tremaining: 6.67s\n",
            "188:\tlearn: 0.2889160\ttotal: 1.55s\tremaining: 6.64s\n",
            "189:\tlearn: 0.2882995\ttotal: 1.55s\tremaining: 6.61s\n",
            "190:\tlearn: 0.2875776\ttotal: 1.55s\tremaining: 6.58s\n",
            "191:\tlearn: 0.2866008\ttotal: 1.56s\tremaining: 6.55s\n",
            "192:\tlearn: 0.2862467\ttotal: 1.56s\tremaining: 6.52s\n",
            "193:\tlearn: 0.2858833\ttotal: 1.56s\tremaining: 6.5s\n",
            "194:\tlearn: 0.2850368\ttotal: 1.57s\tremaining: 6.47s\n",
            "195:\tlearn: 0.2845003\ttotal: 1.57s\tremaining: 6.45s\n",
            "196:\tlearn: 0.2839445\ttotal: 1.58s\tremaining: 6.43s\n",
            "197:\tlearn: 0.2834922\ttotal: 1.58s\tremaining: 6.41s\n",
            "198:\tlearn: 0.2828691\ttotal: 1.59s\tremaining: 6.42s\n",
            "199:\tlearn: 0.2823841\ttotal: 1.6s\tremaining: 6.41s\n",
            "200:\tlearn: 0.2817148\ttotal: 1.61s\tremaining: 6.38s\n",
            "201:\tlearn: 0.2810853\ttotal: 1.61s\tremaining: 6.36s\n",
            "202:\tlearn: 0.2804380\ttotal: 1.62s\tremaining: 6.36s\n",
            "203:\tlearn: 0.2799483\ttotal: 1.62s\tremaining: 6.34s\n",
            "204:\tlearn: 0.2793731\ttotal: 1.63s\tremaining: 6.31s\n",
            "205:\tlearn: 0.2787659\ttotal: 1.63s\tremaining: 6.28s\n",
            "206:\tlearn: 0.2781056\ttotal: 1.63s\tremaining: 6.26s\n",
            "207:\tlearn: 0.2775302\ttotal: 1.64s\tremaining: 6.23s\n",
            "208:\tlearn: 0.2770616\ttotal: 1.64s\tremaining: 6.21s\n",
            "209:\tlearn: 0.2767466\ttotal: 1.64s\tremaining: 6.19s\n",
            "210:\tlearn: 0.2761574\ttotal: 1.65s\tremaining: 6.18s\n",
            "211:\tlearn: 0.2755402\ttotal: 1.66s\tremaining: 6.16s\n",
            "212:\tlearn: 0.2750962\ttotal: 1.67s\tremaining: 6.16s\n",
            "213:\tlearn: 0.2746896\ttotal: 1.68s\tremaining: 6.16s\n",
            "214:\tlearn: 0.2741969\ttotal: 1.68s\tremaining: 6.15s\n",
            "215:\tlearn: 0.2739583\ttotal: 1.69s\tremaining: 6.13s\n",
            "216:\tlearn: 0.2733313\ttotal: 1.7s\tremaining: 6.12s\n",
            "217:\tlearn: 0.2730953\ttotal: 1.7s\tremaining: 6.12s\n",
            "218:\tlearn: 0.2727975\ttotal: 1.71s\tremaining: 6.11s\n",
            "219:\tlearn: 0.2723195\ttotal: 1.72s\tremaining: 6.11s\n",
            "220:\tlearn: 0.2718854\ttotal: 1.73s\tremaining: 6.09s\n",
            "221:\tlearn: 0.2713804\ttotal: 1.74s\tremaining: 6.08s\n",
            "222:\tlearn: 0.2711090\ttotal: 1.74s\tremaining: 6.08s\n",
            "223:\tlearn: 0.2706012\ttotal: 1.76s\tremaining: 6.09s\n",
            "224:\tlearn: 0.2701823\ttotal: 1.76s\tremaining: 6.08s\n",
            "225:\tlearn: 0.2695441\ttotal: 1.78s\tremaining: 6.08s\n",
            "226:\tlearn: 0.2691656\ttotal: 1.78s\tremaining: 6.07s\n",
            "227:\tlearn: 0.2687030\ttotal: 1.79s\tremaining: 6.05s\n",
            "228:\tlearn: 0.2682983\ttotal: 1.79s\tremaining: 6.03s\n",
            "229:\tlearn: 0.2674137\ttotal: 1.79s\tremaining: 6.01s\n",
            "230:\tlearn: 0.2670442\ttotal: 1.8s\tremaining: 5.98s\n",
            "231:\tlearn: 0.2665528\ttotal: 1.8s\tremaining: 5.96s\n",
            "232:\tlearn: 0.2658243\ttotal: 1.8s\tremaining: 5.94s\n",
            "233:\tlearn: 0.2655625\ttotal: 1.81s\tremaining: 5.93s\n",
            "234:\tlearn: 0.2652021\ttotal: 1.82s\tremaining: 5.92s\n",
            "235:\tlearn: 0.2644991\ttotal: 1.82s\tremaining: 5.9s\n",
            "236:\tlearn: 0.2640387\ttotal: 1.82s\tremaining: 5.87s\n",
            "237:\tlearn: 0.2635175\ttotal: 1.83s\tremaining: 5.85s\n",
            "238:\tlearn: 0.2627964\ttotal: 1.83s\tremaining: 5.83s\n",
            "239:\tlearn: 0.2622576\ttotal: 1.83s\tremaining: 5.81s\n",
            "240:\tlearn: 0.2616419\ttotal: 1.84s\tremaining: 5.79s\n",
            "241:\tlearn: 0.2610201\ttotal: 1.84s\tremaining: 5.78s\n",
            "242:\tlearn: 0.2605351\ttotal: 1.85s\tremaining: 5.76s\n",
            "243:\tlearn: 0.2600739\ttotal: 1.85s\tremaining: 5.74s\n",
            "244:\tlearn: 0.2597401\ttotal: 1.85s\tremaining: 5.72s\n",
            "245:\tlearn: 0.2591703\ttotal: 1.86s\tremaining: 5.7s\n",
            "246:\tlearn: 0.2588983\ttotal: 1.86s\tremaining: 5.69s\n",
            "247:\tlearn: 0.2585483\ttotal: 1.87s\tremaining: 5.68s\n",
            "248:\tlearn: 0.2578199\ttotal: 1.88s\tremaining: 5.67s\n",
            "249:\tlearn: 0.2574225\ttotal: 1.89s\tremaining: 5.68s\n",
            "250:\tlearn: 0.2570920\ttotal: 1.9s\tremaining: 5.67s\n",
            "251:\tlearn: 0.2564455\ttotal: 1.91s\tremaining: 5.67s\n",
            "252:\tlearn: 0.2560138\ttotal: 1.91s\tremaining: 5.65s\n",
            "253:\tlearn: 0.2557128\ttotal: 1.92s\tremaining: 5.63s\n",
            "254:\tlearn: 0.2552956\ttotal: 1.92s\tremaining: 5.61s\n",
            "255:\tlearn: 0.2548852\ttotal: 1.92s\tremaining: 5.59s\n",
            "256:\tlearn: 0.2545056\ttotal: 1.93s\tremaining: 5.57s\n",
            "257:\tlearn: 0.2540669\ttotal: 1.93s\tremaining: 5.55s\n",
            "258:\tlearn: 0.2536638\ttotal: 1.94s\tremaining: 5.54s\n",
            "259:\tlearn: 0.2534016\ttotal: 1.94s\tremaining: 5.51s\n",
            "260:\tlearn: 0.2531009\ttotal: 1.94s\tremaining: 5.49s\n",
            "261:\tlearn: 0.2525373\ttotal: 1.95s\tremaining: 5.48s\n",
            "262:\tlearn: 0.2523143\ttotal: 1.95s\tremaining: 5.46s\n",
            "263:\tlearn: 0.2519150\ttotal: 1.95s\tremaining: 5.45s\n",
            "264:\tlearn: 0.2516177\ttotal: 1.96s\tremaining: 5.42s\n",
            "265:\tlearn: 0.2513338\ttotal: 1.96s\tremaining: 5.41s\n",
            "266:\tlearn: 0.2507637\ttotal: 1.96s\tremaining: 5.39s\n",
            "267:\tlearn: 0.2501156\ttotal: 1.97s\tremaining: 5.37s\n",
            "268:\tlearn: 0.2497267\ttotal: 1.97s\tremaining: 5.35s\n",
            "269:\tlearn: 0.2496127\ttotal: 1.97s\tremaining: 5.33s\n",
            "270:\tlearn: 0.2491807\ttotal: 1.98s\tremaining: 5.31s\n",
            "271:\tlearn: 0.2488077\ttotal: 1.98s\tremaining: 5.3s\n",
            "272:\tlearn: 0.2483087\ttotal: 1.98s\tremaining: 5.28s\n",
            "273:\tlearn: 0.2479733\ttotal: 1.99s\tremaining: 5.26s\n",
            "274:\tlearn: 0.2477340\ttotal: 1.99s\tremaining: 5.25s\n",
            "275:\tlearn: 0.2470983\ttotal: 1.99s\tremaining: 5.23s\n",
            "276:\tlearn: 0.2466713\ttotal: 2.01s\tremaining: 5.24s\n",
            "277:\tlearn: 0.2462357\ttotal: 2.02s\tremaining: 5.24s\n",
            "278:\tlearn: 0.2455592\ttotal: 2.02s\tremaining: 5.23s\n",
            "279:\tlearn: 0.2453698\ttotal: 2.03s\tremaining: 5.21s\n",
            "280:\tlearn: 0.2450033\ttotal: 2.04s\tremaining: 5.22s\n",
            "281:\tlearn: 0.2447641\ttotal: 2.07s\tremaining: 5.27s\n",
            "282:\tlearn: 0.2442756\ttotal: 2.08s\tremaining: 5.27s\n",
            "283:\tlearn: 0.2439763\ttotal: 2.08s\tremaining: 5.26s\n",
            "284:\tlearn: 0.2435550\ttotal: 2.09s\tremaining: 5.25s\n",
            "285:\tlearn: 0.2430520\ttotal: 2.12s\tremaining: 5.28s\n",
            "286:\tlearn: 0.2428761\ttotal: 2.12s\tremaining: 5.27s\n",
            "287:\tlearn: 0.2425851\ttotal: 2.13s\tremaining: 5.27s\n",
            "288:\tlearn: 0.2422363\ttotal: 2.14s\tremaining: 5.26s\n",
            "289:\tlearn: 0.2417363\ttotal: 2.15s\tremaining: 5.26s\n",
            "290:\tlearn: 0.2415273\ttotal: 2.16s\tremaining: 5.25s\n",
            "291:\tlearn: 0.2410748\ttotal: 2.17s\tremaining: 5.28s\n",
            "292:\tlearn: 0.2408043\ttotal: 2.18s\tremaining: 5.26s\n",
            "293:\tlearn: 0.2403525\ttotal: 2.2s\tremaining: 5.29s\n",
            "294:\tlearn: 0.2400729\ttotal: 2.21s\tremaining: 5.27s\n",
            "295:\tlearn: 0.2398388\ttotal: 2.21s\tremaining: 5.26s\n",
            "296:\tlearn: 0.2392392\ttotal: 2.22s\tremaining: 5.26s\n",
            "297:\tlearn: 0.2385816\ttotal: 2.23s\tremaining: 5.25s\n",
            "298:\tlearn: 0.2381469\ttotal: 2.24s\tremaining: 5.25s\n",
            "299:\tlearn: 0.2380375\ttotal: 2.25s\tremaining: 5.25s\n",
            "300:\tlearn: 0.2376074\ttotal: 2.26s\tremaining: 5.24s\n",
            "301:\tlearn: 0.2371696\ttotal: 2.27s\tremaining: 5.24s\n",
            "302:\tlearn: 0.2368364\ttotal: 2.27s\tremaining: 5.23s\n",
            "303:\tlearn: 0.2365100\ttotal: 2.28s\tremaining: 5.23s\n",
            "304:\tlearn: 0.2360421\ttotal: 2.29s\tremaining: 5.22s\n",
            "305:\tlearn: 0.2354012\ttotal: 2.3s\tremaining: 5.22s\n",
            "306:\tlearn: 0.2351901\ttotal: 2.31s\tremaining: 5.21s\n",
            "307:\tlearn: 0.2346736\ttotal: 2.31s\tremaining: 5.2s\n",
            "308:\tlearn: 0.2343621\ttotal: 2.36s\tremaining: 5.28s\n",
            "309:\tlearn: 0.2341390\ttotal: 2.37s\tremaining: 5.28s\n",
            "310:\tlearn: 0.2339826\ttotal: 2.38s\tremaining: 5.28s\n",
            "311:\tlearn: 0.2335355\ttotal: 2.39s\tremaining: 5.27s\n",
            "312:\tlearn: 0.2332183\ttotal: 2.4s\tremaining: 5.28s\n",
            "313:\tlearn: 0.2327728\ttotal: 2.42s\tremaining: 5.28s\n",
            "314:\tlearn: 0.2323306\ttotal: 2.44s\tremaining: 5.31s\n",
            "315:\tlearn: 0.2320082\ttotal: 2.47s\tremaining: 5.35s\n",
            "316:\tlearn: 0.2318300\ttotal: 2.49s\tremaining: 5.36s\n",
            "317:\tlearn: 0.2314569\ttotal: 2.5s\tremaining: 5.37s\n",
            "318:\tlearn: 0.2310999\ttotal: 2.51s\tremaining: 5.36s\n",
            "319:\tlearn: 0.2307995\ttotal: 2.53s\tremaining: 5.37s\n",
            "320:\tlearn: 0.2305649\ttotal: 2.54s\tremaining: 5.36s\n",
            "321:\tlearn: 0.2301630\ttotal: 2.54s\tremaining: 5.35s\n",
            "322:\tlearn: 0.2297678\ttotal: 2.55s\tremaining: 5.34s\n",
            "323:\tlearn: 0.2294191\ttotal: 2.55s\tremaining: 5.32s\n",
            "324:\tlearn: 0.2290135\ttotal: 2.55s\tremaining: 5.31s\n",
            "325:\tlearn: 0.2288308\ttotal: 2.56s\tremaining: 5.29s\n",
            "326:\tlearn: 0.2285693\ttotal: 2.56s\tremaining: 5.28s\n",
            "327:\tlearn: 0.2282324\ttotal: 2.57s\tremaining: 5.26s\n",
            "328:\tlearn: 0.2278711\ttotal: 2.57s\tremaining: 5.24s\n",
            "329:\tlearn: 0.2275673\ttotal: 2.58s\tremaining: 5.23s\n",
            "330:\tlearn: 0.2273832\ttotal: 2.58s\tremaining: 5.21s\n",
            "331:\tlearn: 0.2272851\ttotal: 2.58s\tremaining: 5.2s\n",
            "332:\tlearn: 0.2269968\ttotal: 2.58s\tremaining: 5.18s\n",
            "333:\tlearn: 0.2266755\ttotal: 2.59s\tremaining: 5.17s\n",
            "334:\tlearn: 0.2265261\ttotal: 2.59s\tremaining: 5.15s\n",
            "335:\tlearn: 0.2262836\ttotal: 2.6s\tremaining: 5.14s\n",
            "336:\tlearn: 0.2259135\ttotal: 2.6s\tremaining: 5.12s\n",
            "337:\tlearn: 0.2255865\ttotal: 2.61s\tremaining: 5.11s\n",
            "338:\tlearn: 0.2253811\ttotal: 2.61s\tremaining: 5.1s\n",
            "339:\tlearn: 0.2252175\ttotal: 2.62s\tremaining: 5.08s\n",
            "340:\tlearn: 0.2250164\ttotal: 2.62s\tremaining: 5.07s\n",
            "341:\tlearn: 0.2245563\ttotal: 2.63s\tremaining: 5.06s\n",
            "342:\tlearn: 0.2244333\ttotal: 2.63s\tremaining: 5.04s\n",
            "343:\tlearn: 0.2239994\ttotal: 2.65s\tremaining: 5.05s\n",
            "344:\tlearn: 0.2238205\ttotal: 2.65s\tremaining: 5.03s\n",
            "345:\tlearn: 0.2236827\ttotal: 2.65s\tremaining: 5.01s\n",
            "346:\tlearn: 0.2231347\ttotal: 2.65s\tremaining: 5s\n",
            "347:\tlearn: 0.2230536\ttotal: 2.66s\tremaining: 4.98s\n",
            "348:\tlearn: 0.2228425\ttotal: 2.66s\tremaining: 4.96s\n",
            "349:\tlearn: 0.2226447\ttotal: 2.66s\tremaining: 4.95s\n",
            "350:\tlearn: 0.2223472\ttotal: 2.67s\tremaining: 4.93s\n",
            "351:\tlearn: 0.2221658\ttotal: 2.67s\tremaining: 4.92s\n",
            "352:\tlearn: 0.2219901\ttotal: 2.67s\tremaining: 4.9s\n",
            "353:\tlearn: 0.2216419\ttotal: 2.68s\tremaining: 4.89s\n",
            "354:\tlearn: 0.2214291\ttotal: 2.68s\tremaining: 4.87s\n",
            "355:\tlearn: 0.2209731\ttotal: 2.69s\tremaining: 4.86s\n",
            "356:\tlearn: 0.2207979\ttotal: 2.69s\tremaining: 4.85s\n",
            "357:\tlearn: 0.2204113\ttotal: 2.69s\tremaining: 4.83s\n",
            "358:\tlearn: 0.2197635\ttotal: 2.7s\tremaining: 4.82s\n",
            "359:\tlearn: 0.2194812\ttotal: 2.7s\tremaining: 4.8s\n",
            "360:\tlearn: 0.2190696\ttotal: 2.71s\tremaining: 4.79s\n",
            "361:\tlearn: 0.2187841\ttotal: 2.71s\tremaining: 4.77s\n",
            "362:\tlearn: 0.2184382\ttotal: 2.71s\tremaining: 4.76s\n",
            "363:\tlearn: 0.2181813\ttotal: 2.73s\tremaining: 4.76s\n",
            "364:\tlearn: 0.2177791\ttotal: 2.73s\tremaining: 4.76s\n",
            "365:\tlearn: 0.2174133\ttotal: 2.74s\tremaining: 4.74s\n",
            "366:\tlearn: 0.2171084\ttotal: 2.74s\tremaining: 4.73s\n",
            "367:\tlearn: 0.2168628\ttotal: 2.74s\tremaining: 4.71s\n",
            "368:\tlearn: 0.2165788\ttotal: 2.75s\tremaining: 4.7s\n",
            "369:\tlearn: 0.2163554\ttotal: 2.75s\tremaining: 4.69s\n",
            "370:\tlearn: 0.2161212\ttotal: 2.76s\tremaining: 4.68s\n",
            "371:\tlearn: 0.2158389\ttotal: 2.77s\tremaining: 4.67s\n",
            "372:\tlearn: 0.2156352\ttotal: 2.77s\tremaining: 4.66s\n",
            "373:\tlearn: 0.2154306\ttotal: 2.79s\tremaining: 4.68s\n",
            "374:\tlearn: 0.2150847\ttotal: 2.8s\tremaining: 4.66s\n",
            "375:\tlearn: 0.2147792\ttotal: 2.81s\tremaining: 4.66s\n",
            "376:\tlearn: 0.2145248\ttotal: 2.81s\tremaining: 4.65s\n",
            "377:\tlearn: 0.2142815\ttotal: 2.83s\tremaining: 4.65s\n",
            "378:\tlearn: 0.2140531\ttotal: 2.83s\tremaining: 4.63s\n",
            "379:\tlearn: 0.2137968\ttotal: 2.83s\tremaining: 4.62s\n",
            "380:\tlearn: 0.2133299\ttotal: 2.85s\tremaining: 4.63s\n",
            "381:\tlearn: 0.2129567\ttotal: 2.85s\tremaining: 4.62s\n",
            "382:\tlearn: 0.2127393\ttotal: 2.86s\tremaining: 4.61s\n",
            "383:\tlearn: 0.2125709\ttotal: 2.87s\tremaining: 4.61s\n",
            "384:\tlearn: 0.2122765\ttotal: 2.88s\tremaining: 4.6s\n",
            "385:\tlearn: 0.2120045\ttotal: 2.89s\tremaining: 4.59s\n",
            "386:\tlearn: 0.2118720\ttotal: 2.9s\tremaining: 4.59s\n",
            "387:\tlearn: 0.2115138\ttotal: 2.9s\tremaining: 4.58s\n",
            "388:\tlearn: 0.2112756\ttotal: 2.91s\tremaining: 4.57s\n",
            "389:\tlearn: 0.2109766\ttotal: 2.91s\tremaining: 4.56s\n",
            "390:\tlearn: 0.2108050\ttotal: 2.92s\tremaining: 4.54s\n",
            "391:\tlearn: 0.2106725\ttotal: 2.92s\tremaining: 4.53s\n",
            "392:\tlearn: 0.2103852\ttotal: 2.92s\tremaining: 4.52s\n",
            "393:\tlearn: 0.2100943\ttotal: 2.93s\tremaining: 4.5s\n",
            "394:\tlearn: 0.2098436\ttotal: 2.94s\tremaining: 4.5s\n",
            "395:\tlearn: 0.2093189\ttotal: 2.94s\tremaining: 4.49s\n",
            "396:\tlearn: 0.2088965\ttotal: 2.95s\tremaining: 4.48s\n",
            "397:\tlearn: 0.2086950\ttotal: 2.96s\tremaining: 4.47s\n",
            "398:\tlearn: 0.2084493\ttotal: 2.96s\tremaining: 4.46s\n",
            "399:\tlearn: 0.2082727\ttotal: 2.96s\tremaining: 4.45s\n",
            "400:\tlearn: 0.2080603\ttotal: 2.97s\tremaining: 4.43s\n",
            "401:\tlearn: 0.2076580\ttotal: 2.97s\tremaining: 4.42s\n",
            "402:\tlearn: 0.2072971\ttotal: 2.98s\tremaining: 4.41s\n",
            "403:\tlearn: 0.2071215\ttotal: 2.99s\tremaining: 4.41s\n",
            "404:\tlearn: 0.2069600\ttotal: 2.99s\tremaining: 4.4s\n",
            "405:\tlearn: 0.2068399\ttotal: 3s\tremaining: 4.39s\n",
            "406:\tlearn: 0.2066114\ttotal: 3.01s\tremaining: 4.38s\n",
            "407:\tlearn: 0.2062130\ttotal: 3.03s\tremaining: 4.4s\n",
            "408:\tlearn: 0.2059623\ttotal: 3.04s\tremaining: 4.4s\n",
            "409:\tlearn: 0.2056557\ttotal: 3.05s\tremaining: 4.39s\n",
            "410:\tlearn: 0.2054605\ttotal: 3.07s\tremaining: 4.4s\n",
            "411:\tlearn: 0.2052310\ttotal: 3.08s\tremaining: 4.39s\n",
            "412:\tlearn: 0.2049135\ttotal: 3.09s\tremaining: 4.4s\n",
            "413:\tlearn: 0.2047512\ttotal: 3.1s\tremaining: 4.39s\n",
            "414:\tlearn: 0.2046984\ttotal: 3.11s\tremaining: 4.38s\n",
            "415:\tlearn: 0.2044647\ttotal: 3.11s\tremaining: 4.37s\n",
            "416:\tlearn: 0.2041607\ttotal: 3.13s\tremaining: 4.37s\n",
            "417:\tlearn: 0.2039476\ttotal: 3.14s\tremaining: 4.38s\n",
            "418:\tlearn: 0.2037898\ttotal: 3.15s\tremaining: 4.37s\n",
            "419:\tlearn: 0.2035829\ttotal: 3.17s\tremaining: 4.37s\n",
            "420:\tlearn: 0.2033692\ttotal: 3.18s\tremaining: 4.38s\n",
            "421:\tlearn: 0.2031304\ttotal: 3.19s\tremaining: 4.37s\n",
            "422:\tlearn: 0.2028368\ttotal: 3.2s\tremaining: 4.37s\n",
            "423:\tlearn: 0.2027409\ttotal: 3.21s\tremaining: 4.36s\n",
            "424:\tlearn: 0.2022080\ttotal: 3.21s\tremaining: 4.35s\n",
            "425:\tlearn: 0.2018846\ttotal: 3.23s\tremaining: 4.35s\n",
            "426:\tlearn: 0.2015458\ttotal: 3.23s\tremaining: 4.34s\n",
            "427:\tlearn: 0.2013139\ttotal: 3.24s\tremaining: 4.33s\n",
            "428:\tlearn: 0.2011278\ttotal: 3.26s\tremaining: 4.34s\n",
            "429:\tlearn: 0.2007643\ttotal: 3.27s\tremaining: 4.33s\n",
            "430:\tlearn: 0.2004900\ttotal: 3.27s\tremaining: 4.32s\n",
            "431:\tlearn: 0.2002631\ttotal: 3.28s\tremaining: 4.31s\n",
            "432:\tlearn: 0.2001310\ttotal: 3.29s\tremaining: 4.3s\n",
            "433:\tlearn: 0.1997725\ttotal: 3.29s\tremaining: 4.29s\n",
            "434:\tlearn: 0.1995340\ttotal: 3.3s\tremaining: 4.28s\n",
            "435:\tlearn: 0.1991190\ttotal: 3.31s\tremaining: 4.28s\n",
            "436:\tlearn: 0.1986576\ttotal: 3.31s\tremaining: 4.27s\n",
            "437:\tlearn: 0.1982283\ttotal: 3.32s\tremaining: 4.26s\n",
            "438:\tlearn: 0.1981172\ttotal: 3.33s\tremaining: 4.25s\n",
            "439:\tlearn: 0.1979546\ttotal: 3.36s\tremaining: 4.28s\n",
            "440:\tlearn: 0.1976228\ttotal: 3.38s\tremaining: 4.29s\n",
            "441:\tlearn: 0.1973831\ttotal: 3.4s\tremaining: 4.29s\n",
            "442:\tlearn: 0.1972822\ttotal: 3.41s\tremaining: 4.29s\n",
            "443:\tlearn: 0.1970418\ttotal: 3.44s\tremaining: 4.3s\n",
            "444:\tlearn: 0.1968594\ttotal: 3.44s\tremaining: 4.29s\n",
            "445:\tlearn: 0.1964999\ttotal: 3.45s\tremaining: 4.29s\n",
            "446:\tlearn: 0.1961695\ttotal: 3.46s\tremaining: 4.27s\n",
            "447:\tlearn: 0.1959635\ttotal: 3.46s\tremaining: 4.27s\n",
            "448:\tlearn: 0.1956312\ttotal: 3.48s\tremaining: 4.27s\n",
            "449:\tlearn: 0.1953164\ttotal: 3.49s\tremaining: 4.26s\n",
            "450:\tlearn: 0.1951001\ttotal: 3.5s\tremaining: 4.26s\n",
            "451:\tlearn: 0.1948020\ttotal: 3.5s\tremaining: 4.25s\n",
            "452:\tlearn: 0.1943115\ttotal: 3.51s\tremaining: 4.24s\n",
            "453:\tlearn: 0.1942139\ttotal: 3.52s\tremaining: 4.23s\n",
            "454:\tlearn: 0.1940028\ttotal: 3.54s\tremaining: 4.23s\n",
            "455:\tlearn: 0.1937444\ttotal: 3.55s\tremaining: 4.23s\n",
            "456:\tlearn: 0.1934792\ttotal: 3.55s\tremaining: 4.22s\n",
            "457:\tlearn: 0.1932064\ttotal: 3.56s\tremaining: 4.21s\n",
            "458:\tlearn: 0.1930444\ttotal: 3.56s\tremaining: 4.2s\n",
            "459:\tlearn: 0.1928179\ttotal: 3.57s\tremaining: 4.19s\n",
            "460:\tlearn: 0.1927018\ttotal: 3.58s\tremaining: 4.18s\n",
            "461:\tlearn: 0.1924873\ttotal: 3.58s\tremaining: 4.17s\n",
            "462:\tlearn: 0.1923877\ttotal: 3.6s\tremaining: 4.17s\n",
            "463:\tlearn: 0.1921408\ttotal: 3.6s\tremaining: 4.16s\n",
            "464:\tlearn: 0.1918171\ttotal: 3.61s\tremaining: 4.16s\n",
            "465:\tlearn: 0.1914601\ttotal: 3.62s\tremaining: 4.15s\n",
            "466:\tlearn: 0.1913002\ttotal: 3.63s\tremaining: 4.14s\n",
            "467:\tlearn: 0.1911988\ttotal: 3.64s\tremaining: 4.13s\n",
            "468:\tlearn: 0.1909451\ttotal: 3.65s\tremaining: 4.13s\n",
            "469:\tlearn: 0.1906896\ttotal: 3.66s\tremaining: 4.13s\n",
            "470:\tlearn: 0.1904672\ttotal: 3.67s\tremaining: 4.12s\n",
            "471:\tlearn: 0.1901336\ttotal: 3.67s\tremaining: 4.11s\n",
            "472:\tlearn: 0.1899299\ttotal: 3.68s\tremaining: 4.1s\n",
            "473:\tlearn: 0.1897753\ttotal: 3.69s\tremaining: 4.09s\n",
            "474:\tlearn: 0.1894303\ttotal: 3.7s\tremaining: 4.09s\n",
            "475:\tlearn: 0.1893138\ttotal: 3.71s\tremaining: 4.08s\n",
            "476:\tlearn: 0.1890647\ttotal: 3.73s\tremaining: 4.09s\n",
            "477:\tlearn: 0.1888729\ttotal: 3.74s\tremaining: 4.09s\n",
            "478:\tlearn: 0.1886696\ttotal: 3.76s\tremaining: 4.09s\n",
            "479:\tlearn: 0.1885495\ttotal: 3.77s\tremaining: 4.08s\n",
            "480:\tlearn: 0.1883868\ttotal: 3.78s\tremaining: 4.08s\n",
            "481:\tlearn: 0.1879746\ttotal: 3.79s\tremaining: 4.07s\n",
            "482:\tlearn: 0.1879470\ttotal: 3.8s\tremaining: 4.06s\n",
            "483:\tlearn: 0.1879289\ttotal: 3.81s\tremaining: 4.06s\n",
            "484:\tlearn: 0.1876231\ttotal: 3.81s\tremaining: 4.05s\n",
            "485:\tlearn: 0.1875676\ttotal: 3.82s\tremaining: 4.04s\n",
            "486:\tlearn: 0.1872738\ttotal: 3.82s\tremaining: 4.03s\n",
            "487:\tlearn: 0.1870096\ttotal: 3.83s\tremaining: 4.02s\n",
            "488:\tlearn: 0.1869139\ttotal: 3.84s\tremaining: 4.01s\n",
            "489:\tlearn: 0.1868268\ttotal: 3.85s\tremaining: 4.01s\n",
            "490:\tlearn: 0.1866743\ttotal: 3.86s\tremaining: 4s\n",
            "491:\tlearn: 0.1865194\ttotal: 3.87s\tremaining: 3.99s\n",
            "492:\tlearn: 0.1864023\ttotal: 3.88s\tremaining: 3.99s\n",
            "493:\tlearn: 0.1862160\ttotal: 3.88s\tremaining: 3.98s\n",
            "494:\tlearn: 0.1859447\ttotal: 3.89s\tremaining: 3.97s\n",
            "495:\tlearn: 0.1857868\ttotal: 3.9s\tremaining: 3.96s\n",
            "496:\tlearn: 0.1856023\ttotal: 3.91s\tremaining: 3.96s\n",
            "497:\tlearn: 0.1853083\ttotal: 3.92s\tremaining: 3.95s\n",
            "498:\tlearn: 0.1852161\ttotal: 3.93s\tremaining: 3.94s\n",
            "499:\tlearn: 0.1849976\ttotal: 3.94s\tremaining: 3.94s\n",
            "500:\tlearn: 0.1848062\ttotal: 3.94s\tremaining: 3.93s\n",
            "501:\tlearn: 0.1844961\ttotal: 3.95s\tremaining: 3.92s\n",
            "502:\tlearn: 0.1841541\ttotal: 3.96s\tremaining: 3.92s\n",
            "503:\tlearn: 0.1838720\ttotal: 3.98s\tremaining: 3.91s\n",
            "504:\tlearn: 0.1836288\ttotal: 3.99s\tremaining: 3.91s\n",
            "505:\tlearn: 0.1834251\ttotal: 4s\tremaining: 3.9s\n",
            "506:\tlearn: 0.1832026\ttotal: 4.01s\tremaining: 3.9s\n",
            "507:\tlearn: 0.1830206\ttotal: 4.03s\tremaining: 3.9s\n",
            "508:\tlearn: 0.1827966\ttotal: 4.04s\tremaining: 3.89s\n",
            "509:\tlearn: 0.1825436\ttotal: 4.05s\tremaining: 3.89s\n",
            "510:\tlearn: 0.1823706\ttotal: 4.06s\tremaining: 3.88s\n",
            "511:\tlearn: 0.1821944\ttotal: 4.07s\tremaining: 3.88s\n",
            "512:\tlearn: 0.1819497\ttotal: 4.07s\tremaining: 3.87s\n",
            "513:\tlearn: 0.1817740\ttotal: 4.08s\tremaining: 3.86s\n",
            "514:\tlearn: 0.1815566\ttotal: 4.09s\tremaining: 3.85s\n",
            "515:\tlearn: 0.1812648\ttotal: 4.1s\tremaining: 3.84s\n",
            "516:\tlearn: 0.1810677\ttotal: 4.12s\tremaining: 3.85s\n",
            "517:\tlearn: 0.1808411\ttotal: 4.13s\tremaining: 3.84s\n",
            "518:\tlearn: 0.1805925\ttotal: 4.14s\tremaining: 3.84s\n",
            "519:\tlearn: 0.1803766\ttotal: 4.16s\tremaining: 3.84s\n",
            "520:\tlearn: 0.1800737\ttotal: 4.16s\tremaining: 3.83s\n",
            "521:\tlearn: 0.1799727\ttotal: 4.17s\tremaining: 3.82s\n",
            "522:\tlearn: 0.1796838\ttotal: 4.18s\tremaining: 3.82s\n",
            "523:\tlearn: 0.1793487\ttotal: 4.19s\tremaining: 3.81s\n",
            "524:\tlearn: 0.1790152\ttotal: 4.2s\tremaining: 3.8s\n",
            "525:\tlearn: 0.1787132\ttotal: 4.21s\tremaining: 3.8s\n",
            "526:\tlearn: 0.1785722\ttotal: 4.23s\tremaining: 3.79s\n",
            "527:\tlearn: 0.1783384\ttotal: 4.23s\tremaining: 3.78s\n",
            "528:\tlearn: 0.1782352\ttotal: 4.25s\tremaining: 3.78s\n",
            "529:\tlearn: 0.1779914\ttotal: 4.25s\tremaining: 3.77s\n",
            "530:\tlearn: 0.1779712\ttotal: 4.26s\tremaining: 3.76s\n",
            "531:\tlearn: 0.1776843\ttotal: 4.26s\tremaining: 3.75s\n",
            "532:\tlearn: 0.1774491\ttotal: 4.26s\tremaining: 3.73s\n",
            "533:\tlearn: 0.1773340\ttotal: 4.27s\tremaining: 3.72s\n",
            "534:\tlearn: 0.1772461\ttotal: 4.27s\tremaining: 3.71s\n",
            "535:\tlearn: 0.1770874\ttotal: 4.27s\tremaining: 3.7s\n",
            "536:\tlearn: 0.1769670\ttotal: 4.28s\tremaining: 3.69s\n",
            "537:\tlearn: 0.1767976\ttotal: 4.28s\tremaining: 3.68s\n",
            "538:\tlearn: 0.1765630\ttotal: 4.28s\tremaining: 3.66s\n",
            "539:\tlearn: 0.1763284\ttotal: 4.29s\tremaining: 3.65s\n",
            "540:\tlearn: 0.1761204\ttotal: 4.29s\tremaining: 3.64s\n",
            "541:\tlearn: 0.1759874\ttotal: 4.3s\tremaining: 3.63s\n",
            "542:\tlearn: 0.1757403\ttotal: 4.3s\tremaining: 3.62s\n",
            "543:\tlearn: 0.1754700\ttotal: 4.31s\tremaining: 3.62s\n",
            "544:\tlearn: 0.1754048\ttotal: 4.33s\tremaining: 3.62s\n",
            "545:\tlearn: 0.1752154\ttotal: 4.34s\tremaining: 3.61s\n",
            "546:\tlearn: 0.1750427\ttotal: 4.37s\tremaining: 3.62s\n",
            "547:\tlearn: 0.1749252\ttotal: 4.39s\tremaining: 3.62s\n",
            "548:\tlearn: 0.1747082\ttotal: 4.4s\tremaining: 3.61s\n",
            "549:\tlearn: 0.1745441\ttotal: 4.41s\tremaining: 3.6s\n",
            "550:\tlearn: 0.1742686\ttotal: 4.42s\tremaining: 3.6s\n",
            "551:\tlearn: 0.1739846\ttotal: 4.43s\tremaining: 3.6s\n",
            "552:\tlearn: 0.1738544\ttotal: 4.44s\tremaining: 3.59s\n",
            "553:\tlearn: 0.1736269\ttotal: 4.46s\tremaining: 3.59s\n",
            "554:\tlearn: 0.1734496\ttotal: 4.47s\tremaining: 3.58s\n",
            "555:\tlearn: 0.1733626\ttotal: 4.48s\tremaining: 3.58s\n",
            "556:\tlearn: 0.1731478\ttotal: 4.49s\tremaining: 3.57s\n",
            "557:\tlearn: 0.1731237\ttotal: 4.51s\tremaining: 3.57s\n",
            "558:\tlearn: 0.1728246\ttotal: 4.51s\tremaining: 3.56s\n",
            "559:\tlearn: 0.1725215\ttotal: 4.51s\tremaining: 3.54s\n",
            "560:\tlearn: 0.1722518\ttotal: 4.52s\tremaining: 3.53s\n",
            "561:\tlearn: 0.1721072\ttotal: 4.52s\tremaining: 3.52s\n",
            "562:\tlearn: 0.1720434\ttotal: 4.52s\tremaining: 3.51s\n",
            "563:\tlearn: 0.1718873\ttotal: 4.53s\tremaining: 3.5s\n",
            "564:\tlearn: 0.1717795\ttotal: 4.53s\tremaining: 3.49s\n",
            "565:\tlearn: 0.1714941\ttotal: 4.53s\tremaining: 3.48s\n",
            "566:\tlearn: 0.1712596\ttotal: 4.54s\tremaining: 3.46s\n",
            "567:\tlearn: 0.1710287\ttotal: 4.54s\tremaining: 3.45s\n",
            "568:\tlearn: 0.1708170\ttotal: 4.54s\tremaining: 3.44s\n",
            "569:\tlearn: 0.1706942\ttotal: 4.55s\tremaining: 3.43s\n",
            "570:\tlearn: 0.1703999\ttotal: 4.55s\tremaining: 3.42s\n",
            "571:\tlearn: 0.1702906\ttotal: 4.56s\tremaining: 3.41s\n",
            "572:\tlearn: 0.1700738\ttotal: 4.56s\tremaining: 3.4s\n",
            "573:\tlearn: 0.1697800\ttotal: 4.56s\tremaining: 3.39s\n",
            "574:\tlearn: 0.1694067\ttotal: 4.57s\tremaining: 3.38s\n",
            "575:\tlearn: 0.1691900\ttotal: 4.57s\tremaining: 3.36s\n",
            "576:\tlearn: 0.1691592\ttotal: 4.57s\tremaining: 3.35s\n",
            "577:\tlearn: 0.1690394\ttotal: 4.58s\tremaining: 3.34s\n",
            "578:\tlearn: 0.1689257\ttotal: 4.58s\tremaining: 3.33s\n",
            "579:\tlearn: 0.1686800\ttotal: 4.58s\tremaining: 3.32s\n",
            "580:\tlearn: 0.1684260\ttotal: 4.59s\tremaining: 3.31s\n",
            "581:\tlearn: 0.1680994\ttotal: 4.59s\tremaining: 3.3s\n",
            "582:\tlearn: 0.1679624\ttotal: 4.6s\tremaining: 3.29s\n",
            "583:\tlearn: 0.1677099\ttotal: 4.6s\tremaining: 3.28s\n",
            "584:\tlearn: 0.1675603\ttotal: 4.6s\tremaining: 3.27s\n",
            "585:\tlearn: 0.1672092\ttotal: 4.61s\tremaining: 3.25s\n",
            "586:\tlearn: 0.1669666\ttotal: 4.61s\tremaining: 3.25s\n",
            "587:\tlearn: 0.1667710\ttotal: 4.62s\tremaining: 3.23s\n",
            "588:\tlearn: 0.1665960\ttotal: 4.62s\tremaining: 3.22s\n",
            "589:\tlearn: 0.1663632\ttotal: 4.63s\tremaining: 3.22s\n",
            "590:\tlearn: 0.1661471\ttotal: 4.63s\tremaining: 3.2s\n",
            "591:\tlearn: 0.1659114\ttotal: 4.64s\tremaining: 3.2s\n",
            "592:\tlearn: 0.1658466\ttotal: 4.64s\tremaining: 3.19s\n",
            "593:\tlearn: 0.1655775\ttotal: 4.65s\tremaining: 3.18s\n",
            "594:\tlearn: 0.1652928\ttotal: 4.66s\tremaining: 3.17s\n",
            "595:\tlearn: 0.1651926\ttotal: 4.66s\tremaining: 3.16s\n",
            "596:\tlearn: 0.1649717\ttotal: 4.66s\tremaining: 3.15s\n",
            "597:\tlearn: 0.1648070\ttotal: 4.67s\tremaining: 3.14s\n",
            "598:\tlearn: 0.1645582\ttotal: 4.67s\tremaining: 3.13s\n",
            "599:\tlearn: 0.1644045\ttotal: 4.67s\tremaining: 3.12s\n",
            "600:\tlearn: 0.1642620\ttotal: 4.68s\tremaining: 3.11s\n",
            "601:\tlearn: 0.1639993\ttotal: 4.68s\tremaining: 3.09s\n",
            "602:\tlearn: 0.1638045\ttotal: 4.68s\tremaining: 3.08s\n",
            "603:\tlearn: 0.1636115\ttotal: 4.69s\tremaining: 3.07s\n",
            "604:\tlearn: 0.1633346\ttotal: 4.69s\tremaining: 3.06s\n",
            "605:\tlearn: 0.1630483\ttotal: 4.69s\tremaining: 3.05s\n",
            "606:\tlearn: 0.1627949\ttotal: 4.7s\tremaining: 3.04s\n",
            "607:\tlearn: 0.1626717\ttotal: 4.7s\tremaining: 3.03s\n",
            "608:\tlearn: 0.1625769\ttotal: 4.7s\tremaining: 3.02s\n",
            "609:\tlearn: 0.1623868\ttotal: 4.71s\tremaining: 3.01s\n",
            "610:\tlearn: 0.1621659\ttotal: 4.72s\tremaining: 3s\n",
            "611:\tlearn: 0.1618802\ttotal: 4.72s\tremaining: 2.99s\n",
            "612:\tlearn: 0.1618382\ttotal: 4.73s\tremaining: 2.98s\n",
            "613:\tlearn: 0.1615474\ttotal: 4.73s\tremaining: 2.97s\n",
            "614:\tlearn: 0.1614324\ttotal: 4.73s\tremaining: 2.96s\n",
            "615:\tlearn: 0.1611742\ttotal: 4.74s\tremaining: 2.95s\n",
            "616:\tlearn: 0.1609975\ttotal: 4.74s\tremaining: 2.94s\n",
            "617:\tlearn: 0.1606661\ttotal: 4.75s\tremaining: 2.94s\n",
            "618:\tlearn: 0.1604837\ttotal: 4.76s\tremaining: 2.93s\n",
            "619:\tlearn: 0.1604029\ttotal: 4.77s\tremaining: 2.92s\n",
            "620:\tlearn: 0.1601063\ttotal: 4.77s\tremaining: 2.91s\n",
            "621:\tlearn: 0.1599833\ttotal: 4.78s\tremaining: 2.9s\n",
            "622:\tlearn: 0.1598535\ttotal: 4.79s\tremaining: 2.9s\n",
            "623:\tlearn: 0.1597793\ttotal: 4.81s\tremaining: 2.9s\n",
            "624:\tlearn: 0.1596555\ttotal: 4.82s\tremaining: 2.89s\n",
            "625:\tlearn: 0.1595615\ttotal: 4.83s\tremaining: 2.88s\n",
            "626:\tlearn: 0.1592945\ttotal: 4.83s\tremaining: 2.88s\n",
            "627:\tlearn: 0.1588905\ttotal: 4.84s\tremaining: 2.87s\n",
            "628:\tlearn: 0.1586432\ttotal: 4.85s\tremaining: 2.86s\n",
            "629:\tlearn: 0.1583662\ttotal: 4.85s\tremaining: 2.85s\n",
            "630:\tlearn: 0.1581773\ttotal: 4.86s\tremaining: 2.84s\n",
            "631:\tlearn: 0.1580304\ttotal: 4.87s\tremaining: 2.83s\n",
            "632:\tlearn: 0.1578940\ttotal: 4.87s\tremaining: 2.82s\n",
            "633:\tlearn: 0.1576843\ttotal: 4.88s\tremaining: 2.82s\n",
            "634:\tlearn: 0.1574374\ttotal: 4.89s\tremaining: 2.81s\n",
            "635:\tlearn: 0.1572606\ttotal: 4.89s\tremaining: 2.8s\n",
            "636:\tlearn: 0.1571552\ttotal: 4.9s\tremaining: 2.79s\n",
            "637:\tlearn: 0.1569894\ttotal: 4.91s\tremaining: 2.79s\n",
            "638:\tlearn: 0.1567946\ttotal: 4.91s\tremaining: 2.77s\n",
            "639:\tlearn: 0.1567581\ttotal: 4.92s\tremaining: 2.77s\n",
            "640:\tlearn: 0.1564519\ttotal: 4.92s\tremaining: 2.75s\n",
            "641:\tlearn: 0.1562799\ttotal: 4.92s\tremaining: 2.75s\n",
            "642:\tlearn: 0.1561404\ttotal: 4.93s\tremaining: 2.73s\n",
            "643:\tlearn: 0.1559710\ttotal: 4.93s\tremaining: 2.73s\n",
            "644:\tlearn: 0.1558825\ttotal: 4.93s\tremaining: 2.72s\n",
            "645:\tlearn: 0.1557716\ttotal: 4.94s\tremaining: 2.71s\n",
            "646:\tlearn: 0.1555327\ttotal: 4.94s\tremaining: 2.69s\n",
            "647:\tlearn: 0.1554515\ttotal: 4.94s\tremaining: 2.69s\n",
            "648:\tlearn: 0.1552885\ttotal: 4.95s\tremaining: 2.68s\n",
            "649:\tlearn: 0.1551551\ttotal: 4.95s\tremaining: 2.67s\n",
            "650:\tlearn: 0.1548352\ttotal: 4.95s\tremaining: 2.66s\n",
            "651:\tlearn: 0.1547466\ttotal: 4.96s\tremaining: 2.65s\n",
            "652:\tlearn: 0.1544175\ttotal: 4.96s\tremaining: 2.64s\n",
            "653:\tlearn: 0.1542930\ttotal: 4.97s\tremaining: 2.63s\n",
            "654:\tlearn: 0.1540742\ttotal: 4.97s\tremaining: 2.62s\n",
            "655:\tlearn: 0.1537654\ttotal: 4.98s\tremaining: 2.61s\n",
            "656:\tlearn: 0.1535181\ttotal: 4.98s\tremaining: 2.6s\n",
            "657:\tlearn: 0.1533151\ttotal: 4.98s\tremaining: 2.59s\n",
            "658:\tlearn: 0.1531094\ttotal: 4.99s\tremaining: 2.58s\n",
            "659:\tlearn: 0.1530381\ttotal: 4.99s\tremaining: 2.57s\n",
            "660:\tlearn: 0.1528804\ttotal: 4.99s\tremaining: 2.56s\n",
            "661:\tlearn: 0.1526399\ttotal: 5s\tremaining: 2.55s\n",
            "662:\tlearn: 0.1525507\ttotal: 5s\tremaining: 2.54s\n",
            "663:\tlearn: 0.1522130\ttotal: 5s\tremaining: 2.53s\n",
            "664:\tlearn: 0.1521485\ttotal: 5s\tremaining: 2.52s\n",
            "665:\tlearn: 0.1519771\ttotal: 5.01s\tremaining: 2.51s\n",
            "666:\tlearn: 0.1518986\ttotal: 5.01s\tremaining: 2.5s\n",
            "667:\tlearn: 0.1518314\ttotal: 5.02s\tremaining: 2.49s\n",
            "668:\tlearn: 0.1517906\ttotal: 5.03s\tremaining: 2.49s\n",
            "669:\tlearn: 0.1515676\ttotal: 5.03s\tremaining: 2.48s\n",
            "670:\tlearn: 0.1514805\ttotal: 5.03s\tremaining: 2.47s\n",
            "671:\tlearn: 0.1512961\ttotal: 5.04s\tremaining: 2.46s\n",
            "672:\tlearn: 0.1511561\ttotal: 5.04s\tremaining: 2.45s\n",
            "673:\tlearn: 0.1510988\ttotal: 5.04s\tremaining: 2.44s\n",
            "674:\tlearn: 0.1508559\ttotal: 5.05s\tremaining: 2.43s\n",
            "675:\tlearn: 0.1507403\ttotal: 5.05s\tremaining: 2.42s\n",
            "676:\tlearn: 0.1504713\ttotal: 5.06s\tremaining: 2.41s\n",
            "677:\tlearn: 0.1504031\ttotal: 5.06s\tremaining: 2.4s\n",
            "678:\tlearn: 0.1502035\ttotal: 5.08s\tremaining: 2.4s\n",
            "679:\tlearn: 0.1501107\ttotal: 5.08s\tremaining: 2.39s\n",
            "680:\tlearn: 0.1499973\ttotal: 5.09s\tremaining: 2.38s\n",
            "681:\tlearn: 0.1498363\ttotal: 5.09s\tremaining: 2.38s\n",
            "682:\tlearn: 0.1497866\ttotal: 5.1s\tremaining: 2.37s\n",
            "683:\tlearn: 0.1495800\ttotal: 5.11s\tremaining: 2.36s\n",
            "684:\tlearn: 0.1493333\ttotal: 5.11s\tremaining: 2.35s\n",
            "685:\tlearn: 0.1492010\ttotal: 5.11s\tremaining: 2.34s\n",
            "686:\tlearn: 0.1490848\ttotal: 5.12s\tremaining: 2.33s\n",
            "687:\tlearn: 0.1487538\ttotal: 5.12s\tremaining: 2.32s\n",
            "688:\tlearn: 0.1486768\ttotal: 5.12s\tremaining: 2.31s\n",
            "689:\tlearn: 0.1485455\ttotal: 5.13s\tremaining: 2.3s\n",
            "690:\tlearn: 0.1483276\ttotal: 5.13s\tremaining: 2.29s\n",
            "691:\tlearn: 0.1482457\ttotal: 5.13s\tremaining: 2.28s\n",
            "692:\tlearn: 0.1480686\ttotal: 5.14s\tremaining: 2.28s\n",
            "693:\tlearn: 0.1478933\ttotal: 5.15s\tremaining: 2.27s\n",
            "694:\tlearn: 0.1474929\ttotal: 5.16s\tremaining: 2.26s\n",
            "695:\tlearn: 0.1472740\ttotal: 5.17s\tremaining: 2.26s\n",
            "696:\tlearn: 0.1471087\ttotal: 5.17s\tremaining: 2.25s\n",
            "697:\tlearn: 0.1470225\ttotal: 5.17s\tremaining: 2.24s\n",
            "698:\tlearn: 0.1469270\ttotal: 5.18s\tremaining: 2.23s\n",
            "699:\tlearn: 0.1468049\ttotal: 5.18s\tremaining: 2.22s\n",
            "700:\tlearn: 0.1465754\ttotal: 5.19s\tremaining: 2.21s\n",
            "701:\tlearn: 0.1465376\ttotal: 5.21s\tremaining: 2.21s\n",
            "702:\tlearn: 0.1463994\ttotal: 5.21s\tremaining: 2.2s\n",
            "703:\tlearn: 0.1461443\ttotal: 5.22s\tremaining: 2.19s\n",
            "704:\tlearn: 0.1460283\ttotal: 5.22s\tremaining: 2.18s\n",
            "705:\tlearn: 0.1458229\ttotal: 5.22s\tremaining: 2.17s\n",
            "706:\tlearn: 0.1457038\ttotal: 5.23s\tremaining: 2.17s\n",
            "707:\tlearn: 0.1455106\ttotal: 5.23s\tremaining: 2.16s\n",
            "708:\tlearn: 0.1454317\ttotal: 5.24s\tremaining: 2.15s\n",
            "709:\tlearn: 0.1453924\ttotal: 5.24s\tremaining: 2.14s\n",
            "710:\tlearn: 0.1451718\ttotal: 5.25s\tremaining: 2.13s\n",
            "711:\tlearn: 0.1449365\ttotal: 5.25s\tremaining: 2.12s\n",
            "712:\tlearn: 0.1448157\ttotal: 5.25s\tremaining: 2.11s\n",
            "713:\tlearn: 0.1444686\ttotal: 5.25s\tremaining: 2.1s\n",
            "714:\tlearn: 0.1442556\ttotal: 5.26s\tremaining: 2.1s\n",
            "715:\tlearn: 0.1440911\ttotal: 5.26s\tremaining: 2.09s\n",
            "716:\tlearn: 0.1437052\ttotal: 5.26s\tremaining: 2.08s\n",
            "717:\tlearn: 0.1434663\ttotal: 5.27s\tremaining: 2.07s\n",
            "718:\tlearn: 0.1432253\ttotal: 5.27s\tremaining: 2.06s\n",
            "719:\tlearn: 0.1430656\ttotal: 5.28s\tremaining: 2.05s\n",
            "720:\tlearn: 0.1430020\ttotal: 5.28s\tremaining: 2.04s\n",
            "721:\tlearn: 0.1427362\ttotal: 5.29s\tremaining: 2.04s\n",
            "722:\tlearn: 0.1426089\ttotal: 5.29s\tremaining: 2.03s\n",
            "723:\tlearn: 0.1424730\ttotal: 5.29s\tremaining: 2.02s\n",
            "724:\tlearn: 0.1422931\ttotal: 5.3s\tremaining: 2.01s\n",
            "725:\tlearn: 0.1420685\ttotal: 5.3s\tremaining: 2s\n",
            "726:\tlearn: 0.1418060\ttotal: 5.3s\tremaining: 1.99s\n",
            "727:\tlearn: 0.1416369\ttotal: 5.32s\tremaining: 1.99s\n",
            "728:\tlearn: 0.1414945\ttotal: 5.32s\tremaining: 1.98s\n",
            "729:\tlearn: 0.1414481\ttotal: 5.33s\tremaining: 1.97s\n",
            "730:\tlearn: 0.1411156\ttotal: 5.33s\tremaining: 1.96s\n",
            "731:\tlearn: 0.1408454\ttotal: 5.33s\tremaining: 1.95s\n",
            "732:\tlearn: 0.1407177\ttotal: 5.34s\tremaining: 1.94s\n",
            "733:\tlearn: 0.1404938\ttotal: 5.34s\tremaining: 1.94s\n",
            "734:\tlearn: 0.1402989\ttotal: 5.34s\tremaining: 1.93s\n",
            "735:\tlearn: 0.1401428\ttotal: 5.35s\tremaining: 1.92s\n",
            "736:\tlearn: 0.1397929\ttotal: 5.35s\tremaining: 1.91s\n",
            "737:\tlearn: 0.1395796\ttotal: 5.35s\tremaining: 1.9s\n",
            "738:\tlearn: 0.1392560\ttotal: 5.36s\tremaining: 1.89s\n",
            "739:\tlearn: 0.1390011\ttotal: 5.36s\tremaining: 1.88s\n",
            "740:\tlearn: 0.1389346\ttotal: 5.36s\tremaining: 1.87s\n",
            "741:\tlearn: 0.1387499\ttotal: 5.37s\tremaining: 1.87s\n",
            "742:\tlearn: 0.1385649\ttotal: 5.37s\tremaining: 1.86s\n",
            "743:\tlearn: 0.1383961\ttotal: 5.37s\tremaining: 1.85s\n",
            "744:\tlearn: 0.1381933\ttotal: 5.38s\tremaining: 1.84s\n",
            "745:\tlearn: 0.1378663\ttotal: 5.38s\tremaining: 1.83s\n",
            "746:\tlearn: 0.1376275\ttotal: 5.38s\tremaining: 1.82s\n",
            "747:\tlearn: 0.1375985\ttotal: 5.39s\tremaining: 1.81s\n",
            "748:\tlearn: 0.1374015\ttotal: 5.39s\tremaining: 1.8s\n",
            "749:\tlearn: 0.1373083\ttotal: 5.39s\tremaining: 1.8s\n",
            "750:\tlearn: 0.1370630\ttotal: 5.4s\tremaining: 1.79s\n",
            "751:\tlearn: 0.1367674\ttotal: 5.4s\tremaining: 1.78s\n",
            "752:\tlearn: 0.1365944\ttotal: 5.4s\tremaining: 1.77s\n",
            "753:\tlearn: 0.1364006\ttotal: 5.41s\tremaining: 1.76s\n",
            "754:\tlearn: 0.1363319\ttotal: 5.41s\tremaining: 1.75s\n",
            "755:\tlearn: 0.1362377\ttotal: 5.41s\tremaining: 1.75s\n",
            "756:\tlearn: 0.1360632\ttotal: 5.42s\tremaining: 1.74s\n",
            "757:\tlearn: 0.1359236\ttotal: 5.42s\tremaining: 1.73s\n",
            "758:\tlearn: 0.1357980\ttotal: 5.42s\tremaining: 1.72s\n",
            "759:\tlearn: 0.1356433\ttotal: 5.43s\tremaining: 1.71s\n",
            "760:\tlearn: 0.1356187\ttotal: 5.43s\tremaining: 1.71s\n",
            "761:\tlearn: 0.1355370\ttotal: 5.43s\tremaining: 1.7s\n",
            "762:\tlearn: 0.1354254\ttotal: 5.43s\tremaining: 1.69s\n",
            "763:\tlearn: 0.1351782\ttotal: 5.44s\tremaining: 1.68s\n",
            "764:\tlearn: 0.1350109\ttotal: 5.44s\tremaining: 1.67s\n",
            "765:\tlearn: 0.1348836\ttotal: 5.45s\tremaining: 1.66s\n",
            "766:\tlearn: 0.1346159\ttotal: 5.45s\tremaining: 1.66s\n",
            "767:\tlearn: 0.1344933\ttotal: 5.45s\tremaining: 1.65s\n",
            "768:\tlearn: 0.1342952\ttotal: 5.46s\tremaining: 1.64s\n",
            "769:\tlearn: 0.1341801\ttotal: 5.46s\tremaining: 1.63s\n",
            "770:\tlearn: 0.1339087\ttotal: 5.46s\tremaining: 1.62s\n",
            "771:\tlearn: 0.1337670\ttotal: 5.47s\tremaining: 1.61s\n",
            "772:\tlearn: 0.1337319\ttotal: 5.47s\tremaining: 1.61s\n",
            "773:\tlearn: 0.1335318\ttotal: 5.47s\tremaining: 1.6s\n",
            "774:\tlearn: 0.1333653\ttotal: 5.48s\tremaining: 1.59s\n",
            "775:\tlearn: 0.1332888\ttotal: 5.48s\tremaining: 1.58s\n",
            "776:\tlearn: 0.1330210\ttotal: 5.48s\tremaining: 1.57s\n",
            "777:\tlearn: 0.1329228\ttotal: 5.49s\tremaining: 1.56s\n",
            "778:\tlearn: 0.1326926\ttotal: 5.49s\tremaining: 1.56s\n",
            "779:\tlearn: 0.1325643\ttotal: 5.49s\tremaining: 1.55s\n",
            "780:\tlearn: 0.1324587\ttotal: 5.5s\tremaining: 1.54s\n",
            "781:\tlearn: 0.1321619\ttotal: 5.5s\tremaining: 1.53s\n",
            "782:\tlearn: 0.1320337\ttotal: 5.5s\tremaining: 1.52s\n",
            "783:\tlearn: 0.1319989\ttotal: 5.5s\tremaining: 1.52s\n",
            "784:\tlearn: 0.1318632\ttotal: 5.51s\tremaining: 1.51s\n",
            "785:\tlearn: 0.1317549\ttotal: 5.51s\tremaining: 1.5s\n",
            "786:\tlearn: 0.1315840\ttotal: 5.51s\tremaining: 1.49s\n",
            "787:\tlearn: 0.1314077\ttotal: 5.52s\tremaining: 1.49s\n",
            "788:\tlearn: 0.1312065\ttotal: 5.54s\tremaining: 1.48s\n",
            "789:\tlearn: 0.1309874\ttotal: 5.55s\tremaining: 1.47s\n",
            "790:\tlearn: 0.1309480\ttotal: 5.57s\tremaining: 1.47s\n",
            "791:\tlearn: 0.1308274\ttotal: 5.58s\tremaining: 1.47s\n",
            "792:\tlearn: 0.1307117\ttotal: 5.6s\tremaining: 1.46s\n",
            "793:\tlearn: 0.1305424\ttotal: 5.61s\tremaining: 1.46s\n",
            "794:\tlearn: 0.1305021\ttotal: 5.62s\tremaining: 1.45s\n",
            "795:\tlearn: 0.1302720\ttotal: 5.63s\tremaining: 1.44s\n",
            "796:\tlearn: 0.1301736\ttotal: 5.64s\tremaining: 1.44s\n",
            "797:\tlearn: 0.1299055\ttotal: 5.65s\tremaining: 1.43s\n",
            "798:\tlearn: 0.1297703\ttotal: 5.66s\tremaining: 1.42s\n",
            "799:\tlearn: 0.1294488\ttotal: 5.67s\tremaining: 1.42s\n",
            "800:\tlearn: 0.1293121\ttotal: 5.67s\tremaining: 1.41s\n",
            "801:\tlearn: 0.1289966\ttotal: 5.68s\tremaining: 1.4s\n",
            "802:\tlearn: 0.1289757\ttotal: 5.69s\tremaining: 1.4s\n",
            "803:\tlearn: 0.1288212\ttotal: 5.7s\tremaining: 1.39s\n",
            "804:\tlearn: 0.1287805\ttotal: 5.71s\tremaining: 1.38s\n",
            "805:\tlearn: 0.1284859\ttotal: 5.71s\tremaining: 1.38s\n",
            "806:\tlearn: 0.1283864\ttotal: 5.72s\tremaining: 1.37s\n",
            "807:\tlearn: 0.1283420\ttotal: 5.73s\tremaining: 1.36s\n",
            "808:\tlearn: 0.1281756\ttotal: 5.74s\tremaining: 1.35s\n",
            "809:\tlearn: 0.1278998\ttotal: 5.75s\tremaining: 1.35s\n",
            "810:\tlearn: 0.1276506\ttotal: 5.75s\tremaining: 1.34s\n",
            "811:\tlearn: 0.1273959\ttotal: 5.76s\tremaining: 1.33s\n",
            "812:\tlearn: 0.1272245\ttotal: 5.76s\tremaining: 1.33s\n",
            "813:\tlearn: 0.1270122\ttotal: 5.77s\tremaining: 1.32s\n",
            "814:\tlearn: 0.1267923\ttotal: 5.79s\tremaining: 1.31s\n",
            "815:\tlearn: 0.1266722\ttotal: 5.8s\tremaining: 1.31s\n",
            "816:\tlearn: 0.1265657\ttotal: 5.81s\tremaining: 1.3s\n",
            "817:\tlearn: 0.1263802\ttotal: 5.82s\tremaining: 1.29s\n",
            "818:\tlearn: 0.1263176\ttotal: 5.83s\tremaining: 1.29s\n",
            "819:\tlearn: 0.1261568\ttotal: 5.84s\tremaining: 1.28s\n",
            "820:\tlearn: 0.1260829\ttotal: 5.85s\tremaining: 1.28s\n",
            "821:\tlearn: 0.1258502\ttotal: 5.87s\tremaining: 1.27s\n",
            "822:\tlearn: 0.1255309\ttotal: 5.87s\tremaining: 1.26s\n",
            "823:\tlearn: 0.1254306\ttotal: 5.88s\tremaining: 1.26s\n",
            "824:\tlearn: 0.1253733\ttotal: 5.89s\tremaining: 1.25s\n",
            "825:\tlearn: 0.1253053\ttotal: 5.9s\tremaining: 1.24s\n",
            "826:\tlearn: 0.1251868\ttotal: 5.91s\tremaining: 1.24s\n",
            "827:\tlearn: 0.1251360\ttotal: 5.92s\tremaining: 1.23s\n",
            "828:\tlearn: 0.1249949\ttotal: 5.92s\tremaining: 1.22s\n",
            "829:\tlearn: 0.1248334\ttotal: 5.93s\tremaining: 1.21s\n",
            "830:\tlearn: 0.1247400\ttotal: 5.95s\tremaining: 1.21s\n",
            "831:\tlearn: 0.1246042\ttotal: 5.95s\tremaining: 1.2s\n",
            "832:\tlearn: 0.1245170\ttotal: 5.96s\tremaining: 1.2s\n",
            "833:\tlearn: 0.1243501\ttotal: 5.97s\tremaining: 1.19s\n",
            "834:\tlearn: 0.1242401\ttotal: 5.98s\tremaining: 1.18s\n",
            "835:\tlearn: 0.1240979\ttotal: 5.99s\tremaining: 1.17s\n",
            "836:\tlearn: 0.1240806\ttotal: 6s\tremaining: 1.17s\n",
            "837:\tlearn: 0.1238506\ttotal: 6s\tremaining: 1.16s\n",
            "838:\tlearn: 0.1235859\ttotal: 6.01s\tremaining: 1.15s\n",
            "839:\tlearn: 0.1233115\ttotal: 6.02s\tremaining: 1.15s\n",
            "840:\tlearn: 0.1232375\ttotal: 6.03s\tremaining: 1.14s\n",
            "841:\tlearn: 0.1231506\ttotal: 6.04s\tremaining: 1.13s\n",
            "842:\tlearn: 0.1230054\ttotal: 6.04s\tremaining: 1.13s\n",
            "843:\tlearn: 0.1229796\ttotal: 6.05s\tremaining: 1.12s\n",
            "844:\tlearn: 0.1227784\ttotal: 6.06s\tremaining: 1.11s\n",
            "845:\tlearn: 0.1226172\ttotal: 6.07s\tremaining: 1.1s\n",
            "846:\tlearn: 0.1223678\ttotal: 6.07s\tremaining: 1.1s\n",
            "847:\tlearn: 0.1221291\ttotal: 6.08s\tremaining: 1.09s\n",
            "848:\tlearn: 0.1219096\ttotal: 6.11s\tremaining: 1.09s\n",
            "849:\tlearn: 0.1218474\ttotal: 6.12s\tremaining: 1.08s\n",
            "850:\tlearn: 0.1216924\ttotal: 6.12s\tremaining: 1.07s\n",
            "851:\tlearn: 0.1215969\ttotal: 6.13s\tremaining: 1.06s\n",
            "852:\tlearn: 0.1213339\ttotal: 6.14s\tremaining: 1.06s\n",
            "853:\tlearn: 0.1210815\ttotal: 6.14s\tremaining: 1.05s\n",
            "854:\tlearn: 0.1209756\ttotal: 6.16s\tremaining: 1.04s\n",
            "855:\tlearn: 0.1208599\ttotal: 6.17s\tremaining: 1.04s\n",
            "856:\tlearn: 0.1206498\ttotal: 6.17s\tremaining: 1.03s\n",
            "857:\tlearn: 0.1206035\ttotal: 6.18s\tremaining: 1.02s\n",
            "858:\tlearn: 0.1204445\ttotal: 6.19s\tremaining: 1.01s\n",
            "859:\tlearn: 0.1203879\ttotal: 6.19s\tremaining: 1.01s\n",
            "860:\tlearn: 0.1202722\ttotal: 6.2s\tremaining: 1s\n",
            "861:\tlearn: 0.1201204\ttotal: 6.21s\tremaining: 995ms\n",
            "862:\tlearn: 0.1200766\ttotal: 6.22s\tremaining: 987ms\n",
            "863:\tlearn: 0.1198381\ttotal: 6.23s\tremaining: 980ms\n",
            "864:\tlearn: 0.1196543\ttotal: 6.23s\tremaining: 973ms\n",
            "865:\tlearn: 0.1196368\ttotal: 6.24s\tremaining: 966ms\n",
            "866:\tlearn: 0.1194759\ttotal: 6.25s\tremaining: 958ms\n",
            "867:\tlearn: 0.1193137\ttotal: 6.25s\tremaining: 951ms\n",
            "868:\tlearn: 0.1191671\ttotal: 6.26s\tremaining: 944ms\n",
            "869:\tlearn: 0.1190277\ttotal: 6.27s\tremaining: 937ms\n",
            "870:\tlearn: 0.1188180\ttotal: 6.28s\tremaining: 930ms\n",
            "871:\tlearn: 0.1186320\ttotal: 6.29s\tremaining: 923ms\n",
            "872:\tlearn: 0.1184552\ttotal: 6.29s\tremaining: 916ms\n",
            "873:\tlearn: 0.1183458\ttotal: 6.3s\tremaining: 908ms\n",
            "874:\tlearn: 0.1182786\ttotal: 6.31s\tremaining: 901ms\n",
            "875:\tlearn: 0.1181296\ttotal: 6.32s\tremaining: 894ms\n",
            "876:\tlearn: 0.1181141\ttotal: 6.33s\tremaining: 887ms\n",
            "877:\tlearn: 0.1179916\ttotal: 6.33s\tremaining: 880ms\n",
            "878:\tlearn: 0.1178743\ttotal: 6.34s\tremaining: 873ms\n",
            "879:\tlearn: 0.1177202\ttotal: 6.35s\tremaining: 866ms\n",
            "880:\tlearn: 0.1176923\ttotal: 6.36s\tremaining: 859ms\n",
            "881:\tlearn: 0.1176174\ttotal: 6.37s\tremaining: 852ms\n",
            "882:\tlearn: 0.1175185\ttotal: 6.37s\tremaining: 844ms\n",
            "883:\tlearn: 0.1174306\ttotal: 6.38s\tremaining: 837ms\n",
            "884:\tlearn: 0.1173905\ttotal: 6.38s\tremaining: 829ms\n",
            "885:\tlearn: 0.1173112\ttotal: 6.38s\tremaining: 822ms\n",
            "886:\tlearn: 0.1173031\ttotal: 6.39s\tremaining: 814ms\n",
            "887:\tlearn: 0.1170955\ttotal: 6.39s\tremaining: 806ms\n",
            "888:\tlearn: 0.1169262\ttotal: 6.39s\tremaining: 799ms\n",
            "889:\tlearn: 0.1167370\ttotal: 6.4s\tremaining: 791ms\n",
            "890:\tlearn: 0.1166217\ttotal: 6.4s\tremaining: 783ms\n",
            "891:\tlearn: 0.1164194\ttotal: 6.41s\tremaining: 776ms\n",
            "892:\tlearn: 0.1162563\ttotal: 6.41s\tremaining: 768ms\n",
            "893:\tlearn: 0.1162275\ttotal: 6.41s\tremaining: 760ms\n",
            "894:\tlearn: 0.1161412\ttotal: 6.42s\tremaining: 753ms\n",
            "895:\tlearn: 0.1160880\ttotal: 6.42s\tremaining: 745ms\n",
            "896:\tlearn: 0.1160651\ttotal: 6.42s\tremaining: 738ms\n",
            "897:\tlearn: 0.1158471\ttotal: 6.43s\tremaining: 730ms\n",
            "898:\tlearn: 0.1156924\ttotal: 6.43s\tremaining: 723ms\n",
            "899:\tlearn: 0.1156854\ttotal: 6.43s\tremaining: 715ms\n",
            "900:\tlearn: 0.1154378\ttotal: 6.44s\tremaining: 708ms\n",
            "901:\tlearn: 0.1152353\ttotal: 6.45s\tremaining: 701ms\n",
            "902:\tlearn: 0.1151308\ttotal: 6.45s\tremaining: 693ms\n",
            "903:\tlearn: 0.1151148\ttotal: 6.46s\tremaining: 686ms\n",
            "904:\tlearn: 0.1150261\ttotal: 6.47s\tremaining: 679ms\n",
            "905:\tlearn: 0.1149562\ttotal: 6.48s\tremaining: 672ms\n",
            "906:\tlearn: 0.1148781\ttotal: 6.49s\tremaining: 665ms\n",
            "907:\tlearn: 0.1147669\ttotal: 6.49s\tremaining: 658ms\n",
            "908:\tlearn: 0.1147030\ttotal: 6.5s\tremaining: 651ms\n",
            "909:\tlearn: 0.1144822\ttotal: 6.51s\tremaining: 644ms\n",
            "910:\tlearn: 0.1142980\ttotal: 6.52s\tremaining: 637ms\n",
            "911:\tlearn: 0.1140301\ttotal: 6.52s\tremaining: 630ms\n",
            "912:\tlearn: 0.1138963\ttotal: 6.53s\tremaining: 623ms\n",
            "913:\tlearn: 0.1137081\ttotal: 6.54s\tremaining: 615ms\n",
            "914:\tlearn: 0.1135257\ttotal: 6.56s\tremaining: 609ms\n",
            "915:\tlearn: 0.1133576\ttotal: 6.56s\tremaining: 602ms\n",
            "916:\tlearn: 0.1131676\ttotal: 6.57s\tremaining: 595ms\n",
            "917:\tlearn: 0.1130179\ttotal: 6.58s\tremaining: 588ms\n",
            "918:\tlearn: 0.1129262\ttotal: 6.59s\tremaining: 581ms\n",
            "919:\tlearn: 0.1127903\ttotal: 6.6s\tremaining: 574ms\n",
            "920:\tlearn: 0.1127476\ttotal: 6.61s\tremaining: 567ms\n",
            "921:\tlearn: 0.1125507\ttotal: 6.62s\tremaining: 560ms\n",
            "922:\tlearn: 0.1125346\ttotal: 6.62s\tremaining: 552ms\n",
            "923:\tlearn: 0.1125196\ttotal: 6.63s\tremaining: 545ms\n",
            "924:\tlearn: 0.1123725\ttotal: 6.64s\tremaining: 538ms\n",
            "925:\tlearn: 0.1122411\ttotal: 6.64s\tremaining: 531ms\n",
            "926:\tlearn: 0.1122296\ttotal: 6.65s\tremaining: 524ms\n",
            "927:\tlearn: 0.1120498\ttotal: 6.66s\tremaining: 517ms\n",
            "928:\tlearn: 0.1118801\ttotal: 6.67s\tremaining: 509ms\n",
            "929:\tlearn: 0.1118149\ttotal: 6.67s\tremaining: 502ms\n",
            "930:\tlearn: 0.1115332\ttotal: 6.68s\tremaining: 495ms\n",
            "931:\tlearn: 0.1113330\ttotal: 6.69s\tremaining: 488ms\n",
            "932:\tlearn: 0.1113218\ttotal: 6.7s\tremaining: 481ms\n",
            "933:\tlearn: 0.1110924\ttotal: 6.7s\tremaining: 474ms\n",
            "934:\tlearn: 0.1110646\ttotal: 6.71s\tremaining: 467ms\n",
            "935:\tlearn: 0.1108770\ttotal: 6.72s\tremaining: 459ms\n",
            "936:\tlearn: 0.1108615\ttotal: 6.77s\tremaining: 455ms\n",
            "937:\tlearn: 0.1106410\ttotal: 6.78s\tremaining: 448ms\n",
            "938:\tlearn: 0.1105808\ttotal: 6.8s\tremaining: 442ms\n",
            "939:\tlearn: 0.1105315\ttotal: 6.81s\tremaining: 435ms\n",
            "940:\tlearn: 0.1104547\ttotal: 6.82s\tremaining: 428ms\n",
            "941:\tlearn: 0.1103419\ttotal: 6.83s\tremaining: 420ms\n",
            "942:\tlearn: 0.1101936\ttotal: 6.85s\tremaining: 414ms\n",
            "943:\tlearn: 0.1100782\ttotal: 6.87s\tremaining: 408ms\n",
            "944:\tlearn: 0.1098659\ttotal: 6.88s\tremaining: 401ms\n",
            "945:\tlearn: 0.1095824\ttotal: 6.89s\tremaining: 393ms\n",
            "946:\tlearn: 0.1095738\ttotal: 6.89s\tremaining: 386ms\n",
            "947:\tlearn: 0.1095495\ttotal: 6.89s\tremaining: 378ms\n",
            "948:\tlearn: 0.1093296\ttotal: 6.9s\tremaining: 371ms\n",
            "949:\tlearn: 0.1091897\ttotal: 6.9s\tremaining: 363ms\n",
            "950:\tlearn: 0.1091276\ttotal: 6.91s\tremaining: 356ms\n",
            "951:\tlearn: 0.1088739\ttotal: 6.91s\tremaining: 349ms\n",
            "952:\tlearn: 0.1087554\ttotal: 6.92s\tremaining: 341ms\n",
            "953:\tlearn: 0.1086002\ttotal: 6.93s\tremaining: 334ms\n",
            "954:\tlearn: 0.1084626\ttotal: 6.93s\tremaining: 327ms\n",
            "955:\tlearn: 0.1083362\ttotal: 6.95s\tremaining: 320ms\n",
            "956:\tlearn: 0.1081376\ttotal: 6.96s\tremaining: 313ms\n",
            "957:\tlearn: 0.1081217\ttotal: 6.96s\tremaining: 305ms\n",
            "958:\tlearn: 0.1080290\ttotal: 6.97s\tremaining: 298ms\n",
            "959:\tlearn: 0.1078036\ttotal: 6.98s\tremaining: 291ms\n",
            "960:\tlearn: 0.1077037\ttotal: 6.99s\tremaining: 284ms\n",
            "961:\tlearn: 0.1075960\ttotal: 7.01s\tremaining: 277ms\n",
            "962:\tlearn: 0.1074333\ttotal: 7.04s\tremaining: 271ms\n",
            "963:\tlearn: 0.1073554\ttotal: 7.05s\tremaining: 263ms\n",
            "964:\tlearn: 0.1073390\ttotal: 7.06s\tremaining: 256ms\n",
            "965:\tlearn: 0.1071767\ttotal: 7.07s\tremaining: 249ms\n",
            "966:\tlearn: 0.1069610\ttotal: 7.07s\tremaining: 241ms\n",
            "967:\tlearn: 0.1069472\ttotal: 7.07s\tremaining: 234ms\n",
            "968:\tlearn: 0.1068253\ttotal: 7.08s\tremaining: 227ms\n",
            "969:\tlearn: 0.1068136\ttotal: 7.11s\tremaining: 220ms\n",
            "970:\tlearn: 0.1067033\ttotal: 7.11s\tremaining: 212ms\n",
            "971:\tlearn: 0.1066633\ttotal: 7.12s\tremaining: 205ms\n",
            "972:\tlearn: 0.1066465\ttotal: 7.12s\tremaining: 198ms\n",
            "973:\tlearn: 0.1064430\ttotal: 7.12s\tremaining: 190ms\n",
            "974:\tlearn: 0.1061973\ttotal: 7.13s\tremaining: 183ms\n",
            "975:\tlearn: 0.1060268\ttotal: 7.13s\tremaining: 175ms\n",
            "976:\tlearn: 0.1059973\ttotal: 7.14s\tremaining: 168ms\n",
            "977:\tlearn: 0.1059601\ttotal: 7.14s\tremaining: 161ms\n",
            "978:\tlearn: 0.1057517\ttotal: 7.14s\tremaining: 153ms\n",
            "979:\tlearn: 0.1055067\ttotal: 7.14s\tremaining: 146ms\n",
            "980:\tlearn: 0.1054650\ttotal: 7.15s\tremaining: 138ms\n",
            "981:\tlearn: 0.1054175\ttotal: 7.15s\tremaining: 131ms\n",
            "982:\tlearn: 0.1054000\ttotal: 7.16s\tremaining: 124ms\n",
            "983:\tlearn: 0.1053836\ttotal: 7.16s\tremaining: 116ms\n",
            "984:\tlearn: 0.1050548\ttotal: 7.17s\tremaining: 109ms\n",
            "985:\tlearn: 0.1050438\ttotal: 7.17s\tremaining: 102ms\n",
            "986:\tlearn: 0.1050339\ttotal: 7.17s\tremaining: 94.5ms\n",
            "987:\tlearn: 0.1048679\ttotal: 7.18s\tremaining: 87.2ms\n",
            "988:\tlearn: 0.1047051\ttotal: 7.2s\tremaining: 80.1ms\n",
            "989:\tlearn: 0.1046198\ttotal: 7.21s\tremaining: 72.8ms\n",
            "990:\tlearn: 0.1045725\ttotal: 7.22s\tremaining: 65.6ms\n",
            "991:\tlearn: 0.1044551\ttotal: 7.23s\tremaining: 58.3ms\n",
            "992:\tlearn: 0.1044437\ttotal: 7.23s\tremaining: 51ms\n",
            "993:\tlearn: 0.1044303\ttotal: 7.24s\tremaining: 43.7ms\n",
            "994:\tlearn: 0.1042911\ttotal: 7.24s\tremaining: 36.4ms\n",
            "995:\tlearn: 0.1042801\ttotal: 7.25s\tremaining: 29.1ms\n",
            "996:\tlearn: 0.1041269\ttotal: 7.25s\tremaining: 21.8ms\n",
            "997:\tlearn: 0.1040759\ttotal: 7.25s\tremaining: 14.5ms\n",
            "998:\tlearn: 0.1040631\ttotal: 7.25s\tremaining: 7.26ms\n",
            "999:\tlearn: 0.1039049\ttotal: 7.26s\tremaining: 0us\n"
          ]
        },
        {
          "output_type": "execute_result",
          "data": {
            "text/plain": [
              "<catboost.core.CatBoostClassifier at 0x7978919457e0>"
            ]
          },
          "metadata": {},
          "execution_count": 38
        }
      ]
    },
    {
      "cell_type": "code",
      "source": [
        "predict = model_cat.predict(X_test)"
      ],
      "metadata": {
        "id": "-lepop7JccW4"
      },
      "execution_count": 39,
      "outputs": []
    },
    {
      "cell_type": "code",
      "source": [
        "classification_metrics(y_test, predict)"
      ],
      "metadata": {
        "colab": {
          "base_uri": "https://localhost:8080/"
        },
        "id": "XZMMK04GdHa1",
        "outputId": "c1577ca3-c4ea-44c0-dc9f-fe2d2c3c915a"
      },
      "execution_count": 40,
      "outputs": [
        {
          "output_type": "stream",
          "name": "stdout",
          "text": [
            "accuracy score:\t\t0.85897\n",
            "\n",
            "f1 score:\t\t0.85428\n",
            "precision score:\t0.85612\n",
            "recall score:\t\t0.85275\n"
          ]
        }
      ]
    },
    {
      "cell_type": "code",
      "source": [
        "ConfusionMatrixDisplay.from_predictions(y_test, predict)\n",
        "plt.show()"
      ],
      "metadata": {
        "colab": {
          "base_uri": "https://localhost:8080/",
          "height": 450
        },
        "id": "hhzZF5T_1Bf0",
        "outputId": "b04b069a-b039-49d3-c3b8-6fdc65f503fd"
      },
      "execution_count": 42,
      "outputs": [
        {
          "output_type": "display_data",
          "data": {
            "text/plain": [
              "<Figure size 640x480 with 2 Axes>"
            ],
            "image/png": "[encoded data removed]"
          },
          "metadata": {}
        }
      ]
    },
    {
      "cell_type": "markdown",
      "source": [
        "### RandomForestClassifier"
      ],
      "metadata": {
        "id": "oTx_p3HudmwW"
      }
    },
    {
      "cell_type": "code",
      "source": [
        "rf_model = RandomForestClassifier(random_state=RANDOM_STATE)\n",
        "rf_model.fit(X_train, y_train)\n",
        "preds = rf_model.predict(X_test)\n",
        "classification_metrics(y_test, preds)"
      ],
      "metadata": {
        "colab": {
          "base_uri": "https://localhost:8080/"
        },
        "id": "he3oeQHddeC4",
        "outputId": "be5b4734-89c8-4d77-ceb0-933f76f49b43"
      },
      "execution_count": 43,
      "outputs": [
        {
          "output_type": "stream",
          "name": "stdout",
          "text": [
            "accuracy score:\t\t0.85256\n",
            "\n",
            "f1 score:\t\t0.84566\n",
            "precision score:\t0.85450\n",
            "recall score:\t\t0.84066\n"
          ]
        }
      ]
    },
    {
      "cell_type": "code",
      "source": [
        "ConfusionMatrixDisplay.from_predictions(y_test, preds)\n",
        "plt.show()"
      ],
      "metadata": {
        "colab": {
          "base_uri": "https://localhost:8080/",
          "height": 449
        },
        "id": "sffNzEWB2Cxf",
        "outputId": "0879691b-7a14-405b-82f9-4ae107e56932"
      },
      "execution_count": 45,
      "outputs": [
        {
          "output_type": "display_data",
          "data": {
            "text/plain": [
              "<Figure size 640x480 with 2 Axes>"
            ],
            "image/png": "[encoded data removed]"
          },
          "metadata": {}
        }
      ]
    },
    {
      "cell_type": "markdown",
      "source": [
        "### Support Vector Machine"
      ],
      "metadata": {
        "id": "bKT0VDRjd88h"
      }
    },
    {
      "cell_type": "code",
      "source": [
        "svm_model = SVC(gamma=\"auto\", random_state=RANDOM_STATE)\n",
        "svm_model.fit(X_train, y_train)\n",
        "preds = svm_model.predict(X_test)\n",
        "classification_metrics(y_test, preds)"
      ],
      "metadata": {
        "colab": {
          "base_uri": "https://localhost:8080/"
        },
        "id": "cQVn74MZd3Kc",
        "outputId": "5bd784c8-0d6f-427a-d3ad-d72efa860fec"
      },
      "execution_count": 46,
      "outputs": [
        {
          "output_type": "stream",
          "name": "stdout",
          "text": [
            "accuracy score:\t\t0.58974\n",
            "\n",
            "f1 score:\t\t0.38507\n",
            "precision score:\t0.79355\n",
            "recall score:\t\t0.50769\n"
          ]
        }
      ]
    },
    {
      "cell_type": "code",
      "source": [
        "ConfusionMatrixDisplay.from_predictions(y_test, preds)\n",
        "plt.show()"
      ],
      "metadata": {
        "colab": {
          "base_uri": "https://localhost:8080/",
          "height": 449
        },
        "id": "01UAOLDu2N_9",
        "outputId": "f8715900-e8be-4739-87b7-0c3840346a96"
      },
      "execution_count": 47,
      "outputs": [
        {
          "output_type": "display_data",
          "data": {
            "text/plain": [
              "<Figure size 640x480 with 2 Axes>"
            ],
            "image/png": "[encoded data removed]"
          },
          "metadata": {}
        }
      ]
    },
    {
      "cell_type": "markdown",
      "source": [
        "### GradientBoostingClassifier"
      ],
      "metadata": {
        "id": "-oT3KNZaeQID"
      }
    },
    {
      "cell_type": "code",
      "source": [
        "gb_classifier = GradientBoostingClassifier(random_state=RANDOM_STATE)\n",
        "gb_classifier.fit(X_train, y_train)\n",
        "preds = gb_classifier.predict(X_test)\n",
        "classification_metrics(y_test, preds)"
      ],
      "metadata": {
        "colab": {
          "base_uri": "https://localhost:8080/"
        },
        "id": "9OQMJ37XeCxi",
        "outputId": "d415730e-d9b5-40d7-f6ed-ba717dabf795"
      },
      "execution_count": 48,
      "outputs": [
        {
          "output_type": "stream",
          "name": "stdout",
          "text": [
            "accuracy score:\t\t0.85897\n",
            "\n",
            "f1 score:\t\t0.85278\n",
            "precision score:\t0.86004\n",
            "recall score:\t\t0.84835\n"
          ]
        }
      ]
    },
    {
      "cell_type": "code",
      "source": [
        "ConfusionMatrixDisplay.from_predictions(y_test, preds)\n",
        "plt.show()"
      ],
      "metadata": {
        "colab": {
          "base_uri": "https://localhost:8080/",
          "height": 449
        },
        "id": "pxDYxXue2WM3",
        "outputId": "ab69f970-d7e9-44ed-b053-17f3ec1710a2"
      },
      "execution_count": 49,
      "outputs": [
        {
          "output_type": "display_data",
          "data": {
            "text/plain": [
              "<Figure size 640x480 with 2 Axes>"
            ],
            "image/png": "[encoded data removed]"
          },
          "metadata": {}
        }
      ]
    },
    {
      "cell_type": "markdown",
      "source": [
        "### Keras"
      ],
      "metadata": {
        "id": "wH2V8w7seeeD"
      }
    },
    {
      "cell_type": "code",
      "source": [
        "type(X_train.values), X_train.shape"
      ],
      "metadata": {
        "colab": {
          "base_uri": "https://localhost:8080/"
        },
        "id": "r4hEu2ShnVDN",
        "outputId": "d49dd7b1-7adb-4dbd-8623-089f2eee2c3c"
      },
      "execution_count": 50,
      "outputs": [
        {
          "output_type": "execute_result",
          "data": {
            "text/plain": [
              "(numpy.ndarray, (624, 33))"
            ]
          },
          "metadata": {},
          "execution_count": 50
        }
      ]
    },
    {
      "cell_type": "code",
      "source": [
        "type(y_train.values)"
      ],
      "metadata": {
        "colab": {
          "base_uri": "https://localhost:8080/"
        },
        "id": "7iSTYtgyn483",
        "outputId": "285f637e-8edc-491e-a2f8-907f364299d2"
      },
      "execution_count": 51,
      "outputs": [
        {
          "output_type": "execute_result",
          "data": {
            "text/plain": [
              "numpy.ndarray"
            ]
          },
          "metadata": {},
          "execution_count": 51
        }
      ]
    },
    {
      "cell_type": "code",
      "source": [
        "tf.random.set_seed(RANDOM_STATE)\n",
        "\n",
        "norm_layer = tf.keras.layers.Normalization()\n",
        "model = tf.keras.Sequential([\n",
        "    norm_layer,\n",
        "    tf.keras.layers.Dense(400, activation=\"relu\"),\n",
        "    tf.keras.layers.Dense(100, activation=\"relu\"),\n",
        "    tf.keras.layers.Dense(50, activation=\"relu\"),\n",
        "    tf.keras.layers.Dense(2, activation=\"softmax\")\n",
        "])"
      ],
      "metadata": {
        "id": "bVlMd5Ceea49"
      },
      "execution_count": 173,
      "outputs": []
    },
    {
      "cell_type": "code",
      "source": [
        "model.compile(loss=\"sparse_categorical_crossentropy\",\n",
        "              optimizer=\"sgd\",\n",
        "              metrics=[\"accuracy\"])"
      ],
      "metadata": {
        "id": "-zNuPWKmfdPx"
      },
      "execution_count": 174,
      "outputs": []
    },
    {
      "cell_type": "code",
      "source": [
        "norm_layer.adapt(X_train.values)"
      ],
      "metadata": {
        "id": "CA6gijzciWAx"
      },
      "execution_count": 175,
      "outputs": []
    },
    {
      "cell_type": "code",
      "source": [
        "X_train.values.shape, y_train.values.shape"
      ],
      "metadata": {
        "colab": {
          "base_uri": "https://localhost:8080/"
        },
        "id": "mRy27HXQo9sj",
        "outputId": "6205ae39-4851-4cdb-bbae-3c3d55173fa9"
      },
      "execution_count": 176,
      "outputs": [
        {
          "output_type": "execute_result",
          "data": {
            "text/plain": [
              "((624, 33), (624,))"
            ]
          },
          "metadata": {},
          "execution_count": 176
        }
      ]
    },
    {
      "cell_type": "code",
      "source": [
        "callback = tf.keras.callbacks.EarlyStopping(monitor='val_accuracy', patience=4)"
      ],
      "metadata": {
        "id": "oRPK5lRUf4IE"
      },
      "execution_count": 177,
      "outputs": []
    },
    {
      "cell_type": "code",
      "source": [
        "history = model.fit(X_train.values, y_train.values, epochs=50,\n",
        "                    validation_data=(X_test.values, y_test.values), callbacks=[callback])"
      ],
      "metadata": {
        "colab": {
          "base_uri": "https://localhost:8080/"
        },
        "id": "ncBB4qSKffet",
        "outputId": "c4066e95-fc01-4637-c720-d4e4011c7c58"
      },
      "execution_count": 178,
      "outputs": [
        {
          "output_type": "stream",
          "name": "stdout",
          "text": [
            "Epoch 1/50\n",
            "\u001b[1m20/20\u001b[0m \u001b[32m━━━━━━━━━━━━━━━━━━━━\u001b[0m\u001b[37m\u001b[0m \u001b[1m2s\u001b[0m 23ms/step - accuracy: 0.5440 - loss: 0.6842 - val_accuracy: 0.6731 - val_loss: 0.6462\n",
            "Epoch 2/50\n",
            "\u001b[1m20/20\u001b[0m \u001b[32m━━━━━━━━━━━━━━━━━━━━\u001b[0m\u001b[37m\u001b[0m \u001b[1m0s\u001b[0m 7ms/step - accuracy: 0.6877 - loss: 0.6334 - val_accuracy: 0.6923 - val_loss: 0.6091\n",
            "Epoch 3/50\n",
            "\u001b[1m20/20\u001b[0m \u001b[32m━━━━━━━━━━━━━━━━━━━━\u001b[0m\u001b[37m\u001b[0m \u001b[1m0s\u001b[0m 5ms/step - accuracy: 0.7071 - loss: 0.5978 - val_accuracy: 0.7115 - val_loss: 0.5768\n",
            "Epoch 4/50\n",
            "\u001b[1m20/20\u001b[0m \u001b[32m━━━━━━━━━━━━━━━━━━━━\u001b[0m\u001b[37m\u001b[0m \u001b[1m0s\u001b[0m 4ms/step - accuracy: 0.7395 - loss: 0.5667 - val_accuracy: 0.7308 - val_loss: 0.5472\n",
            "Epoch 5/50\n",
            "\u001b[1m20/20\u001b[0m \u001b[32m━━━━━━━━━━━━━━━━━━━━\u001b[0m\u001b[37m\u001b[0m \u001b[1m0s\u001b[0m 4ms/step - accuracy: 0.7715 - loss: 0.5377 - val_accuracy: 0.7628 - val_loss: 0.5197\n",
            "Epoch 6/50\n",
            "\u001b[1m20/20\u001b[0m \u001b[32m━━━━━━━━━━━━━━━━━━━━\u001b[0m\u001b[37m\u001b[0m \u001b[1m0s\u001b[0m 4ms/step - accuracy: 0.7731 - loss: 0.5105 - val_accuracy: 0.8141 - val_loss: 0.4949\n",
            "Epoch 7/50\n",
            "\u001b[1m20/20\u001b[0m \u001b[32m━━━━━━━━━━━━━━━━━━━━\u001b[0m\u001b[37m\u001b[0m \u001b[1m0s\u001b[0m 4ms/step - accuracy: 0.7940 - loss: 0.4862 - val_accuracy: 0.8205 - val_loss: 0.4728\n",
            "Epoch 8/50\n",
            "\u001b[1m20/20\u001b[0m \u001b[32m━━━━━━━━━━━━━━━━━━━━\u001b[0m\u001b[37m\u001b[0m \u001b[1m0s\u001b[0m 4ms/step - accuracy: 0.8175 - loss: 0.4639 - val_accuracy: 0.8141 - val_loss: 0.4536\n",
            "Epoch 9/50\n",
            "\u001b[1m20/20\u001b[0m \u001b[32m━━━━━━━━━━━━━━━━━━━━\u001b[0m\u001b[37m\u001b[0m \u001b[1m0s\u001b[0m 4ms/step - accuracy: 0.8208 - loss: 0.4437 - val_accuracy: 0.8205 - val_loss: 0.4372\n",
            "Epoch 10/50\n",
            "\u001b[1m20/20\u001b[0m \u001b[32m━━━━━━━━━━━━━━━━━━━━\u001b[0m\u001b[37m\u001b[0m \u001b[1m0s\u001b[0m 4ms/step - accuracy: 0.8361 - loss: 0.4253 - val_accuracy: 0.8205 - val_loss: 0.4228\n",
            "Epoch 11/50\n",
            "\u001b[1m20/20\u001b[0m \u001b[32m━━━━━━━━━━━━━━━━━━━━\u001b[0m\u001b[37m\u001b[0m \u001b[1m0s\u001b[0m 4ms/step - accuracy: 0.8365 - loss: 0.4085 - val_accuracy: 0.8333 - val_loss: 0.4106\n",
            "Epoch 12/50\n",
            "\u001b[1m20/20\u001b[0m \u001b[32m━━━━━━━━━━━━━━━━━━━━\u001b[0m\u001b[37m\u001b[0m \u001b[1m0s\u001b[0m 4ms/step - accuracy: 0.8440 - loss: 0.3931 - val_accuracy: 0.8462 - val_loss: 0.4003\n",
            "Epoch 13/50\n",
            "\u001b[1m20/20\u001b[0m \u001b[32m━━━━━━━━━━━━━━━━━━━━\u001b[0m\u001b[37m\u001b[0m \u001b[1m0s\u001b[0m 4ms/step - accuracy: 0.8513 - loss: 0.3791 - val_accuracy: 0.8462 - val_loss: 0.3917\n",
            "Epoch 14/50\n",
            "\u001b[1m20/20\u001b[0m \u001b[32m━━━━━━━━━━━━━━━━━━━━\u001b[0m\u001b[37m\u001b[0m \u001b[1m0s\u001b[0m 4ms/step - accuracy: 0.8514 - loss: 0.3663 - val_accuracy: 0.8526 - val_loss: 0.3847\n",
            "Epoch 15/50\n",
            "\u001b[1m20/20\u001b[0m \u001b[32m━━━━━━━━━━━━━━━━━━━━\u001b[0m\u001b[37m\u001b[0m \u001b[1m0s\u001b[0m 4ms/step - accuracy: 0.8463 - loss: 0.3543 - val_accuracy: 0.8462 - val_loss: 0.3788\n",
            "Epoch 16/50\n",
            "\u001b[1m20/20\u001b[0m \u001b[32m━━━━━━━━━━━━━━━━━━━━\u001b[0m\u001b[37m\u001b[0m \u001b[1m0s\u001b[0m 4ms/step - accuracy: 0.8473 - loss: 0.3433 - val_accuracy: 0.8462 - val_loss: 0.3739\n",
            "Epoch 17/50\n",
            "\u001b[1m20/20\u001b[0m \u001b[32m━━━━━━━━━━━━━━━━━━━━\u001b[0m\u001b[37m\u001b[0m \u001b[1m0s\u001b[0m 4ms/step - accuracy: 0.8531 - loss: 0.3331 - val_accuracy: 0.8462 - val_loss: 0.3699\n",
            "Epoch 18/50\n",
            "\u001b[1m20/20\u001b[0m \u001b[32m━━━━━━━━━━━━━━━━━━━━\u001b[0m\u001b[37m\u001b[0m \u001b[1m0s\u001b[0m 5ms/step - accuracy: 0.8658 - loss: 0.3238 - val_accuracy: 0.8526 - val_loss: 0.3667\n"
          ]
        }
      ]
    },
    {
      "cell_type": "code",
      "source": [
        "pd.DataFrame(history.history).plot(\n",
        "    figsize=(8, 5), xlim=[0, 29], ylim=[0, 1], grid=True, xlabel=\"Epoch\",\n",
        "    style=[\"r--\", \"r--.\", \"b-\", \"b-*\"])\n",
        "plt.legend(loc=\"lower left\")  # extra code\n",
        "plt.show()"
      ],
      "metadata": {
        "colab": {
          "base_uri": "https://localhost:8080/",
          "height": 470
        },
        "id": "DO_gJ5uahGxi",
        "outputId": "7f07a3fb-771b-49f8-fda5-6022ccf1d954"
      },
      "execution_count": 179,
      "outputs": [
        {
          "output_type": "display_data",
          "data": {
            "text/plain": [
              "<Figure size 800x500 with 1 Axes>"
            ],
            "image/png": "[encoded data removed]"
          },
          "metadata": {}
        }
      ]
    },
    {
      "cell_type": "code",
      "source": [
        "model.evaluate(X_test.values, y_test.values)"
      ],
      "metadata": {
        "colab": {
          "base_uri": "https://localhost:8080/"
        },
        "id": "8eEc_-MArOGM",
        "outputId": "af07eda9-f255-4551-db9d-53848c3b2e05"
      },
      "execution_count": 183,
      "outputs": [
        {
          "output_type": "stream",
          "name": "stdout",
          "text": [
            "\u001b[1m5/5\u001b[0m \u001b[32m━━━━━━━━━━━━━━━━━━━━\u001b[0m\u001b[37m\u001b[0m \u001b[1m0s\u001b[0m 4ms/step - accuracy: 0.8727 - loss: 0.3411 \n"
          ]
        },
        {
          "output_type": "execute_result",
          "data": {
            "text/plain": [
              "[0.36670488119125366, 0.8525640964508057]"
            ]
          },
          "metadata": {},
          "execution_count": 183
        }
      ]
    },
    {
      "cell_type": "code",
      "source": [
        "y_proba = model.predict(X_test.values)"
      ],
      "metadata": {
        "colab": {
          "base_uri": "https://localhost:8080/"
        },
        "id": "La1hMGDArfak",
        "outputId": "bbd7c664-c656-4259-9e11-0314bfdcf0a2"
      },
      "execution_count": 184,
      "outputs": [
        {
          "output_type": "stream",
          "name": "stdout",
          "text": [
            "\u001b[1m5/5\u001b[0m \u001b[32m━━━━━━━━━━━━━━━━━━━━\u001b[0m\u001b[37m\u001b[0m \u001b[1m0s\u001b[0m 3ms/step \n"
          ]
        }
      ]
    },
    {
      "cell_type": "code",
      "source": [
        "y_proba[:5]"
      ],
      "metadata": {
        "colab": {
          "base_uri": "https://localhost:8080/"
        },
        "id": "eVoaU-ferwpM",
        "outputId": "9476e46b-5deb-4aa0-ad4a-857a8260e027"
      },
      "execution_count": 185,
      "outputs": [
        {
          "output_type": "execute_result",
          "data": {
            "text/plain": [
              "array([[9.4441265e-01, 5.5587433e-02],\n",
              "       [9.7088444e-01, 2.9115645e-02],\n",
              "       [9.9982715e-01, 1.7297751e-04],\n",
              "       [5.8088344e-01, 4.1911647e-01],\n",
              "       [9.9797499e-01, 2.0250066e-03]], dtype=float32)"
            ]
          },
          "metadata": {},
          "execution_count": 185
        }
      ]
    },
    {
      "cell_type": "code",
      "source": [
        "y_pred = y_proba.argmax(axis=-1)\n",
        "y_pred"
      ],
      "metadata": {
        "colab": {
          "base_uri": "https://localhost:8080/"
        },
        "id": "SeFlRagirzCV",
        "outputId": "cec96977-d301-4757-8c3b-74298c6c1b31"
      },
      "execution_count": 186,
      "outputs": [
        {
          "output_type": "execute_result",
          "data": {
            "text/plain": [
              "array([0, 0, 0, 0, 0, 1, 1, 0, 1, 0, 1, 0, 0, 0, 0, 0, 0, 1, 1, 0, 1, 0,\n",
              "       0, 0, 1, 0, 0, 0, 1, 0, 1, 0, 0, 0, 0, 0, 0, 0, 0, 0, 1, 0, 1, 0,\n",
              "       1, 0, 1, 0, 0, 0, 1, 0, 1, 0, 1, 1, 1, 0, 0, 1, 0, 1, 0, 0, 0, 0,\n",
              "       1, 0, 1, 0, 1, 0, 1, 0, 1, 0, 1, 0, 0, 0, 1, 0, 0, 0, 0, 1, 0, 0,\n",
              "       0, 1, 0, 1, 1, 0, 1, 0, 1, 0, 0, 1, 0, 0, 0, 1, 0, 0, 1, 1, 0, 0,\n",
              "       0, 1, 0, 0, 1, 1, 1, 1, 1, 0, 0, 0, 0, 0, 1, 0, 0, 1, 0, 0, 0, 0,\n",
              "       1, 1, 0, 1, 1, 1, 1, 1, 1, 1, 1, 0, 1, 0, 0, 1, 1, 1, 1, 1, 1, 1,\n",
              "       1, 1])"
            ]
          },
          "metadata": {},
          "execution_count": 186
        }
      ]
    },
    {
      "cell_type": "code",
      "source": [
        "classification_metrics(y_test, y_pred)"
      ],
      "metadata": {
        "colab": {
          "base_uri": "https://localhost:8080/"
        },
        "id": "-rlzxou3sBss",
        "outputId": "a62942c9-3339-4131-dc61-2066380213e2"
      },
      "execution_count": 187,
      "outputs": [
        {
          "output_type": "stream",
          "name": "stdout",
          "text": [
            "accuracy score:\t\t0.85256\n",
            "\n",
            "f1 score:\t\t0.84868\n",
            "precision score:\t0.84798\n",
            "recall score:\t\t0.84945\n"
          ]
        }
      ]
    },
    {
      "cell_type": "code",
      "source": [
        "ConfusionMatrixDisplay.from_predictions(y_test, y_pred)\n",
        "plt.show()"
      ],
      "metadata": {
        "colab": {
          "base_uri": "https://localhost:8080/",
          "height": 449
        },
        "id": "4c3_LDNs4e0C",
        "outputId": "5d24a3ca-1c81-4f02-96be-4d87c3875cc2"
      },
      "execution_count": 188,
      "outputs": [
        {
          "output_type": "display_data",
          "data": {
            "text/plain": [
              "<Figure size 640x480 with 2 Axes>"
            ],
            "image/png": "[encoded data removed]"
          },
          "metadata": {}
        }
      ]
    },
    {
      "cell_type": "markdown",
      "source": [
        "## Значимость признаков"
      ],
      "metadata": {
        "id": "infkxtxHvNYP"
      }
    },
    {
      "cell_type": "code",
      "source": [
        "importances = model_cat.feature_importances_"
      ],
      "metadata": {
        "id": "VD3NTzrysfzP"
      },
      "execution_count": null,
      "outputs": []
    },
    {
      "cell_type": "code",
      "source": [
        "importances"
      ],
      "metadata": {
        "colab": {
          "base_uri": "https://localhost:8080/"
        },
        "id": "gH9rPz80srXC",
        "outputId": "78dfdf39-0dc8-444a-ffca-bacfd67bda87"
      },
      "execution_count": null,
      "outputs": [
        {
          "output_type": "execute_result",
          "data": {
            "text/plain": [
              "array([ 3.31752687,  2.17242855,  1.07525735,  1.90821665,  1.887289  ,\n",
              "       12.22816367,  3.0278678 , 19.8365794 ,  3.03859494,  0.23711742,\n",
              "        1.02243404,  1.94368337,  0.74525105,  0.63864396,  2.72433303,\n",
              "        7.45446419,  2.66181116,  1.16247087,  1.92248785,  1.10837606,\n",
              "        1.89470572,  2.92832972,  1.22604024,  1.05541866,  1.60171281,\n",
              "        5.76730409,  0.24552993,  1.41070356,  3.66630624,  1.58529892,\n",
              "        7.36484341,  0.07442895,  1.06638052])"
            ]
          },
          "metadata": {},
          "execution_count": 113
        }
      ]
    },
    {
      "cell_type": "code",
      "source": [
        "df.columns"
      ],
      "metadata": {
        "colab": {
          "base_uri": "https://localhost:8080/"
        },
        "id": "wpAFu1C4s1A8",
        "outputId": "ade4186f-2eaa-44e5-f85f-022818318d21"
      },
      "execution_count": null,
      "outputs": [
        {
          "output_type": "execute_result",
          "data": {
            "text/plain": [
              "Index(['Age', 'BMI', 'Sex', 'Height', 'Weight', 'Length_of_Stay',\n",
              "       'Alvarado_Score', 'Appendix_on_US', 'Migratory_Pain',\n",
              "       'Lower_Right_Abd_Pain', 'Contralateral_Rebound_Tenderness',\n",
              "       'Coughing_Pain', 'Nausea', 'Loss_of_Appetite', 'Body_Temperature',\n",
              "       'WBC_Count', 'Neutrophil_Percentage', 'Neutrophilia', 'RBC_Count',\n",
              "       'Hemoglobin', 'RDW', 'Thrombocyte_Count', 'Ketones_in_Urine',\n",
              "       'RBC_in_Urine', 'WBC_in_Urine', 'CRP', 'Dysuria', 'Stool',\n",
              "       'Peritonitis', 'Psoas_Sign', 'Ipsilateral_Rebound_Tenderness',\n",
              "       'US_Performed', 'Free_Fluids', 'Diagnosis'],\n",
              "      dtype='object')"
            ]
          },
          "metadata": {},
          "execution_count": 114
        }
      ]
    },
    {
      "cell_type": "code",
      "source": [
        "len(importances), len(df.columns[:-1])"
      ],
      "metadata": {
        "colab": {
          "base_uri": "https://localhost:8080/"
        },
        "id": "HoNsXT9qs5fn",
        "outputId": "4611a8a7-fb1c-4213-ad89-c4e65ea19c93"
      },
      "execution_count": null,
      "outputs": [
        {
          "output_type": "execute_result",
          "data": {
            "text/plain": [
              "(33, 33)"
            ]
          },
          "metadata": {},
          "execution_count": 117
        }
      ]
    },
    {
      "cell_type": "code",
      "source": [
        "dictionary = dict(zip(df.columns[:-1], importances))"
      ],
      "metadata": {
        "id": "hkZhMxS8tKK5"
      },
      "execution_count": null,
      "outputs": []
    },
    {
      "cell_type": "code",
      "source": [
        "srt_feat = dict(sorted(dictionary.items(), key=lambda item: item[1], reverse=True))\n",
        "srt_feat"
      ],
      "metadata": {
        "colab": {
          "base_uri": "https://localhost:8080/"
        },
        "id": "QoDtlZYquO4r",
        "outputId": "d7e3f54d-d2a7-42e4-9a8a-f7bbce80821d"
      },
      "execution_count": null,
      "outputs": [
        {
          "output_type": "execute_result",
          "data": {
            "text/plain": [
              "{'Appendix_on_US': 19.836579401187485,\n",
              " 'Length_of_Stay': 12.228163670425445,\n",
              " 'WBC_Count': 7.4544641922793895,\n",
              " 'Ipsilateral_Rebound_Tenderness': 7.36484341377552,\n",
              " 'CRP': 5.767304090433955,\n",
              " 'Peritonitis': 3.6663062357355862,\n",
              " 'Age': 3.3175268744536415,\n",
              " 'Migratory_Pain': 3.038594943464547,\n",
              " 'Alvarado_Score': 3.027867803190659,\n",
              " 'Thrombocyte_Count': 2.9283297220572306,\n",
              " 'Body_Temperature': 2.724333027204219,\n",
              " 'Neutrophil_Percentage': 2.661811156665194,\n",
              " 'BMI': 2.17242854791058,\n",
              " 'Coughing_Pain': 1.9436833675089382,\n",
              " 'RBC_Count': 1.9224878497334892,\n",
              " 'Height': 1.9082166532173215,\n",
              " 'RDW': 1.8947057212637706,\n",
              " 'Weight': 1.8872889969369704,\n",
              " 'WBC_in_Urine': 1.601712813742619,\n",
              " 'Psoas_Sign': 1.585298924781637,\n",
              " 'Stool': 1.4107035606386407,\n",
              " 'Ketones_in_Urine': 1.2260402383825424,\n",
              " 'Neutrophilia': 1.1624708697729405,\n",
              " 'Hemoglobin': 1.1083760571502252,\n",
              " 'Sex': 1.0752573462418236,\n",
              " 'Free_Fluids': 1.0663805169009897,\n",
              " 'RBC_in_Urine': 1.0554186559189644,\n",
              " 'Contralateral_Rebound_Tenderness': 1.0224340362846251,\n",
              " 'Nausea': 0.745251052638766,\n",
              " 'Loss_of_Appetite': 0.6386439622122438,\n",
              " 'Dysuria': 0.24552993322868977,\n",
              " 'Lower_Right_Abd_Pain': 0.23711741965405242,\n",
              " 'US_Performed': 0.07442894500733944}"
            ]
          },
          "metadata": {},
          "execution_count": 125
        }
      ]
    },
    {
      "cell_type": "markdown",
      "source": [
        "## Выводы"
      ],
      "metadata": {
        "id": "IjX9lEkPvWCL"
      }
    },
    {
      "cell_type": "markdown",
      "source": [
        "Построены модели классификации:\n",
        "\n",
        "* Catboost\n",
        "* RandomForestClassifier\n",
        "* Support Vector Machine\n",
        "* GradientBoostingClassifier\n",
        "* Keras / sparse_categorical_crossentropy\n",
        "\n",
        "Получены схожие значения метрики (кроме SVM)\n",
        "\n",
        "Спомощью классификатора Catboost определена значимость признаков:\n",
        "\n",
        "- Appendix_on_US: 19.84,\n",
        "- Length_of_Stay: 12.23,\n",
        "- WBC_Count: 7.45,\n",
        "- Ipsilateral_Rebound_Tenderness: 7.36,\n",
        "- CRP: 5.77\n",
        "\n"
      ],
      "metadata": {
        "id": "N5o4f21jvbjY"
      }
    },
    {
      "cell_type": "code",
      "source": [],
      "metadata": {
        "id": "FPBZH_vlvaRi"
      },
      "execution_count": null,
      "outputs": []
    }
  ]
}