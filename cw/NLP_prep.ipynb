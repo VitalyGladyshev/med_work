{
  "cells": [
    {
      "cell_type": "markdown",
      "source": [
        "# Предмет \"Применение NLP в Здравоохранении\""
      ],
      "metadata": {
        "id": "0PdzxzmRXQVD"
      }
    },
    {
      "cell_type": "markdown",
      "source": [
        "## Гладышев В.В."
      ],
      "metadata": {
        "id": "B2YmMGBTXZNt"
      }
    },
    {
      "cell_type": "markdown",
      "metadata": {
        "cellId": "dqqfa9uitzmo2twy5xdrjg",
        "id": "a6308qhtXHMx"
      },
      "source": [
        "## Подготовка базы ответов для бота - курсовика по NLP"
      ]
    },
    {
      "cell_type": "code",
      "execution_count": 1,
      "metadata": {
        "cellId": "h2t6k7pvd1vx3k5alued3",
        "id": "Q50P_PegXHM2"
      },
      "outputs": [],
      "source": [
        "core_numbers = 4\n",
        "w2v_width = 300\n",
        "ft_width = 300"
      ]
    },
    {
      "cell_type": "code",
      "execution_count": 2,
      "metadata": {
        "cellId": "t0n09cl9c499ic3arhyik",
        "colab": {
          "base_uri": "https://localhost:8080/"
        },
        "id": "rfjFSBd6XHM4",
        "outputId": "9a99ea61-f365-4271-abd7-42b4e8acc9f9"
      },
      "outputs": [
        {
          "output_type": "stream",
          "name": "stdout",
          "text": [
            "Collecting stop_words\n",
            "  Downloading stop-words-2018.7.23.tar.gz (31 kB)\n",
            "  Preparing metadata (setup.py) ... \u001b[?25l\u001b[?25hdone\n",
            "Building wheels for collected packages: stop_words\n",
            "  Building wheel for stop_words (setup.py) ... \u001b[?25l\u001b[?25hdone\n",
            "  Created wheel for stop_words: filename=stop_words-2018.7.23-py3-none-any.whl size=32897 sha256=2bba8968d0407436087466aace6e22e327c275d837afbd1f1e0db638d5d2da51\n",
            "  Stored in directory: /root/.cache/pip/wheels/d0/1a/23/f12552a50cb09bcc1694a5ebb6c2cd5f2a0311de2b8c3d9a89\n",
            "Successfully built stop_words\n",
            "Installing collected packages: stop_words\n",
            "Successfully installed stop_words-2018.7.23\n"
          ]
        }
      ],
      "source": [
        "%pip install stop_words"
      ]
    },
    {
      "cell_type": "code",
      "execution_count": 3,
      "metadata": {
        "cellId": "nu8e2nueg76w69zbv2w69",
        "colab": {
          "base_uri": "https://localhost:8080/"
        },
        "id": "XJCYND8DXHM6",
        "outputId": "b16c5672-d058-4d9c-819b-1a53cfe105a2"
      },
      "outputs": [
        {
          "output_type": "stream",
          "name": "stdout",
          "text": [
            "Collecting annoy\n",
            "  Downloading annoy-1.17.3.tar.gz (647 kB)\n",
            "\u001b[2K     \u001b[90m━━━━━━━━━━━━━━━━━━━━━━━━━━━━━━━━━━━━━━━━\u001b[0m \u001b[32m647.5/647.5 kB\u001b[0m \u001b[31m9.4 MB/s\u001b[0m eta \u001b[36m0:00:00\u001b[0m\n",
            "\u001b[?25h  Preparing metadata (setup.py) ... \u001b[?25l\u001b[?25hdone\n",
            "Building wheels for collected packages: annoy\n",
            "  Building wheel for annoy (setup.py) ... \u001b[?25l\u001b[?25hdone\n",
            "  Created wheel for annoy: filename=annoy-1.17.3-cp310-cp310-linux_x86_64.whl size=552448 sha256=a7e48eab0629c1bf818c51d1e95a01aff602f8711b41813115f6b99c88e9b583\n",
            "  Stored in directory: /root/.cache/pip/wheels/64/8a/da/f714bcf46c5efdcfcac0559e63370c21abe961c48e3992465a\n",
            "Successfully built annoy\n",
            "Installing collected packages: annoy\n",
            "Successfully installed annoy-1.17.3\n"
          ]
        }
      ],
      "source": [
        "%pip install annoy"
      ]
    },
    {
      "cell_type": "code",
      "execution_count": 4,
      "metadata": {
        "cellId": "n47w420d80mmogeg6jl7yl",
        "colab": {
          "base_uri": "https://localhost:8080/"
        },
        "id": "NaUr7hlmXHM6",
        "outputId": "8a1152f5-80ac-4a15-aab4-e615c4c9f0fb"
      },
      "outputs": [
        {
          "output_type": "stream",
          "name": "stdout",
          "text": [
            "Collecting compress_fasttext\n",
            "  Downloading compress-fasttext-0.1.5.tar.gz (15 kB)\n",
            "  Preparing metadata (setup.py) ... \u001b[?25l\u001b[?25hdone\n",
            "Requirement already satisfied: gensim>=4.0.0 in /usr/local/lib/python3.10/dist-packages (from compress_fasttext) (4.3.3)\n",
            "Requirement already satisfied: numpy in /usr/local/lib/python3.10/dist-packages (from compress_fasttext) (1.26.4)\n",
            "Requirement already satisfied: scipy<1.14.0,>=1.7.0 in /usr/local/lib/python3.10/dist-packages (from gensim>=4.0.0->compress_fasttext) (1.13.1)\n",
            "Requirement already satisfied: smart-open>=1.8.1 in /usr/local/lib/python3.10/dist-packages (from gensim>=4.0.0->compress_fasttext) (7.0.4)\n",
            "Requirement already satisfied: wrapt in /usr/local/lib/python3.10/dist-packages (from smart-open>=1.8.1->gensim>=4.0.0->compress_fasttext) (1.16.0)\n",
            "Building wheels for collected packages: compress_fasttext\n",
            "  Building wheel for compress_fasttext (setup.py) ... \u001b[?25l\u001b[?25hdone\n",
            "  Created wheel for compress_fasttext: filename=compress_fasttext-0.1.5-py3-none-any.whl size=16098 sha256=e348b0cc5eeb18f2aae655ee274c5ee0b0f26ac5599cc2ce840b56f2937827d1\n",
            "  Stored in directory: /root/.cache/pip/wheels/8c/32/33/fff40f9f82948020c3cee0e392223360212af37a60f1b207e6\n",
            "Successfully built compress_fasttext\n",
            "Installing collected packages: compress_fasttext\n",
            "Successfully installed compress_fasttext-0.1.5\n"
          ]
        }
      ],
      "source": [
        "%pip install compress_fasttext"
      ]
    },
    {
      "cell_type": "code",
      "source": [
        "%pip install pymorphy2"
      ],
      "metadata": {
        "colab": {
          "base_uri": "https://localhost:8080/"
        },
        "id": "_2HGGYsTYTUm",
        "outputId": "cdf76821-1ed5-42b6-e00f-172755b602b3"
      },
      "execution_count": 7,
      "outputs": [
        {
          "output_type": "stream",
          "name": "stdout",
          "text": [
            "Collecting pymorphy2\n",
            "  Downloading pymorphy2-0.9.1-py3-none-any.whl.metadata (3.6 kB)\n",
            "Collecting dawg-python>=0.7.1 (from pymorphy2)\n",
            "  Downloading DAWG_Python-0.7.2-py2.py3-none-any.whl.metadata (7.0 kB)\n",
            "Collecting pymorphy2-dicts-ru<3.0,>=2.4 (from pymorphy2)\n",
            "  Downloading pymorphy2_dicts_ru-2.4.417127.4579844-py2.py3-none-any.whl.metadata (2.1 kB)\n",
            "Collecting docopt>=0.6 (from pymorphy2)\n",
            "  Downloading docopt-0.6.2.tar.gz (25 kB)\n",
            "  Preparing metadata (setup.py) ... \u001b[?25l\u001b[?25hdone\n",
            "Downloading pymorphy2-0.9.1-py3-none-any.whl (55 kB)\n",
            "\u001b[2K   \u001b[90m━━━━━━━━━━━━━━━━━━━━━━━━━━━━━━━━━━━━━━━━\u001b[0m \u001b[32m55.5/55.5 kB\u001b[0m \u001b[31m2.5 MB/s\u001b[0m eta \u001b[36m0:00:00\u001b[0m\n",
            "\u001b[?25hDownloading DAWG_Python-0.7.2-py2.py3-none-any.whl (11 kB)\n",
            "Downloading pymorphy2_dicts_ru-2.4.417127.4579844-py2.py3-none-any.whl (8.2 MB)\n",
            "\u001b[2K   \u001b[90m━━━━━━━━━━━━━━━━━━━━━━━━━━━━━━━━━━━━━━━━\u001b[0m \u001b[32m8.2/8.2 MB\u001b[0m \u001b[31m54.7 MB/s\u001b[0m eta \u001b[36m0:00:00\u001b[0m\n",
            "\u001b[?25hBuilding wheels for collected packages: docopt\n",
            "  Building wheel for docopt (setup.py) ... \u001b[?25l\u001b[?25hdone\n",
            "  Created wheel for docopt: filename=docopt-0.6.2-py2.py3-none-any.whl size=13704 sha256=5ab6cd4ee8d272b8187e7f2365af4518a48785993ba03796a4fd4b08483659ed\n",
            "  Stored in directory: /root/.cache/pip/wheels/fc/ab/d4/5da2067ac95b36618c629a5f93f809425700506f72c9732fac\n",
            "Successfully built docopt\n",
            "Installing collected packages: pymorphy2-dicts-ru, docopt, dawg-python, pymorphy2\n",
            "Successfully installed dawg-python-0.7.2 docopt-0.6.2 pymorphy2-0.9.1 pymorphy2-dicts-ru-2.4.417127.4579844\n"
          ]
        }
      ]
    },
    {
      "cell_type": "code",
      "execution_count": 8,
      "metadata": {
        "cellId": "6ediwppdq2wqtwvw09mcs",
        "id": "ISvv9O2XXHM7"
      },
      "outputs": [],
      "source": [
        "import string\n",
        "from pymorphy2 import MorphAnalyzer\n",
        "from stop_words import get_stop_words\n",
        "import annoy\n",
        "from gensim.models import Word2Vec, FastText, KeyedVectors\n",
        "import compress_fasttext\n",
        "from gensim.models.fasttext import FastTextKeyedVectors\n",
        "import pickle\n",
        "import numpy as np\n",
        "from tqdm import tqdm    # tqdm.notebook\n",
        "from pathlib import Path\n",
        "from linecache import getline\n",
        "import re"
      ]
    },
    {
      "cell_type": "markdown",
      "metadata": {
        "cellId": "ju0gbubjxncasgxmt9td",
        "id": "1W8MxYDFXHM7"
      },
      "source": [
        "## Загружаем исходный корпус вопросов и ответов"
      ]
    },
    {
      "cell_type": "code",
      "execution_count": null,
      "metadata": {
        "cellId": "l7riejo0p0lx95bxpl9sbq",
        "id": "3UKNnm5XXHM8"
      },
      "outputs": [],
      "source": [
        "disk = Storage.ya_disk(application_id='8b22c6d569724e6b92xxxxxxxxxxx', application_secret='b2b380d359a54802bexxxxxxxxxxxx')"
      ]
    },
    {
      "cell_type": "code",
      "execution_count": null,
      "metadata": {
        "cellId": "8kmkv1yf7zbwhkzbc6alx9",
        "id": "gA6vWL3SXHM9",
        "outputId": "50e647f6-3b2d-4c33-ebf9-ff448b99f130"
      },
      "outputs": [
        {
          "name": "stdout",
          "output_type": "stream",
          "text": [
            "                                  \r"
          ]
        },
        {
          "name": "stderr",
          "output_type": "stream",
          "text": [
            "/usr/local/lib/python3.7/dist-packages/ml_kernel/kernel.py:442: UserWarning: The following variables cannot be serialized: disk\n",
            "  warnings.warn(message)\n"
          ]
        }
      ],
      "source": [
        "disk.get('Jupyter/NLP/Otvety.txt', 'Otvety.txt')"
      ]
    },
    {
      "cell_type": "code",
      "execution_count": null,
      "metadata": {
        "cellId": "2qpv7xbu6pi28kn36sbcflj",
        "id": "j19QYdq3XHM9",
        "outputId": "8bf84a00-4fcb-48f0-bd53-f5ac7ee89db2"
      },
      "outputs": [
        {
          "name": "stdout",
          "output_type": "stream",
          "text": [
            "                                                         \r"
          ]
        },
        {
          "name": "stderr",
          "output_type": "stream",
          "text": [
            "/usr/local/lib/python3.7/dist-packages/ml_kernel/kernel.py:442: UserWarning: The following variables cannot be serialized: disk\n",
            "  warnings.warn(message)\n"
          ]
        }
      ],
      "source": [
        "disk.get('Jupyter/NLP/ft_freqprune_400K_100K_pq_300.bin', 'ft_freqprune_400K_100K_pq_300.bin')"
      ]
    },
    {
      "cell_type": "markdown",
      "metadata": {
        "cellId": "j8xpt608baie8w3affk58",
        "id": "ybOB3_YeXHM9"
      },
      "source": [
        "## Word2vec эмбеддинг"
      ]
    },
    {
      "cell_type": "code",
      "execution_count": 11,
      "metadata": {
        "cellId": "di7lt14ydfmk1zwen6zdia",
        "colab": {
          "base_uri": "https://localhost:8080/"
        },
        "id": "DGl6aoRhXHM9",
        "outputId": "4bc7596d-4925-4155-e402-cb35a4d61f7e"
      },
      "outputs": [
        {
          "output_type": "stream",
          "name": "stderr",
          "text": [
            "2it [00:00, 2166.48it/s]\n"
          ]
        }
      ],
      "source": [
        "question = None\n",
        "written = False\n",
        "\n",
        "with open(\"prepared_answers2.txt\", \"w\") as fout:\n",
        "    with open(\"Otvety.txt\", \"r\", errors='ignore') as fin:\n",
        "        for line in tqdm(fin):\n",
        "            if line.startswith(\"---\"):\n",
        "                written = False\n",
        "                continue\n",
        "            if not written and question is not None:\n",
        "                line = re.sub(r'<br>','\\n', line)\n",
        "                line = re.sub(r'<[^<]*>','', line)\n",
        "                if(len(line)>4076):\n",
        "                    tmp_line = line[:4076]\n",
        "                fout.write(question.replace(\"\\t\", \" \").strip() + \"\\t\" + line.replace(\"\\t\", \" \"))\n",
        "                written = True\n",
        "                question = None\n",
        "                continue\n",
        "            if not written:\n",
        "                question = line.strip()\n",
        "                continue"
      ]
    },
    {
      "cell_type": "code",
      "execution_count": 12,
      "metadata": {
        "cellId": "tq78wn58fb870zmvku30bw",
        "id": "tZVL5ZRsXHM-"
      },
      "outputs": [],
      "source": [
        "morpher = MorphAnalyzer()\n",
        "sw = set(get_stop_words(\"ru\"))\n",
        "exclude = set(string.punctuation)"
      ]
    },
    {
      "cell_type": "code",
      "execution_count": 13,
      "metadata": {
        "cellId": "chhxt0c7q5il5xrnbzj40f",
        "id": "Amph333PXHM-"
      },
      "outputs": [],
      "source": [
        "def preprocess_txt(line):\n",
        "    spls = \"\".join(i for i in line.strip() if i not in exclude).split()\n",
        "    spls = [morpher.parse(i.lower())[0].normal_form for i in spls]\n",
        "    spls = [i for i in spls if i not in sw and i != \"\"]\n",
        "    return spls"
      ]
    },
    {
      "cell_type": "code",
      "execution_count": null,
      "metadata": {
        "cellId": "2ow2fmms50x1p91s0oev8e",
        "id": "8dyDy6XaXHM-"
      },
      "outputs": [],
      "source": [
        "flag_w2v = False\n",
        "flag_ft = False\n",
        "\n",
        "w2v_file = Path(\"word2vec_wv.bin\")\n",
        "if w2v_file.is_file():\n",
        "#     model_w2v_wv = KeyedVectors.load(w2v_file, mmap='r')\n",
        "    model_w2v_wv = KeyedVectors.load_word2vec_format(w2v_file, binary=True)\n",
        "#     modelW2V = Word2Vec.load(w2v_file)\n",
        "    flag_w2v = True\n",
        "\n",
        "# ft_file = Path(\"fasttext_wv.bin\")\n",
        "ft_file = Path(\"ft_freqprune_400K_100K_pq_300.bin\")\n",
        "if ft_file.is_file():\n",
        "#     modelFT = FastText.load(\"fasttext.model\")\n",
        "    model_ft_wv = FastTextKeyedVectors.load(\"ft_freqprune_400K_100K_pq_300.bin\")\n",
        "    flag_ft = True"
      ]
    },
    {
      "cell_type": "code",
      "execution_count": null,
      "metadata": {
        "cellId": "ki641twmd8jgfgu7e9n98k",
        "id": "FLrxhffFXHM-",
        "outputId": "7f07ef05-2a3c-447c-d0dc-f2e9bcccf498"
      },
      "outputs": [
        {
          "data": {
            "text/plain": [
              "array([-0.15978006,  0.12972822,  0.21127554,  0.29666308,  0.25573889,\n",
              "        0.1686621 , -0.05744876, -0.52107803,  0.18609457, -0.22283846,\n",
              "       -0.03836431, -0.04170422, -0.10437255, -0.29092596,  0.10090196,\n",
              "        0.33342996, -0.67721425, -0.15884957,  0.02521641, -0.33641117,\n",
              "       -0.26925578,  0.23259699,  0.13870712, -0.08089827, -0.03441673,\n",
              "        0.24143436, -0.29945117,  0.12255987,  0.09575692, -0.08634345,\n",
              "       -0.21093656, -0.34836296, -0.17476538,  0.45353659, -0.10380922,\n",
              "       -0.09972098,  0.09274811,  0.06449159, -0.06760033, -0.10698365,\n",
              "       -0.11544589, -0.39024976, -0.16776919, -0.02356622,  0.19175797,\n",
              "       -0.19430752, -0.00745214,  0.37378223,  0.06579063, -0.17072464,\n",
              "        0.14309801,  0.14525867, -0.82332072, -0.25561934, -0.00373324,\n",
              "        0.08323687, -0.18829364,  0.18259489, -0.24611599,  0.15786773,\n",
              "       -0.27496507,  0.34677877,  0.1449238 ,  0.06140086, -0.08831784,\n",
              "       -0.04187009, -0.56405255, -0.04610748, -0.28585907,  0.05999637,\n",
              "       -0.04451675,  0.51549979, -0.53300587,  0.13451668,  0.2495925 ,\n",
              "        0.3090857 ,  0.02322338, -0.03319445, -0.48081142,  0.16502423,\n",
              "       -0.09871452,  0.00337909,  0.05510282,  0.13928378,  0.22404459,\n",
              "       -0.24798716, -0.25893297,  0.09900893, -0.04817556, -0.33063456,\n",
              "       -0.122467  , -0.24986858,  0.02717431, -0.31572729, -0.3573612 ,\n",
              "        0.38759465, -0.20430269, -0.01053742, -0.06464369,  0.21284723,\n",
              "       -0.22374483, -0.0782066 ,  0.0243649 ,  0.33852726,  0.00907159,\n",
              "       -0.08040985, -0.16947049, -0.12724731,  0.02120892, -0.0926338 ,\n",
              "       -0.05269936,  0.10422701, -0.13552169, -0.17322002,  0.26209143,\n",
              "       -0.10600196, -0.57465671,  0.31749339, -0.50309295,  0.15522706,\n",
              "        0.20964767,  0.34657103,  0.40493187,  0.11390788,  0.08124474,\n",
              "       -0.05498976, -0.00603307, -0.24440988,  0.17525525, -0.06147411,\n",
              "       -0.08993466, -0.06280955, -0.2226218 ,  0.01258389, -0.03646134,\n",
              "        0.24888245,  0.1939961 ,  0.16608969, -0.19648226, -0.0328442 ,\n",
              "        0.02018351,  0.26082067,  0.02431916, -0.14203473,  0.03494841,\n",
              "       -0.09990741, -0.11709758, -0.31508452, -0.15305547,  0.00962349,\n",
              "       -0.14013155,  0.25655535, -0.00138157, -0.08293574, -0.06427295,\n",
              "        0.12155597, -0.12944133,  0.03477887, -0.03517611, -0.18349083,\n",
              "       -0.23391528,  0.30754498,  0.18244588,  0.38054132, -0.24566411,\n",
              "       -0.04610271,  0.04871203, -0.22645054, -0.05414502, -0.18122077,\n",
              "        0.03142226, -0.27159433, -0.0791276 ,  0.10508673, -0.01357799,\n",
              "       -0.08359419, -0.08663811, -0.36564598,  0.13163522,  0.36731062,\n",
              "       -0.14932645,  0.31202676,  0.26368368,  0.33576187,  0.25293983,\n",
              "        0.04408363, -0.25080536,  0.00536027,  0.11341752,  0.01770937,\n",
              "       -0.03245751, -0.07790864, -0.20003514, -0.15578536,  0.31296753,\n",
              "        0.09187346, -0.24078067, -0.1171819 , -0.21611667,  0.04542152,\n",
              "        0.20623476, -0.03002066,  0.10713841,  0.01642958,  0.05307269,\n",
              "       -0.02723964, -0.08534575,  0.03214684, -0.19248891, -0.16155324,\n",
              "       -0.11108833, -0.19629939, -0.32957264, -0.07219142,  0.03171135,\n",
              "        0.06655433, -0.0242827 , -0.43275736, -0.10194971, -0.19233679,\n",
              "        0.04247775,  0.15760055, -0.0593703 , -0.0634756 ,  0.07786334,\n",
              "        0.05604188,  0.05113183,  0.03714753,  0.28095996,  0.03223972,\n",
              "        0.20389047, -0.39495083, -0.04235416,  0.03310521, -0.21767165,\n",
              "        0.02381708,  0.37509194,  0.07690634, -0.39798902,  0.38665859,\n",
              "       -0.08774373, -0.0608033 ,  0.28962123, -0.00755525, -0.00383965,\n",
              "        0.03137102, -0.16630992, -0.1711523 ,  0.49549712,  0.087993  ,\n",
              "        0.07263355,  0.30368562,  0.35120757,  0.48119043,  0.05606649,\n",
              "        0.41714664, -0.20836628, -0.47527333,  0.09430114, -0.07594286,\n",
              "        0.26536328, -0.12134169,  0.15247178,  0.24066865,  0.05801503,\n",
              "        0.17051709, -0.16424363, -0.37799297,  0.03537874,  0.19242937,\n",
              "       -0.08429065,  0.15000477,  0.10406453, -0.01696037, -0.40566247,\n",
              "        0.0736307 ,  0.04270691, -0.14408896, -0.20620344,  0.17716223,\n",
              "       -0.00228006, -0.04249882,  0.14998127, -0.19275647, -0.04675555,\n",
              "        0.22293156, -0.62552301,  0.0619657 , -0.01969884,  0.08595939,\n",
              "        0.09859344,  0.13340477, -0.07264688, -0.53546072,  0.02884299,\n",
              "       -0.12112249,  0.19062196,  0.15397197,  0.54361562,  0.17168535])"
            ]
          },
          "metadata": {},
          "output_type": "display_data"
        }
      ],
      "source": [
        "model_ft_wv[\"Парацетамол\"]"
      ]
    },
    {
      "cell_type": "code",
      "execution_count": 14,
      "metadata": {
        "cellId": "getll261lfo7wx7duh8hf",
        "id": "0hLGzBNQXHM_"
      },
      "outputs": [],
      "source": [
        "def get_w2vembed_and_ftembed(file_name):\n",
        "    questions = []\n",
        "    with open(file_name, \"r\", encoding='utf-8', errors='ignore') as f:\n",
        "        for line in tqdm(f):\n",
        "            spls = line.split(\"\\t\")\n",
        "            questions.append(preprocess_txt(spls[0]))\n",
        "\n",
        "    modelW2V = Word2Vec(sentences=questions, size=w2v_width, window=5, min_count=1, workers=core_numbers)\n",
        "#     modelFT = FastText(sentences=questions, size=w2v_width, min_count=1, window=5, workers=core_numbers)\n",
        "\n",
        "#     modelW2V.save(\"word2vec.model\")\n",
        "    modelW2V.wv.save_word2vec_format('word2vec_wv.bin', binary=True)\n",
        "#     modelW2V.wv.save(\"word2vec_wv.kv\")\n",
        "    model_w2v_wv = modelW2V.wv\n",
        "    del modelW2V\n",
        "\n",
        "#     modelFT.save(\"fasttext.model\")\n",
        "#     modelFT.wv.save_word2vec_format('fasttext_wv.bin', binary=True)\n",
        "#     model_ft_wv = modelFT.wv\n",
        "#     del modelFT\n",
        "\n",
        "    return model_w2v_wv # , model_ft_wv"
      ]
    },
    {
      "cell_type": "code",
      "execution_count": null,
      "metadata": {
        "cellId": "g99gygu17ldy6o104k1g4",
        "id": "qam8-mcCXHM_"
      },
      "outputs": [],
      "source": [
        "if not flag_w2v: # or not flag_ft:\n",
        "    model_w2v_wv = get_w2vembed_and_ftembed(Path(\"prepared_answers.txt\"))"
      ]
    },
    {
      "cell_type": "code",
      "execution_count": null,
      "metadata": {
        "cellId": "vwb4n8wlq7mf6x0ess6ztn",
        "id": "ata5e-zkXHM_"
      },
      "outputs": [],
      "source": [
        "# modelW2V.wv.save_word2vec_format('word2vec_wv.bin', binary=True)"
      ]
    },
    {
      "cell_type": "code",
      "execution_count": null,
      "metadata": {
        "cellId": "nyzqed4zk49pl6adwedd8a",
        "id": "zNEAMN0rXHM_"
      },
      "outputs": [],
      "source": [
        "w2v_index = annoy.AnnoyIndex(w2v_width ,'angular')\n",
        "ft_index = annoy.AnnoyIndex(ft_width ,'angular')"
      ]
    },
    {
      "cell_type": "code",
      "execution_count": null,
      "metadata": {
        "cellId": "w6m41kcz9tk1z7c0m2p6",
        "id": "YFUcbQ8MXHM_"
      },
      "outputs": [],
      "source": [
        "# flag_index_map = False\n",
        "flag_w2v_index = False\n",
        "flag_ft_index = False"
      ]
    },
    {
      "cell_type": "code",
      "execution_count": null,
      "metadata": {
        "cellId": "9q7u4rq8lwkhornd8q3s3",
        "id": "jte-THZhXHM_"
      },
      "outputs": [],
      "source": [
        "# index_map = {}\n",
        "\n",
        "# index_file = Path(\"index_map.pickle\")\n",
        "# if index_file.is_file():\n",
        "#     with open('index_map.pickle', 'rb') as f:\n",
        "#         index_map = pickle.load(f)\n",
        "#     flag_index_map = True\n",
        "\n",
        "w2v_index_file = Path(\"w2v_index.ann\")\n",
        "if w2v_index_file.is_file():\n",
        "    w2v_index.load(\"w2v_index.ann\")\n",
        "    flag_w2v_index = True\n",
        "\n",
        "ft_index_file = Path(\"ft_index.ann\")\n",
        "if ft_index_file.is_file():\n",
        "    ft_index.load(\"ft_index.ann\")\n",
        "    flag_ft_index = True"
      ]
    },
    {
      "cell_type": "code",
      "execution_count": null,
      "metadata": {
        "cellId": "j6d9peh762h8tbdrf1k8po",
        "id": "9Zgc4G8BXHM_",
        "outputId": "6d5f42cf-b3cb-44e6-8335-48eb7e946f68"
      },
      "outputs": [
        {
          "data": {
            "text/plain": [
              "gensim.models.keyedvectors.FastTextKeyedVectors"
            ]
          },
          "metadata": {},
          "output_type": "display_data"
        }
      ],
      "source": [
        "type(model_ft_wv)"
      ]
    },
    {
      "cell_type": "code",
      "execution_count": null,
      "metadata": {
        "cellId": "4l6o7qbdefedbvabof2zl",
        "id": "vlg8KiS9XHNA",
        "outputId": "3eec9bac-1a84-4a6b-cde4-dbcc10b855ff"
      },
      "outputs": [
        {
          "name": "stderr",
          "output_type": "stream",
          "text": [
            "1163342it [1:46:54, 181.36it/s]\n"
          ]
        }
      ],
      "source": [
        "if not flag_w2v_index or not flag_ft_index:  # or not flag_index_map:\n",
        "    counter = 0\n",
        "\n",
        "    with open(\"prepared_answers.txt\", \"r\", encoding='utf-8', errors='ignore') as f:\n",
        "        for line in tqdm(f):\n",
        "            n_w2v = 0\n",
        "            n_ft = 0\n",
        "            spls = line.split(\"\\t\")\n",
        "#             index_map[counter] = spls[1]\n",
        "            question = preprocess_txt(spls[0])\n",
        "\n",
        "            vector_w2v = np.zeros(w2v_width)\n",
        "            vector_ft = np.zeros(ft_width)\n",
        "            for word in question:\n",
        "                if word in model_w2v_wv:\n",
        "                    vector_w2v += model_w2v_wv[word]\n",
        "                    n_w2v += 1\n",
        "                if word in model_ft_wv:\n",
        "                    vector_ft += model_ft_wv[word]\n",
        "                    n_ft += 1\n",
        "            if n_w2v > 0:\n",
        "                vector_w2v = vector_w2v / n_w2v\n",
        "            if n_ft > 0:\n",
        "                vector_ft = vector_ft / n_ft\n",
        "            w2v_index.add_item(counter, vector_w2v)\n",
        "            ft_index.add_item(counter, vector_ft)\n",
        "\n",
        "            counter += 1\n",
        "#             if counter > 1800000:\n",
        "#                 break\n",
        "#             if not counter % 10000:\n",
        "#                 print(counter)\n",
        "\n",
        "    w2v_index.build(20)\n",
        "    ft_index.build(20)\n",
        "#     with open('index_map.pickle', 'wb') as fl:\n",
        "#         pickle.dump(index_map, fl)\n",
        "    w2v_index.save('w2v_index.ann')\n",
        "    ft_index.save('ft_index.ann')"
      ]
    },
    {
      "cell_type": "code",
      "execution_count": null,
      "metadata": {
        "cellId": "sh5p3ajfjypkof880ykz",
        "id": "adZLr5bjXHNA"
      },
      "outputs": [],
      "source": [
        "# with open('index_map.pickle', 'wb') as fl:\n",
        "#     pickle.dump(index_map, fl)\n",
        "\n",
        "# w2v_index.save('w2v_index.ann')"
      ]
    },
    {
      "cell_type": "code",
      "execution_count": null,
      "metadata": {
        "cellId": "4e1w9a2y6ff4k1m1rk97pw",
        "id": "853X8-_0XHNA"
      },
      "outputs": [],
      "source": [
        "def get_response(question, index, model, width):\n",
        "    question = preprocess_txt(question)\n",
        "    vector = np.zeros(width)\n",
        "    norm = 0\n",
        "    for word in question:\n",
        "        if word in model:\n",
        "            vector += model[word]\n",
        "            norm += 1\n",
        "    if norm > 0:\n",
        "        vector = vector / norm\n",
        "    line_numbers = index.get_nns_by_vector(vector, 3)\n",
        "    print(line_numbers)\n",
        "#     f = open(\"prepared_answers.txt\", \"r\", encoding='utf-8', errors='ignore')\n",
        "    spls = [getline(\"prepared_answers.txt\", i+1).split(\"\\t\") for i in line_numbers]\n",
        "    for spl in spls:\n",
        "        print(f\"Вопрос: {spl[0]}\\nОтвет: {spl[1]}\")"
      ]
    },
    {
      "cell_type": "code",
      "execution_count": null,
      "metadata": {
        "cellId": "zd7wi90j2ce4h33ld8959",
        "id": "_wK9LkKZXHNA"
      },
      "outputs": [],
      "source": [
        "TEXT = \"как понизить температуру?\""
      ]
    },
    {
      "cell_type": "code",
      "execution_count": null,
      "metadata": {
        "cellId": "470tj50nmumgn2n7u7jevs",
        "id": "HGL5q4n8XHNA"
      },
      "outputs": [],
      "source": [
        "get_response(TEXT, w2v_index, model_w2v_wv, w2v_width)"
      ]
    },
    {
      "cell_type": "code",
      "execution_count": null,
      "metadata": {
        "cellId": "qe80cvugbfjqw6arsekgvl",
        "id": "4cI7Wa2XXHNA"
      },
      "outputs": [],
      "source": [
        "get_response(TEXT, ft_index, model_ft_wv, ft_width)"
      ]
    },
    {
      "cell_type": "code",
      "execution_count": null,
      "metadata": {
        "cellId": "irbv46veufl67b7vxe30s8",
        "id": "PtblZTP6XHNB"
      },
      "outputs": [],
      "source": [
        "TEXT = \"Когда принимать Працетамол?\""
      ]
    },
    {
      "cell_type": "code",
      "execution_count": null,
      "metadata": {
        "cellId": "hcstwri9qt7most793fcc",
        "id": "fNPyXQ-HXHNB"
      },
      "outputs": [],
      "source": [
        "get_response(TEXT, w2v_index, model_w2v_wv, w2v_width)"
      ]
    },
    {
      "cell_type": "code",
      "execution_count": null,
      "metadata": {
        "cellId": "65cnonyyywp2hj9nrssntj",
        "id": "-9HtBJqSXHNB"
      },
      "outputs": [],
      "source": [
        "get_response(TEXT, ft_index, model_ft_wv, ft_width)"
      ]
    },
    {
      "cell_type": "markdown",
      "metadata": {
        "cellId": "x4xyqek831c7iuqumk6qka",
        "id": "v8zkT3wOXHNC"
      },
      "source": [
        "## Сохраняем модель на Яндекс диск"
      ]
    },
    {
      "cell_type": "code",
      "execution_count": null,
      "metadata": {
        "cellId": "fui7mdv6ljk2by2jhlzpf8",
        "id": "0eEyHyg-XHNC",
        "outputId": "b07248ad-1b7c-47cc-a990-536aa2abdd8a"
      },
      "outputs": [
        {
          "name": "stdout",
          "output_type": "stream",
          "text": [
            "                                           \r"
          ]
        },
        {
          "name": "stderr",
          "output_type": "stream",
          "text": [
            "/usr/local/lib/python3.7/dist-packages/ml_kernel/kernel.py:442: UserWarning: The following variables cannot be serialized: disk\n",
            "  warnings.warn(message)\n"
          ]
        }
      ],
      "source": [
        "from cloud_ml.storage.api import Storage\n",
        "\n",
        "# To retrieve application id and secret:\n",
        "# 1. Go to link: https://oauth.yandex.ru/client/new\n",
        "# 2. Choose 'Web services'\n",
        "# 3. Paste into 'Callback URI': https://oauth.yandex.ru/verification_code\n",
        "# 4. Set up permissions on yandex disk\n",
        "disk = Storage.ya_disk(application_id='8b22c6d569724e6b92646b7d6d2a3953', application_secret='b2b380d359a54802be5c27e2360e2c08')\n",
        "\n",
        "# uploading contents of the local file into the remote one\n",
        "# disk.put('word2vec_wv.bin', 'Jupyter/NLP/full_300/word2vec_wv.bin')\n",
        "# disk.put('fasttext_wv.bin', 'Jupyter/NLP/full_300/fasttext_wv.bin')\n",
        "# disk.put('word2vec.model', 'Jupyter/NLP/m500k/word2vec.model')\n",
        "# disk.put('word2vec.model.trainables.syn1neg.npy', 'Jupyter/NLP/m500k/word2vec.model.trainables.syn1neg.npy')\n",
        "# disk.put('word2vec.model.wv.vectors.npy', 'Jupyter/NLP/m500k/word2vec.model.wv.vectors.npy')\n",
        "# disk.put('w2v_index.ann', 'Jupyter/NLP/full_300/w2v_index.ann')\n",
        "disk.put('ft_index.ann', 'Jupyter/NLP/full_300/ft_index.ann')\n",
        "# disk.put('index_map.pickle', 'Jupyter/NLP/m1800k/index_map.pickle')\n",
        "disk.put('prepared_answers2.txt', 'Jupyter/NLP/prepared_answers2.txt')"
      ]
    },
    {
      "cell_type": "code",
      "execution_count": null,
      "metadata": {
        "cellId": "xap31sck3ylh67ybffq5",
        "id": "z1l-v0nwXHNC"
      },
      "outputs": [],
      "source": []
    }
  ],
  "metadata": {
    "kernelspec": {
      "display_name": "Python 3",
      "language": "python",
      "name": "python3"
    },
    "language_info": {
      "codemirror_mode": {
        "name": "ipython",
        "version": 3
      },
      "file_extension": ".py",
      "mimetype": "text/x-python",
      "name": "python",
      "nbconvert_exporter": "python",
      "pygments_lexer": "ipython3",
      "version": "3.6.12"
    },
    "notebookId": "1c321f5f-d906-438b-9d72-7a7817b9ee83",
    "colab": {
      "provenance": []
    }
  },
  "nbformat": 4,
  "nbformat_minor": 0
}