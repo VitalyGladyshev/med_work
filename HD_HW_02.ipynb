{
  "nbformat": 4,
  "nbformat_minor": 0,
  "metadata": {
    "colab": {
      "provenance": [],
      "authorship_tag": "ABX9TyNfgUMs5kfHc2IZlQ1lgTwJ",
      "include_colab_link": true
    },
    "kernelspec": {
      "name": "python3",
      "display_name": "Python 3"
    },
    "language_info": {
      "name": "python"
    }
  },
  "cells": [
    {
      "cell_type": "markdown",
      "metadata": {
        "id": "view-in-github",
        "colab_type": "text"
      },
      "source": [
        "<a href=\"https://colab.research.google.com/github/VitalyGladyshev/med_work/blob/main/HD_HW_02.ipynb\" target=\"_parent\"><img src=\"https://colab.research.google.com/assets/colab-badge.svg\" alt=\"Open In Colab\"/></a>"
      ]
    },
    {
      "cell_type": "markdown",
      "source": [
        "# Прогнозирование и диагностика в медицине с помощью машинного обучения"
      ],
      "metadata": {
        "id": "V3_VrZQ5mKnv"
      }
    },
    {
      "cell_type": "markdown",
      "source": [
        "## ДЗ 2 Гладышев В.В."
      ],
      "metadata": {
        "id": "AeAOSSjnmcJr"
      }
    },
    {
      "cell_type": "markdown",
      "source": [
        "## Модели классификации"
      ],
      "metadata": {
        "id": "vZLRfzG2mlGu"
      }
    },
    {
      "cell_type": "markdown",
      "source": [
        "### Импорты"
      ],
      "metadata": {
        "id": "MXMXhD6JmwCW"
      }
    },
    {
      "cell_type": "code",
      "execution_count": 1,
      "metadata": {
        "id": "SWCZWJhN-Gs7"
      },
      "outputs": [],
      "source": [
        "import numpy as np\n",
        "import pandas as pd\n",
        "import matplotlib.pyplot as plt\n",
        "import seaborn as sns\n",
        "\n",
        "from sklearn.model_selection import train_test_split, cross_val_score\n",
        "from sklearn.pipeline import make_pipeline\n",
        "\n",
        "from sklearn.preprocessing import StandardScaler\n",
        "\n",
        "from sklearn.metrics import accuracy_score\n",
        "from sklearn.metrics import precision_score, recall_score\n",
        "from sklearn.metrics import f1_score\n",
        "\n",
        "from sklearn.multioutput import MultiOutputClassifier\n",
        "from sklearn.linear_model import LogisticRegression\n",
        "from sklearn.svm import SVC\n",
        "from sklearn.neighbors import KNeighborsClassifier\n",
        "from sklearn.tree import DecisionTreeClassifier\n",
        "from sklearn.ensemble import RandomForestClassifier\n",
        "from sklearn.ensemble import GradientBoostingClassifier\n",
        "from sklearn.ensemble import VotingClassifier\n",
        "from sklearn.ensemble import StackingClassifier\n",
        "\n",
        "from sklearn.model_selection import cross_val_predict\n",
        "from sklearn.metrics import confusion_matrix\n",
        "from sklearn.metrics import ConfusionMatrixDisplay"
      ]
    },
    {
      "cell_type": "code",
      "source": [
        "import warnings\n",
        "warnings.filterwarnings('ignore')"
      ],
      "metadata": {
        "id": "QKE0Od_wv9LJ"
      },
      "execution_count": 2,
      "outputs": []
    },
    {
      "cell_type": "code",
      "source": [
        "RANDOM_STATE = 42"
      ],
      "metadata": {
        "id": "TVGvMKKSe9ao"
      },
      "execution_count": 3,
      "outputs": []
    },
    {
      "cell_type": "markdown",
      "source": [
        "### Загрузка и подготовка данных"
      ],
      "metadata": {
        "id": "DRodumlamu4K"
      }
    },
    {
      "cell_type": "code",
      "source": [
        "!unzip ct_slices.zip"
      ],
      "metadata": {
        "colab": {
          "base_uri": "https://localhost:8080/"
        },
        "id": "ptkqdHXAg3I4",
        "outputId": "f42af1c4-5d15-49b9-822e-4cd6f110c961"
      },
      "execution_count": 4,
      "outputs": [
        {
          "output_type": "stream",
          "name": "stdout",
          "text": [
            "Archive:  ct_slices.zip\n",
            "replace slice_localization_data.csv? [y]es, [n]o, [A]ll, [N]one, [r]ename: n\n"
          ]
        }
      ]
    },
    {
      "cell_type": "code",
      "source": [
        "df = pd.read_csv(\"/content/slice_localization_data.csv\")"
      ],
      "metadata": {
        "id": "gDS0TXKAg_Tf"
      },
      "execution_count": 4,
      "outputs": []
    },
    {
      "cell_type": "code",
      "source": [
        "df.info()"
      ],
      "metadata": {
        "colab": {
          "base_uri": "https://localhost:8080/"
        },
        "id": "GCrjmYTrhPox",
        "outputId": "e20c8748-be6b-496e-a414-0de82f826d64"
      },
      "execution_count": 5,
      "outputs": [
        {
          "output_type": "stream",
          "name": "stdout",
          "text": [
            "<class 'pandas.core.frame.DataFrame'>\n",
            "RangeIndex: 53500 entries, 0 to 53499\n",
            "Columns: 386 entries, patientId to reference\n",
            "dtypes: float64(385), int64(1)\n",
            "memory usage: 157.6 MB\n"
          ]
        }
      ]
    },
    {
      "cell_type": "code",
      "source": [
        "df.head()"
      ],
      "metadata": {
        "colab": {
          "base_uri": "https://localhost:8080/",
          "height": 256
        },
        "id": "WjbsSArim5gf",
        "outputId": "e2bc655a-54d0-4869-e5e8-5fecbbc272c4"
      },
      "execution_count": 6,
      "outputs": [
        {
          "output_type": "execute_result",
          "data": {
            "text/plain": [
              "   patientId  value0  value1  value2  value3  value4  value5  value6  value7  \\\n",
              "0          0     0.0     0.0     0.0     0.0     0.0     0.0   -0.25   -0.25   \n",
              "1          0     0.0     0.0     0.0     0.0     0.0     0.0   -0.25   -0.25   \n",
              "2          0     0.0     0.0     0.0     0.0     0.0     0.0   -0.25   -0.25   \n",
              "3          0     0.0     0.0     0.0     0.0     0.0     0.0   -0.25   -0.25   \n",
              "4          0     0.0     0.0     0.0     0.0     0.0     0.0   -0.25   -0.25   \n",
              "\n",
              "   value8  ...  value375  value376  value377  value378  value379  value380  \\\n",
              "0   -0.25  ...     -0.25  0.980381       0.0       0.0       0.0       0.0   \n",
              "1   -0.25  ...     -0.25  0.977008       0.0       0.0       0.0       0.0   \n",
              "2   -0.25  ...     -0.25  0.977008       0.0       0.0       0.0       0.0   \n",
              "3   -0.25  ...     -0.25  0.977008       0.0       0.0       0.0       0.0   \n",
              "4   -0.25  ...     -0.25  0.976833       0.0       0.0       0.0       0.0   \n",
              "\n",
              "   value381  value382  value383  reference  \n",
              "0       0.0     -0.25     -0.25  21.803851  \n",
              "1       0.0     -0.25     -0.25  21.745726  \n",
              "2       0.0     -0.25     -0.25  21.687600  \n",
              "3       0.0     -0.25     -0.25  21.629474  \n",
              "4       0.0     -0.25     -0.25  21.571348  \n",
              "\n",
              "[5 rows x 386 columns]"
            ],
            "text/html": [
              "\n",
              "  <div id=\"df-0c5d296c-fc1c-4129-8f45-2a2e8e2fc55f\" class=\"colab-df-container\">\n",
              "    <div>\n",
              "<style scoped>\n",
              "    .dataframe tbody tr th:only-of-type {\n",
              "        vertical-align: middle;\n",
              "    }\n",
              "\n",
              "    .dataframe tbody tr th {\n",
              "        vertical-align: top;\n",
              "    }\n",
              "\n",
              "    .dataframe thead th {\n",
              "        text-align: right;\n",
              "    }\n",
              "</style>\n",
              "<table border=\"1\" class=\"dataframe\">\n",
              "  <thead>\n",
              "    <tr style=\"text-align: right;\">\n",
              "      <th></th>\n",
              "      <th>patientId</th>\n",
              "      <th>value0</th>\n",
              "      <th>value1</th>\n",
              "      <th>value2</th>\n",
              "      <th>value3</th>\n",
              "      <th>value4</th>\n",
              "      <th>value5</th>\n",
              "      <th>value6</th>\n",
              "      <th>value7</th>\n",
              "      <th>value8</th>\n",
              "      <th>...</th>\n",
              "      <th>value375</th>\n",
              "      <th>value376</th>\n",
              "      <th>value377</th>\n",
              "      <th>value378</th>\n",
              "      <th>value379</th>\n",
              "      <th>value380</th>\n",
              "      <th>value381</th>\n",
              "      <th>value382</th>\n",
              "      <th>value383</th>\n",
              "      <th>reference</th>\n",
              "    </tr>\n",
              "  </thead>\n",
              "  <tbody>\n",
              "    <tr>\n",
              "      <th>0</th>\n",
              "      <td>0</td>\n",
              "      <td>0.0</td>\n",
              "      <td>0.0</td>\n",
              "      <td>0.0</td>\n",
              "      <td>0.0</td>\n",
              "      <td>0.0</td>\n",
              "      <td>0.0</td>\n",
              "      <td>-0.25</td>\n",
              "      <td>-0.25</td>\n",
              "      <td>-0.25</td>\n",
              "      <td>...</td>\n",
              "      <td>-0.25</td>\n",
              "      <td>0.980381</td>\n",
              "      <td>0.0</td>\n",
              "      <td>0.0</td>\n",
              "      <td>0.0</td>\n",
              "      <td>0.0</td>\n",
              "      <td>0.0</td>\n",
              "      <td>-0.25</td>\n",
              "      <td>-0.25</td>\n",
              "      <td>21.803851</td>\n",
              "    </tr>\n",
              "    <tr>\n",
              "      <th>1</th>\n",
              "      <td>0</td>\n",
              "      <td>0.0</td>\n",
              "      <td>0.0</td>\n",
              "      <td>0.0</td>\n",
              "      <td>0.0</td>\n",
              "      <td>0.0</td>\n",
              "      <td>0.0</td>\n",
              "      <td>-0.25</td>\n",
              "      <td>-0.25</td>\n",
              "      <td>-0.25</td>\n",
              "      <td>...</td>\n",
              "      <td>-0.25</td>\n",
              "      <td>0.977008</td>\n",
              "      <td>0.0</td>\n",
              "      <td>0.0</td>\n",
              "      <td>0.0</td>\n",
              "      <td>0.0</td>\n",
              "      <td>0.0</td>\n",
              "      <td>-0.25</td>\n",
              "      <td>-0.25</td>\n",
              "      <td>21.745726</td>\n",
              "    </tr>\n",
              "    <tr>\n",
              "      <th>2</th>\n",
              "      <td>0</td>\n",
              "      <td>0.0</td>\n",
              "      <td>0.0</td>\n",
              "      <td>0.0</td>\n",
              "      <td>0.0</td>\n",
              "      <td>0.0</td>\n",
              "      <td>0.0</td>\n",
              "      <td>-0.25</td>\n",
              "      <td>-0.25</td>\n",
              "      <td>-0.25</td>\n",
              "      <td>...</td>\n",
              "      <td>-0.25</td>\n",
              "      <td>0.977008</td>\n",
              "      <td>0.0</td>\n",
              "      <td>0.0</td>\n",
              "      <td>0.0</td>\n",
              "      <td>0.0</td>\n",
              "      <td>0.0</td>\n",
              "      <td>-0.25</td>\n",
              "      <td>-0.25</td>\n",
              "      <td>21.687600</td>\n",
              "    </tr>\n",
              "    <tr>\n",
              "      <th>3</th>\n",
              "      <td>0</td>\n",
              "      <td>0.0</td>\n",
              "      <td>0.0</td>\n",
              "      <td>0.0</td>\n",
              "      <td>0.0</td>\n",
              "      <td>0.0</td>\n",
              "      <td>0.0</td>\n",
              "      <td>-0.25</td>\n",
              "      <td>-0.25</td>\n",
              "      <td>-0.25</td>\n",
              "      <td>...</td>\n",
              "      <td>-0.25</td>\n",
              "      <td>0.977008</td>\n",
              "      <td>0.0</td>\n",
              "      <td>0.0</td>\n",
              "      <td>0.0</td>\n",
              "      <td>0.0</td>\n",
              "      <td>0.0</td>\n",
              "      <td>-0.25</td>\n",
              "      <td>-0.25</td>\n",
              "      <td>21.629474</td>\n",
              "    </tr>\n",
              "    <tr>\n",
              "      <th>4</th>\n",
              "      <td>0</td>\n",
              "      <td>0.0</td>\n",
              "      <td>0.0</td>\n",
              "      <td>0.0</td>\n",
              "      <td>0.0</td>\n",
              "      <td>0.0</td>\n",
              "      <td>0.0</td>\n",
              "      <td>-0.25</td>\n",
              "      <td>-0.25</td>\n",
              "      <td>-0.25</td>\n",
              "      <td>...</td>\n",
              "      <td>-0.25</td>\n",
              "      <td>0.976833</td>\n",
              "      <td>0.0</td>\n",
              "      <td>0.0</td>\n",
              "      <td>0.0</td>\n",
              "      <td>0.0</td>\n",
              "      <td>0.0</td>\n",
              "      <td>-0.25</td>\n",
              "      <td>-0.25</td>\n",
              "      <td>21.571348</td>\n",
              "    </tr>\n",
              "  </tbody>\n",
              "</table>\n",
              "<p>5 rows × 386 columns</p>\n",
              "</div>\n",
              "    <div class=\"colab-df-buttons\">\n",
              "\n",
              "  <div class=\"colab-df-container\">\n",
              "    <button class=\"colab-df-convert\" onclick=\"convertToInteractive('df-0c5d296c-fc1c-4129-8f45-2a2e8e2fc55f')\"\n",
              "            title=\"Convert this dataframe to an interactive table.\"\n",
              "            style=\"display:none;\">\n",
              "\n",
              "  <svg xmlns=\"http://www.w3.org/2000/svg\" height=\"24px\" viewBox=\"0 -960 960 960\">\n",
              "    <path d=\"M120-120v-720h720v720H120Zm60-500h600v-160H180v160Zm220 220h160v-160H400v160Zm0 220h160v-160H400v160ZM180-400h160v-160H180v160Zm440 0h160v-160H620v160ZM180-180h160v-160H180v160Zm440 0h160v-160H620v160Z\"/>\n",
              "  </svg>\n",
              "    </button>\n",
              "\n",
              "  <style>\n",
              "    .colab-df-container {\n",
              "      display:flex;\n",
              "      gap: 12px;\n",
              "    }\n",
              "\n",
              "    .colab-df-convert {\n",
              "      background-color: #E8F0FE;\n",
              "      border: none;\n",
              "      border-radius: 50%;\n",
              "      cursor: pointer;\n",
              "      display: none;\n",
              "      fill: #1967D2;\n",
              "      height: 32px;\n",
              "      padding: 0 0 0 0;\n",
              "      width: 32px;\n",
              "    }\n",
              "\n",
              "    .colab-df-convert:hover {\n",
              "      background-color: #E2EBFA;\n",
              "      box-shadow: 0px 1px 2px rgba(60, 64, 67, 0.3), 0px 1px 3px 1px rgba(60, 64, 67, 0.15);\n",
              "      fill: #174EA6;\n",
              "    }\n",
              "\n",
              "    .colab-df-buttons div {\n",
              "      margin-bottom: 4px;\n",
              "    }\n",
              "\n",
              "    [theme=dark] .colab-df-convert {\n",
              "      background-color: #3B4455;\n",
              "      fill: #D2E3FC;\n",
              "    }\n",
              "\n",
              "    [theme=dark] .colab-df-convert:hover {\n",
              "      background-color: #434B5C;\n",
              "      box-shadow: 0px 1px 3px 1px rgba(0, 0, 0, 0.15);\n",
              "      filter: drop-shadow(0px 1px 2px rgba(0, 0, 0, 0.3));\n",
              "      fill: #FFFFFF;\n",
              "    }\n",
              "  </style>\n",
              "\n",
              "    <script>\n",
              "      const buttonEl =\n",
              "        document.querySelector('#df-0c5d296c-fc1c-4129-8f45-2a2e8e2fc55f button.colab-df-convert');\n",
              "      buttonEl.style.display =\n",
              "        google.colab.kernel.accessAllowed ? 'block' : 'none';\n",
              "\n",
              "      async function convertToInteractive(key) {\n",
              "        const element = document.querySelector('#df-0c5d296c-fc1c-4129-8f45-2a2e8e2fc55f');\n",
              "        const dataTable =\n",
              "          await google.colab.kernel.invokeFunction('convertToInteractive',\n",
              "                                                    [key], {});\n",
              "        if (!dataTable) return;\n",
              "\n",
              "        const docLinkHtml = 'Like what you see? Visit the ' +\n",
              "          '<a target=\"_blank\" href=https://colab.research.google.com/notebooks/data_table.ipynb>data table notebook</a>'\n",
              "          + ' to learn more about interactive tables.';\n",
              "        element.innerHTML = '';\n",
              "        dataTable['output_type'] = 'display_data';\n",
              "        await google.colab.output.renderOutput(dataTable, element);\n",
              "        const docLink = document.createElement('div');\n",
              "        docLink.innerHTML = docLinkHtml;\n",
              "        element.appendChild(docLink);\n",
              "      }\n",
              "    </script>\n",
              "  </div>\n",
              "\n",
              "\n",
              "<div id=\"df-bb35bab6-3c71-4ab7-a8d7-d8d47ef2cb95\">\n",
              "  <button class=\"colab-df-quickchart\" onclick=\"quickchart('df-bb35bab6-3c71-4ab7-a8d7-d8d47ef2cb95')\"\n",
              "            title=\"Suggest charts\"\n",
              "            style=\"display:none;\">\n",
              "\n",
              "<svg xmlns=\"http://www.w3.org/2000/svg\" height=\"24px\"viewBox=\"0 0 24 24\"\n",
              "     width=\"24px\">\n",
              "    <g>\n",
              "        <path d=\"M19 3H5c-1.1 0-2 .9-2 2v14c0 1.1.9 2 2 2h14c1.1 0 2-.9 2-2V5c0-1.1-.9-2-2-2zM9 17H7v-7h2v7zm4 0h-2V7h2v10zm4 0h-2v-4h2v4z\"/>\n",
              "    </g>\n",
              "</svg>\n",
              "  </button>\n",
              "\n",
              "<style>\n",
              "  .colab-df-quickchart {\n",
              "      --bg-color: #E8F0FE;\n",
              "      --fill-color: #1967D2;\n",
              "      --hover-bg-color: #E2EBFA;\n",
              "      --hover-fill-color: #174EA6;\n",
              "      --disabled-fill-color: #AAA;\n",
              "      --disabled-bg-color: #DDD;\n",
              "  }\n",
              "\n",
              "  [theme=dark] .colab-df-quickchart {\n",
              "      --bg-color: #3B4455;\n",
              "      --fill-color: #D2E3FC;\n",
              "      --hover-bg-color: #434B5C;\n",
              "      --hover-fill-color: #FFFFFF;\n",
              "      --disabled-bg-color: #3B4455;\n",
              "      --disabled-fill-color: #666;\n",
              "  }\n",
              "\n",
              "  .colab-df-quickchart {\n",
              "    background-color: var(--bg-color);\n",
              "    border: none;\n",
              "    border-radius: 50%;\n",
              "    cursor: pointer;\n",
              "    display: none;\n",
              "    fill: var(--fill-color);\n",
              "    height: 32px;\n",
              "    padding: 0;\n",
              "    width: 32px;\n",
              "  }\n",
              "\n",
              "  .colab-df-quickchart:hover {\n",
              "    background-color: var(--hover-bg-color);\n",
              "    box-shadow: 0 1px 2px rgba(60, 64, 67, 0.3), 0 1px 3px 1px rgba(60, 64, 67, 0.15);\n",
              "    fill: var(--button-hover-fill-color);\n",
              "  }\n",
              "\n",
              "  .colab-df-quickchart-complete:disabled,\n",
              "  .colab-df-quickchart-complete:disabled:hover {\n",
              "    background-color: var(--disabled-bg-color);\n",
              "    fill: var(--disabled-fill-color);\n",
              "    box-shadow: none;\n",
              "  }\n",
              "\n",
              "  .colab-df-spinner {\n",
              "    border: 2px solid var(--fill-color);\n",
              "    border-color: transparent;\n",
              "    border-bottom-color: var(--fill-color);\n",
              "    animation:\n",
              "      spin 1s steps(1) infinite;\n",
              "  }\n",
              "\n",
              "  @keyframes spin {\n",
              "    0% {\n",
              "      border-color: transparent;\n",
              "      border-bottom-color: var(--fill-color);\n",
              "      border-left-color: var(--fill-color);\n",
              "    }\n",
              "    20% {\n",
              "      border-color: transparent;\n",
              "      border-left-color: var(--fill-color);\n",
              "      border-top-color: var(--fill-color);\n",
              "    }\n",
              "    30% {\n",
              "      border-color: transparent;\n",
              "      border-left-color: var(--fill-color);\n",
              "      border-top-color: var(--fill-color);\n",
              "      border-right-color: var(--fill-color);\n",
              "    }\n",
              "    40% {\n",
              "      border-color: transparent;\n",
              "      border-right-color: var(--fill-color);\n",
              "      border-top-color: var(--fill-color);\n",
              "    }\n",
              "    60% {\n",
              "      border-color: transparent;\n",
              "      border-right-color: var(--fill-color);\n",
              "    }\n",
              "    80% {\n",
              "      border-color: transparent;\n",
              "      border-right-color: var(--fill-color);\n",
              "      border-bottom-color: var(--fill-color);\n",
              "    }\n",
              "    90% {\n",
              "      border-color: transparent;\n",
              "      border-bottom-color: var(--fill-color);\n",
              "    }\n",
              "  }\n",
              "</style>\n",
              "\n",
              "  <script>\n",
              "    async function quickchart(key) {\n",
              "      const quickchartButtonEl =\n",
              "        document.querySelector('#' + key + ' button');\n",
              "      quickchartButtonEl.disabled = true;  // To prevent multiple clicks.\n",
              "      quickchartButtonEl.classList.add('colab-df-spinner');\n",
              "      try {\n",
              "        const charts = await google.colab.kernel.invokeFunction(\n",
              "            'suggestCharts', [key], {});\n",
              "      } catch (error) {\n",
              "        console.error('Error during call to suggestCharts:', error);\n",
              "      }\n",
              "      quickchartButtonEl.classList.remove('colab-df-spinner');\n",
              "      quickchartButtonEl.classList.add('colab-df-quickchart-complete');\n",
              "    }\n",
              "    (() => {\n",
              "      let quickchartButtonEl =\n",
              "        document.querySelector('#df-bb35bab6-3c71-4ab7-a8d7-d8d47ef2cb95 button');\n",
              "      quickchartButtonEl.style.display =\n",
              "        google.colab.kernel.accessAllowed ? 'block' : 'none';\n",
              "    })();\n",
              "  </script>\n",
              "</div>\n",
              "    </div>\n",
              "  </div>\n"
            ],
            "application/vnd.google.colaboratory.intrinsic+json": {
              "type": "dataframe",
              "variable_name": "df"
            }
          },
          "metadata": {},
          "execution_count": 6
        }
      ]
    },
    {
      "cell_type": "code",
      "source": [
        "df.describe()"
      ],
      "metadata": {
        "colab": {
          "base_uri": "https://localhost:8080/",
          "height": 350
        },
        "id": "qx0UoErnnwTU",
        "outputId": "43231a2b-6556-40f1-d097-19337f289176"
      },
      "execution_count": 7,
      "outputs": [
        {
          "output_type": "execute_result",
          "data": {
            "text/plain": [
              "          patientId        value0        value1        value2        value3  \\\n",
              "count  53500.000000  53500.000000  53500.000000  53500.000000  53500.000000   \n",
              "mean      47.075701      0.059627      0.071558      0.145819      0.218728   \n",
              "std       27.414240      0.174243      0.196921      0.300270      0.359163   \n",
              "min        0.000000      0.000000      0.000000      0.000000      0.000000   \n",
              "25%       23.000000      0.000000      0.000000      0.000000      0.000000   \n",
              "50%       46.000000      0.000000      0.000000      0.000000      0.000000   \n",
              "75%       70.000000      0.000000      0.000000      0.000000      0.446429   \n",
              "max       96.000000      1.000000      1.000000      1.000000      1.000000   \n",
              "\n",
              "             value4        value5        value6        value7        value8  \\\n",
              "count  53500.000000  53500.000000  53500.000000  53500.000000  53500.000000   \n",
              "mean       0.274762      0.276189      0.204531      0.062281     -0.042025   \n",
              "std        0.378862      0.369605      0.351294      0.292232      0.268391   \n",
              "min        0.000000     -0.250000     -0.250000     -0.250000     -0.250000   \n",
              "25%        0.000000      0.000000      0.000000      0.000000     -0.250000   \n",
              "50%        0.000000      0.000000      0.000000      0.000000      0.000000   \n",
              "75%        0.684477      0.662382      0.441412      0.000000      0.000000   \n",
              "max        0.998790      0.996468      0.999334      1.000000      1.000000   \n",
              "\n",
              "       ...      value375      value376      value377      value378  \\\n",
              "count  ...  53500.000000  53500.000000  53500.000000  53500.000000   \n",
              "mean   ...     -0.029404      0.182913      0.320112      0.359373   \n",
              "std    ...      0.085817      0.383333      0.463517      0.478188   \n",
              "min    ...     -0.250000      0.000000      0.000000      0.000000   \n",
              "25%    ...      0.000000      0.000000      0.000000      0.000000   \n",
              "50%    ...      0.000000      0.000000      0.000000      0.000000   \n",
              "75%    ...      0.000000      0.000000      0.996286      0.999677   \n",
              "max    ...      0.961279      1.000000      1.000000      1.000000   \n",
              "\n",
              "           value379      value380      value381      value382      value383  \\\n",
              "count  53500.000000  53500.000000  53500.000000  53500.000000  53500.000000   \n",
              "mean       0.342889      0.266091      0.083049     -0.031146     -0.154524   \n",
              "std        0.471811      0.437633      0.279734      0.098738      0.122491   \n",
              "min        0.000000      0.000000     -0.250000     -0.250000     -0.250000   \n",
              "25%        0.000000      0.000000      0.000000      0.000000     -0.250000   \n",
              "50%        0.000000      0.000000      0.000000      0.000000     -0.250000   \n",
              "75%        0.999560      0.949478      0.000000      0.000000      0.000000   \n",
              "max        1.000000      1.000000      0.999857      0.996839      0.942851   \n",
              "\n",
              "          reference  \n",
              "count  53500.000000  \n",
              "mean      47.028039  \n",
              "std       22.347042  \n",
              "min        1.738733  \n",
              "25%       29.891607  \n",
              "50%       43.987893  \n",
              "75%       63.735059  \n",
              "max       97.489115  \n",
              "\n",
              "[8 rows x 386 columns]"
            ],
            "text/html": [
              "\n",
              "  <div id=\"df-f15cbd26-2471-4b2b-837a-0a46123c1cac\" class=\"colab-df-container\">\n",
              "    <div>\n",
              "<style scoped>\n",
              "    .dataframe tbody tr th:only-of-type {\n",
              "        vertical-align: middle;\n",
              "    }\n",
              "\n",
              "    .dataframe tbody tr th {\n",
              "        vertical-align: top;\n",
              "    }\n",
              "\n",
              "    .dataframe thead th {\n",
              "        text-align: right;\n",
              "    }\n",
              "</style>\n",
              "<table border=\"1\" class=\"dataframe\">\n",
              "  <thead>\n",
              "    <tr style=\"text-align: right;\">\n",
              "      <th></th>\n",
              "      <th>patientId</th>\n",
              "      <th>value0</th>\n",
              "      <th>value1</th>\n",
              "      <th>value2</th>\n",
              "      <th>value3</th>\n",
              "      <th>value4</th>\n",
              "      <th>value5</th>\n",
              "      <th>value6</th>\n",
              "      <th>value7</th>\n",
              "      <th>value8</th>\n",
              "      <th>...</th>\n",
              "      <th>value375</th>\n",
              "      <th>value376</th>\n",
              "      <th>value377</th>\n",
              "      <th>value378</th>\n",
              "      <th>value379</th>\n",
              "      <th>value380</th>\n",
              "      <th>value381</th>\n",
              "      <th>value382</th>\n",
              "      <th>value383</th>\n",
              "      <th>reference</th>\n",
              "    </tr>\n",
              "  </thead>\n",
              "  <tbody>\n",
              "    <tr>\n",
              "      <th>count</th>\n",
              "      <td>53500.000000</td>\n",
              "      <td>53500.000000</td>\n",
              "      <td>53500.000000</td>\n",
              "      <td>53500.000000</td>\n",
              "      <td>53500.000000</td>\n",
              "      <td>53500.000000</td>\n",
              "      <td>53500.000000</td>\n",
              "      <td>53500.000000</td>\n",
              "      <td>53500.000000</td>\n",
              "      <td>53500.000000</td>\n",
              "      <td>...</td>\n",
              "      <td>53500.000000</td>\n",
              "      <td>53500.000000</td>\n",
              "      <td>53500.000000</td>\n",
              "      <td>53500.000000</td>\n",
              "      <td>53500.000000</td>\n",
              "      <td>53500.000000</td>\n",
              "      <td>53500.000000</td>\n",
              "      <td>53500.000000</td>\n",
              "      <td>53500.000000</td>\n",
              "      <td>53500.000000</td>\n",
              "    </tr>\n",
              "    <tr>\n",
              "      <th>mean</th>\n",
              "      <td>47.075701</td>\n",
              "      <td>0.059627</td>\n",
              "      <td>0.071558</td>\n",
              "      <td>0.145819</td>\n",
              "      <td>0.218728</td>\n",
              "      <td>0.274762</td>\n",
              "      <td>0.276189</td>\n",
              "      <td>0.204531</td>\n",
              "      <td>0.062281</td>\n",
              "      <td>-0.042025</td>\n",
              "      <td>...</td>\n",
              "      <td>-0.029404</td>\n",
              "      <td>0.182913</td>\n",
              "      <td>0.320112</td>\n",
              "      <td>0.359373</td>\n",
              "      <td>0.342889</td>\n",
              "      <td>0.266091</td>\n",
              "      <td>0.083049</td>\n",
              "      <td>-0.031146</td>\n",
              "      <td>-0.154524</td>\n",
              "      <td>47.028039</td>\n",
              "    </tr>\n",
              "    <tr>\n",
              "      <th>std</th>\n",
              "      <td>27.414240</td>\n",
              "      <td>0.174243</td>\n",
              "      <td>0.196921</td>\n",
              "      <td>0.300270</td>\n",
              "      <td>0.359163</td>\n",
              "      <td>0.378862</td>\n",
              "      <td>0.369605</td>\n",
              "      <td>0.351294</td>\n",
              "      <td>0.292232</td>\n",
              "      <td>0.268391</td>\n",
              "      <td>...</td>\n",
              "      <td>0.085817</td>\n",
              "      <td>0.383333</td>\n",
              "      <td>0.463517</td>\n",
              "      <td>0.478188</td>\n",
              "      <td>0.471811</td>\n",
              "      <td>0.437633</td>\n",
              "      <td>0.279734</td>\n",
              "      <td>0.098738</td>\n",
              "      <td>0.122491</td>\n",
              "      <td>22.347042</td>\n",
              "    </tr>\n",
              "    <tr>\n",
              "      <th>min</th>\n",
              "      <td>0.000000</td>\n",
              "      <td>0.000000</td>\n",
              "      <td>0.000000</td>\n",
              "      <td>0.000000</td>\n",
              "      <td>0.000000</td>\n",
              "      <td>0.000000</td>\n",
              "      <td>-0.250000</td>\n",
              "      <td>-0.250000</td>\n",
              "      <td>-0.250000</td>\n",
              "      <td>-0.250000</td>\n",
              "      <td>...</td>\n",
              "      <td>-0.250000</td>\n",
              "      <td>0.000000</td>\n",
              "      <td>0.000000</td>\n",
              "      <td>0.000000</td>\n",
              "      <td>0.000000</td>\n",
              "      <td>0.000000</td>\n",
              "      <td>-0.250000</td>\n",
              "      <td>-0.250000</td>\n",
              "      <td>-0.250000</td>\n",
              "      <td>1.738733</td>\n",
              "    </tr>\n",
              "    <tr>\n",
              "      <th>25%</th>\n",
              "      <td>23.000000</td>\n",
              "      <td>0.000000</td>\n",
              "      <td>0.000000</td>\n",
              "      <td>0.000000</td>\n",
              "      <td>0.000000</td>\n",
              "      <td>0.000000</td>\n",
              "      <td>0.000000</td>\n",
              "      <td>0.000000</td>\n",
              "      <td>0.000000</td>\n",
              "      <td>-0.250000</td>\n",
              "      <td>...</td>\n",
              "      <td>0.000000</td>\n",
              "      <td>0.000000</td>\n",
              "      <td>0.000000</td>\n",
              "      <td>0.000000</td>\n",
              "      <td>0.000000</td>\n",
              "      <td>0.000000</td>\n",
              "      <td>0.000000</td>\n",
              "      <td>0.000000</td>\n",
              "      <td>-0.250000</td>\n",
              "      <td>29.891607</td>\n",
              "    </tr>\n",
              "    <tr>\n",
              "      <th>50%</th>\n",
              "      <td>46.000000</td>\n",
              "      <td>0.000000</td>\n",
              "      <td>0.000000</td>\n",
              "      <td>0.000000</td>\n",
              "      <td>0.000000</td>\n",
              "      <td>0.000000</td>\n",
              "      <td>0.000000</td>\n",
              "      <td>0.000000</td>\n",
              "      <td>0.000000</td>\n",
              "      <td>0.000000</td>\n",
              "      <td>...</td>\n",
              "      <td>0.000000</td>\n",
              "      <td>0.000000</td>\n",
              "      <td>0.000000</td>\n",
              "      <td>0.000000</td>\n",
              "      <td>0.000000</td>\n",
              "      <td>0.000000</td>\n",
              "      <td>0.000000</td>\n",
              "      <td>0.000000</td>\n",
              "      <td>-0.250000</td>\n",
              "      <td>43.987893</td>\n",
              "    </tr>\n",
              "    <tr>\n",
              "      <th>75%</th>\n",
              "      <td>70.000000</td>\n",
              "      <td>0.000000</td>\n",
              "      <td>0.000000</td>\n",
              "      <td>0.000000</td>\n",
              "      <td>0.446429</td>\n",
              "      <td>0.684477</td>\n",
              "      <td>0.662382</td>\n",
              "      <td>0.441412</td>\n",
              "      <td>0.000000</td>\n",
              "      <td>0.000000</td>\n",
              "      <td>...</td>\n",
              "      <td>0.000000</td>\n",
              "      <td>0.000000</td>\n",
              "      <td>0.996286</td>\n",
              "      <td>0.999677</td>\n",
              "      <td>0.999560</td>\n",
              "      <td>0.949478</td>\n",
              "      <td>0.000000</td>\n",
              "      <td>0.000000</td>\n",
              "      <td>0.000000</td>\n",
              "      <td>63.735059</td>\n",
              "    </tr>\n",
              "    <tr>\n",
              "      <th>max</th>\n",
              "      <td>96.000000</td>\n",
              "      <td>1.000000</td>\n",
              "      <td>1.000000</td>\n",
              "      <td>1.000000</td>\n",
              "      <td>1.000000</td>\n",
              "      <td>0.998790</td>\n",
              "      <td>0.996468</td>\n",
              "      <td>0.999334</td>\n",
              "      <td>1.000000</td>\n",
              "      <td>1.000000</td>\n",
              "      <td>...</td>\n",
              "      <td>0.961279</td>\n",
              "      <td>1.000000</td>\n",
              "      <td>1.000000</td>\n",
              "      <td>1.000000</td>\n",
              "      <td>1.000000</td>\n",
              "      <td>1.000000</td>\n",
              "      <td>0.999857</td>\n",
              "      <td>0.996839</td>\n",
              "      <td>0.942851</td>\n",
              "      <td>97.489115</td>\n",
              "    </tr>\n",
              "  </tbody>\n",
              "</table>\n",
              "<p>8 rows × 386 columns</p>\n",
              "</div>\n",
              "    <div class=\"colab-df-buttons\">\n",
              "\n",
              "  <div class=\"colab-df-container\">\n",
              "    <button class=\"colab-df-convert\" onclick=\"convertToInteractive('df-f15cbd26-2471-4b2b-837a-0a46123c1cac')\"\n",
              "            title=\"Convert this dataframe to an interactive table.\"\n",
              "            style=\"display:none;\">\n",
              "\n",
              "  <svg xmlns=\"http://www.w3.org/2000/svg\" height=\"24px\" viewBox=\"0 -960 960 960\">\n",
              "    <path d=\"M120-120v-720h720v720H120Zm60-500h600v-160H180v160Zm220 220h160v-160H400v160Zm0 220h160v-160H400v160ZM180-400h160v-160H180v160Zm440 0h160v-160H620v160ZM180-180h160v-160H180v160Zm440 0h160v-160H620v160Z\"/>\n",
              "  </svg>\n",
              "    </button>\n",
              "\n",
              "  <style>\n",
              "    .colab-df-container {\n",
              "      display:flex;\n",
              "      gap: 12px;\n",
              "    }\n",
              "\n",
              "    .colab-df-convert {\n",
              "      background-color: #E8F0FE;\n",
              "      border: none;\n",
              "      border-radius: 50%;\n",
              "      cursor: pointer;\n",
              "      display: none;\n",
              "      fill: #1967D2;\n",
              "      height: 32px;\n",
              "      padding: 0 0 0 0;\n",
              "      width: 32px;\n",
              "    }\n",
              "\n",
              "    .colab-df-convert:hover {\n",
              "      background-color: #E2EBFA;\n",
              "      box-shadow: 0px 1px 2px rgba(60, 64, 67, 0.3), 0px 1px 3px 1px rgba(60, 64, 67, 0.15);\n",
              "      fill: #174EA6;\n",
              "    }\n",
              "\n",
              "    .colab-df-buttons div {\n",
              "      margin-bottom: 4px;\n",
              "    }\n",
              "\n",
              "    [theme=dark] .colab-df-convert {\n",
              "      background-color: #3B4455;\n",
              "      fill: #D2E3FC;\n",
              "    }\n",
              "\n",
              "    [theme=dark] .colab-df-convert:hover {\n",
              "      background-color: #434B5C;\n",
              "      box-shadow: 0px 1px 3px 1px rgba(0, 0, 0, 0.15);\n",
              "      filter: drop-shadow(0px 1px 2px rgba(0, 0, 0, 0.3));\n",
              "      fill: #FFFFFF;\n",
              "    }\n",
              "  </style>\n",
              "\n",
              "    <script>\n",
              "      const buttonEl =\n",
              "        document.querySelector('#df-f15cbd26-2471-4b2b-837a-0a46123c1cac button.colab-df-convert');\n",
              "      buttonEl.style.display =\n",
              "        google.colab.kernel.accessAllowed ? 'block' : 'none';\n",
              "\n",
              "      async function convertToInteractive(key) {\n",
              "        const element = document.querySelector('#df-f15cbd26-2471-4b2b-837a-0a46123c1cac');\n",
              "        const dataTable =\n",
              "          await google.colab.kernel.invokeFunction('convertToInteractive',\n",
              "                                                    [key], {});\n",
              "        if (!dataTable) return;\n",
              "\n",
              "        const docLinkHtml = 'Like what you see? Visit the ' +\n",
              "          '<a target=\"_blank\" href=https://colab.research.google.com/notebooks/data_table.ipynb>data table notebook</a>'\n",
              "          + ' to learn more about interactive tables.';\n",
              "        element.innerHTML = '';\n",
              "        dataTable['output_type'] = 'display_data';\n",
              "        await google.colab.output.renderOutput(dataTable, element);\n",
              "        const docLink = document.createElement('div');\n",
              "        docLink.innerHTML = docLinkHtml;\n",
              "        element.appendChild(docLink);\n",
              "      }\n",
              "    </script>\n",
              "  </div>\n",
              "\n",
              "\n",
              "<div id=\"df-f8327c70-2d27-4235-942b-30bd59ee9e7d\">\n",
              "  <button class=\"colab-df-quickchart\" onclick=\"quickchart('df-f8327c70-2d27-4235-942b-30bd59ee9e7d')\"\n",
              "            title=\"Suggest charts\"\n",
              "            style=\"display:none;\">\n",
              "\n",
              "<svg xmlns=\"http://www.w3.org/2000/svg\" height=\"24px\"viewBox=\"0 0 24 24\"\n",
              "     width=\"24px\">\n",
              "    <g>\n",
              "        <path d=\"M19 3H5c-1.1 0-2 .9-2 2v14c0 1.1.9 2 2 2h14c1.1 0 2-.9 2-2V5c0-1.1-.9-2-2-2zM9 17H7v-7h2v7zm4 0h-2V7h2v10zm4 0h-2v-4h2v4z\"/>\n",
              "    </g>\n",
              "</svg>\n",
              "  </button>\n",
              "\n",
              "<style>\n",
              "  .colab-df-quickchart {\n",
              "      --bg-color: #E8F0FE;\n",
              "      --fill-color: #1967D2;\n",
              "      --hover-bg-color: #E2EBFA;\n",
              "      --hover-fill-color: #174EA6;\n",
              "      --disabled-fill-color: #AAA;\n",
              "      --disabled-bg-color: #DDD;\n",
              "  }\n",
              "\n",
              "  [theme=dark] .colab-df-quickchart {\n",
              "      --bg-color: #3B4455;\n",
              "      --fill-color: #D2E3FC;\n",
              "      --hover-bg-color: #434B5C;\n",
              "      --hover-fill-color: #FFFFFF;\n",
              "      --disabled-bg-color: #3B4455;\n",
              "      --disabled-fill-color: #666;\n",
              "  }\n",
              "\n",
              "  .colab-df-quickchart {\n",
              "    background-color: var(--bg-color);\n",
              "    border: none;\n",
              "    border-radius: 50%;\n",
              "    cursor: pointer;\n",
              "    display: none;\n",
              "    fill: var(--fill-color);\n",
              "    height: 32px;\n",
              "    padding: 0;\n",
              "    width: 32px;\n",
              "  }\n",
              "\n",
              "  .colab-df-quickchart:hover {\n",
              "    background-color: var(--hover-bg-color);\n",
              "    box-shadow: 0 1px 2px rgba(60, 64, 67, 0.3), 0 1px 3px 1px rgba(60, 64, 67, 0.15);\n",
              "    fill: var(--button-hover-fill-color);\n",
              "  }\n",
              "\n",
              "  .colab-df-quickchart-complete:disabled,\n",
              "  .colab-df-quickchart-complete:disabled:hover {\n",
              "    background-color: var(--disabled-bg-color);\n",
              "    fill: var(--disabled-fill-color);\n",
              "    box-shadow: none;\n",
              "  }\n",
              "\n",
              "  .colab-df-spinner {\n",
              "    border: 2px solid var(--fill-color);\n",
              "    border-color: transparent;\n",
              "    border-bottom-color: var(--fill-color);\n",
              "    animation:\n",
              "      spin 1s steps(1) infinite;\n",
              "  }\n",
              "\n",
              "  @keyframes spin {\n",
              "    0% {\n",
              "      border-color: transparent;\n",
              "      border-bottom-color: var(--fill-color);\n",
              "      border-left-color: var(--fill-color);\n",
              "    }\n",
              "    20% {\n",
              "      border-color: transparent;\n",
              "      border-left-color: var(--fill-color);\n",
              "      border-top-color: var(--fill-color);\n",
              "    }\n",
              "    30% {\n",
              "      border-color: transparent;\n",
              "      border-left-color: var(--fill-color);\n",
              "      border-top-color: var(--fill-color);\n",
              "      border-right-color: var(--fill-color);\n",
              "    }\n",
              "    40% {\n",
              "      border-color: transparent;\n",
              "      border-right-color: var(--fill-color);\n",
              "      border-top-color: var(--fill-color);\n",
              "    }\n",
              "    60% {\n",
              "      border-color: transparent;\n",
              "      border-right-color: var(--fill-color);\n",
              "    }\n",
              "    80% {\n",
              "      border-color: transparent;\n",
              "      border-right-color: var(--fill-color);\n",
              "      border-bottom-color: var(--fill-color);\n",
              "    }\n",
              "    90% {\n",
              "      border-color: transparent;\n",
              "      border-bottom-color: var(--fill-color);\n",
              "    }\n",
              "  }\n",
              "</style>\n",
              "\n",
              "  <script>\n",
              "    async function quickchart(key) {\n",
              "      const quickchartButtonEl =\n",
              "        document.querySelector('#' + key + ' button');\n",
              "      quickchartButtonEl.disabled = true;  // To prevent multiple clicks.\n",
              "      quickchartButtonEl.classList.add('colab-df-spinner');\n",
              "      try {\n",
              "        const charts = await google.colab.kernel.invokeFunction(\n",
              "            'suggestCharts', [key], {});\n",
              "      } catch (error) {\n",
              "        console.error('Error during call to suggestCharts:', error);\n",
              "      }\n",
              "      quickchartButtonEl.classList.remove('colab-df-spinner');\n",
              "      quickchartButtonEl.classList.add('colab-df-quickchart-complete');\n",
              "    }\n",
              "    (() => {\n",
              "      let quickchartButtonEl =\n",
              "        document.querySelector('#df-f8327c70-2d27-4235-942b-30bd59ee9e7d button');\n",
              "      quickchartButtonEl.style.display =\n",
              "        google.colab.kernel.accessAllowed ? 'block' : 'none';\n",
              "    })();\n",
              "  </script>\n",
              "</div>\n",
              "    </div>\n",
              "  </div>\n"
            ],
            "application/vnd.google.colaboratory.intrinsic+json": {
              "type": "dataframe"
            }
          },
          "metadata": {},
          "execution_count": 7
        }
      ]
    },
    {
      "cell_type": "markdown",
      "source": [
        "Проверка на пропуски"
      ],
      "metadata": {
        "id": "vdPTPOkEOTv3"
      }
    },
    {
      "cell_type": "code",
      "source": [
        "df.isna().sum()"
      ],
      "metadata": {
        "id": "7vAg-ZE_ny41",
        "colab": {
          "base_uri": "https://localhost:8080/",
          "height": 458
        },
        "outputId": "005f8901-d9f3-4deb-92fe-6ff4f3454978"
      },
      "execution_count": 8,
      "outputs": [
        {
          "output_type": "execute_result",
          "data": {
            "text/plain": [
              "patientId    0\n",
              "value0       0\n",
              "value1       0\n",
              "value2       0\n",
              "value3       0\n",
              "            ..\n",
              "value380     0\n",
              "value381     0\n",
              "value382     0\n",
              "value383     0\n",
              "reference    0\n",
              "Length: 386, dtype: int64"
            ],
            "text/html": [
              "<div>\n",
              "<style scoped>\n",
              "    .dataframe tbody tr th:only-of-type {\n",
              "        vertical-align: middle;\n",
              "    }\n",
              "\n",
              "    .dataframe tbody tr th {\n",
              "        vertical-align: top;\n",
              "    }\n",
              "\n",
              "    .dataframe thead th {\n",
              "        text-align: right;\n",
              "    }\n",
              "</style>\n",
              "<table border=\"1\" class=\"dataframe\">\n",
              "  <thead>\n",
              "    <tr style=\"text-align: right;\">\n",
              "      <th></th>\n",
              "      <th>0</th>\n",
              "    </tr>\n",
              "  </thead>\n",
              "  <tbody>\n",
              "    <tr>\n",
              "      <th>patientId</th>\n",
              "      <td>0</td>\n",
              "    </tr>\n",
              "    <tr>\n",
              "      <th>value0</th>\n",
              "      <td>0</td>\n",
              "    </tr>\n",
              "    <tr>\n",
              "      <th>value1</th>\n",
              "      <td>0</td>\n",
              "    </tr>\n",
              "    <tr>\n",
              "      <th>value2</th>\n",
              "      <td>0</td>\n",
              "    </tr>\n",
              "    <tr>\n",
              "      <th>value3</th>\n",
              "      <td>0</td>\n",
              "    </tr>\n",
              "    <tr>\n",
              "      <th>...</th>\n",
              "      <td>...</td>\n",
              "    </tr>\n",
              "    <tr>\n",
              "      <th>value380</th>\n",
              "      <td>0</td>\n",
              "    </tr>\n",
              "    <tr>\n",
              "      <th>value381</th>\n",
              "      <td>0</td>\n",
              "    </tr>\n",
              "    <tr>\n",
              "      <th>value382</th>\n",
              "      <td>0</td>\n",
              "    </tr>\n",
              "    <tr>\n",
              "      <th>value383</th>\n",
              "      <td>0</td>\n",
              "    </tr>\n",
              "    <tr>\n",
              "      <th>reference</th>\n",
              "      <td>0</td>\n",
              "    </tr>\n",
              "  </tbody>\n",
              "</table>\n",
              "<p>386 rows × 1 columns</p>\n",
              "</div><br><label><b>dtype:</b> int64</label>"
            ]
          },
          "metadata": {},
          "execution_count": 8
        }
      ]
    },
    {
      "cell_type": "code",
      "source": [
        "def data_filtering(data):\n",
        "    colums_for_filtering = []\n",
        "\n",
        "    for i in data.columns:\n",
        "        amount_025 = list(data[i].values).count(-0.25) / len(data[i])\n",
        "        if amount_025 > 0.75:\n",
        "            colums_for_filtering.append(i)\n",
        "\n",
        "    print(len(colums_for_filtering))\n",
        "\n",
        "    data_filtered = data.drop(colums_for_filtering, axis = 1)\n",
        "\n",
        "    return data_filtered"
      ],
      "metadata": {
        "id": "jSyeM1eFQX1n"
      },
      "execution_count": 9,
      "outputs": []
    },
    {
      "cell_type": "code",
      "source": [
        "df_shuffle = df.sample(frac=1)"
      ],
      "metadata": {
        "id": "dRYnFynM3wVp"
      },
      "execution_count": 10,
      "outputs": []
    },
    {
      "cell_type": "code",
      "source": [
        "data_filtered = data_filtering(df_shuffle)\n",
        "data_filtered.info()"
      ],
      "metadata": {
        "colab": {
          "base_uri": "https://localhost:8080/"
        },
        "id": "43ohBe88SuGP",
        "outputId": "81dd046e-ea00-44ab-9d19-005c9c5b0e16"
      },
      "execution_count": 11,
      "outputs": [
        {
          "output_type": "stream",
          "name": "stdout",
          "text": [
            "44\n",
            "<class 'pandas.core.frame.DataFrame'>\n",
            "Index: 53500 entries, 1715 to 45051\n",
            "Columns: 342 entries, patientId to reference\n",
            "dtypes: float64(341), int64(1)\n",
            "memory usage: 140.0 MB\n"
          ]
        }
      ]
    },
    {
      "cell_type": "code",
      "source": [
        "df_shuffle.info()"
      ],
      "metadata": {
        "colab": {
          "base_uri": "https://localhost:8080/"
        },
        "id": "5gVtT8A6S3Jp",
        "outputId": "71713b2b-4b41-4771-b813-82cbfd1c8497"
      },
      "execution_count": 12,
      "outputs": [
        {
          "output_type": "stream",
          "name": "stdout",
          "text": [
            "<class 'pandas.core.frame.DataFrame'>\n",
            "Index: 53500 entries, 1715 to 45051\n",
            "Columns: 386 entries, patientId to reference\n",
            "dtypes: float64(385), int64(1)\n",
            "memory usage: 158.0 MB\n"
          ]
        }
      ]
    },
    {
      "cell_type": "markdown",
      "source": [
        "Разделяем данные для обучения"
      ],
      "metadata": {
        "id": "LTjKe7IyTIqA"
      }
    },
    {
      "cell_type": "code",
      "source": [
        "X = df_shuffle.drop('reference', axis=1)\n",
        "y = df_shuffle.reference.round()\n",
        "\n",
        "X_f = data_filtered.drop('reference', axis=1)\n",
        "y_f = data_filtered.reference.round()"
      ],
      "metadata": {
        "id": "q85usI_BS5J3"
      },
      "execution_count": 13,
      "outputs": []
    },
    {
      "cell_type": "code",
      "source": [
        "y.unique().shape"
      ],
      "metadata": {
        "colab": {
          "base_uri": "https://localhost:8080/"
        },
        "id": "7X_7V5dUfcDm",
        "outputId": "1e4c4aa5-0f2c-4c02-f36b-2963dcd659c9"
      },
      "execution_count": 14,
      "outputs": [
        {
          "output_type": "execute_result",
          "data": {
            "text/plain": [
              "(96,)"
            ]
          },
          "metadata": {},
          "execution_count": 14
        }
      ]
    },
    {
      "cell_type": "code",
      "source": [
        "X_train, X_test, y_train, y_test = train_test_split(X, y, test_size=0.3, random_state=RANDOM_STATE)\n",
        "X_f_train, X_f_test, y_f_train, y_f_test = train_test_split(X_f, y_f, test_size=0.3, random_state=RANDOM_STATE)"
      ],
      "metadata": {
        "id": "fNSBwxdHXj6Y"
      },
      "execution_count": 15,
      "outputs": []
    },
    {
      "cell_type": "code",
      "source": [
        "X.head()"
      ],
      "metadata": {
        "colab": {
          "base_uri": "https://localhost:8080/",
          "height": 256
        },
        "id": "8DLUt1qe2OQM",
        "outputId": "12620a5a-626d-4fe1-e52c-cac8a28f0606"
      },
      "execution_count": 16,
      "outputs": [
        {
          "output_type": "execute_result",
          "data": {
            "text/plain": [
              "       patientId  value0    value1    value2    value3    value4    value5  \\\n",
              "1715           3     0.0  0.000000  0.000000  0.000000  0.805455  0.949894   \n",
              "45436         82     0.0  0.000000  0.980133  0.984241  0.902298  0.000000   \n",
              "49983         89     0.0  0.000000  0.000000  0.000000  0.113565  0.910934   \n",
              "47094         85     0.0  0.000000  0.000000  0.000000  0.000000  0.562805   \n",
              "18360         33     0.0  0.754557  0.041026  0.000000  0.000000  0.000000   \n",
              "\n",
              "         value6    value7  value8  ...  value374  value375  value376  \\\n",
              "1715   0.000000  0.880435   -0.25  ...       0.0       0.0       0.0   \n",
              "45436  0.000000  0.000000    0.00  ...       0.0       0.0       0.0   \n",
              "49983  0.402516  0.000000    0.00  ...       0.0       0.0       0.0   \n",
              "47094  0.000000  0.000000    0.00  ...       0.0       0.0       0.0   \n",
              "18360  0.000000  0.000000    0.00  ...       0.0       0.0       0.0   \n",
              "\n",
              "       value377  value378  value379  value380  value381  value382  value383  \n",
              "1715   0.000000  0.000000  0.000000  0.000000       0.0       0.0     -0.25  \n",
              "45436  0.000000  0.000000  0.000000  0.000000       0.0       0.0      0.00  \n",
              "49983  0.000000  0.000000  0.000000  0.000000       0.0       0.0      0.00  \n",
              "47094  0.999537  0.999991  0.999996  0.998724       0.0       0.0     -0.25  \n",
              "18360  0.000000  0.000000  0.000000  0.000000       0.0       0.0      0.00  \n",
              "\n",
              "[5 rows x 385 columns]"
            ],
            "text/html": [
              "\n",
              "  <div id=\"df-4e9e9a04-00bf-4eab-8c5e-f0b28b4e204f\" class=\"colab-df-container\">\n",
              "    <div>\n",
              "<style scoped>\n",
              "    .dataframe tbody tr th:only-of-type {\n",
              "        vertical-align: middle;\n",
              "    }\n",
              "\n",
              "    .dataframe tbody tr th {\n",
              "        vertical-align: top;\n",
              "    }\n",
              "\n",
              "    .dataframe thead th {\n",
              "        text-align: right;\n",
              "    }\n",
              "</style>\n",
              "<table border=\"1\" class=\"dataframe\">\n",
              "  <thead>\n",
              "    <tr style=\"text-align: right;\">\n",
              "      <th></th>\n",
              "      <th>patientId</th>\n",
              "      <th>value0</th>\n",
              "      <th>value1</th>\n",
              "      <th>value2</th>\n",
              "      <th>value3</th>\n",
              "      <th>value4</th>\n",
              "      <th>value5</th>\n",
              "      <th>value6</th>\n",
              "      <th>value7</th>\n",
              "      <th>value8</th>\n",
              "      <th>...</th>\n",
              "      <th>value374</th>\n",
              "      <th>value375</th>\n",
              "      <th>value376</th>\n",
              "      <th>value377</th>\n",
              "      <th>value378</th>\n",
              "      <th>value379</th>\n",
              "      <th>value380</th>\n",
              "      <th>value381</th>\n",
              "      <th>value382</th>\n",
              "      <th>value383</th>\n",
              "    </tr>\n",
              "  </thead>\n",
              "  <tbody>\n",
              "    <tr>\n",
              "      <th>1715</th>\n",
              "      <td>3</td>\n",
              "      <td>0.0</td>\n",
              "      <td>0.000000</td>\n",
              "      <td>0.000000</td>\n",
              "      <td>0.000000</td>\n",
              "      <td>0.805455</td>\n",
              "      <td>0.949894</td>\n",
              "      <td>0.000000</td>\n",
              "      <td>0.880435</td>\n",
              "      <td>-0.25</td>\n",
              "      <td>...</td>\n",
              "      <td>0.0</td>\n",
              "      <td>0.0</td>\n",
              "      <td>0.0</td>\n",
              "      <td>0.000000</td>\n",
              "      <td>0.000000</td>\n",
              "      <td>0.000000</td>\n",
              "      <td>0.000000</td>\n",
              "      <td>0.0</td>\n",
              "      <td>0.0</td>\n",
              "      <td>-0.25</td>\n",
              "    </tr>\n",
              "    <tr>\n",
              "      <th>45436</th>\n",
              "      <td>82</td>\n",
              "      <td>0.0</td>\n",
              "      <td>0.000000</td>\n",
              "      <td>0.980133</td>\n",
              "      <td>0.984241</td>\n",
              "      <td>0.902298</td>\n",
              "      <td>0.000000</td>\n",
              "      <td>0.000000</td>\n",
              "      <td>0.000000</td>\n",
              "      <td>0.00</td>\n",
              "      <td>...</td>\n",
              "      <td>0.0</td>\n",
              "      <td>0.0</td>\n",
              "      <td>0.0</td>\n",
              "      <td>0.000000</td>\n",
              "      <td>0.000000</td>\n",
              "      <td>0.000000</td>\n",
              "      <td>0.000000</td>\n",
              "      <td>0.0</td>\n",
              "      <td>0.0</td>\n",
              "      <td>0.00</td>\n",
              "    </tr>\n",
              "    <tr>\n",
              "      <th>49983</th>\n",
              "      <td>89</td>\n",
              "      <td>0.0</td>\n",
              "      <td>0.000000</td>\n",
              "      <td>0.000000</td>\n",
              "      <td>0.000000</td>\n",
              "      <td>0.113565</td>\n",
              "      <td>0.910934</td>\n",
              "      <td>0.402516</td>\n",
              "      <td>0.000000</td>\n",
              "      <td>0.00</td>\n",
              "      <td>...</td>\n",
              "      <td>0.0</td>\n",
              "      <td>0.0</td>\n",
              "      <td>0.0</td>\n",
              "      <td>0.000000</td>\n",
              "      <td>0.000000</td>\n",
              "      <td>0.000000</td>\n",
              "      <td>0.000000</td>\n",
              "      <td>0.0</td>\n",
              "      <td>0.0</td>\n",
              "      <td>0.00</td>\n",
              "    </tr>\n",
              "    <tr>\n",
              "      <th>47094</th>\n",
              "      <td>85</td>\n",
              "      <td>0.0</td>\n",
              "      <td>0.000000</td>\n",
              "      <td>0.000000</td>\n",
              "      <td>0.000000</td>\n",
              "      <td>0.000000</td>\n",
              "      <td>0.562805</td>\n",
              "      <td>0.000000</td>\n",
              "      <td>0.000000</td>\n",
              "      <td>0.00</td>\n",
              "      <td>...</td>\n",
              "      <td>0.0</td>\n",
              "      <td>0.0</td>\n",
              "      <td>0.0</td>\n",
              "      <td>0.999537</td>\n",
              "      <td>0.999991</td>\n",
              "      <td>0.999996</td>\n",
              "      <td>0.998724</td>\n",
              "      <td>0.0</td>\n",
              "      <td>0.0</td>\n",
              "      <td>-0.25</td>\n",
              "    </tr>\n",
              "    <tr>\n",
              "      <th>18360</th>\n",
              "      <td>33</td>\n",
              "      <td>0.0</td>\n",
              "      <td>0.754557</td>\n",
              "      <td>0.041026</td>\n",
              "      <td>0.000000</td>\n",
              "      <td>0.000000</td>\n",
              "      <td>0.000000</td>\n",
              "      <td>0.000000</td>\n",
              "      <td>0.000000</td>\n",
              "      <td>0.00</td>\n",
              "      <td>...</td>\n",
              "      <td>0.0</td>\n",
              "      <td>0.0</td>\n",
              "      <td>0.0</td>\n",
              "      <td>0.000000</td>\n",
              "      <td>0.000000</td>\n",
              "      <td>0.000000</td>\n",
              "      <td>0.000000</td>\n",
              "      <td>0.0</td>\n",
              "      <td>0.0</td>\n",
              "      <td>0.00</td>\n",
              "    </tr>\n",
              "  </tbody>\n",
              "</table>\n",
              "<p>5 rows × 385 columns</p>\n",
              "</div>\n",
              "    <div class=\"colab-df-buttons\">\n",
              "\n",
              "  <div class=\"colab-df-container\">\n",
              "    <button class=\"colab-df-convert\" onclick=\"convertToInteractive('df-4e9e9a04-00bf-4eab-8c5e-f0b28b4e204f')\"\n",
              "            title=\"Convert this dataframe to an interactive table.\"\n",
              "            style=\"display:none;\">\n",
              "\n",
              "  <svg xmlns=\"http://www.w3.org/2000/svg\" height=\"24px\" viewBox=\"0 -960 960 960\">\n",
              "    <path d=\"M120-120v-720h720v720H120Zm60-500h600v-160H180v160Zm220 220h160v-160H400v160Zm0 220h160v-160H400v160ZM180-400h160v-160H180v160Zm440 0h160v-160H620v160ZM180-180h160v-160H180v160Zm440 0h160v-160H620v160Z\"/>\n",
              "  </svg>\n",
              "    </button>\n",
              "\n",
              "  <style>\n",
              "    .colab-df-container {\n",
              "      display:flex;\n",
              "      gap: 12px;\n",
              "    }\n",
              "\n",
              "    .colab-df-convert {\n",
              "      background-color: #E8F0FE;\n",
              "      border: none;\n",
              "      border-radius: 50%;\n",
              "      cursor: pointer;\n",
              "      display: none;\n",
              "      fill: #1967D2;\n",
              "      height: 32px;\n",
              "      padding: 0 0 0 0;\n",
              "      width: 32px;\n",
              "    }\n",
              "\n",
              "    .colab-df-convert:hover {\n",
              "      background-color: #E2EBFA;\n",
              "      box-shadow: 0px 1px 2px rgba(60, 64, 67, 0.3), 0px 1px 3px 1px rgba(60, 64, 67, 0.15);\n",
              "      fill: #174EA6;\n",
              "    }\n",
              "\n",
              "    .colab-df-buttons div {\n",
              "      margin-bottom: 4px;\n",
              "    }\n",
              "\n",
              "    [theme=dark] .colab-df-convert {\n",
              "      background-color: #3B4455;\n",
              "      fill: #D2E3FC;\n",
              "    }\n",
              "\n",
              "    [theme=dark] .colab-df-convert:hover {\n",
              "      background-color: #434B5C;\n",
              "      box-shadow: 0px 1px 3px 1px rgba(0, 0, 0, 0.15);\n",
              "      filter: drop-shadow(0px 1px 2px rgba(0, 0, 0, 0.3));\n",
              "      fill: #FFFFFF;\n",
              "    }\n",
              "  </style>\n",
              "\n",
              "    <script>\n",
              "      const buttonEl =\n",
              "        document.querySelector('#df-4e9e9a04-00bf-4eab-8c5e-f0b28b4e204f button.colab-df-convert');\n",
              "      buttonEl.style.display =\n",
              "        google.colab.kernel.accessAllowed ? 'block' : 'none';\n",
              "\n",
              "      async function convertToInteractive(key) {\n",
              "        const element = document.querySelector('#df-4e9e9a04-00bf-4eab-8c5e-f0b28b4e204f');\n",
              "        const dataTable =\n",
              "          await google.colab.kernel.invokeFunction('convertToInteractive',\n",
              "                                                    [key], {});\n",
              "        if (!dataTable) return;\n",
              "\n",
              "        const docLinkHtml = 'Like what you see? Visit the ' +\n",
              "          '<a target=\"_blank\" href=https://colab.research.google.com/notebooks/data_table.ipynb>data table notebook</a>'\n",
              "          + ' to learn more about interactive tables.';\n",
              "        element.innerHTML = '';\n",
              "        dataTable['output_type'] = 'display_data';\n",
              "        await google.colab.output.renderOutput(dataTable, element);\n",
              "        const docLink = document.createElement('div');\n",
              "        docLink.innerHTML = docLinkHtml;\n",
              "        element.appendChild(docLink);\n",
              "      }\n",
              "    </script>\n",
              "  </div>\n",
              "\n",
              "\n",
              "<div id=\"df-0df6dbd9-82af-476c-9699-64b7ca453560\">\n",
              "  <button class=\"colab-df-quickchart\" onclick=\"quickchart('df-0df6dbd9-82af-476c-9699-64b7ca453560')\"\n",
              "            title=\"Suggest charts\"\n",
              "            style=\"display:none;\">\n",
              "\n",
              "<svg xmlns=\"http://www.w3.org/2000/svg\" height=\"24px\"viewBox=\"0 0 24 24\"\n",
              "     width=\"24px\">\n",
              "    <g>\n",
              "        <path d=\"M19 3H5c-1.1 0-2 .9-2 2v14c0 1.1.9 2 2 2h14c1.1 0 2-.9 2-2V5c0-1.1-.9-2-2-2zM9 17H7v-7h2v7zm4 0h-2V7h2v10zm4 0h-2v-4h2v4z\"/>\n",
              "    </g>\n",
              "</svg>\n",
              "  </button>\n",
              "\n",
              "<style>\n",
              "  .colab-df-quickchart {\n",
              "      --bg-color: #E8F0FE;\n",
              "      --fill-color: #1967D2;\n",
              "      --hover-bg-color: #E2EBFA;\n",
              "      --hover-fill-color: #174EA6;\n",
              "      --disabled-fill-color: #AAA;\n",
              "      --disabled-bg-color: #DDD;\n",
              "  }\n",
              "\n",
              "  [theme=dark] .colab-df-quickchart {\n",
              "      --bg-color: #3B4455;\n",
              "      --fill-color: #D2E3FC;\n",
              "      --hover-bg-color: #434B5C;\n",
              "      --hover-fill-color: #FFFFFF;\n",
              "      --disabled-bg-color: #3B4455;\n",
              "      --disabled-fill-color: #666;\n",
              "  }\n",
              "\n",
              "  .colab-df-quickchart {\n",
              "    background-color: var(--bg-color);\n",
              "    border: none;\n",
              "    border-radius: 50%;\n",
              "    cursor: pointer;\n",
              "    display: none;\n",
              "    fill: var(--fill-color);\n",
              "    height: 32px;\n",
              "    padding: 0;\n",
              "    width: 32px;\n",
              "  }\n",
              "\n",
              "  .colab-df-quickchart:hover {\n",
              "    background-color: var(--hover-bg-color);\n",
              "    box-shadow: 0 1px 2px rgba(60, 64, 67, 0.3), 0 1px 3px 1px rgba(60, 64, 67, 0.15);\n",
              "    fill: var(--button-hover-fill-color);\n",
              "  }\n",
              "\n",
              "  .colab-df-quickchart-complete:disabled,\n",
              "  .colab-df-quickchart-complete:disabled:hover {\n",
              "    background-color: var(--disabled-bg-color);\n",
              "    fill: var(--disabled-fill-color);\n",
              "    box-shadow: none;\n",
              "  }\n",
              "\n",
              "  .colab-df-spinner {\n",
              "    border: 2px solid var(--fill-color);\n",
              "    border-color: transparent;\n",
              "    border-bottom-color: var(--fill-color);\n",
              "    animation:\n",
              "      spin 1s steps(1) infinite;\n",
              "  }\n",
              "\n",
              "  @keyframes spin {\n",
              "    0% {\n",
              "      border-color: transparent;\n",
              "      border-bottom-color: var(--fill-color);\n",
              "      border-left-color: var(--fill-color);\n",
              "    }\n",
              "    20% {\n",
              "      border-color: transparent;\n",
              "      border-left-color: var(--fill-color);\n",
              "      border-top-color: var(--fill-color);\n",
              "    }\n",
              "    30% {\n",
              "      border-color: transparent;\n",
              "      border-left-color: var(--fill-color);\n",
              "      border-top-color: var(--fill-color);\n",
              "      border-right-color: var(--fill-color);\n",
              "    }\n",
              "    40% {\n",
              "      border-color: transparent;\n",
              "      border-right-color: var(--fill-color);\n",
              "      border-top-color: var(--fill-color);\n",
              "    }\n",
              "    60% {\n",
              "      border-color: transparent;\n",
              "      border-right-color: var(--fill-color);\n",
              "    }\n",
              "    80% {\n",
              "      border-color: transparent;\n",
              "      border-right-color: var(--fill-color);\n",
              "      border-bottom-color: var(--fill-color);\n",
              "    }\n",
              "    90% {\n",
              "      border-color: transparent;\n",
              "      border-bottom-color: var(--fill-color);\n",
              "    }\n",
              "  }\n",
              "</style>\n",
              "\n",
              "  <script>\n",
              "    async function quickchart(key) {\n",
              "      const quickchartButtonEl =\n",
              "        document.querySelector('#' + key + ' button');\n",
              "      quickchartButtonEl.disabled = true;  // To prevent multiple clicks.\n",
              "      quickchartButtonEl.classList.add('colab-df-spinner');\n",
              "      try {\n",
              "        const charts = await google.colab.kernel.invokeFunction(\n",
              "            'suggestCharts', [key], {});\n",
              "      } catch (error) {\n",
              "        console.error('Error during call to suggestCharts:', error);\n",
              "      }\n",
              "      quickchartButtonEl.classList.remove('colab-df-spinner');\n",
              "      quickchartButtonEl.classList.add('colab-df-quickchart-complete');\n",
              "    }\n",
              "    (() => {\n",
              "      let quickchartButtonEl =\n",
              "        document.querySelector('#df-0df6dbd9-82af-476c-9699-64b7ca453560 button');\n",
              "      quickchartButtonEl.style.display =\n",
              "        google.colab.kernel.accessAllowed ? 'block' : 'none';\n",
              "    })();\n",
              "  </script>\n",
              "</div>\n",
              "    </div>\n",
              "  </div>\n"
            ],
            "application/vnd.google.colaboratory.intrinsic+json": {
              "type": "dataframe",
              "variable_name": "X"
            }
          },
          "metadata": {},
          "execution_count": 16
        }
      ]
    },
    {
      "cell_type": "markdown",
      "source": [
        "### Сравнение алгоритмов классификации"
      ],
      "metadata": {
        "id": "gnRechzzcY_o"
      }
    },
    {
      "cell_type": "code",
      "source": [
        "def classification_metrics(y, pred):\n",
        "    pre = accuracy_score(y, pred)\n",
        "    print(f\"accuracy score:\\t\\t{pre:.5f}\\n\")\n",
        "\n",
        "    pre = f1_score(y, pred, average=\"macro\")\n",
        "    print(f\"f1 score:\\t\\t{pre:.5f}\")\n",
        "\n",
        "    pre = precision_score(y, pred, average=\"macro\")\n",
        "    print(f\"precision score:\\t{pre:.5f}\")\n",
        "\n",
        "    pre = recall_score(y, pred, average=\"macro\", zero_division=0.0)\n",
        "    print(f\"recall score:\\t\\t{pre:.5f}\")"
      ],
      "metadata": {
        "id": "nysLWrPYqS6b"
      },
      "execution_count": 17,
      "outputs": []
    },
    {
      "cell_type": "markdown",
      "source": [
        "### DecisionTreeClassifier"
      ],
      "metadata": {
        "id": "gsql2tdLykWE"
      }
    },
    {
      "cell_type": "markdown",
      "source": [
        "#### Без фильтрации"
      ],
      "metadata": {
        "id": "Lbvy63aRAr2V"
      }
    },
    {
      "cell_type": "code",
      "source": [
        "dt_model = DecisionTreeClassifier(max_depth=7, random_state=RANDOM_STATE)\n",
        "dt_model.fit(X_train, y_train)\n",
        "preds = dt_model.predict(X_test)\n",
        "classification_metrics(y_test, preds)"
      ],
      "metadata": {
        "colab": {
          "base_uri": "https://localhost:8080/"
        },
        "id": "6wX02-fxykB2",
        "outputId": "139cf0b9-5586-4a19-eee9-843f265bf7dc"
      },
      "execution_count": 19,
      "outputs": [
        {
          "output_type": "stream",
          "name": "stdout",
          "text": [
            "accuracy score:\t\t0.25059\n",
            "\n",
            "f1 score:\t\t0.18678\n",
            "precision score:\t0.20224\n",
            "recall score:\t\t0.22180\n"
          ]
        }
      ]
    },
    {
      "cell_type": "code",
      "source": [
        "decision_tree_classifier = make_pipeline(DecisionTreeClassifier(max_depth=7, random_state=RANDOM_STATE))\n",
        "dtc_rmses = cross_val_score(decision_tree_classifier, X, y, cv=5)\n",
        "print(f\"{pd.Series(dtc_rmses).describe()['mean']:.4f} {dtc_rmses}\")"
      ],
      "metadata": {
        "colab": {
          "base_uri": "https://localhost:8080/"
        },
        "id": "mwyoagpEyj-Y",
        "outputId": "e139dcf2-a645-4bcf-bc9e-9b20aa0dc7b3"
      },
      "execution_count": 20,
      "outputs": [
        {
          "output_type": "stream",
          "name": "stdout",
          "text": [
            "0.2592 [0.25925234 0.26       0.26542056 0.25476636 0.25654206]\n"
          ]
        }
      ]
    },
    {
      "cell_type": "markdown",
      "source": [
        "#### С фильтрацией"
      ],
      "metadata": {
        "id": "gv8jk7SCAudP"
      }
    },
    {
      "cell_type": "code",
      "source": [
        "dt_f_model = DecisionTreeClassifier(max_depth=7, random_state=RANDOM_STATE)\n",
        "dt_f_model.fit(X_f_train, y_f_train)\n",
        "preds = dt_f_model.predict(X_f_test)\n",
        "classification_metrics(y_f_test, preds)"
      ],
      "metadata": {
        "colab": {
          "base_uri": "https://localhost:8080/"
        },
        "id": "Yks9gvpNyjvJ",
        "outputId": "43e8757e-194d-4440-efbe-44a3a3675cf9"
      },
      "execution_count": 21,
      "outputs": [
        {
          "output_type": "stream",
          "name": "stdout",
          "text": [
            "accuracy score:\t\t0.25065\n",
            "\n",
            "f1 score:\t\t0.18683\n",
            "precision score:\t0.20233\n",
            "recall score:\t\t0.22180\n"
          ]
        }
      ]
    },
    {
      "cell_type": "code",
      "source": [
        "decision_tree_classifier_f = make_pipeline(DecisionTreeClassifier(max_depth=7, random_state=RANDOM_STATE))\n",
        "dtc_rmses_f = cross_val_score(decision_tree_classifier_f, X_f, y_f, cv=5)\n",
        "print(f\"{pd.Series(dtc_rmses_f).describe()['mean']:.4f} {dtc_rmses_f}\")"
      ],
      "metadata": {
        "colab": {
          "base_uri": "https://localhost:8080/"
        },
        "id": "oxWYQR0yAT2M",
        "outputId": "9621558b-6e96-4998-88ae-0b5f06486009"
      },
      "execution_count": 22,
      "outputs": [
        {
          "output_type": "stream",
          "name": "stdout",
          "text": [
            "0.2593 [0.25962617 0.26       0.26542056 0.25476636 0.25654206]\n"
          ]
        }
      ]
    },
    {
      "cell_type": "markdown",
      "source": [
        "### RandomForestClassifier"
      ],
      "metadata": {
        "id": "w41P2_jRXdDT"
      }
    },
    {
      "cell_type": "markdown",
      "source": [
        "#### Без фильтрации"
      ],
      "metadata": {
        "id": "9teA2RiuAZr5"
      }
    },
    {
      "cell_type": "code",
      "source": [
        "rf_model = RandomForestClassifier(random_state=RANDOM_STATE)\n",
        "rf_model.fit(X_train, y_train)\n",
        "preds = rf_model.predict(X_test)\n",
        "classification_metrics(y_test, preds)"
      ],
      "metadata": {
        "colab": {
          "base_uri": "https://localhost:8080/"
        },
        "id": "d0XWMwWVs9g7",
        "outputId": "cbd18c6b-60e5-4ed7-8b6c-c1a450402f11"
      },
      "execution_count": 23,
      "outputs": [
        {
          "output_type": "stream",
          "name": "stdout",
          "text": [
            "accuracy score:\t\t0.90199\n",
            "\n",
            "f1 score:\t\t0.90066\n",
            "precision score:\t0.90311\n",
            "recall score:\t\t0.90049\n"
          ]
        }
      ]
    },
    {
      "cell_type": "code",
      "source": [
        "forest_classifier = make_pipeline(RandomForestClassifier(random_state=RANDOM_STATE))\n",
        "forest_rmses = cross_val_score(forest_classifier, X, y, cv=5)\n",
        "print(f\"{pd.Series(forest_rmses).describe()['mean']:.4f} {forest_rmses}\")"
      ],
      "metadata": {
        "colab": {
          "base_uri": "https://localhost:8080/"
        },
        "id": "Td9_RWnWs9Z4",
        "outputId": "6c684c9b-f364-4e12-e9c9-394327ff1e6f"
      },
      "execution_count": 21,
      "outputs": [
        {
          "output_type": "stream",
          "name": "stdout",
          "text": [
            "0.9076 [0.90757009 0.90654206 0.90990654 0.90747664 0.90635514]\n"
          ]
        }
      ]
    },
    {
      "cell_type": "markdown",
      "source": [
        "#### С фильтрацией"
      ],
      "metadata": {
        "id": "K4h161EQAg_Y"
      }
    },
    {
      "cell_type": "code",
      "source": [
        "rf_model_f = RandomForestClassifier(random_state=RANDOM_STATE)\n",
        "rf_model_f.fit(X_f_train, y_f_train)\n",
        "preds = rf_model_f.predict(X_f_test)\n",
        "classification_metrics(y_f_test, preds)"
      ],
      "metadata": {
        "colab": {
          "base_uri": "https://localhost:8080/"
        },
        "id": "31KirsQKAlOn",
        "outputId": "cb891d52-e05e-4105-8e28-23be1f684c85"
      },
      "execution_count": 25,
      "outputs": [
        {
          "output_type": "stream",
          "name": "stdout",
          "text": [
            "accuracy score:\t\t0.90056\n",
            "\n",
            "f1 score:\t\t0.89898\n",
            "precision score:\t0.90116\n",
            "recall score:\t\t0.89888\n"
          ]
        }
      ]
    },
    {
      "cell_type": "code",
      "source": [
        "forest_classifier_f = make_pipeline(RandomForestClassifier(random_state=RANDOM_STATE))\n",
        "forest_rmses_f = cross_val_score(forest_classifier_f, X_f, y_f, cv=5)\n",
        "print(f\"{pd.Series(forest_rmses_f).describe()['mean']:.4f} {forest_rmses_f}\")"
      ],
      "metadata": {
        "colab": {
          "base_uri": "https://localhost:8080/"
        },
        "id": "3xqQpB-RAlHI",
        "outputId": "357295e0-b22e-481b-d5fb-20eb7d5ec9b4"
      },
      "execution_count": 22,
      "outputs": [
        {
          "output_type": "stream",
          "name": "stdout",
          "text": [
            "0.9084 [0.90971963 0.90728972 0.9088785  0.90990654 0.9064486 ]\n"
          ]
        }
      ]
    },
    {
      "cell_type": "markdown",
      "source": [
        "### Support Vector Machine"
      ],
      "metadata": {
        "id": "i1FPGgpLXoJR"
      }
    },
    {
      "cell_type": "markdown",
      "source": [
        "#### Без фильтрации"
      ],
      "metadata": {
        "id": "-Y7habVlCO0Y"
      }
    },
    {
      "cell_type": "code",
      "source": [
        "svm_model = SVC(gamma=\"auto\", random_state=RANDOM_STATE)\n",
        "svm_model.fit(X_train, y_train)\n",
        "preds = svm_model.predict(X_test)\n",
        "classification_metrics(y_test, preds)"
      ],
      "metadata": {
        "colab": {
          "base_uri": "https://localhost:8080/"
        },
        "id": "o-wpIRHfCQZ6",
        "outputId": "8dbc2fca-5f47-4fd4-ed84-ceee6570666a"
      },
      "execution_count": 27,
      "outputs": [
        {
          "output_type": "stream",
          "name": "stdout",
          "text": [
            "accuracy score:\t\t0.41533\n",
            "\n",
            "f1 score:\t\t0.35461\n",
            "precision score:\t0.37474\n",
            "recall score:\t\t0.36403\n"
          ]
        }
      ]
    },
    {
      "cell_type": "markdown",
      "source": [
        "#### С фильтрацией"
      ],
      "metadata": {
        "id": "739S9U0xDPDC"
      }
    },
    {
      "cell_type": "code",
      "source": [
        "svm_model_f = SVC(kernel='linear', random_state=RANDOM_STATE)\n",
        "svm_model_f.fit(X_f_train, y_f_train)\n",
        "preds = svm_model_f.predict(X_f_test)\n",
        "classification_metrics(y_f_test, preds)"
      ],
      "metadata": {
        "colab": {
          "base_uri": "https://localhost:8080/"
        },
        "id": "E0SxgWlCCM4n",
        "outputId": "f4cb7d4d-7eb8-4eaa-e649-36f6e1870954"
      },
      "execution_count": 19,
      "outputs": [
        {
          "output_type": "stream",
          "name": "stdout",
          "text": [
            "accuracy score:\t\t0.81109\n",
            "\n",
            "f1 score:\t\t0.79485\n",
            "precision score:\t0.79905\n",
            "recall score:\t\t0.80081\n"
          ]
        }
      ]
    },
    {
      "cell_type": "markdown",
      "source": [
        "### Получение прогноза"
      ],
      "metadata": {
        "id": "xLCTRPp1dlbX"
      }
    },
    {
      "cell_type": "code",
      "source": [
        "pred = cross_val_predict(forest_classifier, X, y, cv=5)"
      ],
      "metadata": {
        "id": "5DYFy8XoCMrX"
      },
      "execution_count": 23,
      "outputs": []
    },
    {
      "cell_type": "code",
      "source": [
        "classification_metrics(y, pred)"
      ],
      "metadata": {
        "colab": {
          "base_uri": "https://localhost:8080/"
        },
        "id": "ghlLapVqCMuF",
        "outputId": "f57e89d2-60c4-4d2b-c0cb-354c719abbae"
      },
      "execution_count": 24,
      "outputs": [
        {
          "output_type": "stream",
          "name": "stdout",
          "text": [
            "accuracy score:\t\t0.90757\n",
            "\n",
            "f1 score:\t\t0.90433\n",
            "precision score:\t0.90517\n",
            "recall score:\t\t0.90429\n"
          ]
        }
      ]
    },
    {
      "cell_type": "code",
      "source": [
        "pred_f = cross_val_predict(forest_classifier_f, X_f, y_f, cv=5)"
      ],
      "metadata": {
        "id": "6yrlPHSYLAc_"
      },
      "execution_count": 25,
      "outputs": []
    },
    {
      "cell_type": "code",
      "source": [
        "classification_metrics(y_f, pred_f)"
      ],
      "metadata": {
        "colab": {
          "base_uri": "https://localhost:8080/"
        },
        "id": "-s1b0_-WLEJY",
        "outputId": "81d70098-5233-4994-d182-dc546fadc729"
      },
      "execution_count": 27,
      "outputs": [
        {
          "output_type": "stream",
          "name": "stdout",
          "text": [
            "accuracy score:\t\t0.90845\n",
            "\n",
            "f1 score:\t\t0.90480\n",
            "precision score:\t0.90567\n",
            "recall score:\t\t0.90470\n"
          ]
        }
      ]
    },
    {
      "cell_type": "markdown",
      "source": [
        "### Заключение"
      ],
      "metadata": {
        "id": "rD2t2ae6d0Zo"
      }
    },
    {
      "cell_type": "markdown",
      "source": [
        "Лучшее значение метрики показал алгоритм RandomForestClassifier на наборе данных с фильтрацией при обучении методом кроссвалидации"
      ],
      "metadata": {
        "id": "L8dKfDaCF1K1"
      }
    },
    {
      "cell_type": "code",
      "source": [],
      "metadata": {
        "id": "exh2_zzUGtK2"
      },
      "execution_count": null,
      "outputs": []
    }
  ]
}