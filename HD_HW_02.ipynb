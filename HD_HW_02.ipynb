{
  "nbformat": 4,
  "nbformat_minor": 0,
  "metadata": {
    "colab": {
      "provenance": [],
      "authorship_tag": "ABX9TyMQH7pA0x1v/v+3zl6OlVUC",
      "include_colab_link": true
    },
    "kernelspec": {
      "name": "python3",
      "display_name": "Python 3"
    },
    "language_info": {
      "name": "python"
    }
  },
  "cells": [
    {
      "cell_type": "markdown",
      "metadata": {
        "id": "view-in-github",
        "colab_type": "text"
      },
      "source": [
        "<a href=\"https://colab.research.google.com/github/VitalyGladyshev/med_work/blob/main/HD_HW_02.ipynb\" target=\"_parent\"><img src=\"https://colab.research.google.com/assets/colab-badge.svg\" alt=\"Open In Colab\"/></a>"
      ]
    },
    {
      "cell_type": "markdown",
      "source": [
        "# Прогнозирование и диагностика в медицине с помощью машинного обучения"
      ],
      "metadata": {
        "id": "V3_VrZQ5mKnv"
      }
    },
    {
      "cell_type": "markdown",
      "source": [
        "## ДЗ 2 Гладышев В.В."
      ],
      "metadata": {
        "id": "AeAOSSjnmcJr"
      }
    },
    {
      "cell_type": "markdown",
      "source": [
        "## Модели классификации"
      ],
      "metadata": {
        "id": "vZLRfzG2mlGu"
      }
    },
    {
      "cell_type": "markdown",
      "source": [
        "### Импорты"
      ],
      "metadata": {
        "id": "MXMXhD6JmwCW"
      }
    },
    {
      "cell_type": "code",
      "execution_count": 15,
      "metadata": {
        "id": "SWCZWJhN-Gs7"
      },
      "outputs": [],
      "source": [
        "import numpy as np\n",
        "import pandas as pd\n",
        "import matplotlib.pyplot as plt\n",
        "import seaborn as sns\n",
        "\n",
        "from sklearn.model_selection import train_test_split, cross_val_score\n",
        "from sklearn.pipeline import make_pipeline\n",
        "\n",
        "from sklearn.preprocessing import StandardScaler\n",
        "\n",
        "from sklearn.metrics import accuracy_score\n",
        "from sklearn.metrics import precision_score, recall_score\n",
        "from sklearn.metrics import f1_score\n",
        "\n",
        "from sklearn.multioutput import MultiOutputClassifier\n",
        "from sklearn.linear_model import LogisticRegression\n",
        "from sklearn.svm import SVC\n",
        "from sklearn.neighbors import KNeighborsClassifier\n",
        "from sklearn.tree import DecisionTreeClassifier\n",
        "from sklearn.ensemble import RandomForestClassifier\n",
        "from sklearn.ensemble import GradientBoostingClassifier\n",
        "from sklearn.ensemble import VotingClassifier\n",
        "from sklearn.ensemble import StackingClassifier\n",
        "\n",
        "from sklearn.model_selection import cross_val_predict\n",
        "from sklearn.metrics import confusion_matrix\n",
        "from sklearn.metrics import ConfusionMatrixDisplay\n",
        "\n",
        "from sklearn.preprocessing import KBinsDiscretizer\n",
        "\n",
        "import math"
      ]
    },
    {
      "cell_type": "code",
      "source": [
        "import warnings\n",
        "warnings.filterwarnings('ignore')"
      ],
      "metadata": {
        "id": "QKE0Od_wv9LJ"
      },
      "execution_count": 2,
      "outputs": []
    },
    {
      "cell_type": "code",
      "source": [
        "RANDOM_STATE = 42"
      ],
      "metadata": {
        "id": "TVGvMKKSe9ao"
      },
      "execution_count": 3,
      "outputs": []
    },
    {
      "cell_type": "markdown",
      "source": [
        "### Загрузка и подготовка данных"
      ],
      "metadata": {
        "id": "DRodumlamu4K"
      }
    },
    {
      "cell_type": "code",
      "source": [
        "!unzip ct_slices.zip"
      ],
      "metadata": {
        "colab": {
          "base_uri": "https://localhost:8080/"
        },
        "id": "ptkqdHXAg3I4",
        "outputId": "9c8d3571-e038-4181-f06b-7cc159988000"
      },
      "execution_count": 4,
      "outputs": [
        {
          "output_type": "stream",
          "name": "stdout",
          "text": [
            "Archive:  ct_slices.zip\n",
            "  inflating: slice_localization_data.csv  \n"
          ]
        }
      ]
    },
    {
      "cell_type": "code",
      "source": [
        "df = pd.read_csv(\"/content/slice_localization_data.csv\")"
      ],
      "metadata": {
        "id": "gDS0TXKAg_Tf"
      },
      "execution_count": 5,
      "outputs": []
    },
    {
      "cell_type": "code",
      "source": [
        "df.info()"
      ],
      "metadata": {
        "colab": {
          "base_uri": "https://localhost:8080/"
        },
        "id": "GCrjmYTrhPox",
        "outputId": "4274f425-ae80-4467-a396-dc6820ab7185"
      },
      "execution_count": 6,
      "outputs": [
        {
          "output_type": "stream",
          "name": "stdout",
          "text": [
            "<class 'pandas.core.frame.DataFrame'>\n",
            "RangeIndex: 53500 entries, 0 to 53499\n",
            "Columns: 386 entries, patientId to reference\n",
            "dtypes: float64(385), int64(1)\n",
            "memory usage: 157.6 MB\n"
          ]
        }
      ]
    },
    {
      "cell_type": "code",
      "source": [
        "df.head()"
      ],
      "metadata": {
        "colab": {
          "base_uri": "https://localhost:8080/",
          "height": 256
        },
        "id": "WjbsSArim5gf",
        "outputId": "12697449-511d-428a-b2b5-9805dad73e69"
      },
      "execution_count": 7,
      "outputs": [
        {
          "output_type": "execute_result",
          "data": {
            "text/plain": [
              "   patientId  value0  value1  value2  value3  value4  value5  value6  value7  \\\n",
              "0          0     0.0     0.0     0.0     0.0     0.0     0.0   -0.25   -0.25   \n",
              "1          0     0.0     0.0     0.0     0.0     0.0     0.0   -0.25   -0.25   \n",
              "2          0     0.0     0.0     0.0     0.0     0.0     0.0   -0.25   -0.25   \n",
              "3          0     0.0     0.0     0.0     0.0     0.0     0.0   -0.25   -0.25   \n",
              "4          0     0.0     0.0     0.0     0.0     0.0     0.0   -0.25   -0.25   \n",
              "\n",
              "   value8  ...  value375  value376  value377  value378  value379  value380  \\\n",
              "0   -0.25  ...     -0.25  0.980381       0.0       0.0       0.0       0.0   \n",
              "1   -0.25  ...     -0.25  0.977008       0.0       0.0       0.0       0.0   \n",
              "2   -0.25  ...     -0.25  0.977008       0.0       0.0       0.0       0.0   \n",
              "3   -0.25  ...     -0.25  0.977008       0.0       0.0       0.0       0.0   \n",
              "4   -0.25  ...     -0.25  0.976833       0.0       0.0       0.0       0.0   \n",
              "\n",
              "   value381  value382  value383  reference  \n",
              "0       0.0     -0.25     -0.25  21.803851  \n",
              "1       0.0     -0.25     -0.25  21.745726  \n",
              "2       0.0     -0.25     -0.25  21.687600  \n",
              "3       0.0     -0.25     -0.25  21.629474  \n",
              "4       0.0     -0.25     -0.25  21.571348  \n",
              "\n",
              "[5 rows x 386 columns]"
            ],
            "text/html": [
              "\n",
              "  <div id=\"df-af7cd03c-a496-4564-8f6e-4b2482041124\" class=\"colab-df-container\">\n",
              "    <div>\n",
              "<style scoped>\n",
              "    .dataframe tbody tr th:only-of-type {\n",
              "        vertical-align: middle;\n",
              "    }\n",
              "\n",
              "    .dataframe tbody tr th {\n",
              "        vertical-align: top;\n",
              "    }\n",
              "\n",
              "    .dataframe thead th {\n",
              "        text-align: right;\n",
              "    }\n",
              "</style>\n",
              "<table border=\"1\" class=\"dataframe\">\n",
              "  <thead>\n",
              "    <tr style=\"text-align: right;\">\n",
              "      <th></th>\n",
              "      <th>patientId</th>\n",
              "      <th>value0</th>\n",
              "      <th>value1</th>\n",
              "      <th>value2</th>\n",
              "      <th>value3</th>\n",
              "      <th>value4</th>\n",
              "      <th>value5</th>\n",
              "      <th>value6</th>\n",
              "      <th>value7</th>\n",
              "      <th>value8</th>\n",
              "      <th>...</th>\n",
              "      <th>value375</th>\n",
              "      <th>value376</th>\n",
              "      <th>value377</th>\n",
              "      <th>value378</th>\n",
              "      <th>value379</th>\n",
              "      <th>value380</th>\n",
              "      <th>value381</th>\n",
              "      <th>value382</th>\n",
              "      <th>value383</th>\n",
              "      <th>reference</th>\n",
              "    </tr>\n",
              "  </thead>\n",
              "  <tbody>\n",
              "    <tr>\n",
              "      <th>0</th>\n",
              "      <td>0</td>\n",
              "      <td>0.0</td>\n",
              "      <td>0.0</td>\n",
              "      <td>0.0</td>\n",
              "      <td>0.0</td>\n",
              "      <td>0.0</td>\n",
              "      <td>0.0</td>\n",
              "      <td>-0.25</td>\n",
              "      <td>-0.25</td>\n",
              "      <td>-0.25</td>\n",
              "      <td>...</td>\n",
              "      <td>-0.25</td>\n",
              "      <td>0.980381</td>\n",
              "      <td>0.0</td>\n",
              "      <td>0.0</td>\n",
              "      <td>0.0</td>\n",
              "      <td>0.0</td>\n",
              "      <td>0.0</td>\n",
              "      <td>-0.25</td>\n",
              "      <td>-0.25</td>\n",
              "      <td>21.803851</td>\n",
              "    </tr>\n",
              "    <tr>\n",
              "      <th>1</th>\n",
              "      <td>0</td>\n",
              "      <td>0.0</td>\n",
              "      <td>0.0</td>\n",
              "      <td>0.0</td>\n",
              "      <td>0.0</td>\n",
              "      <td>0.0</td>\n",
              "      <td>0.0</td>\n",
              "      <td>-0.25</td>\n",
              "      <td>-0.25</td>\n",
              "      <td>-0.25</td>\n",
              "      <td>...</td>\n",
              "      <td>-0.25</td>\n",
              "      <td>0.977008</td>\n",
              "      <td>0.0</td>\n",
              "      <td>0.0</td>\n",
              "      <td>0.0</td>\n",
              "      <td>0.0</td>\n",
              "      <td>0.0</td>\n",
              "      <td>-0.25</td>\n",
              "      <td>-0.25</td>\n",
              "      <td>21.745726</td>\n",
              "    </tr>\n",
              "    <tr>\n",
              "      <th>2</th>\n",
              "      <td>0</td>\n",
              "      <td>0.0</td>\n",
              "      <td>0.0</td>\n",
              "      <td>0.0</td>\n",
              "      <td>0.0</td>\n",
              "      <td>0.0</td>\n",
              "      <td>0.0</td>\n",
              "      <td>-0.25</td>\n",
              "      <td>-0.25</td>\n",
              "      <td>-0.25</td>\n",
              "      <td>...</td>\n",
              "      <td>-0.25</td>\n",
              "      <td>0.977008</td>\n",
              "      <td>0.0</td>\n",
              "      <td>0.0</td>\n",
              "      <td>0.0</td>\n",
              "      <td>0.0</td>\n",
              "      <td>0.0</td>\n",
              "      <td>-0.25</td>\n",
              "      <td>-0.25</td>\n",
              "      <td>21.687600</td>\n",
              "    </tr>\n",
              "    <tr>\n",
              "      <th>3</th>\n",
              "      <td>0</td>\n",
              "      <td>0.0</td>\n",
              "      <td>0.0</td>\n",
              "      <td>0.0</td>\n",
              "      <td>0.0</td>\n",
              "      <td>0.0</td>\n",
              "      <td>0.0</td>\n",
              "      <td>-0.25</td>\n",
              "      <td>-0.25</td>\n",
              "      <td>-0.25</td>\n",
              "      <td>...</td>\n",
              "      <td>-0.25</td>\n",
              "      <td>0.977008</td>\n",
              "      <td>0.0</td>\n",
              "      <td>0.0</td>\n",
              "      <td>0.0</td>\n",
              "      <td>0.0</td>\n",
              "      <td>0.0</td>\n",
              "      <td>-0.25</td>\n",
              "      <td>-0.25</td>\n",
              "      <td>21.629474</td>\n",
              "    </tr>\n",
              "    <tr>\n",
              "      <th>4</th>\n",
              "      <td>0</td>\n",
              "      <td>0.0</td>\n",
              "      <td>0.0</td>\n",
              "      <td>0.0</td>\n",
              "      <td>0.0</td>\n",
              "      <td>0.0</td>\n",
              "      <td>0.0</td>\n",
              "      <td>-0.25</td>\n",
              "      <td>-0.25</td>\n",
              "      <td>-0.25</td>\n",
              "      <td>...</td>\n",
              "      <td>-0.25</td>\n",
              "      <td>0.976833</td>\n",
              "      <td>0.0</td>\n",
              "      <td>0.0</td>\n",
              "      <td>0.0</td>\n",
              "      <td>0.0</td>\n",
              "      <td>0.0</td>\n",
              "      <td>-0.25</td>\n",
              "      <td>-0.25</td>\n",
              "      <td>21.571348</td>\n",
              "    </tr>\n",
              "  </tbody>\n",
              "</table>\n",
              "<p>5 rows × 386 columns</p>\n",
              "</div>\n",
              "    <div class=\"colab-df-buttons\">\n",
              "\n",
              "  <div class=\"colab-df-container\">\n",
              "    <button class=\"colab-df-convert\" onclick=\"convertToInteractive('df-af7cd03c-a496-4564-8f6e-4b2482041124')\"\n",
              "            title=\"Convert this dataframe to an interactive table.\"\n",
              "            style=\"display:none;\">\n",
              "\n",
              "  <svg xmlns=\"http://www.w3.org/2000/svg\" height=\"24px\" viewBox=\"0 -960 960 960\">\n",
              "    <path d=\"M120-120v-720h720v720H120Zm60-500h600v-160H180v160Zm220 220h160v-160H400v160Zm0 220h160v-160H400v160ZM180-400h160v-160H180v160Zm440 0h160v-160H620v160ZM180-180h160v-160H180v160Zm440 0h160v-160H620v160Z\"/>\n",
              "  </svg>\n",
              "    </button>\n",
              "\n",
              "  <style>\n",
              "    .colab-df-container {\n",
              "      display:flex;\n",
              "      gap: 12px;\n",
              "    }\n",
              "\n",
              "    .colab-df-convert {\n",
              "      background-color: #E8F0FE;\n",
              "      border: none;\n",
              "      border-radius: 50%;\n",
              "      cursor: pointer;\n",
              "      display: none;\n",
              "      fill: #1967D2;\n",
              "      height: 32px;\n",
              "      padding: 0 0 0 0;\n",
              "      width: 32px;\n",
              "    }\n",
              "\n",
              "    .colab-df-convert:hover {\n",
              "      background-color: #E2EBFA;\n",
              "      box-shadow: 0px 1px 2px rgba(60, 64, 67, 0.3), 0px 1px 3px 1px rgba(60, 64, 67, 0.15);\n",
              "      fill: #174EA6;\n",
              "    }\n",
              "\n",
              "    .colab-df-buttons div {\n",
              "      margin-bottom: 4px;\n",
              "    }\n",
              "\n",
              "    [theme=dark] .colab-df-convert {\n",
              "      background-color: #3B4455;\n",
              "      fill: #D2E3FC;\n",
              "    }\n",
              "\n",
              "    [theme=dark] .colab-df-convert:hover {\n",
              "      background-color: #434B5C;\n",
              "      box-shadow: 0px 1px 3px 1px rgba(0, 0, 0, 0.15);\n",
              "      filter: drop-shadow(0px 1px 2px rgba(0, 0, 0, 0.3));\n",
              "      fill: #FFFFFF;\n",
              "    }\n",
              "  </style>\n",
              "\n",
              "    <script>\n",
              "      const buttonEl =\n",
              "        document.querySelector('#df-af7cd03c-a496-4564-8f6e-4b2482041124 button.colab-df-convert');\n",
              "      buttonEl.style.display =\n",
              "        google.colab.kernel.accessAllowed ? 'block' : 'none';\n",
              "\n",
              "      async function convertToInteractive(key) {\n",
              "        const element = document.querySelector('#df-af7cd03c-a496-4564-8f6e-4b2482041124');\n",
              "        const dataTable =\n",
              "          await google.colab.kernel.invokeFunction('convertToInteractive',\n",
              "                                                    [key], {});\n",
              "        if (!dataTable) return;\n",
              "\n",
              "        const docLinkHtml = 'Like what you see? Visit the ' +\n",
              "          '<a target=\"_blank\" href=https://colab.research.google.com/notebooks/data_table.ipynb>data table notebook</a>'\n",
              "          + ' to learn more about interactive tables.';\n",
              "        element.innerHTML = '';\n",
              "        dataTable['output_type'] = 'display_data';\n",
              "        await google.colab.output.renderOutput(dataTable, element);\n",
              "        const docLink = document.createElement('div');\n",
              "        docLink.innerHTML = docLinkHtml;\n",
              "        element.appendChild(docLink);\n",
              "      }\n",
              "    </script>\n",
              "  </div>\n",
              "\n",
              "\n",
              "<div id=\"df-944ac6cb-bc54-45fa-a9e1-55b33044c70e\">\n",
              "  <button class=\"colab-df-quickchart\" onclick=\"quickchart('df-944ac6cb-bc54-45fa-a9e1-55b33044c70e')\"\n",
              "            title=\"Suggest charts\"\n",
              "            style=\"display:none;\">\n",
              "\n",
              "<svg xmlns=\"http://www.w3.org/2000/svg\" height=\"24px\"viewBox=\"0 0 24 24\"\n",
              "     width=\"24px\">\n",
              "    <g>\n",
              "        <path d=\"M19 3H5c-1.1 0-2 .9-2 2v14c0 1.1.9 2 2 2h14c1.1 0 2-.9 2-2V5c0-1.1-.9-2-2-2zM9 17H7v-7h2v7zm4 0h-2V7h2v10zm4 0h-2v-4h2v4z\"/>\n",
              "    </g>\n",
              "</svg>\n",
              "  </button>\n",
              "\n",
              "<style>\n",
              "  .colab-df-quickchart {\n",
              "      --bg-color: #E8F0FE;\n",
              "      --fill-color: #1967D2;\n",
              "      --hover-bg-color: #E2EBFA;\n",
              "      --hover-fill-color: #174EA6;\n",
              "      --disabled-fill-color: #AAA;\n",
              "      --disabled-bg-color: #DDD;\n",
              "  }\n",
              "\n",
              "  [theme=dark] .colab-df-quickchart {\n",
              "      --bg-color: #3B4455;\n",
              "      --fill-color: #D2E3FC;\n",
              "      --hover-bg-color: #434B5C;\n",
              "      --hover-fill-color: #FFFFFF;\n",
              "      --disabled-bg-color: #3B4455;\n",
              "      --disabled-fill-color: #666;\n",
              "  }\n",
              "\n",
              "  .colab-df-quickchart {\n",
              "    background-color: var(--bg-color);\n",
              "    border: none;\n",
              "    border-radius: 50%;\n",
              "    cursor: pointer;\n",
              "    display: none;\n",
              "    fill: var(--fill-color);\n",
              "    height: 32px;\n",
              "    padding: 0;\n",
              "    width: 32px;\n",
              "  }\n",
              "\n",
              "  .colab-df-quickchart:hover {\n",
              "    background-color: var(--hover-bg-color);\n",
              "    box-shadow: 0 1px 2px rgba(60, 64, 67, 0.3), 0 1px 3px 1px rgba(60, 64, 67, 0.15);\n",
              "    fill: var(--button-hover-fill-color);\n",
              "  }\n",
              "\n",
              "  .colab-df-quickchart-complete:disabled,\n",
              "  .colab-df-quickchart-complete:disabled:hover {\n",
              "    background-color: var(--disabled-bg-color);\n",
              "    fill: var(--disabled-fill-color);\n",
              "    box-shadow: none;\n",
              "  }\n",
              "\n",
              "  .colab-df-spinner {\n",
              "    border: 2px solid var(--fill-color);\n",
              "    border-color: transparent;\n",
              "    border-bottom-color: var(--fill-color);\n",
              "    animation:\n",
              "      spin 1s steps(1) infinite;\n",
              "  }\n",
              "\n",
              "  @keyframes spin {\n",
              "    0% {\n",
              "      border-color: transparent;\n",
              "      border-bottom-color: var(--fill-color);\n",
              "      border-left-color: var(--fill-color);\n",
              "    }\n",
              "    20% {\n",
              "      border-color: transparent;\n",
              "      border-left-color: var(--fill-color);\n",
              "      border-top-color: var(--fill-color);\n",
              "    }\n",
              "    30% {\n",
              "      border-color: transparent;\n",
              "      border-left-color: var(--fill-color);\n",
              "      border-top-color: var(--fill-color);\n",
              "      border-right-color: var(--fill-color);\n",
              "    }\n",
              "    40% {\n",
              "      border-color: transparent;\n",
              "      border-right-color: var(--fill-color);\n",
              "      border-top-color: var(--fill-color);\n",
              "    }\n",
              "    60% {\n",
              "      border-color: transparent;\n",
              "      border-right-color: var(--fill-color);\n",
              "    }\n",
              "    80% {\n",
              "      border-color: transparent;\n",
              "      border-right-color: var(--fill-color);\n",
              "      border-bottom-color: var(--fill-color);\n",
              "    }\n",
              "    90% {\n",
              "      border-color: transparent;\n",
              "      border-bottom-color: var(--fill-color);\n",
              "    }\n",
              "  }\n",
              "</style>\n",
              "\n",
              "  <script>\n",
              "    async function quickchart(key) {\n",
              "      const quickchartButtonEl =\n",
              "        document.querySelector('#' + key + ' button');\n",
              "      quickchartButtonEl.disabled = true;  // To prevent multiple clicks.\n",
              "      quickchartButtonEl.classList.add('colab-df-spinner');\n",
              "      try {\n",
              "        const charts = await google.colab.kernel.invokeFunction(\n",
              "            'suggestCharts', [key], {});\n",
              "      } catch (error) {\n",
              "        console.error('Error during call to suggestCharts:', error);\n",
              "      }\n",
              "      quickchartButtonEl.classList.remove('colab-df-spinner');\n",
              "      quickchartButtonEl.classList.add('colab-df-quickchart-complete');\n",
              "    }\n",
              "    (() => {\n",
              "      let quickchartButtonEl =\n",
              "        document.querySelector('#df-944ac6cb-bc54-45fa-a9e1-55b33044c70e button');\n",
              "      quickchartButtonEl.style.display =\n",
              "        google.colab.kernel.accessAllowed ? 'block' : 'none';\n",
              "    })();\n",
              "  </script>\n",
              "</div>\n",
              "    </div>\n",
              "  </div>\n"
            ],
            "application/vnd.google.colaboratory.intrinsic+json": {
              "type": "dataframe",
              "variable_name": "df"
            }
          },
          "metadata": {},
          "execution_count": 7
        }
      ]
    },
    {
      "cell_type": "code",
      "source": [
        "df.describe()"
      ],
      "metadata": {
        "colab": {
          "base_uri": "https://localhost:8080/",
          "height": 350
        },
        "id": "qx0UoErnnwTU",
        "outputId": "73fc915e-599f-431f-9e10-5747610b11fb"
      },
      "execution_count": 8,
      "outputs": [
        {
          "output_type": "execute_result",
          "data": {
            "text/plain": [
              "          patientId        value0        value1        value2        value3  \\\n",
              "count  53500.000000  53500.000000  53500.000000  53500.000000  53500.000000   \n",
              "mean      47.075701      0.059627      0.071558      0.145819      0.218728   \n",
              "std       27.414240      0.174243      0.196921      0.300270      0.359163   \n",
              "min        0.000000      0.000000      0.000000      0.000000      0.000000   \n",
              "25%       23.000000      0.000000      0.000000      0.000000      0.000000   \n",
              "50%       46.000000      0.000000      0.000000      0.000000      0.000000   \n",
              "75%       70.000000      0.000000      0.000000      0.000000      0.446429   \n",
              "max       96.000000      1.000000      1.000000      1.000000      1.000000   \n",
              "\n",
              "             value4        value5        value6        value7        value8  \\\n",
              "count  53500.000000  53500.000000  53500.000000  53500.000000  53500.000000   \n",
              "mean       0.274762      0.276189      0.204531      0.062281     -0.042025   \n",
              "std        0.378862      0.369605      0.351294      0.292232      0.268391   \n",
              "min        0.000000     -0.250000     -0.250000     -0.250000     -0.250000   \n",
              "25%        0.000000      0.000000      0.000000      0.000000     -0.250000   \n",
              "50%        0.000000      0.000000      0.000000      0.000000      0.000000   \n",
              "75%        0.684477      0.662382      0.441412      0.000000      0.000000   \n",
              "max        0.998790      0.996468      0.999334      1.000000      1.000000   \n",
              "\n",
              "       ...      value375      value376      value377      value378  \\\n",
              "count  ...  53500.000000  53500.000000  53500.000000  53500.000000   \n",
              "mean   ...     -0.029404      0.182913      0.320112      0.359373   \n",
              "std    ...      0.085817      0.383333      0.463517      0.478188   \n",
              "min    ...     -0.250000      0.000000      0.000000      0.000000   \n",
              "25%    ...      0.000000      0.000000      0.000000      0.000000   \n",
              "50%    ...      0.000000      0.000000      0.000000      0.000000   \n",
              "75%    ...      0.000000      0.000000      0.996286      0.999677   \n",
              "max    ...      0.961279      1.000000      1.000000      1.000000   \n",
              "\n",
              "           value379      value380      value381      value382      value383  \\\n",
              "count  53500.000000  53500.000000  53500.000000  53500.000000  53500.000000   \n",
              "mean       0.342889      0.266091      0.083049     -0.031146     -0.154524   \n",
              "std        0.471811      0.437633      0.279734      0.098738      0.122491   \n",
              "min        0.000000      0.000000     -0.250000     -0.250000     -0.250000   \n",
              "25%        0.000000      0.000000      0.000000      0.000000     -0.250000   \n",
              "50%        0.000000      0.000000      0.000000      0.000000     -0.250000   \n",
              "75%        0.999560      0.949478      0.000000      0.000000      0.000000   \n",
              "max        1.000000      1.000000      0.999857      0.996839      0.942851   \n",
              "\n",
              "          reference  \n",
              "count  53500.000000  \n",
              "mean      47.028039  \n",
              "std       22.347042  \n",
              "min        1.738733  \n",
              "25%       29.891607  \n",
              "50%       43.987893  \n",
              "75%       63.735059  \n",
              "max       97.489115  \n",
              "\n",
              "[8 rows x 386 columns]"
            ],
            "text/html": [
              "\n",
              "  <div id=\"df-796773c2-8278-4a5b-87b3-15f5fd0486d3\" class=\"colab-df-container\">\n",
              "    <div>\n",
              "<style scoped>\n",
              "    .dataframe tbody tr th:only-of-type {\n",
              "        vertical-align: middle;\n",
              "    }\n",
              "\n",
              "    .dataframe tbody tr th {\n",
              "        vertical-align: top;\n",
              "    }\n",
              "\n",
              "    .dataframe thead th {\n",
              "        text-align: right;\n",
              "    }\n",
              "</style>\n",
              "<table border=\"1\" class=\"dataframe\">\n",
              "  <thead>\n",
              "    <tr style=\"text-align: right;\">\n",
              "      <th></th>\n",
              "      <th>patientId</th>\n",
              "      <th>value0</th>\n",
              "      <th>value1</th>\n",
              "      <th>value2</th>\n",
              "      <th>value3</th>\n",
              "      <th>value4</th>\n",
              "      <th>value5</th>\n",
              "      <th>value6</th>\n",
              "      <th>value7</th>\n",
              "      <th>value8</th>\n",
              "      <th>...</th>\n",
              "      <th>value375</th>\n",
              "      <th>value376</th>\n",
              "      <th>value377</th>\n",
              "      <th>value378</th>\n",
              "      <th>value379</th>\n",
              "      <th>value380</th>\n",
              "      <th>value381</th>\n",
              "      <th>value382</th>\n",
              "      <th>value383</th>\n",
              "      <th>reference</th>\n",
              "    </tr>\n",
              "  </thead>\n",
              "  <tbody>\n",
              "    <tr>\n",
              "      <th>count</th>\n",
              "      <td>53500.000000</td>\n",
              "      <td>53500.000000</td>\n",
              "      <td>53500.000000</td>\n",
              "      <td>53500.000000</td>\n",
              "      <td>53500.000000</td>\n",
              "      <td>53500.000000</td>\n",
              "      <td>53500.000000</td>\n",
              "      <td>53500.000000</td>\n",
              "      <td>53500.000000</td>\n",
              "      <td>53500.000000</td>\n",
              "      <td>...</td>\n",
              "      <td>53500.000000</td>\n",
              "      <td>53500.000000</td>\n",
              "      <td>53500.000000</td>\n",
              "      <td>53500.000000</td>\n",
              "      <td>53500.000000</td>\n",
              "      <td>53500.000000</td>\n",
              "      <td>53500.000000</td>\n",
              "      <td>53500.000000</td>\n",
              "      <td>53500.000000</td>\n",
              "      <td>53500.000000</td>\n",
              "    </tr>\n",
              "    <tr>\n",
              "      <th>mean</th>\n",
              "      <td>47.075701</td>\n",
              "      <td>0.059627</td>\n",
              "      <td>0.071558</td>\n",
              "      <td>0.145819</td>\n",
              "      <td>0.218728</td>\n",
              "      <td>0.274762</td>\n",
              "      <td>0.276189</td>\n",
              "      <td>0.204531</td>\n",
              "      <td>0.062281</td>\n",
              "      <td>-0.042025</td>\n",
              "      <td>...</td>\n",
              "      <td>-0.029404</td>\n",
              "      <td>0.182913</td>\n",
              "      <td>0.320112</td>\n",
              "      <td>0.359373</td>\n",
              "      <td>0.342889</td>\n",
              "      <td>0.266091</td>\n",
              "      <td>0.083049</td>\n",
              "      <td>-0.031146</td>\n",
              "      <td>-0.154524</td>\n",
              "      <td>47.028039</td>\n",
              "    </tr>\n",
              "    <tr>\n",
              "      <th>std</th>\n",
              "      <td>27.414240</td>\n",
              "      <td>0.174243</td>\n",
              "      <td>0.196921</td>\n",
              "      <td>0.300270</td>\n",
              "      <td>0.359163</td>\n",
              "      <td>0.378862</td>\n",
              "      <td>0.369605</td>\n",
              "      <td>0.351294</td>\n",
              "      <td>0.292232</td>\n",
              "      <td>0.268391</td>\n",
              "      <td>...</td>\n",
              "      <td>0.085817</td>\n",
              "      <td>0.383333</td>\n",
              "      <td>0.463517</td>\n",
              "      <td>0.478188</td>\n",
              "      <td>0.471811</td>\n",
              "      <td>0.437633</td>\n",
              "      <td>0.279734</td>\n",
              "      <td>0.098738</td>\n",
              "      <td>0.122491</td>\n",
              "      <td>22.347042</td>\n",
              "    </tr>\n",
              "    <tr>\n",
              "      <th>min</th>\n",
              "      <td>0.000000</td>\n",
              "      <td>0.000000</td>\n",
              "      <td>0.000000</td>\n",
              "      <td>0.000000</td>\n",
              "      <td>0.000000</td>\n",
              "      <td>0.000000</td>\n",
              "      <td>-0.250000</td>\n",
              "      <td>-0.250000</td>\n",
              "      <td>-0.250000</td>\n",
              "      <td>-0.250000</td>\n",
              "      <td>...</td>\n",
              "      <td>-0.250000</td>\n",
              "      <td>0.000000</td>\n",
              "      <td>0.000000</td>\n",
              "      <td>0.000000</td>\n",
              "      <td>0.000000</td>\n",
              "      <td>0.000000</td>\n",
              "      <td>-0.250000</td>\n",
              "      <td>-0.250000</td>\n",
              "      <td>-0.250000</td>\n",
              "      <td>1.738733</td>\n",
              "    </tr>\n",
              "    <tr>\n",
              "      <th>25%</th>\n",
              "      <td>23.000000</td>\n",
              "      <td>0.000000</td>\n",
              "      <td>0.000000</td>\n",
              "      <td>0.000000</td>\n",
              "      <td>0.000000</td>\n",
              "      <td>0.000000</td>\n",
              "      <td>0.000000</td>\n",
              "      <td>0.000000</td>\n",
              "      <td>0.000000</td>\n",
              "      <td>-0.250000</td>\n",
              "      <td>...</td>\n",
              "      <td>0.000000</td>\n",
              "      <td>0.000000</td>\n",
              "      <td>0.000000</td>\n",
              "      <td>0.000000</td>\n",
              "      <td>0.000000</td>\n",
              "      <td>0.000000</td>\n",
              "      <td>0.000000</td>\n",
              "      <td>0.000000</td>\n",
              "      <td>-0.250000</td>\n",
              "      <td>29.891607</td>\n",
              "    </tr>\n",
              "    <tr>\n",
              "      <th>50%</th>\n",
              "      <td>46.000000</td>\n",
              "      <td>0.000000</td>\n",
              "      <td>0.000000</td>\n",
              "      <td>0.000000</td>\n",
              "      <td>0.000000</td>\n",
              "      <td>0.000000</td>\n",
              "      <td>0.000000</td>\n",
              "      <td>0.000000</td>\n",
              "      <td>0.000000</td>\n",
              "      <td>0.000000</td>\n",
              "      <td>...</td>\n",
              "      <td>0.000000</td>\n",
              "      <td>0.000000</td>\n",
              "      <td>0.000000</td>\n",
              "      <td>0.000000</td>\n",
              "      <td>0.000000</td>\n",
              "      <td>0.000000</td>\n",
              "      <td>0.000000</td>\n",
              "      <td>0.000000</td>\n",
              "      <td>-0.250000</td>\n",
              "      <td>43.987893</td>\n",
              "    </tr>\n",
              "    <tr>\n",
              "      <th>75%</th>\n",
              "      <td>70.000000</td>\n",
              "      <td>0.000000</td>\n",
              "      <td>0.000000</td>\n",
              "      <td>0.000000</td>\n",
              "      <td>0.446429</td>\n",
              "      <td>0.684477</td>\n",
              "      <td>0.662382</td>\n",
              "      <td>0.441412</td>\n",
              "      <td>0.000000</td>\n",
              "      <td>0.000000</td>\n",
              "      <td>...</td>\n",
              "      <td>0.000000</td>\n",
              "      <td>0.000000</td>\n",
              "      <td>0.996286</td>\n",
              "      <td>0.999677</td>\n",
              "      <td>0.999560</td>\n",
              "      <td>0.949478</td>\n",
              "      <td>0.000000</td>\n",
              "      <td>0.000000</td>\n",
              "      <td>0.000000</td>\n",
              "      <td>63.735059</td>\n",
              "    </tr>\n",
              "    <tr>\n",
              "      <th>max</th>\n",
              "      <td>96.000000</td>\n",
              "      <td>1.000000</td>\n",
              "      <td>1.000000</td>\n",
              "      <td>1.000000</td>\n",
              "      <td>1.000000</td>\n",
              "      <td>0.998790</td>\n",
              "      <td>0.996468</td>\n",
              "      <td>0.999334</td>\n",
              "      <td>1.000000</td>\n",
              "      <td>1.000000</td>\n",
              "      <td>...</td>\n",
              "      <td>0.961279</td>\n",
              "      <td>1.000000</td>\n",
              "      <td>1.000000</td>\n",
              "      <td>1.000000</td>\n",
              "      <td>1.000000</td>\n",
              "      <td>1.000000</td>\n",
              "      <td>0.999857</td>\n",
              "      <td>0.996839</td>\n",
              "      <td>0.942851</td>\n",
              "      <td>97.489115</td>\n",
              "    </tr>\n",
              "  </tbody>\n",
              "</table>\n",
              "<p>8 rows × 386 columns</p>\n",
              "</div>\n",
              "    <div class=\"colab-df-buttons\">\n",
              "\n",
              "  <div class=\"colab-df-container\">\n",
              "    <button class=\"colab-df-convert\" onclick=\"convertToInteractive('df-796773c2-8278-4a5b-87b3-15f5fd0486d3')\"\n",
              "            title=\"Convert this dataframe to an interactive table.\"\n",
              "            style=\"display:none;\">\n",
              "\n",
              "  <svg xmlns=\"http://www.w3.org/2000/svg\" height=\"24px\" viewBox=\"0 -960 960 960\">\n",
              "    <path d=\"M120-120v-720h720v720H120Zm60-500h600v-160H180v160Zm220 220h160v-160H400v160Zm0 220h160v-160H400v160ZM180-400h160v-160H180v160Zm440 0h160v-160H620v160ZM180-180h160v-160H180v160Zm440 0h160v-160H620v160Z\"/>\n",
              "  </svg>\n",
              "    </button>\n",
              "\n",
              "  <style>\n",
              "    .colab-df-container {\n",
              "      display:flex;\n",
              "      gap: 12px;\n",
              "    }\n",
              "\n",
              "    .colab-df-convert {\n",
              "      background-color: #E8F0FE;\n",
              "      border: none;\n",
              "      border-radius: 50%;\n",
              "      cursor: pointer;\n",
              "      display: none;\n",
              "      fill: #1967D2;\n",
              "      height: 32px;\n",
              "      padding: 0 0 0 0;\n",
              "      width: 32px;\n",
              "    }\n",
              "\n",
              "    .colab-df-convert:hover {\n",
              "      background-color: #E2EBFA;\n",
              "      box-shadow: 0px 1px 2px rgba(60, 64, 67, 0.3), 0px 1px 3px 1px rgba(60, 64, 67, 0.15);\n",
              "      fill: #174EA6;\n",
              "    }\n",
              "\n",
              "    .colab-df-buttons div {\n",
              "      margin-bottom: 4px;\n",
              "    }\n",
              "\n",
              "    [theme=dark] .colab-df-convert {\n",
              "      background-color: #3B4455;\n",
              "      fill: #D2E3FC;\n",
              "    }\n",
              "\n",
              "    [theme=dark] .colab-df-convert:hover {\n",
              "      background-color: #434B5C;\n",
              "      box-shadow: 0px 1px 3px 1px rgba(0, 0, 0, 0.15);\n",
              "      filter: drop-shadow(0px 1px 2px rgba(0, 0, 0, 0.3));\n",
              "      fill: #FFFFFF;\n",
              "    }\n",
              "  </style>\n",
              "\n",
              "    <script>\n",
              "      const buttonEl =\n",
              "        document.querySelector('#df-796773c2-8278-4a5b-87b3-15f5fd0486d3 button.colab-df-convert');\n",
              "      buttonEl.style.display =\n",
              "        google.colab.kernel.accessAllowed ? 'block' : 'none';\n",
              "\n",
              "      async function convertToInteractive(key) {\n",
              "        const element = document.querySelector('#df-796773c2-8278-4a5b-87b3-15f5fd0486d3');\n",
              "        const dataTable =\n",
              "          await google.colab.kernel.invokeFunction('convertToInteractive',\n",
              "                                                    [key], {});\n",
              "        if (!dataTable) return;\n",
              "\n",
              "        const docLinkHtml = 'Like what you see? Visit the ' +\n",
              "          '<a target=\"_blank\" href=https://colab.research.google.com/notebooks/data_table.ipynb>data table notebook</a>'\n",
              "          + ' to learn more about interactive tables.';\n",
              "        element.innerHTML = '';\n",
              "        dataTable['output_type'] = 'display_data';\n",
              "        await google.colab.output.renderOutput(dataTable, element);\n",
              "        const docLink = document.createElement('div');\n",
              "        docLink.innerHTML = docLinkHtml;\n",
              "        element.appendChild(docLink);\n",
              "      }\n",
              "    </script>\n",
              "  </div>\n",
              "\n",
              "\n",
              "<div id=\"df-4384ffc7-512b-4094-be4e-d7401efe7f3e\">\n",
              "  <button class=\"colab-df-quickchart\" onclick=\"quickchart('df-4384ffc7-512b-4094-be4e-d7401efe7f3e')\"\n",
              "            title=\"Suggest charts\"\n",
              "            style=\"display:none;\">\n",
              "\n",
              "<svg xmlns=\"http://www.w3.org/2000/svg\" height=\"24px\"viewBox=\"0 0 24 24\"\n",
              "     width=\"24px\">\n",
              "    <g>\n",
              "        <path d=\"M19 3H5c-1.1 0-2 .9-2 2v14c0 1.1.9 2 2 2h14c1.1 0 2-.9 2-2V5c0-1.1-.9-2-2-2zM9 17H7v-7h2v7zm4 0h-2V7h2v10zm4 0h-2v-4h2v4z\"/>\n",
              "    </g>\n",
              "</svg>\n",
              "  </button>\n",
              "\n",
              "<style>\n",
              "  .colab-df-quickchart {\n",
              "      --bg-color: #E8F0FE;\n",
              "      --fill-color: #1967D2;\n",
              "      --hover-bg-color: #E2EBFA;\n",
              "      --hover-fill-color: #174EA6;\n",
              "      --disabled-fill-color: #AAA;\n",
              "      --disabled-bg-color: #DDD;\n",
              "  }\n",
              "\n",
              "  [theme=dark] .colab-df-quickchart {\n",
              "      --bg-color: #3B4455;\n",
              "      --fill-color: #D2E3FC;\n",
              "      --hover-bg-color: #434B5C;\n",
              "      --hover-fill-color: #FFFFFF;\n",
              "      --disabled-bg-color: #3B4455;\n",
              "      --disabled-fill-color: #666;\n",
              "  }\n",
              "\n",
              "  .colab-df-quickchart {\n",
              "    background-color: var(--bg-color);\n",
              "    border: none;\n",
              "    border-radius: 50%;\n",
              "    cursor: pointer;\n",
              "    display: none;\n",
              "    fill: var(--fill-color);\n",
              "    height: 32px;\n",
              "    padding: 0;\n",
              "    width: 32px;\n",
              "  }\n",
              "\n",
              "  .colab-df-quickchart:hover {\n",
              "    background-color: var(--hover-bg-color);\n",
              "    box-shadow: 0 1px 2px rgba(60, 64, 67, 0.3), 0 1px 3px 1px rgba(60, 64, 67, 0.15);\n",
              "    fill: var(--button-hover-fill-color);\n",
              "  }\n",
              "\n",
              "  .colab-df-quickchart-complete:disabled,\n",
              "  .colab-df-quickchart-complete:disabled:hover {\n",
              "    background-color: var(--disabled-bg-color);\n",
              "    fill: var(--disabled-fill-color);\n",
              "    box-shadow: none;\n",
              "  }\n",
              "\n",
              "  .colab-df-spinner {\n",
              "    border: 2px solid var(--fill-color);\n",
              "    border-color: transparent;\n",
              "    border-bottom-color: var(--fill-color);\n",
              "    animation:\n",
              "      spin 1s steps(1) infinite;\n",
              "  }\n",
              "\n",
              "  @keyframes spin {\n",
              "    0% {\n",
              "      border-color: transparent;\n",
              "      border-bottom-color: var(--fill-color);\n",
              "      border-left-color: var(--fill-color);\n",
              "    }\n",
              "    20% {\n",
              "      border-color: transparent;\n",
              "      border-left-color: var(--fill-color);\n",
              "      border-top-color: var(--fill-color);\n",
              "    }\n",
              "    30% {\n",
              "      border-color: transparent;\n",
              "      border-left-color: var(--fill-color);\n",
              "      border-top-color: var(--fill-color);\n",
              "      border-right-color: var(--fill-color);\n",
              "    }\n",
              "    40% {\n",
              "      border-color: transparent;\n",
              "      border-right-color: var(--fill-color);\n",
              "      border-top-color: var(--fill-color);\n",
              "    }\n",
              "    60% {\n",
              "      border-color: transparent;\n",
              "      border-right-color: var(--fill-color);\n",
              "    }\n",
              "    80% {\n",
              "      border-color: transparent;\n",
              "      border-right-color: var(--fill-color);\n",
              "      border-bottom-color: var(--fill-color);\n",
              "    }\n",
              "    90% {\n",
              "      border-color: transparent;\n",
              "      border-bottom-color: var(--fill-color);\n",
              "    }\n",
              "  }\n",
              "</style>\n",
              "\n",
              "  <script>\n",
              "    async function quickchart(key) {\n",
              "      const quickchartButtonEl =\n",
              "        document.querySelector('#' + key + ' button');\n",
              "      quickchartButtonEl.disabled = true;  // To prevent multiple clicks.\n",
              "      quickchartButtonEl.classList.add('colab-df-spinner');\n",
              "      try {\n",
              "        const charts = await google.colab.kernel.invokeFunction(\n",
              "            'suggestCharts', [key], {});\n",
              "      } catch (error) {\n",
              "        console.error('Error during call to suggestCharts:', error);\n",
              "      }\n",
              "      quickchartButtonEl.classList.remove('colab-df-spinner');\n",
              "      quickchartButtonEl.classList.add('colab-df-quickchart-complete');\n",
              "    }\n",
              "    (() => {\n",
              "      let quickchartButtonEl =\n",
              "        document.querySelector('#df-4384ffc7-512b-4094-be4e-d7401efe7f3e button');\n",
              "      quickchartButtonEl.style.display =\n",
              "        google.colab.kernel.accessAllowed ? 'block' : 'none';\n",
              "    })();\n",
              "  </script>\n",
              "</div>\n",
              "    </div>\n",
              "  </div>\n"
            ],
            "application/vnd.google.colaboratory.intrinsic+json": {
              "type": "dataframe"
            }
          },
          "metadata": {},
          "execution_count": 8
        }
      ]
    },
    {
      "cell_type": "markdown",
      "source": [
        "Проверка на пропуски"
      ],
      "metadata": {
        "id": "vdPTPOkEOTv3"
      }
    },
    {
      "cell_type": "code",
      "source": [
        "df.isna().sum()"
      ],
      "metadata": {
        "id": "7vAg-ZE_ny41",
        "colab": {
          "base_uri": "https://localhost:8080/",
          "height": 458
        },
        "outputId": "e95c7b18-bdb8-4c8f-a28e-7099810cd6b3"
      },
      "execution_count": 9,
      "outputs": [
        {
          "output_type": "execute_result",
          "data": {
            "text/plain": [
              "patientId    0\n",
              "value0       0\n",
              "value1       0\n",
              "value2       0\n",
              "value3       0\n",
              "            ..\n",
              "value380     0\n",
              "value381     0\n",
              "value382     0\n",
              "value383     0\n",
              "reference    0\n",
              "Length: 386, dtype: int64"
            ],
            "text/html": [
              "<div>\n",
              "<style scoped>\n",
              "    .dataframe tbody tr th:only-of-type {\n",
              "        vertical-align: middle;\n",
              "    }\n",
              "\n",
              "    .dataframe tbody tr th {\n",
              "        vertical-align: top;\n",
              "    }\n",
              "\n",
              "    .dataframe thead th {\n",
              "        text-align: right;\n",
              "    }\n",
              "</style>\n",
              "<table border=\"1\" class=\"dataframe\">\n",
              "  <thead>\n",
              "    <tr style=\"text-align: right;\">\n",
              "      <th></th>\n",
              "      <th>0</th>\n",
              "    </tr>\n",
              "  </thead>\n",
              "  <tbody>\n",
              "    <tr>\n",
              "      <th>patientId</th>\n",
              "      <td>0</td>\n",
              "    </tr>\n",
              "    <tr>\n",
              "      <th>value0</th>\n",
              "      <td>0</td>\n",
              "    </tr>\n",
              "    <tr>\n",
              "      <th>value1</th>\n",
              "      <td>0</td>\n",
              "    </tr>\n",
              "    <tr>\n",
              "      <th>value2</th>\n",
              "      <td>0</td>\n",
              "    </tr>\n",
              "    <tr>\n",
              "      <th>value3</th>\n",
              "      <td>0</td>\n",
              "    </tr>\n",
              "    <tr>\n",
              "      <th>...</th>\n",
              "      <td>...</td>\n",
              "    </tr>\n",
              "    <tr>\n",
              "      <th>value380</th>\n",
              "      <td>0</td>\n",
              "    </tr>\n",
              "    <tr>\n",
              "      <th>value381</th>\n",
              "      <td>0</td>\n",
              "    </tr>\n",
              "    <tr>\n",
              "      <th>value382</th>\n",
              "      <td>0</td>\n",
              "    </tr>\n",
              "    <tr>\n",
              "      <th>value383</th>\n",
              "      <td>0</td>\n",
              "    </tr>\n",
              "    <tr>\n",
              "      <th>reference</th>\n",
              "      <td>0</td>\n",
              "    </tr>\n",
              "  </tbody>\n",
              "</table>\n",
              "<p>386 rows × 1 columns</p>\n",
              "</div><br><label><b>dtype:</b> int64</label>"
            ]
          },
          "metadata": {},
          "execution_count": 9
        }
      ]
    },
    {
      "cell_type": "code",
      "source": [
        "def data_filtering(data):\n",
        "    colums_for_filtering = []\n",
        "\n",
        "    for i in data.columns:\n",
        "        amount_025 = list(data[i].values).count(-0.25) / len(data[i])\n",
        "        if amount_025 > 0.75:\n",
        "            colums_for_filtering.append(i)\n",
        "\n",
        "    print(len(colums_for_filtering))\n",
        "\n",
        "    data_filtered = data.drop(colums_for_filtering, axis = 1)\n",
        "\n",
        "    return data_filtered"
      ],
      "metadata": {
        "id": "jSyeM1eFQX1n"
      },
      "execution_count": 10,
      "outputs": []
    },
    {
      "cell_type": "code",
      "source": [
        "df_shuffle = df.sample(frac=1)"
      ],
      "metadata": {
        "id": "dRYnFynM3wVp"
      },
      "execution_count": 11,
      "outputs": []
    },
    {
      "cell_type": "code",
      "source": [
        "data_filtered = data_filtering(df_shuffle)\n",
        "data_filtered.info()"
      ],
      "metadata": {
        "colab": {
          "base_uri": "https://localhost:8080/"
        },
        "id": "43ohBe88SuGP",
        "outputId": "a9a52bb5-e9f9-49f3-bfd7-c23dbb2e45a0"
      },
      "execution_count": 12,
      "outputs": [
        {
          "output_type": "stream",
          "name": "stdout",
          "text": [
            "44\n",
            "<class 'pandas.core.frame.DataFrame'>\n",
            "Index: 53500 entries, 39981 to 25711\n",
            "Columns: 342 entries, patientId to reference\n",
            "dtypes: float64(341), int64(1)\n",
            "memory usage: 140.0 MB\n"
          ]
        }
      ]
    },
    {
      "cell_type": "code",
      "source": [
        "df_shuffle.info()"
      ],
      "metadata": {
        "colab": {
          "base_uri": "https://localhost:8080/"
        },
        "id": "5gVtT8A6S3Jp",
        "outputId": "a064b7b6-d253-4bbe-96d5-6ee120ba2ce6"
      },
      "execution_count": 13,
      "outputs": [
        {
          "output_type": "stream",
          "name": "stdout",
          "text": [
            "<class 'pandas.core.frame.DataFrame'>\n",
            "Index: 53500 entries, 39981 to 25711\n",
            "Columns: 386 entries, patientId to reference\n",
            "dtypes: float64(385), int64(1)\n",
            "memory usage: 158.0 MB\n"
          ]
        }
      ]
    },
    {
      "cell_type": "markdown",
      "source": [
        "Разделяем данные для обучения"
      ],
      "metadata": {
        "id": "LTjKe7IyTIqA"
      }
    },
    {
      "cell_type": "code",
      "source": [
        "df_shuffle.reference.min(), df_shuffle.reference.max()"
      ],
      "metadata": {
        "colab": {
          "base_uri": "https://localhost:8080/"
        },
        "id": "32E83V-6gsG7",
        "outputId": "3e102918-0980-47d2-9692-2696343bf90d"
      },
      "execution_count": 14,
      "outputs": [
        {
          "output_type": "execute_result",
          "data": {
            "text/plain": [
              "(1.738733, 97.489115)"
            ]
          },
          "metadata": {},
          "execution_count": 14
        }
      ]
    },
    {
      "cell_type": "code",
      "source": [
        "bins_number = math.ceil((df_shuffle.reference.max() - df_shuffle.reference.min()) / 10)"
      ],
      "metadata": {
        "id": "UlSn7Iz9g1qF"
      },
      "execution_count": 19,
      "outputs": []
    },
    {
      "cell_type": "code",
      "source": [
        "binner = KBinsDiscretizer(n_bins=bins_number, encode='ordinal', strategy='uniform')"
      ],
      "metadata": {
        "id": "Vg763U7Cgp4v"
      },
      "execution_count": 20,
      "outputs": []
    },
    {
      "cell_type": "code",
      "source": [
        "df_shuffle.reference.to_numpy().reshape(-1, 1)[:10]"
      ],
      "metadata": {
        "colab": {
          "base_uri": "https://localhost:8080/"
        },
        "id": "KvaTO8ljimDz",
        "outputId": "b8312f87-e40a-424f-b620-5a934fa14172"
      },
      "execution_count": 25,
      "outputs": [
        {
          "output_type": "execute_result",
          "data": {
            "text/plain": [
              "array([[79.523056],\n",
              "       [47.257026],\n",
              "       [56.745741],\n",
              "       [84.833724],\n",
              "       [76.234705],\n",
              "       [50.802492],\n",
              "       [14.696381],\n",
              "       [57.76849 ],\n",
              "       [15.317652],\n",
              "       [ 7.936171]])"
            ]
          },
          "metadata": {},
          "execution_count": 25
        }
      ]
    },
    {
      "cell_type": "code",
      "source": [
        "X = df_shuffle.drop('reference', axis=1)\n",
        "# y = df_shuffle.reference.round()\n",
        "y = binner.fit_transform(df_shuffle.reference.to_numpy().reshape(-1, 1))\n",
        "\n",
        "X_f = data_filtered.drop('reference', axis=1)\n",
        "# y_f = data_filtered.reference.round()\n",
        "y_f = binner.fit_transform(data_filtered.reference.to_numpy().reshape(-1, 1))"
      ],
      "metadata": {
        "id": "q85usI_BS5J3"
      },
      "execution_count": 26,
      "outputs": []
    },
    {
      "cell_type": "code",
      "source": [
        "X_train, X_test, y_train, y_test = train_test_split(X, y, test_size=0.3, random_state=RANDOM_STATE)\n",
        "X_f_train, X_f_test, y_f_train, y_f_test = train_test_split(X_f, y_f, test_size=0.3, random_state=RANDOM_STATE)"
      ],
      "metadata": {
        "id": "fNSBwxdHXj6Y"
      },
      "execution_count": 28,
      "outputs": []
    },
    {
      "cell_type": "code",
      "source": [
        "X.head()"
      ],
      "metadata": {
        "colab": {
          "base_uri": "https://localhost:8080/",
          "height": 256
        },
        "id": "8DLUt1qe2OQM",
        "outputId": "88a6452c-38ea-44cb-cbbb-cec1f2140daa"
      },
      "execution_count": 29,
      "outputs": [
        {
          "output_type": "execute_result",
          "data": {
            "text/plain": [
              "       patientId  value0  value1    value2    value3    value4    value5  \\\n",
              "39981         70     0.0     0.0  0.676364  0.854999  0.863816  0.616270   \n",
              "40430         72     0.0     0.0  0.000000  0.000000  0.000000  0.000000   \n",
              "12769         22     0.0     0.0  0.000000  0.020113  0.756098  0.372421   \n",
              "27019         46     0.0     0.0  0.826803  0.953865  0.885843  0.785057   \n",
              "14056         23     0.0     0.0  0.000000  0.668994  0.889888  0.000000   \n",
              "\n",
              "         value6  value7  value8  ...  value374  value375  value376  value377  \\\n",
              "39981  0.000000     0.0    0.00  ...  0.000000       0.0  0.000000  0.000000   \n",
              "40430  0.583860     0.0    0.00  ...  0.000000       0.0  0.989746  0.999909   \n",
              "12769  0.136869     0.0   -0.25  ...  0.000000       0.0  0.000000  0.000000   \n",
              "27019  0.000000     0.0    0.00  ...  0.737874       0.0  0.000000  0.000000   \n",
              "14056  0.000000     0.0    0.00  ...  0.000000       0.0  0.000000  0.000000   \n",
              "\n",
              "       value378  value379  value380  value381  value382  value383  \n",
              "39981       0.0  0.000000  0.000000   0.00000       0.0      0.00  \n",
              "40430       1.0  0.999997  0.999995   0.99832       0.0     -0.25  \n",
              "12769       0.0  0.000000  0.000000   0.00000       0.0     -0.25  \n",
              "27019       0.0  0.000000  0.000000   0.00000       0.0      0.00  \n",
              "14056       0.0  0.000000  0.000000   0.00000       0.0     -0.25  \n",
              "\n",
              "[5 rows x 385 columns]"
            ],
            "text/html": [
              "\n",
              "  <div id=\"df-f9ebe085-0916-4827-a833-1e954795ae5c\" class=\"colab-df-container\">\n",
              "    <div>\n",
              "<style scoped>\n",
              "    .dataframe tbody tr th:only-of-type {\n",
              "        vertical-align: middle;\n",
              "    }\n",
              "\n",
              "    .dataframe tbody tr th {\n",
              "        vertical-align: top;\n",
              "    }\n",
              "\n",
              "    .dataframe thead th {\n",
              "        text-align: right;\n",
              "    }\n",
              "</style>\n",
              "<table border=\"1\" class=\"dataframe\">\n",
              "  <thead>\n",
              "    <tr style=\"text-align: right;\">\n",
              "      <th></th>\n",
              "      <th>patientId</th>\n",
              "      <th>value0</th>\n",
              "      <th>value1</th>\n",
              "      <th>value2</th>\n",
              "      <th>value3</th>\n",
              "      <th>value4</th>\n",
              "      <th>value5</th>\n",
              "      <th>value6</th>\n",
              "      <th>value7</th>\n",
              "      <th>value8</th>\n",
              "      <th>...</th>\n",
              "      <th>value374</th>\n",
              "      <th>value375</th>\n",
              "      <th>value376</th>\n",
              "      <th>value377</th>\n",
              "      <th>value378</th>\n",
              "      <th>value379</th>\n",
              "      <th>value380</th>\n",
              "      <th>value381</th>\n",
              "      <th>value382</th>\n",
              "      <th>value383</th>\n",
              "    </tr>\n",
              "  </thead>\n",
              "  <tbody>\n",
              "    <tr>\n",
              "      <th>39981</th>\n",
              "      <td>70</td>\n",
              "      <td>0.0</td>\n",
              "      <td>0.0</td>\n",
              "      <td>0.676364</td>\n",
              "      <td>0.854999</td>\n",
              "      <td>0.863816</td>\n",
              "      <td>0.616270</td>\n",
              "      <td>0.000000</td>\n",
              "      <td>0.0</td>\n",
              "      <td>0.00</td>\n",
              "      <td>...</td>\n",
              "      <td>0.000000</td>\n",
              "      <td>0.0</td>\n",
              "      <td>0.000000</td>\n",
              "      <td>0.000000</td>\n",
              "      <td>0.0</td>\n",
              "      <td>0.000000</td>\n",
              "      <td>0.000000</td>\n",
              "      <td>0.00000</td>\n",
              "      <td>0.0</td>\n",
              "      <td>0.00</td>\n",
              "    </tr>\n",
              "    <tr>\n",
              "      <th>40430</th>\n",
              "      <td>72</td>\n",
              "      <td>0.0</td>\n",
              "      <td>0.0</td>\n",
              "      <td>0.000000</td>\n",
              "      <td>0.000000</td>\n",
              "      <td>0.000000</td>\n",
              "      <td>0.000000</td>\n",
              "      <td>0.583860</td>\n",
              "      <td>0.0</td>\n",
              "      <td>0.00</td>\n",
              "      <td>...</td>\n",
              "      <td>0.000000</td>\n",
              "      <td>0.0</td>\n",
              "      <td>0.989746</td>\n",
              "      <td>0.999909</td>\n",
              "      <td>1.0</td>\n",
              "      <td>0.999997</td>\n",
              "      <td>0.999995</td>\n",
              "      <td>0.99832</td>\n",
              "      <td>0.0</td>\n",
              "      <td>-0.25</td>\n",
              "    </tr>\n",
              "    <tr>\n",
              "      <th>12769</th>\n",
              "      <td>22</td>\n",
              "      <td>0.0</td>\n",
              "      <td>0.0</td>\n",
              "      <td>0.000000</td>\n",
              "      <td>0.020113</td>\n",
              "      <td>0.756098</td>\n",
              "      <td>0.372421</td>\n",
              "      <td>0.136869</td>\n",
              "      <td>0.0</td>\n",
              "      <td>-0.25</td>\n",
              "      <td>...</td>\n",
              "      <td>0.000000</td>\n",
              "      <td>0.0</td>\n",
              "      <td>0.000000</td>\n",
              "      <td>0.000000</td>\n",
              "      <td>0.0</td>\n",
              "      <td>0.000000</td>\n",
              "      <td>0.000000</td>\n",
              "      <td>0.00000</td>\n",
              "      <td>0.0</td>\n",
              "      <td>-0.25</td>\n",
              "    </tr>\n",
              "    <tr>\n",
              "      <th>27019</th>\n",
              "      <td>46</td>\n",
              "      <td>0.0</td>\n",
              "      <td>0.0</td>\n",
              "      <td>0.826803</td>\n",
              "      <td>0.953865</td>\n",
              "      <td>0.885843</td>\n",
              "      <td>0.785057</td>\n",
              "      <td>0.000000</td>\n",
              "      <td>0.0</td>\n",
              "      <td>0.00</td>\n",
              "      <td>...</td>\n",
              "      <td>0.737874</td>\n",
              "      <td>0.0</td>\n",
              "      <td>0.000000</td>\n",
              "      <td>0.000000</td>\n",
              "      <td>0.0</td>\n",
              "      <td>0.000000</td>\n",
              "      <td>0.000000</td>\n",
              "      <td>0.00000</td>\n",
              "      <td>0.0</td>\n",
              "      <td>0.00</td>\n",
              "    </tr>\n",
              "    <tr>\n",
              "      <th>14056</th>\n",
              "      <td>23</td>\n",
              "      <td>0.0</td>\n",
              "      <td>0.0</td>\n",
              "      <td>0.000000</td>\n",
              "      <td>0.668994</td>\n",
              "      <td>0.889888</td>\n",
              "      <td>0.000000</td>\n",
              "      <td>0.000000</td>\n",
              "      <td>0.0</td>\n",
              "      <td>0.00</td>\n",
              "      <td>...</td>\n",
              "      <td>0.000000</td>\n",
              "      <td>0.0</td>\n",
              "      <td>0.000000</td>\n",
              "      <td>0.000000</td>\n",
              "      <td>0.0</td>\n",
              "      <td>0.000000</td>\n",
              "      <td>0.000000</td>\n",
              "      <td>0.00000</td>\n",
              "      <td>0.0</td>\n",
              "      <td>-0.25</td>\n",
              "    </tr>\n",
              "  </tbody>\n",
              "</table>\n",
              "<p>5 rows × 385 columns</p>\n",
              "</div>\n",
              "    <div class=\"colab-df-buttons\">\n",
              "\n",
              "  <div class=\"colab-df-container\">\n",
              "    <button class=\"colab-df-convert\" onclick=\"convertToInteractive('df-f9ebe085-0916-4827-a833-1e954795ae5c')\"\n",
              "            title=\"Convert this dataframe to an interactive table.\"\n",
              "            style=\"display:none;\">\n",
              "\n",
              "  <svg xmlns=\"http://www.w3.org/2000/svg\" height=\"24px\" viewBox=\"0 -960 960 960\">\n",
              "    <path d=\"M120-120v-720h720v720H120Zm60-500h600v-160H180v160Zm220 220h160v-160H400v160Zm0 220h160v-160H400v160ZM180-400h160v-160H180v160Zm440 0h160v-160H620v160ZM180-180h160v-160H180v160Zm440 0h160v-160H620v160Z\"/>\n",
              "  </svg>\n",
              "    </button>\n",
              "\n",
              "  <style>\n",
              "    .colab-df-container {\n",
              "      display:flex;\n",
              "      gap: 12px;\n",
              "    }\n",
              "\n",
              "    .colab-df-convert {\n",
              "      background-color: #E8F0FE;\n",
              "      border: none;\n",
              "      border-radius: 50%;\n",
              "      cursor: pointer;\n",
              "      display: none;\n",
              "      fill: #1967D2;\n",
              "      height: 32px;\n",
              "      padding: 0 0 0 0;\n",
              "      width: 32px;\n",
              "    }\n",
              "\n",
              "    .colab-df-convert:hover {\n",
              "      background-color: #E2EBFA;\n",
              "      box-shadow: 0px 1px 2px rgba(60, 64, 67, 0.3), 0px 1px 3px 1px rgba(60, 64, 67, 0.15);\n",
              "      fill: #174EA6;\n",
              "    }\n",
              "\n",
              "    .colab-df-buttons div {\n",
              "      margin-bottom: 4px;\n",
              "    }\n",
              "\n",
              "    [theme=dark] .colab-df-convert {\n",
              "      background-color: #3B4455;\n",
              "      fill: #D2E3FC;\n",
              "    }\n",
              "\n",
              "    [theme=dark] .colab-df-convert:hover {\n",
              "      background-color: #434B5C;\n",
              "      box-shadow: 0px 1px 3px 1px rgba(0, 0, 0, 0.15);\n",
              "      filter: drop-shadow(0px 1px 2px rgba(0, 0, 0, 0.3));\n",
              "      fill: #FFFFFF;\n",
              "    }\n",
              "  </style>\n",
              "\n",
              "    <script>\n",
              "      const buttonEl =\n",
              "        document.querySelector('#df-f9ebe085-0916-4827-a833-1e954795ae5c button.colab-df-convert');\n",
              "      buttonEl.style.display =\n",
              "        google.colab.kernel.accessAllowed ? 'block' : 'none';\n",
              "\n",
              "      async function convertToInteractive(key) {\n",
              "        const element = document.querySelector('#df-f9ebe085-0916-4827-a833-1e954795ae5c');\n",
              "        const dataTable =\n",
              "          await google.colab.kernel.invokeFunction('convertToInteractive',\n",
              "                                                    [key], {});\n",
              "        if (!dataTable) return;\n",
              "\n",
              "        const docLinkHtml = 'Like what you see? Visit the ' +\n",
              "          '<a target=\"_blank\" href=https://colab.research.google.com/notebooks/data_table.ipynb>data table notebook</a>'\n",
              "          + ' to learn more about interactive tables.';\n",
              "        element.innerHTML = '';\n",
              "        dataTable['output_type'] = 'display_data';\n",
              "        await google.colab.output.renderOutput(dataTable, element);\n",
              "        const docLink = document.createElement('div');\n",
              "        docLink.innerHTML = docLinkHtml;\n",
              "        element.appendChild(docLink);\n",
              "      }\n",
              "    </script>\n",
              "  </div>\n",
              "\n",
              "\n",
              "<div id=\"df-ce3d3e79-c5b8-4bb9-aa6b-a8652076cc3a\">\n",
              "  <button class=\"colab-df-quickchart\" onclick=\"quickchart('df-ce3d3e79-c5b8-4bb9-aa6b-a8652076cc3a')\"\n",
              "            title=\"Suggest charts\"\n",
              "            style=\"display:none;\">\n",
              "\n",
              "<svg xmlns=\"http://www.w3.org/2000/svg\" height=\"24px\"viewBox=\"0 0 24 24\"\n",
              "     width=\"24px\">\n",
              "    <g>\n",
              "        <path d=\"M19 3H5c-1.1 0-2 .9-2 2v14c0 1.1.9 2 2 2h14c1.1 0 2-.9 2-2V5c0-1.1-.9-2-2-2zM9 17H7v-7h2v7zm4 0h-2V7h2v10zm4 0h-2v-4h2v4z\"/>\n",
              "    </g>\n",
              "</svg>\n",
              "  </button>\n",
              "\n",
              "<style>\n",
              "  .colab-df-quickchart {\n",
              "      --bg-color: #E8F0FE;\n",
              "      --fill-color: #1967D2;\n",
              "      --hover-bg-color: #E2EBFA;\n",
              "      --hover-fill-color: #174EA6;\n",
              "      --disabled-fill-color: #AAA;\n",
              "      --disabled-bg-color: #DDD;\n",
              "  }\n",
              "\n",
              "  [theme=dark] .colab-df-quickchart {\n",
              "      --bg-color: #3B4455;\n",
              "      --fill-color: #D2E3FC;\n",
              "      --hover-bg-color: #434B5C;\n",
              "      --hover-fill-color: #FFFFFF;\n",
              "      --disabled-bg-color: #3B4455;\n",
              "      --disabled-fill-color: #666;\n",
              "  }\n",
              "\n",
              "  .colab-df-quickchart {\n",
              "    background-color: var(--bg-color);\n",
              "    border: none;\n",
              "    border-radius: 50%;\n",
              "    cursor: pointer;\n",
              "    display: none;\n",
              "    fill: var(--fill-color);\n",
              "    height: 32px;\n",
              "    padding: 0;\n",
              "    width: 32px;\n",
              "  }\n",
              "\n",
              "  .colab-df-quickchart:hover {\n",
              "    background-color: var(--hover-bg-color);\n",
              "    box-shadow: 0 1px 2px rgba(60, 64, 67, 0.3), 0 1px 3px 1px rgba(60, 64, 67, 0.15);\n",
              "    fill: var(--button-hover-fill-color);\n",
              "  }\n",
              "\n",
              "  .colab-df-quickchart-complete:disabled,\n",
              "  .colab-df-quickchart-complete:disabled:hover {\n",
              "    background-color: var(--disabled-bg-color);\n",
              "    fill: var(--disabled-fill-color);\n",
              "    box-shadow: none;\n",
              "  }\n",
              "\n",
              "  .colab-df-spinner {\n",
              "    border: 2px solid var(--fill-color);\n",
              "    border-color: transparent;\n",
              "    border-bottom-color: var(--fill-color);\n",
              "    animation:\n",
              "      spin 1s steps(1) infinite;\n",
              "  }\n",
              "\n",
              "  @keyframes spin {\n",
              "    0% {\n",
              "      border-color: transparent;\n",
              "      border-bottom-color: var(--fill-color);\n",
              "      border-left-color: var(--fill-color);\n",
              "    }\n",
              "    20% {\n",
              "      border-color: transparent;\n",
              "      border-left-color: var(--fill-color);\n",
              "      border-top-color: var(--fill-color);\n",
              "    }\n",
              "    30% {\n",
              "      border-color: transparent;\n",
              "      border-left-color: var(--fill-color);\n",
              "      border-top-color: var(--fill-color);\n",
              "      border-right-color: var(--fill-color);\n",
              "    }\n",
              "    40% {\n",
              "      border-color: transparent;\n",
              "      border-right-color: var(--fill-color);\n",
              "      border-top-color: var(--fill-color);\n",
              "    }\n",
              "    60% {\n",
              "      border-color: transparent;\n",
              "      border-right-color: var(--fill-color);\n",
              "    }\n",
              "    80% {\n",
              "      border-color: transparent;\n",
              "      border-right-color: var(--fill-color);\n",
              "      border-bottom-color: var(--fill-color);\n",
              "    }\n",
              "    90% {\n",
              "      border-color: transparent;\n",
              "      border-bottom-color: var(--fill-color);\n",
              "    }\n",
              "  }\n",
              "</style>\n",
              "\n",
              "  <script>\n",
              "    async function quickchart(key) {\n",
              "      const quickchartButtonEl =\n",
              "        document.querySelector('#' + key + ' button');\n",
              "      quickchartButtonEl.disabled = true;  // To prevent multiple clicks.\n",
              "      quickchartButtonEl.classList.add('colab-df-spinner');\n",
              "      try {\n",
              "        const charts = await google.colab.kernel.invokeFunction(\n",
              "            'suggestCharts', [key], {});\n",
              "      } catch (error) {\n",
              "        console.error('Error during call to suggestCharts:', error);\n",
              "      }\n",
              "      quickchartButtonEl.classList.remove('colab-df-spinner');\n",
              "      quickchartButtonEl.classList.add('colab-df-quickchart-complete');\n",
              "    }\n",
              "    (() => {\n",
              "      let quickchartButtonEl =\n",
              "        document.querySelector('#df-ce3d3e79-c5b8-4bb9-aa6b-a8652076cc3a button');\n",
              "      quickchartButtonEl.style.display =\n",
              "        google.colab.kernel.accessAllowed ? 'block' : 'none';\n",
              "    })();\n",
              "  </script>\n",
              "</div>\n",
              "    </div>\n",
              "  </div>\n"
            ],
            "application/vnd.google.colaboratory.intrinsic+json": {
              "type": "dataframe",
              "variable_name": "X"
            }
          },
          "metadata": {},
          "execution_count": 29
        }
      ]
    },
    {
      "cell_type": "markdown",
      "source": [
        "### Сравнение алгоритмов классификации"
      ],
      "metadata": {
        "id": "gnRechzzcY_o"
      }
    },
    {
      "cell_type": "code",
      "source": [
        "def classification_metrics(y, pred):\n",
        "    pre = accuracy_score(y, pred)\n",
        "    print(f\"accuracy score:\\t\\t{pre:.5f}\\n\")\n",
        "\n",
        "    pre = f1_score(y, pred, average=\"macro\")\n",
        "    print(f\"f1 score:\\t\\t{pre:.5f}\")\n",
        "\n",
        "    pre = precision_score(y, pred, average=\"macro\")\n",
        "    print(f\"precision score:\\t{pre:.5f}\")\n",
        "\n",
        "    pre = recall_score(y, pred, average=\"macro\", zero_division=0.0)\n",
        "    print(f\"recall score:\\t\\t{pre:.5f}\")"
      ],
      "metadata": {
        "id": "nysLWrPYqS6b"
      },
      "execution_count": 30,
      "outputs": []
    },
    {
      "cell_type": "markdown",
      "source": [
        "### DecisionTreeClassifier"
      ],
      "metadata": {
        "id": "gsql2tdLykWE"
      }
    },
    {
      "cell_type": "markdown",
      "source": [
        "#### Без фильтрации"
      ],
      "metadata": {
        "id": "Lbvy63aRAr2V"
      }
    },
    {
      "cell_type": "code",
      "source": [
        "dt_model = DecisionTreeClassifier(max_depth=7, random_state=RANDOM_STATE)\n",
        "dt_model.fit(X_train, y_train)\n",
        "preds = dt_model.predict(X_test)\n",
        "classification_metrics(y_test, preds)"
      ],
      "metadata": {
        "colab": {
          "base_uri": "https://localhost:8080/"
        },
        "id": "6wX02-fxykB2",
        "outputId": "1dc2ddee-bf13-41d2-9e9b-87f9ea59fc8d"
      },
      "execution_count": 31,
      "outputs": [
        {
          "output_type": "stream",
          "name": "stdout",
          "text": [
            "accuracy score:\t\t0.81769\n",
            "\n",
            "f1 score:\t\t0.81657\n",
            "precision score:\t0.82478\n",
            "recall score:\t\t0.81719\n"
          ]
        }
      ]
    },
    {
      "cell_type": "code",
      "source": [
        "decision_tree_classifier = make_pipeline(DecisionTreeClassifier(max_depth=7, random_state=RANDOM_STATE))\n",
        "dtc_rmses = cross_val_score(decision_tree_classifier, X, y, cv=5)\n",
        "print(f\"{pd.Series(dtc_rmses).describe()['mean']:.4f} {dtc_rmses}\")"
      ],
      "metadata": {
        "colab": {
          "base_uri": "https://localhost:8080/"
        },
        "id": "mwyoagpEyj-Y",
        "outputId": "5e1b028e-e6a2-4935-c0e2-ea7087cb1f6b"
      },
      "execution_count": 32,
      "outputs": [
        {
          "output_type": "stream",
          "name": "stdout",
          "text": [
            "0.8197 [0.82738318 0.8135514  0.82084112 0.81327103 0.8235514 ]\n"
          ]
        }
      ]
    },
    {
      "cell_type": "markdown",
      "source": [
        "#### С фильтрацией"
      ],
      "metadata": {
        "id": "gv8jk7SCAudP"
      }
    },
    {
      "cell_type": "code",
      "source": [
        "dt_f_model = DecisionTreeClassifier(max_depth=7, random_state=RANDOM_STATE)\n",
        "dt_f_model.fit(X_f_train, y_f_train)\n",
        "preds = dt_f_model.predict(X_f_test)\n",
        "classification_metrics(y_f_test, preds)"
      ],
      "metadata": {
        "colab": {
          "base_uri": "https://localhost:8080/"
        },
        "id": "Yks9gvpNyjvJ",
        "outputId": "a95e2cda-3540-4fc8-928d-fc5327e6e52f"
      },
      "execution_count": 33,
      "outputs": [
        {
          "output_type": "stream",
          "name": "stdout",
          "text": [
            "accuracy score:\t\t0.81838\n",
            "\n",
            "f1 score:\t\t0.81710\n",
            "precision score:\t0.82530\n",
            "recall score:\t\t0.81775\n"
          ]
        }
      ]
    },
    {
      "cell_type": "code",
      "source": [
        "decision_tree_classifier_f = make_pipeline(DecisionTreeClassifier(max_depth=7, random_state=RANDOM_STATE))\n",
        "dtc_rmses_f = cross_val_score(decision_tree_classifier_f, X_f, y_f, cv=5)\n",
        "print(f\"{pd.Series(dtc_rmses_f).describe()['mean']:.4f} {dtc_rmses_f}\")"
      ],
      "metadata": {
        "colab": {
          "base_uri": "https://localhost:8080/"
        },
        "id": "oxWYQR0yAT2M",
        "outputId": "7495430c-1d0f-469d-9ebe-1e8994dad95d"
      },
      "execution_count": 34,
      "outputs": [
        {
          "output_type": "stream",
          "name": "stdout",
          "text": [
            "0.8199 [0.82719626 0.81364486 0.82102804 0.81392523 0.82345794]\n"
          ]
        }
      ]
    },
    {
      "cell_type": "markdown",
      "source": [
        "### RandomForestClassifier"
      ],
      "metadata": {
        "id": "w41P2_jRXdDT"
      }
    },
    {
      "cell_type": "markdown",
      "source": [
        "#### Без фильтрации"
      ],
      "metadata": {
        "id": "9teA2RiuAZr5"
      }
    },
    {
      "cell_type": "code",
      "source": [
        "rf_model = RandomForestClassifier(random_state=RANDOM_STATE)\n",
        "rf_model.fit(X_train, y_train)\n",
        "preds = rf_model.predict(X_test)\n",
        "classification_metrics(y_test, preds)"
      ],
      "metadata": {
        "colab": {
          "base_uri": "https://localhost:8080/"
        },
        "id": "d0XWMwWVs9g7",
        "outputId": "fcd15849-39ec-4318-d368-8e31bf251fa9"
      },
      "execution_count": 35,
      "outputs": [
        {
          "output_type": "stream",
          "name": "stdout",
          "text": [
            "accuracy score:\t\t0.98835\n",
            "\n",
            "f1 score:\t\t0.98823\n",
            "precision score:\t0.98879\n",
            "recall score:\t\t0.98767\n"
          ]
        }
      ]
    },
    {
      "cell_type": "code",
      "source": [
        "forest_classifier = make_pipeline(RandomForestClassifier(random_state=RANDOM_STATE))\n",
        "forest_rmses = cross_val_score(forest_classifier, X, y, cv=5)\n",
        "print(f\"{pd.Series(forest_rmses).describe()['mean']:.4f} {forest_rmses}\")"
      ],
      "metadata": {
        "colab": {
          "base_uri": "https://localhost:8080/"
        },
        "id": "Td9_RWnWs9Z4",
        "outputId": "49f8bfbf-cad6-4d03-fde7-e1881b125807"
      },
      "execution_count": 36,
      "outputs": [
        {
          "output_type": "stream",
          "name": "stdout",
          "text": [
            "0.9889 [0.98897196 0.98757009 0.9888785  0.98878505 0.99018692]\n"
          ]
        }
      ]
    },
    {
      "cell_type": "markdown",
      "source": [
        "#### С фильтрацией"
      ],
      "metadata": {
        "id": "K4h161EQAg_Y"
      }
    },
    {
      "cell_type": "code",
      "source": [
        "rf_model_f = RandomForestClassifier(random_state=RANDOM_STATE)\n",
        "rf_model_f.fit(X_f_train, y_f_train)\n",
        "preds = rf_model_f.predict(X_f_test)\n",
        "classification_metrics(y_f_test, preds)"
      ],
      "metadata": {
        "colab": {
          "base_uri": "https://localhost:8080/"
        },
        "id": "31KirsQKAlOn",
        "outputId": "6f436fb6-9180-4680-d1ea-9b97c1d59dad"
      },
      "execution_count": 37,
      "outputs": [
        {
          "output_type": "stream",
          "name": "stdout",
          "text": [
            "accuracy score:\t\t0.98866\n",
            "\n",
            "f1 score:\t\t0.98833\n",
            "precision score:\t0.98869\n",
            "recall score:\t\t0.98798\n"
          ]
        }
      ]
    },
    {
      "cell_type": "code",
      "source": [
        "forest_classifier_f = make_pipeline(RandomForestClassifier(random_state=RANDOM_STATE))\n",
        "forest_rmses_f = cross_val_score(forest_classifier_f, X_f, y_f, cv=5)\n",
        "print(f\"{pd.Series(forest_rmses_f).describe()['mean']:.4f} {forest_rmses_f}\")"
      ],
      "metadata": {
        "colab": {
          "base_uri": "https://localhost:8080/"
        },
        "id": "3xqQpB-RAlHI",
        "outputId": "092e0f09-a71b-481d-d508-4bdcf7c3db48"
      },
      "execution_count": 38,
      "outputs": [
        {
          "output_type": "stream",
          "name": "stdout",
          "text": [
            "0.9887 [0.98869159 0.98803738 0.98841121 0.98869159 0.98971963]\n"
          ]
        }
      ]
    },
    {
      "cell_type": "markdown",
      "source": [
        "### Support Vector Machine"
      ],
      "metadata": {
        "id": "i1FPGgpLXoJR"
      }
    },
    {
      "cell_type": "markdown",
      "source": [
        "#### Без фильтрации"
      ],
      "metadata": {
        "id": "-Y7habVlCO0Y"
      }
    },
    {
      "cell_type": "code",
      "source": [
        "svm_model = SVC(gamma=\"auto\", random_state=RANDOM_STATE)\n",
        "svm_model.fit(X_train, y_train)\n",
        "preds = svm_model.predict(X_test)\n",
        "classification_metrics(y_test, preds)"
      ],
      "metadata": {
        "colab": {
          "base_uri": "https://localhost:8080/"
        },
        "id": "o-wpIRHfCQZ6",
        "outputId": "651e1a60-440b-466a-f8cf-5b38e4717ae8"
      },
      "execution_count": 39,
      "outputs": [
        {
          "output_type": "stream",
          "name": "stdout",
          "text": [
            "accuracy score:\t\t0.94592\n",
            "\n",
            "f1 score:\t\t0.94664\n",
            "precision score:\t0.94624\n",
            "recall score:\t\t0.94714\n"
          ]
        }
      ]
    },
    {
      "cell_type": "markdown",
      "source": [
        "#### С фильтрацией"
      ],
      "metadata": {
        "id": "739S9U0xDPDC"
      }
    },
    {
      "cell_type": "code",
      "source": [
        "svm_model_f = SVC(kernel='linear', random_state=RANDOM_STATE)\n",
        "svm_model_f.fit(X_f_train, y_f_train)\n",
        "preds = svm_model_f.predict(X_f_test)\n",
        "classification_metrics(y_f_test, preds)"
      ],
      "metadata": {
        "colab": {
          "base_uri": "https://localhost:8080/"
        },
        "id": "E0SxgWlCCM4n",
        "outputId": "9da2701c-8ed8-4581-97a8-d374ad12de0b"
      },
      "execution_count": 40,
      "outputs": [
        {
          "output_type": "stream",
          "name": "stdout",
          "text": [
            "accuracy score:\t\t0.96822\n",
            "\n",
            "f1 score:\t\t0.97153\n",
            "precision score:\t0.97176\n",
            "recall score:\t\t0.97132\n"
          ]
        }
      ]
    },
    {
      "cell_type": "markdown",
      "source": [
        "### Получение прогноза"
      ],
      "metadata": {
        "id": "xLCTRPp1dlbX"
      }
    },
    {
      "cell_type": "code",
      "source": [
        "pred = cross_val_predict(forest_classifier, X, y, cv=5)"
      ],
      "metadata": {
        "id": "5DYFy8XoCMrX"
      },
      "execution_count": 41,
      "outputs": []
    },
    {
      "cell_type": "code",
      "source": [
        "classification_metrics(y, pred)"
      ],
      "metadata": {
        "colab": {
          "base_uri": "https://localhost:8080/"
        },
        "id": "ghlLapVqCMuF",
        "outputId": "0c57ce1e-8170-41e3-c28c-f971547bd958"
      },
      "execution_count": 42,
      "outputs": [
        {
          "output_type": "stream",
          "name": "stdout",
          "text": [
            "accuracy score:\t\t0.98888\n",
            "\n",
            "f1 score:\t\t0.98913\n",
            "precision score:\t0.98923\n",
            "recall score:\t\t0.98903\n"
          ]
        }
      ]
    },
    {
      "cell_type": "code",
      "source": [
        "pred_f = cross_val_predict(forest_classifier_f, X_f, y_f, cv=5)"
      ],
      "metadata": {
        "id": "6yrlPHSYLAc_"
      },
      "execution_count": 43,
      "outputs": []
    },
    {
      "cell_type": "code",
      "source": [
        "classification_metrics(y_f, pred_f)"
      ],
      "metadata": {
        "colab": {
          "base_uri": "https://localhost:8080/"
        },
        "id": "-s1b0_-WLEJY",
        "outputId": "8d8bc581-7f51-43a9-8336-215ec2c0b639"
      },
      "execution_count": 44,
      "outputs": [
        {
          "output_type": "stream",
          "name": "stdout",
          "text": [
            "accuracy score:\t\t0.98871\n",
            "\n",
            "f1 score:\t\t0.98882\n",
            "precision score:\t0.98900\n",
            "recall score:\t\t0.98865\n"
          ]
        }
      ]
    },
    {
      "cell_type": "markdown",
      "source": [
        "### Заключение"
      ],
      "metadata": {
        "id": "rD2t2ae6d0Zo"
      }
    },
    {
      "cell_type": "markdown",
      "source": [
        "Лучшее значение метрики показал алгоритм RandomForestClassifier. Фильтрация данных не оказывает значимого положительного влияния на результат"
      ],
      "metadata": {
        "id": "L8dKfDaCF1K1"
      }
    },
    {
      "cell_type": "code",
      "source": [],
      "metadata": {
        "id": "exh2_zzUGtK2"
      },
      "execution_count": null,
      "outputs": []
    }
  ]
}